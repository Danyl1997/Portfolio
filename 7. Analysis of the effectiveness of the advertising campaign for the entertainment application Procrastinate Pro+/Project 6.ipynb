{
 "cells": [
  {
   "attachments": {},
   "cell_type": "markdown",
   "id": "098be1b0",
   "metadata": {},
   "source": [
    "# Анализ данных об инвестиции венчурных фондов в компании-стартапы"
   ]
  },
  {
   "cell_type": "markdown",
   "id": "2dc3e6a0",
   "metadata": {},
   "source": [
    "**Описание проекта**\n",
    "Проект выполнен на основе базы данных, которая хранит информацию о венчурных фондах и инвестициях в компании-стартапы. Эта база данных основана на датасете `Startup Investments`, опубликованном на популярной платформе для соревнований по исследованию данных Kaggle.\n",
    "\n",
    "**Задача:** произвести различные выгрузки данных венчурных фондов с помощью SQL.\n",
    "\n",
    "**Описание данных**\n",
    "* `acquisition` — cодержит информацию о покупках одних компаний другими.\n",
    "* `company` — cодержит информацию о компаниях-стартапах.\n",
    "* `education` — хранит информацию об уровне образования сотрудников компаний.\n",
    "* `fund` — хранит информацию о венчурных фондах.\n",
    "* `funding_round` — содержит информацию о раундах инвестиций.\n",
    "* `investment` — содержит информацию об инвестициях венчурных фондов в компании-стартапы.\n",
    "* `people` — содержит информацию о сотрудниках компаний-стартапов."
   ]
  },
  {
   "cell_type": "markdown",
   "id": "95319a47",
   "metadata": {},
   "source": [
    "# Написание запросов"
   ]
  },
  {
   "cell_type": "markdown",
   "id": "836fa008",
   "metadata": {},
   "source": [
    "1. Все записи из таблицы `company` по компаниям, которые закрылись."
   ]
  },
  {
   "cell_type": "code",
   "execution_count": null,
   "id": "beb8d022",
   "metadata": {},
   "outputs": [],
   "source": [
    "SELECT COUNT(*) AS closed_companies_count\n",
    "FROM company\n",
    "WHERE status = 'closed';"
   ]
  },
  {
   "cell_type": "markdown",
   "id": "6e7ddc86",
   "metadata": {},
   "source": [
    "2. Количество привлечённых средств для новостных компаний США из таблицы `company` с сортировкой значений по убыванию поля `funding_total`."
   ]
  },
  {
   "cell_type": "code",
   "execution_count": null,
   "id": "0ae2a07f",
   "metadata": {},
   "outputs": [],
   "source": [
    "SELECT funding_total\n",
    "FROM company\n",
    "WHERE category_code = 'news' AND country_code = 'USA'\n",
    "ORDER BY funding_total DESC;"
   ]
  },
  {
   "cell_type": "markdown",
   "id": "8fbbee35",
   "metadata": {},
   "source": [
    "3. Общая сумма сделок по покупке одних компаний другими в долларах. Сделки, которые осуществлялись только за наличные с 2011 по 2013 год включительно."
   ]
  },
  {
   "cell_type": "code",
   "execution_count": null,
   "id": "4489c58c",
   "metadata": {},
   "outputs": [],
   "source": [
    "SELECT SUM(price_amount) AS total_deal_amount\n",
    "FROM acquisition\n",
    "WHERE term_code = 'cash' AND acquired_at >= '2011-01-01' AND acquired_at <= '2013-12-31';"
   ]
  },
  {
   "cell_type": "markdown",
   "id": "f7011842",
   "metadata": {},
   "source": [
    "4. Имя, фамилия и название аккаунтов людей в поле `network_username`, у которых названия аккаунтов начинаются на `Silver`."
   ]
  },
  {
   "cell_type": "code",
   "execution_count": null,
   "id": "f57ea126",
   "metadata": {},
   "outputs": [],
   "source": [
    "SELECT first_name, last_name, twitter_username\n",
    "FROM people\n",
    "WHERE twitter_username LIKE 'Silver%';"
   ]
  },
  {
   "cell_type": "markdown",
   "id": "b71ebdd4",
   "metadata": {},
   "source": [
    "5. Информация о людях, у которых названия аккаунтов в поле network_username содержат подстроку 'money', а фамилия начинается на 'K'."
   ]
  },
  {
   "cell_type": "code",
   "execution_count": null,
   "id": "85139371",
   "metadata": {},
   "outputs": [],
   "source": [
    "SELECT *\n",
    "FROM people\n",
    "WHERE twitter_username LIKE '%money%' AND last_name LIKE 'K%';"
   ]
  },
  {
   "cell_type": "markdown",
   "id": "c25f204c",
   "metadata": {},
   "source": [
    "6. Общая сумма привлечённых инвестиций для каждой страны, которые получили компании, зарегистрированные в этой стране с сортировкой по убыванию этой суммы."
   ]
  },
  {
   "cell_type": "code",
   "execution_count": null,
   "id": "b88c1343",
   "metadata": {},
   "outputs": [],
   "source": [
    "SELECT country_code, SUM(funding_total) AS total_investment\n",
    "FROM company\n",
    "GROUP BY country_code\n",
    "ORDER BY total_investment DESC;"
   ]
  },
  {
   "cell_type": "markdown",
   "id": "2d15d92b",
   "metadata": {},
   "source": [
    "7. Составление таблицы, в которую входит дата проведения раунда, а также минимальное и максимальное значения суммы инвестиций, привлечённых в эту дату. Оставлены только те записи, в которых минимальное значение суммы инвестиций не равно нулю и не равно максимальному значению."
   ]
  },
  {
   "cell_type": "code",
   "execution_count": null,
   "id": "363c7a7f",
   "metadata": {},
   "outputs": [],
   "source": [
    "SELECT funded_at, MIN(raised_amount) AS min_investment, MAX(raised_amount) AS max_investment\n",
    "FROM funding_round\n",
    "GROUP BY funded_at\n",
    "HAVING MIN(raised_amount) <> 0 AND MIN(raised_amount) <> MAX(raised_amount);"
   ]
  },
  {
   "cell_type": "markdown",
   "id": "3c01ff1c",
   "metadata": {},
   "source": [
    "8. Создание поля с категориями:\n",
    "* Для фондов, которые инвестируют в 100 и более компаний, назначена категория `high_activity`.\n",
    "* Для фондов, которые инвестируют в 20 и более компаний до 100 — `middle_activity`.\n",
    "* Если количество инвестируемых компаний фонда не достигает 20 — `low_activity`.\n",
    "\n",
    "Отображены все поля таблицы `fund` и новое поле с категориями."
   ]
  },
  {
   "cell_type": "code",
   "execution_count": null,
   "id": "38f8ae94",
   "metadata": {},
   "outputs": [],
   "source": [
    "SELECT *,\n",
    "       CASE\n",
    "           WHEN invested_companies >= 100 THEN 'high_activity'\n",
    "           WHEN invested_companies >= 20 AND invested_companies < 100 THEN 'middle_activity'\n",
    "           ELSE 'low_activity'\n",
    "       END AS category\n",
    "FROM fund;"
   ]
  },
  {
   "cell_type": "markdown",
   "id": "9bac7ead",
   "metadata": {},
   "source": [
    "9. Расчет округлённого до ближайшего целого числа среднего количества инвестиционных раундов, в которых фонд принимал участие, для каждой категории. Выведены категория и среднее число инвестиционных раундов с сортировкой по возрастанию."
   ]
  },
  {
   "cell_type": "code",
   "execution_count": null,
   "id": "3f018c25",
   "metadata": {},
   "outputs": [],
   "source": [
    "SELECT category, ROUND(AVG(investment_rounds)) AS average_rounds\n",
    "FROM (\n",
    "    SELECT *,\n",
    "           CASE\n",
    "               WHEN invested_companies>=100 THEN 'high_activity'\n",
    "           WHEN invested_companies>=20 THEN 'middle_activity'\n",
    "           ELSE 'low_activity'\n",
    "           END AS category\n",
    "    FROM fund\n",
    ") AS subquery\n",
    "GROUP BY category\n",
    "ORDER BY average_rounds ASC;"
   ]
  },
  {
   "cell_type": "markdown",
   "id": "6f0516d6",
   "metadata": {},
   "source": [
    "10. Анализ стран, в которых находятся фонды, чаще всего инвестирующие в стартапы. Для каждой страны рассчитано минимальное, максимальное и среднее число компаний, в которые инвестировали фонды этой страны, основанные с 2010 по 2012 год включительно. Исключены страны с фондами, у которых минимальное число компаний, получивших инвестиции, равно нулю. Выгружены десять самых активных стран-инвесторов с сортировкой по среднему количеству компаний по убыванию и с сортировкой по коду страны в лексикографическом порядке."
   ]
  },
  {
   "cell_type": "code",
   "execution_count": null,
   "id": "8952a70b",
   "metadata": {},
   "outputs": [],
   "source": [
    "SELECT\n",
    "  country_code,\n",
    "  MIN(invested_companies) AS min_companies,\n",
    "  MAX(invested_companies) AS max_companies,\n",
    "  AVG(invested_companies) AS avg_companies\n",
    "FROM\n",
    "  fund\n",
    "WHERE\n",
    "  EXTRACT(YEAR FROM founded_at) BETWEEN 2010 AND 2012\n",
    "GROUP BY\n",
    "  country_code\n",
    "HAVING\n",
    "  MIN(invested_companies) > 0\n",
    "ORDER BY\n",
    "  avg_companies DESC, country_code ASC\n",
    "LIMIT 10;"
   ]
  },
  {
   "cell_type": "markdown",
   "id": "7f562e5d",
   "metadata": {},
   "source": [
    "11. Имена и фамилии всех сотрудников стартапов с информацией об учебном заведении, которое окончил сотрудник."
   ]
  },
  {
   "cell_type": "code",
   "execution_count": null,
   "id": "7ef952b9",
   "metadata": {},
   "outputs": [],
   "source": [
    "SELECT\n",
    "  p.first_name,\n",
    "  p.last_name,\n",
    "  e.instituition AS educational_institution\n",
    "FROM\n",
    "  people AS p\n",
    "LEFT JOIN\n",
    "  education AS e ON p.id = e.person_id;"
   ]
  },
  {
   "cell_type": "markdown",
   "id": "6eea6824",
   "metadata": {},
   "source": [
    "12. Количество учебных заведений, которые окончили сотрудники компаний. Выведен топ-5 компаний по количеству университетов."
   ]
  },
  {
   "cell_type": "code",
   "execution_count": null,
   "id": "20be8969",
   "metadata": {},
   "outputs": [],
   "source": [
    "SELECT\n",
    "  c.name AS company_name,\n",
    "  COUNT(DISTINCT e.instituition) AS num_universities\n",
    "FROM\n",
    "  company AS c\n",
    "JOIN\n",
    "  people AS p ON c.id = p.company_id\n",
    "JOIN\n",
    "  education AS e ON p.id = e.person_id\n",
    "GROUP BY\n",
    "  c.name\n",
    "ORDER BY\n",
    "  num_universities DESC\n",
    "LIMIT 5;"
   ]
  },
  {
   "cell_type": "markdown",
   "id": "07334cf6",
   "metadata": {},
   "source": [
    "13. Список с уникальными названиями закрытых компаний, для которых первый раунд финансирования оказался последним.\n"
   ]
  },
  {
   "cell_type": "code",
   "execution_count": null,
   "id": "4c06dd67",
   "metadata": {},
   "outputs": [],
   "source": [
    "SELECT DISTINCT name\n",
    "FROM company\n",
    "WHERE status = 'closed'\n",
    "      AND id IN (SELECT company_id\n",
    "                 FROM funding_round\n",
    "                 WHERE is_first_round = 1\n",
    "                 AND is_last_round = 1)"
   ]
  },
  {
   "cell_type": "markdown",
   "id": "10d53697",
   "metadata": {},
   "source": [
    "14. Список уникальных номеров сотрудников, которые работают в компаниях, отобранных на предыдущем шаге."
   ]
  },
  {
   "cell_type": "code",
   "execution_count": null,
   "id": "27dd4092",
   "metadata": {},
   "outputs": [],
   "source": [
    "SELECT DISTINCT p.id\n",
    "FROM people AS p\n",
    "JOIN company AS c ON p.company_id = c.id\n",
    "WHERE c.id IN (\n",
    "  SELECT company_id\n",
    "  FROM funding_round\n",
    "  WHERE is_first_round = 1\n",
    "    AND is_last_round = 1\n",
    "    AND company_id IN (\n",
    "      SELECT id\n",
    "      FROM company\n",
    "      WHERE status = 'closed'\n",
    "    )\n",
    ");"
   ]
  },
  {
   "cell_type": "markdown",
   "id": "ed6a3c7f",
   "metadata": {},
   "source": [
    "15. Составление таблицы с уникальными парами с номерами сотрудников из предыдущей задачи и учебным заведением, которое окончил сотрудник."
   ]
  },
  {
   "cell_type": "code",
   "execution_count": null,
   "id": "be9f4857",
   "metadata": {},
   "outputs": [],
   "source": [
    "SELECT DISTINCT p.id AS person_id, e.instituition\n",
    "FROM people AS p\n",
    "JOIN company AS c ON p.company_id = c.id\n",
    "JOIN education AS e ON p.id = e.person_id\n",
    "WHERE c.id IN (\n",
    "  SELECT company_id\n",
    "  FROM funding_round\n",
    "  WHERE is_first_round = 1\n",
    "    AND is_last_round = 1\n",
    "    AND company_id IN (\n",
    "      SELECT id\n",
    "      FROM company\n",
    "      WHERE status = 'closed'\n",
    "    )\n",
    ");"
   ]
  },
  {
   "cell_type": "markdown",
   "id": "d9179ea3",
   "metadata": {},
   "source": [
    "16. Количество учебных заведений для каждого сотрудника из предыдущего шага. При подсчёте учитывается, что некоторые сотрудники могли окончить одно и то же заведение дважды."
   ]
  },
  {
   "cell_type": "code",
   "execution_count": null,
   "id": "18c7c6d1",
   "metadata": {},
   "outputs": [],
   "source": [
    "SELECT p.id AS person_id, COUNT(e.instituition) AS num_institutions\n",
    "FROM people AS p \n",
    "JOIN company AS c ON p.company_id = c.id\n",
    "JOIN education AS e ON p.id = e.person_id\n",
    "WHERE c.id IN (\n",
    "    SELECT company_id\n",
    "    FROM funding_round\n",
    "    WHERE is_first_round = 1\n",
    "        AND is_last_round = 1\n",
    "        AND company_id IN (\n",
    "            SELECT id\n",
    "            FROM company \n",
    "            WHERE status = 'closed'\n",
    "            )\n",
    ")\n",
    "GROUP BY p.id;"
   ]
  },
  {
   "cell_type": "markdown",
   "id": "c116a2b9",
   "metadata": {},
   "source": [
    "17. Дополнение предыдущего запроса: среднее число учебных заведений (всех, не только уникальных), которые окончили сотрудники разных компаний."
   ]
  },
  {
   "cell_type": "code",
   "execution_count": null,
   "id": "5c83cf57",
   "metadata": {},
   "outputs": [],
   "source": [
    "SELECT AVG(num_institutions) AS average_institutions\n",
    "FROM (SELECT p.id AS person_id, COUNT(e.instituition) AS num_institutions\n",
    "FROM people AS p \n",
    "JOIN company AS c ON p.company_id = c.id\n",
    "JOIN education AS e ON p.id = e.person_id\n",
    "WHERE c.id IN (\n",
    "    SELECT company_id\n",
    "    FROM funding_round\n",
    "    WHERE is_first_round = 1\n",
    "        AND is_last_round = 1\n",
    "        AND company_id IN (\n",
    "            SELECT id\n",
    "            FROM company \n",
    "            WHERE status = 'closed'\n",
    "            )\n",
    ")\n",
    "GROUP BY p.id) AS subquery;"
   ]
  },
  {
   "cell_type": "markdown",
   "id": "4c43be27",
   "metadata": {},
   "source": [
    "18. Среднее число учебных заведений (всех, не только уникальных), которые окончили сотрудники Socialnet."
   ]
  },
  {
   "cell_type": "code",
   "execution_count": null,
   "id": "9f16a4a2",
   "metadata": {},
   "outputs": [],
   "source": [
    "SELECT AVG(num_institutions) AS average_num_institutions\n",
    "FROM (\n",
    "    SELECT p.id AS person_id, COUNT(e.instituition) AS num_institutions\n",
    "    FROM people AS p\n",
    "    JOIN company AS c ON p.company_id = c.id\n",
    "    JOIN education AS e ON p.id = e.person_id\n",
    "    WHERE c.name = 'Socialnet'\n",
    "    GROUP BY p.id\n",
    ") AS subquery;"
   ]
  },
  {
   "cell_type": "markdown",
   "id": "f660a2e1",
   "metadata": {},
   "source": [
    "19. Составление таблицы из полей:\n",
    "* `name_of_fund` — название фонда;\n",
    "* `name_of_company` — название компании;\n",
    "* `amount` — сумма инвестиций, которую привлекла компания в раунде. \n",
    "\n",
    "В таблицу вошли данные о компаниях, в истории которых было больше шести важных этапов, а раунды финансирования проходили с 2012 по 2013 год включительно."
   ]
  },
  {
   "cell_type": "code",
   "execution_count": null,
   "id": "9a39d0b7",
   "metadata": {},
   "outputs": [],
   "source": [
    "SELECT DISTINCT f.name AS name_of_fund,\n",
    "       c.name AS name_of_company,\n",
    "       fr.raised_amount AS amount \n",
    "FROM company AS c \n",
    "LEFT OUTER JOIN investment AS i ON c.id = i.company_id\n",
    "RIGHT OUTER JOIN fund AS f ON i.fund_id = f.id \n",
    "LEFT OUTER JOIN funding_round AS fr ON i.funding_round_id = fr.id\n",
    "WHERE c.milestones > 6 \n",
    "      AND EXTRACT(YEAR FROM CAST(funded_at AS date)) BETWEEN '2012' AND '2013'; "
   ]
  },
  {
   "cell_type": "markdown",
   "id": "23ccfc2f",
   "metadata": {},
   "source": [
    "20. Выгрузка таблицы со следующими полями:\n",
    "* название компании-покупателя;\n",
    "* сумма сделки;\n",
    "* название компании, которую купили;\n",
    "* сумма инвестиций, вложенных в купленную компанию;\n",
    "* доля, которая отображает, во сколько раз сумма покупки превысила сумму вложенных в компанию инвестиций, округлённая до ближайшего целого числа.\n",
    "\n",
    "Не учитываются те сделки, в которых сумма покупки равна нулю. Сортировка по сумме сделки от большей к меньшей, а затем по названию купленной компании в лексикографическом порядке. Выведены 10 записей."
   ]
  },
  {
   "cell_type": "code",
   "execution_count": null,
   "id": "17c3e1a6",
   "metadata": {},
   "outputs": [],
   "source": [
    "SELECT acq_comp.name AS acquiring_company,\n",
    "       acq.price_amount,\n",
    "       acquired_comp.name AS acquired_company,\n",
    "       acquired_comp.funding_total,\n",
    "       ROUND(acq.price_amount / acquired_comp.funding_total) AS ratio\n",
    "FROM acquisition AS acq\n",
    "JOIN company AS acq_comp ON acq.acquiring_company_id = acq_comp.id\n",
    "JOIN company AS acquired_comp ON acq.acquired_company_id = acquired_comp.id\n",
    "WHERE acq.price_amount > 0\n",
    "  AND acquired_comp.funding_total > 0\n",
    "ORDER BY acq.price_amount DESC, acquired_comp.name\n",
    "LIMIT 10;"
   ]
  },
  {
   "cell_type": "markdown",
   "id": "cb1546ac",
   "metadata": {},
   "source": [
    "21. Выгрузка таблицы с названиями компаний из категории `social`, получившие финансирование с 2010 по 2013 год включительно и номером месяца, в котором проходил раунд финансирования."
   ]
  },
  {
   "cell_type": "code",
   "execution_count": null,
   "id": "43c4e213",
   "metadata": {},
   "outputs": [],
   "source": [
    "SELECT c.name AS company_name,\n",
    "       EXTRACT(MONTH FROM fr.funded_at) AS funding_month\n",
    "FROM company AS c\n",
    "JOIN funding_round AS fr ON c.id = fr.company_id\n",
    "WHERE c.category_code = 'social'\n",
    "  AND fr.funded_at >= '2010-01-01' AND fr.funded_at <= '2013-12-31'\n",
    "  AND fr.raised_amount != 0\n",
    "ORDER BY c.name, fr.funded_at;"
   ]
  },
  {
   "cell_type": "markdown",
   "id": "360ca060",
   "metadata": {},
   "source": [
    "22. Данные по месяцам с 2010 по 2013 год, когда проходили инвестиционные раунды, сгруппированные по номеру месяца, включающие поля:\n",
    "* номер месяца, в котором проходили раунды;\n",
    "* количество уникальных названий фондов из США, которые инвестировали в этом месяце;\n",
    "* количество компаний, купленных за этот месяц;\n",
    "* общая сумма сделок по покупкам в этом месяце."
   ]
  },
  {
   "cell_type": "code",
   "execution_count": null,
   "id": "1c144d6d",
   "metadata": {},
   "outputs": [],
   "source": [
    "WITH\n",
    "p1 AS (\n",
    "    SELECT *\n",
    "    FROM funding_round\n",
    "    WHERE EXTRACT(YEAR FROM funded_at) BETWEEN '2010' AND '2013'\n",
    "    ),\n",
    " \n",
    "   \n",
    "p2 AS (\n",
    "    SELECT EXTRACT(MONTH FROM funded_at) AS month_round,\n",
    "           COUNT(DISTINCT fund_id) AS count_fund\n",
    "    FROM investment INNER JOIN p1 ON investment.funding_round_id = p1.id\n",
    "    WHERE fund_id IN\n",
    "        (SELECT id AS fund_id\n",
    "        FROM fund\n",
    "        WHERE country_code = 'USA')\n",
    "    GROUP BY month_round\n",
    "),\n",
    " \n",
    "p3 AS (\n",
    "    SELECT EXTRACT(MONTH FROM acquired_at) AS month_acquired,\n",
    "           COUNT(acquired_company_id) AS count_company,\n",
    "           SUM(price_amount) AS total\n",
    "    FROM acquisition\n",
    "    WHERE EXTRACT(YEAR FROM acquired_at) BETWEEN '2010' AND '2013'\n",
    "    GROUP BY month_acquired\n",
    "    )\n",
    " \n",
    "SELECT month_round,\n",
    "       count_fund,\n",
    "       count_company,\n",
    "       total\n",
    "FROM p2 INNER JOIN p3 ON p2.month_round = p3.month_acquired "
   ]
  },
  {
   "cell_type": "markdown",
   "id": "50c64b01",
   "metadata": {},
   "source": [
    "23. Средняя сумму инвестиций для стран, в которых есть стартапы, зарегистрированные в 2011, 2012 и 2013 годах с сортировкой по среднему значению инвестиций за 2011 год от большего к меньшему."
   ]
  },
  {
   "cell_type": "code",
   "execution_count": null,
   "id": "d56941c9",
   "metadata": {},
   "outputs": [],
   "source": [
    "WITH\n",
    "inv_2011 AS\n",
    "(SELECT country_code,\n",
    "       AVG(funding_total) AS average_2011\n",
    "FROM company\n",
    "WHERE EXTRACT(YEAR FROM CAST(founded_at AS date)) = 2011\n",
    "GROUP BY country_code),\n",
    "         \n",
    "inv_2012 AS\n",
    "(SELECT country_code,\n",
    "       AVG(funding_total) AS average_2012\n",
    "FROM company\n",
    "WHERE EXTRACT(YEAR FROM CAST(founded_at AS date)) = 2012\n",
    "GROUP BY country_code),\n",
    "         \n",
    "inv_2013 AS (\n",
    "SELECT country_code,\n",
    "       AVG(funding_total) AS average_2013\n",
    "FROM company\n",
    "WHERE EXTRACT(YEAR FROM CAST(founded_at AS date)) = 2013\n",
    "GROUP BY country_code)\n",
    " \n",
    "SELECT inv_2011.country_code,\n",
    "       average_2011,\n",
    "       average_2012,\n",
    "       average_2013\n",
    "FROM inv_2011\n",
    "INNER JOIN inv_2012 ON inv_2011.country_code = inv_2012.country_code\n",
    "INNER JOIN inv_2013 ON inv_2012.country_code = inv_2013.country_code\n",
    "ORDER BY average_2011 DESC;"
   ]
  }
 ],
 "metadata": {
  "kernelspec": {
   "display_name": "Python 3 (ipykernel)",
   "language": "python",
   "name": "python3"
  },
  "language_info": {
   "codemirror_mode": {
    "name": "ipython",
    "version": 3
   },
   "file_extension": ".py",
   "mimetype": "text/x-python",
   "name": "python",
   "nbconvert_exporter": "python",
   "pygments_lexer": "ipython3",
   "version": "3.11.4"
  },
  "toc": {
   "base_numbering": 1,
   "nav_menu": {},
   "number_sections": true,
   "sideBar": true,
   "skip_h1_title": false,
   "title_cell": "Table of Contents",
   "title_sidebar": "Contents",
   "toc_cell": false,
   "toc_position": {},
   "toc_section_display": true,
   "toc_window_display": false
  }
 },
 "nbformat": 4,
 "nbformat_minor": 5
}
