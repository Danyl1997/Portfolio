{
 "cells": [
  {
   "attachments": {},
   "cell_type": "markdown",
   "id": "d97827f1",
   "metadata": {},
   "source": [
    "# Анализ сервиса аренды самокатов GoFast"
   ]
  },
  {
   "attachments": {},
   "cell_type": "markdown",
   "id": "9403c0c6",
   "metadata": {},
   "source": [
    "С каждым годом ритм жизни в больших городах растет с неймоверной скоростью. Увеличивается численность населения, растет количество рабочих мест, улучшается инфрастуктура в городах и растет количество средств передвижения. Это в свою очередь привело к увеличению транспорта на улицах мегаполисов и повышению пробок на дорогах. Поскольку большинство людей привыкло к комфортному и быстрому перемещению, многие стали отказываться от автомобилей и чаше использовать при передвижении самокаты. В последние годы данный вид траспорта является очень популярным средством передвижения, спрос к нему растет и количество сервисов по аренде самокатов увеличивается."
   ]
  },
  {
   "attachments": {},
   "cell_type": "markdown",
   "id": "8833f27f",
   "metadata": {},
   "source": [
    "## Введение"
   ]
  },
  {
   "attachments": {},
   "cell_type": "markdown",
   "id": "ab9614fc",
   "metadata": {},
   "source": [
    "В данном исследовании представлены данные сервиса аренды самокатов **`GoFast`**, которые включают данные о пользователях из нескольких городов, а также об их поездках. \n",
    "Сервис представляет возможность пользоваться его услугами по подписке и без. Представленные данные помогут нам проверить ряд гипотезы, которые могут помочь бизнесу вырасти.\n",
    "\n",
    "**`Основными целями исследования выступают:`**\n",
    "1. Изучение городов в которых пользуются сервисом;\n",
    "2. Соотношение пользователей сервиса с подписками и без подписок;\n",
    "3. Выделение возрастных категорий пользователей сервиса;\n",
    "4. Рассмотрение продолжительности поездок и расстояния, которое преодалевают пользователи;\n",
    "5. Рассмотрение возможности внедрения в сервисе акций для привлечения пользователей и увеличения количества подписок;\n",
    "6. Подсчет выручки;\n",
    "7. Проверка гипотез, которые позволят бизнесу вырасти. \n",
    "\n",
    "\n",
    "\n",
    "**`Ход исследования`**\n",
    "\n",
    "Данные о сервисе содержатся в 3 файлах `/datasets/users_go.csv`, `/datasets/rides_go.csv`, `/datasets/subscriptions_go.csv`. О качестве предоставляемой информации ничего неизвестно в техническом задании Заказчика. Для перехода к исследованию необходимо для начала проверить данные. В рамках проверки необходимо будет осуществить ряд мероприятий:\n",
    "1. анализ данных файла;\n",
    "2. поиск пропущенных значений, аномалий и дубликатов;\n",
    "3. при необходимости будет осуществлена предработка данных и добавление необходимых столбцов.\n",
    "4. при необходимости будут добавлены новые таблицы с данным. \n",
    "\n",
    "**`Для осуществления исследования понадобится осуществить:`**\n",
    "1. Анализ первоначальных данных;\n",
    "2. Предобработка данных;\n",
    "3. Добавление необходимых столбцов и таблиц;\n",
    "4. Определение факторов и закономерностей, влияющих на выручку сервиса;\n",
    "5. Проведение расчетов, их визуализация в таблицах, гистограммах и графиках;\n",
    "6. Описание исследований в выводах."
   ]
  },
  {
   "attachments": {},
   "cell_type": "markdown",
   "id": "5065b02c",
   "metadata": {},
   "source": [
    "## Импорт файлов с данными и изучение общей информации "
   ]
  },
  {
   "attachments": {},
   "cell_type": "markdown",
   "id": "5c50c13a",
   "metadata": {},
   "source": [
    "Для анализа данных, импортируем все необходимые нам библиотеки"
   ]
  },
  {
   "cell_type": "code",
   "execution_count": 1,
   "id": "e0aa026d",
   "metadata": {},
   "outputs": [],
   "source": [
    "import pandas as pd\n",
    "import seaborn as sns\n",
    "import matplotlib.pyplot as plt\n",
    "from datetime import datetime as dt\n",
    "import numpy as np\n",
    "from scipy import stats as st"
   ]
  },
  {
   "attachments": {},
   "cell_type": "markdown",
   "id": "97b22ecd",
   "metadata": {},
   "source": [
    "Загрузим 3 файла с данными по отдельности и рассмотрим их"
   ]
  },
  {
   "attachments": {},
   "cell_type": "markdown",
   "id": "c42cbe00",
   "metadata": {},
   "source": [
    "### Загрузка данных о пользователях"
   ]
  },
  {
   "cell_type": "code",
   "execution_count": 2,
   "id": "eff9f206",
   "metadata": {},
   "outputs": [],
   "source": [
    "df_users = pd.read_csv('/datasets/users_go.csv')"
   ]
  },
  {
   "attachments": {},
   "cell_type": "markdown",
   "id": "7e6da16d",
   "metadata": {},
   "source": [
    "**Рассмотрим общую информацию о датайфрейме**"
   ]
  },
  {
   "cell_type": "code",
   "execution_count": 3,
   "id": "ba396e42",
   "metadata": {},
   "outputs": [
    {
     "name": "stdout",
     "output_type": "stream",
     "text": [
      "<class 'pandas.core.frame.DataFrame'>\n",
      "RangeIndex: 1565 entries, 0 to 1564\n",
      "Data columns (total 5 columns):\n",
      " #   Column             Non-Null Count  Dtype \n",
      "---  ------             --------------  ----- \n",
      " 0   user_id            1565 non-null   int64 \n",
      " 1   name               1565 non-null   object\n",
      " 2   age                1565 non-null   int64 \n",
      " 3   city               1565 non-null   object\n",
      " 4   subscription_type  1565 non-null   object\n",
      "dtypes: int64(2), object(3)\n",
      "memory usage: 61.3+ KB\n"
     ]
    }
   ],
   "source": [
    "df_users.info()"
   ]
  },
  {
   "attachments": {},
   "cell_type": "markdown",
   "id": "0196efdd",
   "metadata": {},
   "source": [
    "Файл имеет 5 столбцов, каждый из которых имеет 1565 записей, ни в одном из столбцов не зафиксированы пропуски."
   ]
  },
  {
   "attachments": {},
   "cell_type": "markdown",
   "id": "4839e734",
   "metadata": {},
   "source": [
    "**Рассмотрим общую информацию более детально**"
   ]
  },
  {
   "cell_type": "code",
   "execution_count": 4,
   "id": "788478f4",
   "metadata": {},
   "outputs": [
    {
     "data": {
      "text/html": [
       "<div>\n",
       "<style scoped>\n",
       "    .dataframe tbody tr th:only-of-type {\n",
       "        vertical-align: middle;\n",
       "    }\n",
       "\n",
       "    .dataframe tbody tr th {\n",
       "        vertical-align: top;\n",
       "    }\n",
       "\n",
       "    .dataframe thead th {\n",
       "        text-align: right;\n",
       "    }\n",
       "</style>\n",
       "<table border=\"1\" class=\"dataframe\">\n",
       "  <thead>\n",
       "    <tr style=\"text-align: right;\">\n",
       "      <th></th>\n",
       "      <th>user_id</th>\n",
       "      <th>age</th>\n",
       "    </tr>\n",
       "  </thead>\n",
       "  <tbody>\n",
       "    <tr>\n",
       "      <th>count</th>\n",
       "      <td>1565.000000</td>\n",
       "      <td>1565.000000</td>\n",
       "    </tr>\n",
       "    <tr>\n",
       "      <th>mean</th>\n",
       "      <td>762.633866</td>\n",
       "      <td>24.922045</td>\n",
       "    </tr>\n",
       "    <tr>\n",
       "      <th>std</th>\n",
       "      <td>443.260155</td>\n",
       "      <td>4.553496</td>\n",
       "    </tr>\n",
       "    <tr>\n",
       "      <th>min</th>\n",
       "      <td>1.000000</td>\n",
       "      <td>12.000000</td>\n",
       "    </tr>\n",
       "    <tr>\n",
       "      <th>25%</th>\n",
       "      <td>378.000000</td>\n",
       "      <td>22.000000</td>\n",
       "    </tr>\n",
       "    <tr>\n",
       "      <th>50%</th>\n",
       "      <td>762.000000</td>\n",
       "      <td>25.000000</td>\n",
       "    </tr>\n",
       "    <tr>\n",
       "      <th>75%</th>\n",
       "      <td>1146.000000</td>\n",
       "      <td>28.000000</td>\n",
       "    </tr>\n",
       "    <tr>\n",
       "      <th>max</th>\n",
       "      <td>1534.000000</td>\n",
       "      <td>43.000000</td>\n",
       "    </tr>\n",
       "  </tbody>\n",
       "</table>\n",
       "</div>"
      ],
      "text/plain": [
       "           user_id          age\n",
       "count  1565.000000  1565.000000\n",
       "mean    762.633866    24.922045\n",
       "std     443.260155     4.553496\n",
       "min       1.000000    12.000000\n",
       "25%     378.000000    22.000000\n",
       "50%     762.000000    25.000000\n",
       "75%    1146.000000    28.000000\n",
       "max    1534.000000    43.000000"
      ]
     },
     "execution_count": 4,
     "metadata": {},
     "output_type": "execute_result"
    }
   ],
   "source": [
    "df_users.describe()"
   ]
  },
  {
   "cell_type": "code",
   "execution_count": 5,
   "id": "f07bb95b",
   "metadata": {},
   "outputs": [
    {
     "data": {
      "text/html": [
       "<div>\n",
       "<style scoped>\n",
       "    .dataframe tbody tr th:only-of-type {\n",
       "        vertical-align: middle;\n",
       "    }\n",
       "\n",
       "    .dataframe tbody tr th {\n",
       "        vertical-align: top;\n",
       "    }\n",
       "\n",
       "    .dataframe thead th {\n",
       "        text-align: right;\n",
       "    }\n",
       "</style>\n",
       "<table border=\"1\" class=\"dataframe\">\n",
       "  <thead>\n",
       "    <tr style=\"text-align: right;\">\n",
       "      <th></th>\n",
       "      <th>user_id</th>\n",
       "      <th>name</th>\n",
       "      <th>age</th>\n",
       "      <th>city</th>\n",
       "      <th>subscription_type</th>\n",
       "    </tr>\n",
       "  </thead>\n",
       "  <tbody>\n",
       "    <tr>\n",
       "      <th>0</th>\n",
       "      <td>1</td>\n",
       "      <td>Кира</td>\n",
       "      <td>22</td>\n",
       "      <td>Тюмень</td>\n",
       "      <td>ultra</td>\n",
       "    </tr>\n",
       "    <tr>\n",
       "      <th>1</th>\n",
       "      <td>2</td>\n",
       "      <td>Станислав</td>\n",
       "      <td>31</td>\n",
       "      <td>Омск</td>\n",
       "      <td>ultra</td>\n",
       "    </tr>\n",
       "    <tr>\n",
       "      <th>2</th>\n",
       "      <td>3</td>\n",
       "      <td>Алексей</td>\n",
       "      <td>20</td>\n",
       "      <td>Москва</td>\n",
       "      <td>ultra</td>\n",
       "    </tr>\n",
       "    <tr>\n",
       "      <th>3</th>\n",
       "      <td>4</td>\n",
       "      <td>Константин</td>\n",
       "      <td>26</td>\n",
       "      <td>Ростов-на-Дону</td>\n",
       "      <td>ultra</td>\n",
       "    </tr>\n",
       "    <tr>\n",
       "      <th>4</th>\n",
       "      <td>5</td>\n",
       "      <td>Адель</td>\n",
       "      <td>28</td>\n",
       "      <td>Омск</td>\n",
       "      <td>ultra</td>\n",
       "    </tr>\n",
       "  </tbody>\n",
       "</table>\n",
       "</div>"
      ],
      "text/plain": [
       "   user_id        name  age            city subscription_type\n",
       "0        1        Кира   22          Тюмень             ultra\n",
       "1        2   Станислав   31            Омск             ultra\n",
       "2        3     Алексей   20          Москва             ultra\n",
       "3        4  Константин   26  Ростов-на-Дону             ultra\n",
       "4        5       Адель   28            Омск             ultra"
      ]
     },
     "execution_count": 5,
     "metadata": {},
     "output_type": "execute_result"
    }
   ],
   "source": [
    "df_users.head()"
   ]
  },
  {
   "cell_type": "code",
   "execution_count": 6,
   "id": "6be5ea9b",
   "metadata": {},
   "outputs": [
    {
     "name": "stdout",
     "output_type": "stream",
     "text": [
      "Мария        23\n",
      "Анна         22\n",
      "Александр    18\n",
      "Никита       17\n",
      "Дмитрий      17\n",
      "             ..\n",
      "Мирослав      3\n",
      "Семен         2\n",
      "Тихон         1\n",
      "Милана        1\n",
      "Радмир        1\n",
      "Name: name, Length: 194, dtype: int64\n",
      "Пятигорск         226\n",
      "Екатеринбург      206\n",
      "Ростов-на-Дону    202\n",
      "Краснодар         196\n",
      "Сочи              192\n",
      "Омск              186\n",
      "Тюмень            185\n",
      "Москва            172\n",
      "Name: city, dtype: int64\n",
      "free     846\n",
      "ultra    719\n",
      "Name: subscription_type, dtype: int64\n"
     ]
    }
   ],
   "source": [
    "print(df_users['name'].value_counts())\n",
    "print(df_users['city'].value_counts())\n",
    "print(df_users['subscription_type'].value_counts())"
   ]
  },
  {
   "cell_type": "code",
   "execution_count": 7,
   "id": "9c6a337c",
   "metadata": {},
   "outputs": [
    {
     "data": {
      "image/png": "[encoded data removed]",
      "text/plain": [
       "<Figure size 720x360 with 2 Axes>"
      ]
     },
     "metadata": {
      "needs_background": "light"
     },
     "output_type": "display_data"
    }
   ],
   "source": [
    "df_users.hist(figsize=(10, 5))\n",
    "plt.show()"
   ]
  },
  {
   "attachments": {},
   "cell_type": "markdown",
   "id": "6652aa8a",
   "metadata": {},
   "source": [
    "**Из полученных данных можно установить следующее:** \n",
    "1. База данных имеет 5 столбцов с 1565 записью:\n",
    "- `user_id` - уникальный идентификатор пользователя;\n",
    "- `name` - имя пользователя;\n",
    "- `age` - возраст;\n",
    "- `city` - город;\n",
    "- `subscription_type` - тип подписки.\n",
    "2. В столбцах отсутствуют пропуски; \n",
    "3. В столбце города представлено 8 городов;\n",
    "4. Возраст пользователей сервиса:\n",
    "+ Максимальный - 42 года;\n",
    "+ Средний - 25 лет;\n",
    "+ Минимальный - 12 лет.\n",
    "5. Имеется 2 вида подписки - свободная и ультра."
   ]
  },
  {
   "attachments": {},
   "cell_type": "markdown",
   "id": "a85fe667",
   "metadata": {},
   "source": [
    "### Загрузка данных о поездках"
   ]
  },
  {
   "cell_type": "code",
   "execution_count": 8,
   "id": "983a6c5d",
   "metadata": {},
   "outputs": [],
   "source": [
    "df_rides = pd.read_csv('/datasets/rides_go.csv')"
   ]
  },
  {
   "attachments": {},
   "cell_type": "markdown",
   "id": "8b48cb52",
   "metadata": {},
   "source": [
    "**Рассмотрим общую информацию о датайфрейме**"
   ]
  },
  {
   "cell_type": "code",
   "execution_count": 9,
   "id": "d5ac932f",
   "metadata": {},
   "outputs": [
    {
     "name": "stdout",
     "output_type": "stream",
     "text": [
      "<class 'pandas.core.frame.DataFrame'>\n",
      "RangeIndex: 18068 entries, 0 to 18067\n",
      "Data columns (total 4 columns):\n",
      " #   Column    Non-Null Count  Dtype  \n",
      "---  ------    --------------  -----  \n",
      " 0   user_id   18068 non-null  int64  \n",
      " 1   distance  18068 non-null  float64\n",
      " 2   duration  18068 non-null  float64\n",
      " 3   date      18068 non-null  object \n",
      "dtypes: float64(2), int64(1), object(1)\n",
      "memory usage: 564.8+ KB\n"
     ]
    }
   ],
   "source": [
    "df_rides.info()"
   ]
  },
  {
   "attachments": {},
   "cell_type": "markdown",
   "id": "49138581",
   "metadata": {},
   "source": [
    "Файл имеет 4 столбца, каждый из которых имеет 18068 записей, ни в одном из столбцов не зафиксированы пропуски."
   ]
  },
  {
   "attachments": {},
   "cell_type": "markdown",
   "id": "e3f5152e",
   "metadata": {},
   "source": [
    "**Рассмотрим общую информацию более детально**"
   ]
  },
  {
   "cell_type": "code",
   "execution_count": 10,
   "id": "3befeeb0",
   "metadata": {},
   "outputs": [
    {
     "data": {
      "text/html": [
       "<div>\n",
       "<style scoped>\n",
       "    .dataframe tbody tr th:only-of-type {\n",
       "        vertical-align: middle;\n",
       "    }\n",
       "\n",
       "    .dataframe tbody tr th {\n",
       "        vertical-align: top;\n",
       "    }\n",
       "\n",
       "    .dataframe thead th {\n",
       "        text-align: right;\n",
       "    }\n",
       "</style>\n",
       "<table border=\"1\" class=\"dataframe\">\n",
       "  <thead>\n",
       "    <tr style=\"text-align: right;\">\n",
       "      <th></th>\n",
       "      <th>user_id</th>\n",
       "      <th>distance</th>\n",
       "      <th>duration</th>\n",
       "    </tr>\n",
       "  </thead>\n",
       "  <tbody>\n",
       "    <tr>\n",
       "      <th>count</th>\n",
       "      <td>18068.000000</td>\n",
       "      <td>18068.000000</td>\n",
       "      <td>18068.000000</td>\n",
       "    </tr>\n",
       "    <tr>\n",
       "      <th>mean</th>\n",
       "      <td>842.869936</td>\n",
       "      <td>3070.659976</td>\n",
       "      <td>17.805011</td>\n",
       "    </tr>\n",
       "    <tr>\n",
       "      <th>std</th>\n",
       "      <td>434.734317</td>\n",
       "      <td>1116.831209</td>\n",
       "      <td>6.091051</td>\n",
       "    </tr>\n",
       "    <tr>\n",
       "      <th>min</th>\n",
       "      <td>1.000000</td>\n",
       "      <td>0.855683</td>\n",
       "      <td>0.500000</td>\n",
       "    </tr>\n",
       "    <tr>\n",
       "      <th>25%</th>\n",
       "      <td>487.000000</td>\n",
       "      <td>2543.226360</td>\n",
       "      <td>13.597563</td>\n",
       "    </tr>\n",
       "    <tr>\n",
       "      <th>50%</th>\n",
       "      <td>889.000000</td>\n",
       "      <td>3133.609994</td>\n",
       "      <td>17.678395</td>\n",
       "    </tr>\n",
       "    <tr>\n",
       "      <th>75%</th>\n",
       "      <td>1213.250000</td>\n",
       "      <td>3776.222735</td>\n",
       "      <td>21.724800</td>\n",
       "    </tr>\n",
       "    <tr>\n",
       "      <th>max</th>\n",
       "      <td>1534.000000</td>\n",
       "      <td>7211.007745</td>\n",
       "      <td>40.823963</td>\n",
       "    </tr>\n",
       "  </tbody>\n",
       "</table>\n",
       "</div>"
      ],
      "text/plain": [
       "            user_id      distance      duration\n",
       "count  18068.000000  18068.000000  18068.000000\n",
       "mean     842.869936   3070.659976     17.805011\n",
       "std      434.734317   1116.831209      6.091051\n",
       "min        1.000000      0.855683      0.500000\n",
       "25%      487.000000   2543.226360     13.597563\n",
       "50%      889.000000   3133.609994     17.678395\n",
       "75%     1213.250000   3776.222735     21.724800\n",
       "max     1534.000000   7211.007745     40.823963"
      ]
     },
     "execution_count": 10,
     "metadata": {},
     "output_type": "execute_result"
    }
   ],
   "source": [
    "df_rides.describe()"
   ]
  },
  {
   "cell_type": "code",
   "execution_count": 11,
   "id": "07b91ea4",
   "metadata": {},
   "outputs": [
    {
     "data": {
      "text/html": [
       "<div>\n",
       "<style scoped>\n",
       "    .dataframe tbody tr th:only-of-type {\n",
       "        vertical-align: middle;\n",
       "    }\n",
       "\n",
       "    .dataframe tbody tr th {\n",
       "        vertical-align: top;\n",
       "    }\n",
       "\n",
       "    .dataframe thead th {\n",
       "        text-align: right;\n",
       "    }\n",
       "</style>\n",
       "<table border=\"1\" class=\"dataframe\">\n",
       "  <thead>\n",
       "    <tr style=\"text-align: right;\">\n",
       "      <th></th>\n",
       "      <th>user_id</th>\n",
       "      <th>distance</th>\n",
       "      <th>duration</th>\n",
       "      <th>date</th>\n",
       "    </tr>\n",
       "  </thead>\n",
       "  <tbody>\n",
       "    <tr>\n",
       "      <th>0</th>\n",
       "      <td>1</td>\n",
       "      <td>4409.919140</td>\n",
       "      <td>25.599769</td>\n",
       "      <td>2021-01-01</td>\n",
       "    </tr>\n",
       "    <tr>\n",
       "      <th>1</th>\n",
       "      <td>1</td>\n",
       "      <td>2617.592153</td>\n",
       "      <td>15.816871</td>\n",
       "      <td>2021-01-18</td>\n",
       "    </tr>\n",
       "    <tr>\n",
       "      <th>2</th>\n",
       "      <td>1</td>\n",
       "      <td>754.159807</td>\n",
       "      <td>6.232113</td>\n",
       "      <td>2021-04-20</td>\n",
       "    </tr>\n",
       "    <tr>\n",
       "      <th>3</th>\n",
       "      <td>1</td>\n",
       "      <td>2694.783254</td>\n",
       "      <td>18.511000</td>\n",
       "      <td>2021-08-11</td>\n",
       "    </tr>\n",
       "    <tr>\n",
       "      <th>4</th>\n",
       "      <td>1</td>\n",
       "      <td>4028.687306</td>\n",
       "      <td>26.265803</td>\n",
       "      <td>2021-08-28</td>\n",
       "    </tr>\n",
       "  </tbody>\n",
       "</table>\n",
       "</div>"
      ],
      "text/plain": [
       "   user_id     distance   duration        date\n",
       "0        1  4409.919140  25.599769  2021-01-01\n",
       "1        1  2617.592153  15.816871  2021-01-18\n",
       "2        1   754.159807   6.232113  2021-04-20\n",
       "3        1  2694.783254  18.511000  2021-08-11\n",
       "4        1  4028.687306  26.265803  2021-08-28"
      ]
     },
     "execution_count": 11,
     "metadata": {},
     "output_type": "execute_result"
    }
   ],
   "source": [
    "df_rides.head()"
   ]
  },
  {
   "cell_type": "code",
   "execution_count": 12,
   "id": "8bfe9cae",
   "metadata": {},
   "outputs": [
    {
     "data": {
      "image/png": "[encoded data removed]",
      "text/plain": [
       "<Figure size 1440x1080 with 4 Axes>"
      ]
     },
     "metadata": {
      "needs_background": "light"
     },
     "output_type": "display_data"
    }
   ],
   "source": [
    "df_rides.hist(figsize=(20, 15))\n",
    "plt.show()"
   ]
  },
  {
   "attachments": {},
   "cell_type": "markdown",
   "id": "0d78c168",
   "metadata": {},
   "source": [
    "**Из полученных данных можно установить следующее:** \n",
    "1. База данных имеет 4 столбца с 18068 записями:\n",
    "- `user_id` - уникальный идентификатор пользователя;\n",
    "- `distance` - растояние, которое пользователь проехал в текущей сессии;\n",
    "- `duration` - продолжительность сессии;\n",
    "- `date` - дата поездки.\n",
    "2. В столбцах отсутствуют пропуски; \n",
    "3. Расстояние минимальное, среднее и максимальное: \n",
    "- Минимальная - 85 сантиметров;\n",
    "- Средняя - 3 км;\n",
    "- Максимальная - 7.2 км.\n",
    "4. Продолжительность сессии: \n",
    "- Минимальная - 30 секунд;\n",
    "- Средняя - 17 мин;\n",
    "- Максимальная - 40 мин.\n",
    "5. Столбцы `растояние`, `продолжительность сессии` необходимо будет перевести в тип `int`;\n",
    "6. Столбец `дата поездки` необходимо преобразовать к формату date."
   ]
  },
  {
   "attachments": {},
   "cell_type": "markdown",
   "id": "994c717f",
   "metadata": {},
   "source": [
    "### Загрузка данных о подписках"
   ]
  },
  {
   "cell_type": "code",
   "execution_count": 13,
   "id": "dcc8d10e",
   "metadata": {},
   "outputs": [],
   "source": [
    "df_sub = pd.read_csv('/datasets/subscriptions_go.csv')"
   ]
  },
  {
   "attachments": {},
   "cell_type": "markdown",
   "id": "5449bea7",
   "metadata": {},
   "source": [
    "**Рассмотрим общую информацию о датайфрейме**"
   ]
  },
  {
   "cell_type": "code",
   "execution_count": 14,
   "id": "f7594bb9",
   "metadata": {},
   "outputs": [
    {
     "name": "stdout",
     "output_type": "stream",
     "text": [
      "<class 'pandas.core.frame.DataFrame'>\n",
      "RangeIndex: 2 entries, 0 to 1\n",
      "Data columns (total 4 columns):\n",
      " #   Column             Non-Null Count  Dtype \n",
      "---  ------             --------------  ----- \n",
      " 0   subscription_type  2 non-null      object\n",
      " 1   minute_price       2 non-null      int64 \n",
      " 2   start_ride_price   2 non-null      int64 \n",
      " 3   subscription_fee   2 non-null      int64 \n",
      "dtypes: int64(3), object(1)\n",
      "memory usage: 192.0+ bytes\n"
     ]
    }
   ],
   "source": [
    "df_sub.info()"
   ]
  },
  {
   "attachments": {},
   "cell_type": "markdown",
   "id": "a6d05dd5",
   "metadata": {},
   "source": [
    "Файл имеет 4 столбца, каждый из которых имеет 2 записи, ни в одном из столбцов не зафиксированы пропуски."
   ]
  },
  {
   "attachments": {},
   "cell_type": "markdown",
   "id": "4bab1bf9",
   "metadata": {},
   "source": [
    "**Рассмотрим общую информацию более детально**"
   ]
  },
  {
   "cell_type": "code",
   "execution_count": 15,
   "id": "9f2907ff",
   "metadata": {},
   "outputs": [
    {
     "data": {
      "text/html": [
       "<div>\n",
       "<style scoped>\n",
       "    .dataframe tbody tr th:only-of-type {\n",
       "        vertical-align: middle;\n",
       "    }\n",
       "\n",
       "    .dataframe tbody tr th {\n",
       "        vertical-align: top;\n",
       "    }\n",
       "\n",
       "    .dataframe thead th {\n",
       "        text-align: right;\n",
       "    }\n",
       "</style>\n",
       "<table border=\"1\" class=\"dataframe\">\n",
       "  <thead>\n",
       "    <tr style=\"text-align: right;\">\n",
       "      <th></th>\n",
       "      <th>subscription_type</th>\n",
       "      <th>minute_price</th>\n",
       "      <th>start_ride_price</th>\n",
       "      <th>subscription_fee</th>\n",
       "    </tr>\n",
       "  </thead>\n",
       "  <tbody>\n",
       "    <tr>\n",
       "      <th>0</th>\n",
       "      <td>free</td>\n",
       "      <td>8</td>\n",
       "      <td>50</td>\n",
       "      <td>0</td>\n",
       "    </tr>\n",
       "    <tr>\n",
       "      <th>1</th>\n",
       "      <td>ultra</td>\n",
       "      <td>6</td>\n",
       "      <td>0</td>\n",
       "      <td>199</td>\n",
       "    </tr>\n",
       "  </tbody>\n",
       "</table>\n",
       "</div>"
      ],
      "text/plain": [
       "  subscription_type  minute_price  start_ride_price  subscription_fee\n",
       "0              free             8                50                 0\n",
       "1             ultra             6                 0               199"
      ]
     },
     "execution_count": 15,
     "metadata": {},
     "output_type": "execute_result"
    }
   ],
   "source": [
    "df_sub.head()"
   ]
  },
  {
   "attachments": {},
   "cell_type": "markdown",
   "id": "14fdd8db",
   "metadata": {},
   "source": [
    "**Из полученных данных можно установить следующее:** \n",
    "1. База данных имеет 4 столбца каждый с 2 записями:\n",
    "- `subscription_type` - тип подписки.\n",
    "- `minute_price` - стоимость минуты поездки;\n",
    "- `start_ride_price` - стоимость старта поездки;\n",
    "- `subscription_fee` - стоимость подписки.\n",
    "2. В столбцах отсутствуют пропуски; \n",
    "3. Стоимость минуты: \n",
    "- Без подписки - 8 рублей;\n",
    "- С подпиской - 6 рублей.\n",
    "4. Стоимость начала поездки: \n",
    "- Без подписки - 50 рублей;\n",
    "- С подпиской - 0 рублей. \n",
    "5. Стоимость подписки составляет 199 рублей. "
   ]
  },
  {
   "attachments": {},
   "cell_type": "markdown",
   "id": "f493b46a",
   "metadata": {},
   "source": [
    "**Выводы:**\n",
    "Нам представлены 3 датафрейма с информацией о пользователях, поездках и подписках. \n",
    "Рассматривая основные моменты датафреймов следует выделить: \n",
    "1. В основном сервисом пользуются молодые люди с 18 до 30 лет;\n",
    "2. Сервис представлен в 8 городах;\n",
    "3. Средняя дистанция поездки составляет 3 километра;\n",
    "4. Средняя продолжительность поездки составляет 17 минут;\n",
    "5. Сервис имеет 2 типа подписок - свободный и ультра. \n",
    "6. В зависимости от типа подписки меняются стоимость минуты поездки, стоимость начала поездки и стоимость подписки в целом. \n",
    "\n"
   ]
  },
  {
   "attachments": {},
   "cell_type": "markdown",
   "id": "eb5ac11b",
   "metadata": {},
   "source": [
    "## Предобработка данных"
   ]
  },
  {
   "attachments": {},
   "cell_type": "markdown",
   "id": "3c464160",
   "metadata": {},
   "source": [
    "В рамках предобработки данных нам понадобится: \n",
    "- столбцы `distance`, `duration` перевести в тип `int`;\n",
    "- столбец `date` преобразовать к формату `date`.\n",
    "- создать новый столбец с номером месяца;\n",
    "- Проверить наличие пропущенных значений и дубликатов в датафреймах. Обработать их, если такие значения присутствуют."
   ]
  },
  {
   "attachments": {},
   "cell_type": "markdown",
   "id": "e95ebca7",
   "metadata": {},
   "source": [
    "### Изменение формата столбцов `distance`, `duration` в датафрейме `df_rides` в тип `int`"
   ]
  },
  {
   "cell_type": "code",
   "execution_count": 16,
   "id": "af6d202c",
   "metadata": {},
   "outputs": [],
   "source": [
    "df_rides['duration'] = np.ceil(df_rides['duration']) \n",
    "df_rides['distance'] = np.ceil(df_rides['distance']) \n",
    "list_int = ['distance',  'duration']\n",
    "\n",
    "for column in list_int:\n",
    "    df_rides[column] = df_rides[df_rides[column].notnull()][column].astype('int')"
   ]
  },
  {
   "cell_type": "code",
   "execution_count": 17,
   "id": "68408167",
   "metadata": {},
   "outputs": [
    {
     "data": {
      "text/html": [
       "<div>\n",
       "<style scoped>\n",
       "    .dataframe tbody tr th:only-of-type {\n",
       "        vertical-align: middle;\n",
       "    }\n",
       "\n",
       "    .dataframe tbody tr th {\n",
       "        vertical-align: top;\n",
       "    }\n",
       "\n",
       "    .dataframe thead th {\n",
       "        text-align: right;\n",
       "    }\n",
       "</style>\n",
       "<table border=\"1\" class=\"dataframe\">\n",
       "  <thead>\n",
       "    <tr style=\"text-align: right;\">\n",
       "      <th></th>\n",
       "      <th>user_id</th>\n",
       "      <th>distance</th>\n",
       "      <th>duration</th>\n",
       "      <th>date</th>\n",
       "    </tr>\n",
       "  </thead>\n",
       "  <tbody>\n",
       "    <tr>\n",
       "      <th>0</th>\n",
       "      <td>1</td>\n",
       "      <td>4410</td>\n",
       "      <td>26</td>\n",
       "      <td>2021-01-01</td>\n",
       "    </tr>\n",
       "    <tr>\n",
       "      <th>1</th>\n",
       "      <td>1</td>\n",
       "      <td>2618</td>\n",
       "      <td>16</td>\n",
       "      <td>2021-01-18</td>\n",
       "    </tr>\n",
       "    <tr>\n",
       "      <th>2</th>\n",
       "      <td>1</td>\n",
       "      <td>755</td>\n",
       "      <td>7</td>\n",
       "      <td>2021-04-20</td>\n",
       "    </tr>\n",
       "    <tr>\n",
       "      <th>3</th>\n",
       "      <td>1</td>\n",
       "      <td>2695</td>\n",
       "      <td>19</td>\n",
       "      <td>2021-08-11</td>\n",
       "    </tr>\n",
       "    <tr>\n",
       "      <th>4</th>\n",
       "      <td>1</td>\n",
       "      <td>4029</td>\n",
       "      <td>27</td>\n",
       "      <td>2021-08-28</td>\n",
       "    </tr>\n",
       "  </tbody>\n",
       "</table>\n",
       "</div>"
      ],
      "text/plain": [
       "   user_id  distance  duration        date\n",
       "0        1      4410        26  2021-01-01\n",
       "1        1      2618        16  2021-01-18\n",
       "2        1       755         7  2021-04-20\n",
       "3        1      2695        19  2021-08-11\n",
       "4        1      4029        27  2021-08-28"
      ]
     },
     "execution_count": 17,
     "metadata": {},
     "output_type": "execute_result"
    }
   ],
   "source": [
    "df_rides.head()"
   ]
  },
  {
   "cell_type": "code",
   "execution_count": 18,
   "id": "a8b4225f",
   "metadata": {},
   "outputs": [
    {
     "name": "stdout",
     "output_type": "stream",
     "text": [
      "<class 'pandas.core.frame.DataFrame'>\n",
      "RangeIndex: 18068 entries, 0 to 18067\n",
      "Data columns (total 4 columns):\n",
      " #   Column    Non-Null Count  Dtype \n",
      "---  ------    --------------  ----- \n",
      " 0   user_id   18068 non-null  int64 \n",
      " 1   distance  18068 non-null  int64 \n",
      " 2   duration  18068 non-null  int64 \n",
      " 3   date      18068 non-null  object\n",
      "dtypes: int64(3), object(1)\n",
      "memory usage: 564.8+ KB\n"
     ]
    }
   ],
   "source": [
    "df_rides.info()"
   ]
  },
  {
   "attachments": {},
   "cell_type": "markdown",
   "id": "7da17abe",
   "metadata": {},
   "source": [
    "Таким образом, нами было преобразовано 2 столбца к формату `int`"
   ]
  },
  {
   "attachments": {},
   "cell_type": "markdown",
   "id": "bc3c5ca6",
   "metadata": {},
   "source": [
    "### Преобразование столбца `date` датафрейма `df_rides` к формату pandas"
   ]
  },
  {
   "cell_type": "code",
   "execution_count": 19,
   "id": "28957dfa",
   "metadata": {},
   "outputs": [],
   "source": [
    "df_rides['date'] = pd.to_datetime(df_rides['date'], format='%Y-%m-%dT%H:%M:%S')\n"
   ]
  },
  {
   "cell_type": "code",
   "execution_count": 20,
   "id": "9b429ec3",
   "metadata": {},
   "outputs": [
    {
     "name": "stdout",
     "output_type": "stream",
     "text": [
      "<class 'pandas.core.frame.DataFrame'>\n",
      "RangeIndex: 18068 entries, 0 to 18067\n",
      "Data columns (total 4 columns):\n",
      " #   Column    Non-Null Count  Dtype         \n",
      "---  ------    --------------  -----         \n",
      " 0   user_id   18068 non-null  int64         \n",
      " 1   distance  18068 non-null  int64         \n",
      " 2   duration  18068 non-null  int64         \n",
      " 3   date      18068 non-null  datetime64[ns]\n",
      "dtypes: datetime64[ns](1), int64(3)\n",
      "memory usage: 564.8 KB\n"
     ]
    }
   ],
   "source": [
    "df_rides.info()"
   ]
  },
  {
   "cell_type": "code",
   "execution_count": 21,
   "id": "af744003",
   "metadata": {},
   "outputs": [
    {
     "data": {
      "text/html": [
       "<div>\n",
       "<style scoped>\n",
       "    .dataframe tbody tr th:only-of-type {\n",
       "        vertical-align: middle;\n",
       "    }\n",
       "\n",
       "    .dataframe tbody tr th {\n",
       "        vertical-align: top;\n",
       "    }\n",
       "\n",
       "    .dataframe thead th {\n",
       "        text-align: right;\n",
       "    }\n",
       "</style>\n",
       "<table border=\"1\" class=\"dataframe\">\n",
       "  <thead>\n",
       "    <tr style=\"text-align: right;\">\n",
       "      <th></th>\n",
       "      <th>user_id</th>\n",
       "      <th>distance</th>\n",
       "      <th>duration</th>\n",
       "      <th>date</th>\n",
       "    </tr>\n",
       "  </thead>\n",
       "  <tbody>\n",
       "    <tr>\n",
       "      <th>0</th>\n",
       "      <td>1</td>\n",
       "      <td>4410</td>\n",
       "      <td>26</td>\n",
       "      <td>2021-01-01</td>\n",
       "    </tr>\n",
       "  </tbody>\n",
       "</table>\n",
       "</div>"
      ],
      "text/plain": [
       "   user_id  distance  duration       date\n",
       "0        1      4410        26 2021-01-01"
      ]
     },
     "execution_count": 21,
     "metadata": {},
     "output_type": "execute_result"
    }
   ],
   "source": [
    "df_rides.head(1)"
   ]
  },
  {
   "attachments": {},
   "cell_type": "markdown",
   "id": "08b51a77",
   "metadata": {},
   "source": [
    "Приведен в соответствие формат столбца `date`"
   ]
  },
  {
   "attachments": {},
   "cell_type": "markdown",
   "id": "7e553c27",
   "metadata": {},
   "source": [
    "### Создание нового столбца `month`  с номером месяца в датафрейме `df_rides` "
   ]
  },
  {
   "cell_type": "code",
   "execution_count": 22,
   "id": "1f6d0796",
   "metadata": {},
   "outputs": [],
   "source": [
    "df_rides['month'] = df_rides['date'].dt.month"
   ]
  },
  {
   "cell_type": "code",
   "execution_count": 23,
   "id": "0be84c47",
   "metadata": {},
   "outputs": [
    {
     "data": {
      "text/html": [
       "<div>\n",
       "<style scoped>\n",
       "    .dataframe tbody tr th:only-of-type {\n",
       "        vertical-align: middle;\n",
       "    }\n",
       "\n",
       "    .dataframe tbody tr th {\n",
       "        vertical-align: top;\n",
       "    }\n",
       "\n",
       "    .dataframe thead th {\n",
       "        text-align: right;\n",
       "    }\n",
       "</style>\n",
       "<table border=\"1\" class=\"dataframe\">\n",
       "  <thead>\n",
       "    <tr style=\"text-align: right;\">\n",
       "      <th></th>\n",
       "      <th>user_id</th>\n",
       "      <th>distance</th>\n",
       "      <th>duration</th>\n",
       "      <th>date</th>\n",
       "      <th>month</th>\n",
       "    </tr>\n",
       "  </thead>\n",
       "  <tbody>\n",
       "    <tr>\n",
       "      <th>0</th>\n",
       "      <td>1</td>\n",
       "      <td>4410</td>\n",
       "      <td>26</td>\n",
       "      <td>2021-01-01</td>\n",
       "      <td>1</td>\n",
       "    </tr>\n",
       "    <tr>\n",
       "      <th>1</th>\n",
       "      <td>1</td>\n",
       "      <td>2618</td>\n",
       "      <td>16</td>\n",
       "      <td>2021-01-18</td>\n",
       "      <td>1</td>\n",
       "    </tr>\n",
       "    <tr>\n",
       "      <th>2</th>\n",
       "      <td>1</td>\n",
       "      <td>755</td>\n",
       "      <td>7</td>\n",
       "      <td>2021-04-20</td>\n",
       "      <td>4</td>\n",
       "    </tr>\n",
       "    <tr>\n",
       "      <th>3</th>\n",
       "      <td>1</td>\n",
       "      <td>2695</td>\n",
       "      <td>19</td>\n",
       "      <td>2021-08-11</td>\n",
       "      <td>8</td>\n",
       "    </tr>\n",
       "    <tr>\n",
       "      <th>4</th>\n",
       "      <td>1</td>\n",
       "      <td>4029</td>\n",
       "      <td>27</td>\n",
       "      <td>2021-08-28</td>\n",
       "      <td>8</td>\n",
       "    </tr>\n",
       "  </tbody>\n",
       "</table>\n",
       "</div>"
      ],
      "text/plain": [
       "   user_id  distance  duration       date  month\n",
       "0        1      4410        26 2021-01-01      1\n",
       "1        1      2618        16 2021-01-18      1\n",
       "2        1       755         7 2021-04-20      4\n",
       "3        1      2695        19 2021-08-11      8\n",
       "4        1      4029        27 2021-08-28      8"
      ]
     },
     "execution_count": 23,
     "metadata": {},
     "output_type": "execute_result"
    }
   ],
   "source": [
    "df_rides.head()"
   ]
  },
  {
   "attachments": {},
   "cell_type": "markdown",
   "id": "0695b448",
   "metadata": {},
   "source": [
    "Добавлен дополнительный столбец с номером месяца"
   ]
  },
  {
   "attachments": {},
   "cell_type": "markdown",
   "id": "b712295d",
   "metadata": {},
   "source": [
    "### Проверка пропущенных значений и дубликатов в датафреймах"
   ]
  },
  {
   "attachments": {},
   "cell_type": "markdown",
   "id": "dd86e18b",
   "metadata": {},
   "source": [
    "#### Проверка датафрейма `df_users`"
   ]
  },
  {
   "attachments": {},
   "cell_type": "markdown",
   "id": "cda9f9ea",
   "metadata": {},
   "source": [
    "Проверим еще раз наличие пропущенных значений в ячейках"
   ]
  },
  {
   "cell_type": "code",
   "execution_count": 24,
   "id": "53256340",
   "metadata": {},
   "outputs": [
    {
     "data": {
      "text/plain": [
       "user_id              0\n",
       "name                 0\n",
       "age                  0\n",
       "city                 0\n",
       "subscription_type    0\n",
       "dtype: int64"
      ]
     },
     "execution_count": 24,
     "metadata": {},
     "output_type": "execute_result"
    }
   ],
   "source": [
    "df_users.isna().sum()"
   ]
  },
  {
   "attachments": {},
   "cell_type": "markdown",
   "id": "4ba79615",
   "metadata": {},
   "source": [
    "Пропущенные значения отсутствуют \n",
    "\n",
    "Рассмотрим наличие явных и неявных дубликатов"
   ]
  },
  {
   "cell_type": "code",
   "execution_count": 25,
   "id": "9d271b1d",
   "metadata": {},
   "outputs": [
    {
     "data": {
      "text/plain": [
       "31"
      ]
     },
     "execution_count": 25,
     "metadata": {},
     "output_type": "execute_result"
    }
   ],
   "source": [
    "df_users.duplicated().sum()"
   ]
  },
  {
   "attachments": {},
   "cell_type": "markdown",
   "id": "2454d972",
   "metadata": {},
   "source": [
    "У нас имеется 31 явный дубликат, исключим их"
   ]
  },
  {
   "cell_type": "code",
   "execution_count": 26,
   "id": "98449cc3",
   "metadata": {},
   "outputs": [],
   "source": [
    "df_users = df_users.drop_duplicates()"
   ]
  },
  {
   "attachments": {},
   "cell_type": "markdown",
   "id": "d03ebba1",
   "metadata": {},
   "source": [
    "Рассмотрим неявные дубликаты по столбцу `name`"
   ]
  },
  {
   "cell_type": "code",
   "execution_count": 27,
   "id": "e29e80a5",
   "metadata": {},
   "outputs": [
    {
     "data": {
      "text/plain": [
       "array(['Кира', 'Станислав', 'Алексей', 'Константин', 'Адель', 'Регина',\n",
       "       'Игорь', 'Юрий', 'Ян', 'Валерий', 'Агата', 'Марк', 'Ева',\n",
       "       'Антонина', 'Валерия', 'Амалия', 'Даниил', 'Аделина', 'Святогор',\n",
       "       'Борис', 'Вероника', 'Ростислав', 'Назар', 'Эдуард', 'Василий',\n",
       "       'Денис', 'Тамара', 'Николай', 'Эвелина', 'Федор', 'Руслан', 'Иван',\n",
       "       'Любовь', 'Ярослава', 'Майя', 'Ильдар', 'Данила', 'Нина',\n",
       "       'Стефания', 'Ясмина', 'Дмитрий', 'Александр', 'Одиссей', 'Арсений',\n",
       "       'Алла', 'Таисия', 'Максим', 'Юлиана', 'Павел', 'Карина', 'Алиса',\n",
       "       'Лидия', 'Рамиль', 'Родион', 'Ника', 'Оксана', 'Анастасия',\n",
       "       'Маргарита', 'Вера', 'Тимур', 'Никита', 'Лев', 'Влад', 'Артур',\n",
       "       'Анна', 'Ольга', 'Вячеслав', 'Ксения', 'Виталина', 'Владислав',\n",
       "       'Тамерлан', 'Амина', 'Вадим', 'Олеся', 'Зарина', 'Егор', 'Гордей',\n",
       "       'Лилия', 'Святослав', 'Роберт', 'Амир', 'Влада', 'Богдан',\n",
       "       'Полина', 'Марат', 'Елисей', 'Макар', 'Алина', 'Глеб', 'Андрей',\n",
       "       'Альбина', 'Людмила', 'Марсель', 'Милена', 'Диана', 'Дарина',\n",
       "       'Данил', 'Артемий', 'Лиана', 'Альберт', 'Герман', 'Жанна', 'Нелли',\n",
       "       'Евгения', 'Ариана', 'Самира', 'Захар', 'Эльвира', 'Екатерина',\n",
       "       'Инна', 'Демид', 'Яна', 'Михаил', 'Татьяна', 'Степан', 'Мелания',\n",
       "       'Тимофей', 'Ирина', 'Анжелика', 'Владислава', 'Елизавета',\n",
       "       'Мадина', 'Снежана', 'Даниэль', 'Рустам', 'Каролина', 'Ангелина',\n",
       "       'Владимир', 'Виктория', 'Валентина', 'Семен', 'Арина', 'Лариса',\n",
       "       'Есения', 'Галина', 'Кирилл', 'Игнат', 'Виталий', 'Эмилия',\n",
       "       'Виолетта', 'Яромир', 'Софья', 'Мирослава', 'Евгений', 'Варвара',\n",
       "       'Платон', 'Наталия', 'Анатолий', 'Кристина', 'Всеволод', 'Дарья',\n",
       "       'Наташа', 'Мария', 'Марина', 'Василиса', 'Юлия', 'Илья', 'Злата',\n",
       "       'Роман', 'Наталья', 'Элина', 'Арсен', 'Айдар', 'Алия', 'Виктор',\n",
       "       'Мирон', 'Ульяна', 'Георгий', 'Петр', 'Эльмира', 'Олег', 'Дамир',\n",
       "       'Самир', 'Ярослав', 'Камилла', 'Сергей', 'Эмиль', 'Радмир',\n",
       "       'Савелий', 'Елена', 'Антон', 'Мирослав', 'София', 'Тихон', 'Артём',\n",
       "       'Давид', 'Григорий', 'Алёна', 'Светлана', 'Леонид', 'Александра',\n",
       "       'Василина', 'Милана', 'Матвей'], dtype=object)"
      ]
     },
     "execution_count": 27,
     "metadata": {},
     "output_type": "execute_result"
    }
   ],
   "source": [
    "df_users['name'].unique()"
   ]
  },
  {
   "cell_type": "code",
   "execution_count": 28,
   "id": "24efa86b",
   "metadata": {},
   "outputs": [
    {
     "data": {
      "text/plain": [
       "user_id  name       age  city            subscription_type\n",
       "1        Кира       22   Тюмень          ultra                1\n",
       "1020     Камилла    32   Москва          free                 1\n",
       "1029     Игорь      21   Краснодар       free                 1\n",
       "1028     Вадим      17   Сочи            free                 1\n",
       "1027     Мария      21   Сочи            free                 1\n",
       "                                                             ..\n",
       "510      Роман      24   Ростов-на-Дону  ultra                1\n",
       "509      Ян         29   Москва          ultra                1\n",
       "508      Станислав  15   Тюмень          ultra                1\n",
       "507      Эвелина    27   Пятигорск       ultra                1\n",
       "1534     Альберт    25   Краснодар       free                 1\n",
       "Length: 1534, dtype: int64"
      ]
     },
     "execution_count": 28,
     "metadata": {},
     "output_type": "execute_result"
    }
   ],
   "source": [
    "df_users.value_counts()"
   ]
  },
  {
   "attachments": {},
   "cell_type": "markdown",
   "id": "6765751a",
   "metadata": {},
   "source": [
    "Удаление неявных дубликатов в данном датафрейме может происходить только по столбцу `name`. Поскольку при регистрации пользователи могли указывать имена, вероятней всего, только в соответствии с паспортными данными, определить наличие неявных дубликатов будет проблематично. "
   ]
  },
  {
   "attachments": {},
   "cell_type": "markdown",
   "id": "b46ac7b4",
   "metadata": {},
   "source": [
    "#### Проверка датафрейма `df_rides`"
   ]
  },
  {
   "attachments": {},
   "cell_type": "markdown",
   "id": "960eede6",
   "metadata": {},
   "source": [
    "Проверим еще раз наличие пропущенных значений в ячейках"
   ]
  },
  {
   "cell_type": "code",
   "execution_count": 29,
   "id": "68bfc13b",
   "metadata": {},
   "outputs": [
    {
     "data": {
      "text/plain": [
       "user_id     0\n",
       "distance    0\n",
       "duration    0\n",
       "date        0\n",
       "month       0\n",
       "dtype: int64"
      ]
     },
     "execution_count": 29,
     "metadata": {},
     "output_type": "execute_result"
    }
   ],
   "source": [
    "df_rides.isna().sum()"
   ]
  },
  {
   "attachments": {},
   "cell_type": "markdown",
   "id": "d85a21d4",
   "metadata": {},
   "source": [
    "Пропущенные значения отсутствуют\n",
    "\n",
    "Рассмотрим наличие явных и неявных дубликатов"
   ]
  },
  {
   "cell_type": "code",
   "execution_count": 30,
   "id": "55c9f1f9",
   "metadata": {},
   "outputs": [
    {
     "data": {
      "text/plain": [
       "0"
      ]
     },
     "execution_count": 30,
     "metadata": {},
     "output_type": "execute_result"
    }
   ],
   "source": [
    "df_rides.duplicated().sum()"
   ]
  },
  {
   "cell_type": "code",
   "execution_count": 31,
   "id": "969c54e2",
   "metadata": {},
   "outputs": [
    {
     "name": "stdout",
     "output_type": "stream",
     "text": [
      "[4410 2618  755 ...  843 4552 1035]\n",
      "3115    20\n",
      "3153    19\n",
      "2923    17\n",
      "3120    17\n",
      "3273    17\n",
      "        ..\n",
      "648      1\n",
      "4730     1\n",
      "632      1\n",
      "584      1\n",
      "2047     1\n",
      "Name: distance, Length: 4597, dtype: int64\n"
     ]
    }
   ],
   "source": [
    "print(df_rides['distance'].unique())\n",
    "print(df_rides['distance'].value_counts())"
   ]
  },
  {
   "attachments": {},
   "cell_type": "markdown",
   "id": "fe26db16",
   "metadata": {},
   "source": [
    "Пропуски и явные дубликаты отсутствуют. \n",
    "\n",
    "Как и в предыдущем датафрейме - на данном этапе очень сложно определить неявные дубликаты. "
   ]
  },
  {
   "attachments": {},
   "cell_type": "markdown",
   "id": "ff72954f",
   "metadata": {},
   "source": [
    "#### Проверка датафрейма `df_sub`"
   ]
  },
  {
   "attachments": {},
   "cell_type": "markdown",
   "id": "eabf7d09",
   "metadata": {},
   "source": [
    "Проверим еще раз наличие пропущенных значений в ячейках"
   ]
  },
  {
   "cell_type": "code",
   "execution_count": 32,
   "id": "336e7c50",
   "metadata": {},
   "outputs": [
    {
     "data": {
      "text/plain": [
       "subscription_type    0\n",
       "minute_price         0\n",
       "start_ride_price     0\n",
       "subscription_fee     0\n",
       "dtype: int64"
      ]
     },
     "execution_count": 32,
     "metadata": {},
     "output_type": "execute_result"
    }
   ],
   "source": [
    "df_sub.isna().sum()"
   ]
  },
  {
   "attachments": {},
   "cell_type": "markdown",
   "id": "a1950134",
   "metadata": {},
   "source": [
    "Пропущенные значения отсутствуют\n",
    "\n",
    "Рассмотрим наличие дубликатов"
   ]
  },
  {
   "cell_type": "code",
   "execution_count": 33,
   "id": "d108ce33",
   "metadata": {},
   "outputs": [
    {
     "data": {
      "text/plain": [
       "0"
      ]
     },
     "execution_count": 33,
     "metadata": {},
     "output_type": "execute_result"
    }
   ],
   "source": [
    "df_sub.duplicated().sum()"
   ]
  },
  {
   "cell_type": "code",
   "execution_count": 34,
   "id": "eaa33cc3",
   "metadata": {},
   "outputs": [
    {
     "data": {
      "text/html": [
       "<div>\n",
       "<style scoped>\n",
       "    .dataframe tbody tr th:only-of-type {\n",
       "        vertical-align: middle;\n",
       "    }\n",
       "\n",
       "    .dataframe tbody tr th {\n",
       "        vertical-align: top;\n",
       "    }\n",
       "\n",
       "    .dataframe thead th {\n",
       "        text-align: right;\n",
       "    }\n",
       "</style>\n",
       "<table border=\"1\" class=\"dataframe\">\n",
       "  <thead>\n",
       "    <tr style=\"text-align: right;\">\n",
       "      <th></th>\n",
       "      <th>subscription_type</th>\n",
       "      <th>minute_price</th>\n",
       "      <th>start_ride_price</th>\n",
       "      <th>subscription_fee</th>\n",
       "    </tr>\n",
       "  </thead>\n",
       "  <tbody>\n",
       "    <tr>\n",
       "      <th>0</th>\n",
       "      <td>free</td>\n",
       "      <td>8</td>\n",
       "      <td>50</td>\n",
       "      <td>0</td>\n",
       "    </tr>\n",
       "    <tr>\n",
       "      <th>1</th>\n",
       "      <td>ultra</td>\n",
       "      <td>6</td>\n",
       "      <td>0</td>\n",
       "      <td>199</td>\n",
       "    </tr>\n",
       "  </tbody>\n",
       "</table>\n",
       "</div>"
      ],
      "text/plain": [
       "  subscription_type  minute_price  start_ride_price  subscription_fee\n",
       "0              free             8                50                 0\n",
       "1             ultra             6                 0               199"
      ]
     },
     "metadata": {},
     "output_type": "display_data"
    },
    {
     "name": "stdout",
     "output_type": "stream",
     "text": [
      "<class 'pandas.core.frame.DataFrame'>\n",
      "RangeIndex: 2 entries, 0 to 1\n",
      "Data columns (total 4 columns):\n",
      " #   Column             Non-Null Count  Dtype \n",
      "---  ------             --------------  ----- \n",
      " 0   subscription_type  2 non-null      object\n",
      " 1   minute_price       2 non-null      int64 \n",
      " 2   start_ride_price   2 non-null      int64 \n",
      " 3   subscription_fee   2 non-null      int64 \n",
      "dtypes: int64(3), object(1)\n",
      "memory usage: 192.0+ bytes\n",
      "Количество дубликатов - 0\n"
     ]
    },
    {
     "data": {
      "text/html": [
       "<div>\n",
       "<style scoped>\n",
       "    .dataframe tbody tr th:only-of-type {\n",
       "        vertical-align: middle;\n",
       "    }\n",
       "\n",
       "    .dataframe tbody tr th {\n",
       "        vertical-align: top;\n",
       "    }\n",
       "\n",
       "    .dataframe thead th {\n",
       "        text-align: right;\n",
       "    }\n",
       "</style>\n",
       "<table border=\"1\" class=\"dataframe\">\n",
       "  <thead>\n",
       "    <tr style=\"text-align: right;\">\n",
       "      <th></th>\n",
       "      <th>minute_price</th>\n",
       "      <th>start_ride_price</th>\n",
       "      <th>subscription_fee</th>\n",
       "    </tr>\n",
       "  </thead>\n",
       "  <tbody>\n",
       "    <tr>\n",
       "      <th>count</th>\n",
       "      <td>2.000000</td>\n",
       "      <td>2.000000</td>\n",
       "      <td>2.000000</td>\n",
       "    </tr>\n",
       "    <tr>\n",
       "      <th>mean</th>\n",
       "      <td>7.000000</td>\n",
       "      <td>25.000000</td>\n",
       "      <td>99.500000</td>\n",
       "    </tr>\n",
       "    <tr>\n",
       "      <th>std</th>\n",
       "      <td>1.414214</td>\n",
       "      <td>35.355339</td>\n",
       "      <td>140.714249</td>\n",
       "    </tr>\n",
       "    <tr>\n",
       "      <th>min</th>\n",
       "      <td>6.000000</td>\n",
       "      <td>0.000000</td>\n",
       "      <td>0.000000</td>\n",
       "    </tr>\n",
       "    <tr>\n",
       "      <th>25%</th>\n",
       "      <td>6.500000</td>\n",
       "      <td>12.500000</td>\n",
       "      <td>49.750000</td>\n",
       "    </tr>\n",
       "    <tr>\n",
       "      <th>50%</th>\n",
       "      <td>7.000000</td>\n",
       "      <td>25.000000</td>\n",
       "      <td>99.500000</td>\n",
       "    </tr>\n",
       "    <tr>\n",
       "      <th>75%</th>\n",
       "      <td>7.500000</td>\n",
       "      <td>37.500000</td>\n",
       "      <td>149.250000</td>\n",
       "    </tr>\n",
       "    <tr>\n",
       "      <th>max</th>\n",
       "      <td>8.000000</td>\n",
       "      <td>50.000000</td>\n",
       "      <td>199.000000</td>\n",
       "    </tr>\n",
       "  </tbody>\n",
       "</table>\n",
       "</div>"
      ],
      "text/plain": [
       "       minute_price  start_ride_price  subscription_fee\n",
       "count      2.000000          2.000000          2.000000\n",
       "mean       7.000000         25.000000         99.500000\n",
       "std        1.414214         35.355339        140.714249\n",
       "min        6.000000          0.000000          0.000000\n",
       "25%        6.500000         12.500000         49.750000\n",
       "50%        7.000000         25.000000         99.500000\n",
       "75%        7.500000         37.500000        149.250000\n",
       "max        8.000000         50.000000        199.000000"
      ]
     },
     "metadata": {},
     "output_type": "display_data"
    },
    {
     "data": {
      "text/plain": [
       "free     1\n",
       "ultra    1\n",
       "Name: subscription_type, dtype: int64"
      ]
     },
     "metadata": {},
     "output_type": "display_data"
    },
    {
     "name": "stdout",
     "output_type": "stream",
     "text": [
      "**************************************************\n"
     ]
    }
   ],
   "source": [
    "def inspect(df):\n",
    "    display(df.head()) \n",
    "    df.info() \n",
    "    print ('Количество дубликатов -', df.duplicated().sum())\n",
    "    numeric_columns=df.describe().columns\n",
    "    display(df.describe())\n",
    "    display()\n",
    "    df.columns = [x.lower().replace(' ', '_') for x in df.columns.values]\n",
    "    for column_name in df.columns:\n",
    "        if column_name not in numeric_columns:\n",
    "            if 'session' in column_name or 'dt' in column_name:\n",
    "                df[column_name] = pd.to_datetime(df[column_name])\n",
    "            else:\n",
    "                display(df[column_name].value_counts())\n",
    "                print(50*'*')\n",
    "    return df\n",
    "df_sub = inspect(df_sub)\n"
   ]
  },
  {
   "attachments": {},
   "cell_type": "markdown",
   "id": "079d9a7e",
   "metadata": {},
   "source": [
    "Пропуски и явные дубликаты отсутствуют.\n"
   ]
  },
  {
   "attachments": {},
   "cell_type": "markdown",
   "id": "624a6c83",
   "metadata": {},
   "source": [
    "**Выводы:** в данном разделе нами была произведена предобработка данных в рамках которой: \n",
    "- столбцы `distance`, `duration` переведены в тип `int` в датафрейме `df_rides`;\n",
    "- столбец `date` в датафрейме`df_rides` преобразован к формату date .\n",
    "- создан новый столбец с номером месяца - `month` в датафрейме`df_rides`;\n",
    "- Проведена проверка наличия пропущенных значений и дубликатов в датафреймах."
   ]
  },
  {
   "attachments": {},
   "cell_type": "markdown",
   "id": "212593c7",
   "metadata": {},
   "source": [
    "## Исследовательский анализ данных"
   ]
  },
  {
   "attachments": {},
   "cell_type": "markdown",
   "id": "57bac741",
   "metadata": {},
   "source": [
    "Опишем и визуализируем общую информацию о пользователях и поездках"
   ]
  },
  {
   "attachments": {},
   "cell_type": "markdown",
   "id": "24d200ef",
   "metadata": {},
   "source": [
    "### Частота встречаемости городов"
   ]
  },
  {
   "cell_type": "code",
   "execution_count": 35,
   "id": "ecd9f0d4",
   "metadata": {},
   "outputs": [
    {
     "data": {
      "text/html": [
       "<div>\n",
       "<style scoped>\n",
       "    .dataframe tbody tr th:only-of-type {\n",
       "        vertical-align: middle;\n",
       "    }\n",
       "\n",
       "    .dataframe tbody tr th {\n",
       "        vertical-align: top;\n",
       "    }\n",
       "\n",
       "    .dataframe thead tr th {\n",
       "        text-align: left;\n",
       "    }\n",
       "\n",
       "    .dataframe thead tr:last-of-type th {\n",
       "        text-align: right;\n",
       "    }\n",
       "</style>\n",
       "<table border=\"1\" class=\"dataframe\">\n",
       "  <thead>\n",
       "    <tr>\n",
       "      <th></th>\n",
       "      <th>user_id</th>\n",
       "    </tr>\n",
       "    <tr>\n",
       "      <th></th>\n",
       "      <th>count</th>\n",
       "    </tr>\n",
       "    <tr>\n",
       "      <th>city</th>\n",
       "      <th></th>\n",
       "    </tr>\n",
       "  </thead>\n",
       "  <tbody>\n",
       "    <tr>\n",
       "      <th>Екатеринбург</th>\n",
       "      <td>204</td>\n",
       "    </tr>\n",
       "    <tr>\n",
       "      <th>Краснодар</th>\n",
       "      <td>193</td>\n",
       "    </tr>\n",
       "    <tr>\n",
       "      <th>Москва</th>\n",
       "      <td>168</td>\n",
       "    </tr>\n",
       "    <tr>\n",
       "      <th>Омск</th>\n",
       "      <td>183</td>\n",
       "    </tr>\n",
       "    <tr>\n",
       "      <th>Пятигорск</th>\n",
       "      <td>219</td>\n",
       "    </tr>\n",
       "    <tr>\n",
       "      <th>Ростов-на-Дону</th>\n",
       "      <td>198</td>\n",
       "    </tr>\n",
       "    <tr>\n",
       "      <th>Сочи</th>\n",
       "      <td>189</td>\n",
       "    </tr>\n",
       "    <tr>\n",
       "      <th>Тюмень</th>\n",
       "      <td>180</td>\n",
       "    </tr>\n",
       "  </tbody>\n",
       "</table>\n",
       "</div>"
      ],
      "text/plain": [
       "               user_id\n",
       "                 count\n",
       "city                  \n",
       "Екатеринбург       204\n",
       "Краснодар          193\n",
       "Москва             168\n",
       "Омск               183\n",
       "Пятигорск          219\n",
       "Ростов-на-Дону     198\n",
       "Сочи               189\n",
       "Тюмень             180"
      ]
     },
     "execution_count": 35,
     "metadata": {},
     "output_type": "execute_result"
    }
   ],
   "source": [
    "df_grouped_city = df_users.groupby('city').agg({'user_id': ['count']})\n",
    "df_grouped_city"
   ]
  },
  {
   "cell_type": "code",
   "execution_count": 36,
   "id": "a6e08ad1",
   "metadata": {},
   "outputs": [
    {
     "data": {
      "image/png": "[encoded data removed]",
      "text/plain": [
       "<Figure size 1080x720 with 1 Axes>"
      ]
     },
     "metadata": {},
     "output_type": "display_data"
    }
   ],
   "source": [
    "df_grouped_city.groupby(['city']).sum().plot(kind='pie', y='user_id', autopct='%.1f', title='Частота встречаемости городов %', figsize=(15,10))\n",
    "plt.show()\n"
   ]
  },
  {
   "attachments": {},
   "cell_type": "markdown",
   "id": "c3df91f3",
   "metadata": {},
   "source": [
    "Исходя из полученных данных мы видим, что самое большое количество пользователей находится в Пятигорске - 219 пользователей, что составляет 14.3% от общего количества пользователей. \n",
    "\n",
    "Наименьшее количество пользователей зафиксировано Москве - 168 пользователей, что составляет 11%."
   ]
  },
  {
   "attachments": {},
   "cell_type": "markdown",
   "id": "06bfeef2",
   "metadata": {},
   "source": [
    "### Соотношение пользователей с подпиской и без подписки"
   ]
  },
  {
   "cell_type": "code",
   "execution_count": 37,
   "id": "2862fe7d",
   "metadata": {},
   "outputs": [
    {
     "data": {
      "text/html": [
       "<div>\n",
       "<style scoped>\n",
       "    .dataframe tbody tr th:only-of-type {\n",
       "        vertical-align: middle;\n",
       "    }\n",
       "\n",
       "    .dataframe tbody tr th {\n",
       "        vertical-align: top;\n",
       "    }\n",
       "\n",
       "    .dataframe thead tr th {\n",
       "        text-align: left;\n",
       "    }\n",
       "\n",
       "    .dataframe thead tr:last-of-type th {\n",
       "        text-align: right;\n",
       "    }\n",
       "</style>\n",
       "<table border=\"1\" class=\"dataframe\">\n",
       "  <thead>\n",
       "    <tr>\n",
       "      <th></th>\n",
       "      <th>user_id</th>\n",
       "    </tr>\n",
       "    <tr>\n",
       "      <th></th>\n",
       "      <th>count</th>\n",
       "    </tr>\n",
       "    <tr>\n",
       "      <th>subscription_type</th>\n",
       "      <th></th>\n",
       "    </tr>\n",
       "  </thead>\n",
       "  <tbody>\n",
       "    <tr>\n",
       "      <th>free</th>\n",
       "      <td>835</td>\n",
       "    </tr>\n",
       "    <tr>\n",
       "      <th>ultra</th>\n",
       "      <td>699</td>\n",
       "    </tr>\n",
       "  </tbody>\n",
       "</table>\n",
       "</div>"
      ],
      "text/plain": [
       "                  user_id\n",
       "                    count\n",
       "subscription_type        \n",
       "free                  835\n",
       "ultra                 699"
      ]
     },
     "execution_count": 37,
     "metadata": {},
     "output_type": "execute_result"
    }
   ],
   "source": [
    "df_grouped_subtype = df_users.groupby('subscription_type').agg({'user_id': ['count']})\n",
    "df_grouped_subtype"
   ]
  },
  {
   "attachments": {},
   "cell_type": "markdown",
   "id": "abe77c45",
   "metadata": {},
   "source": [
    "**Визуализируем**"
   ]
  },
  {
   "cell_type": "code",
   "execution_count": 38,
   "id": "7e737830",
   "metadata": {},
   "outputs": [
    {
     "data": {
      "image/png": "[encoded data removed]",
      "text/plain": [
       "<Figure size 1080x720 with 1 Axes>"
      ]
     },
     "metadata": {},
     "output_type": "display_data"
    }
   ],
   "source": [
    "df_grouped_subtype.groupby(['subscription_type']).sum().plot(kind='pie', y='user_id', autopct='%.1f', title='Cоотношения растояния %', figsize=(15,10))\n",
    "plt.show()"
   ]
  },
  {
   "attachments": {},
   "cell_type": "markdown",
   "id": "c8ce3a21",
   "metadata": {},
   "source": [
    "Полученные данные свидетельствуют о том, что количество пользователей без подписок превышает количество пользователей с подпиской, но не существенно"
   ]
  },
  {
   "attachments": {},
   "cell_type": "markdown",
   "id": "38503883",
   "metadata": {},
   "source": [
    "### Cоотношения возраста пользователей"
   ]
  },
  {
   "cell_type": "code",
   "execution_count": 39,
   "id": "28179b9f",
   "metadata": {},
   "outputs": [
    {
     "data": {
      "image/png": "[encoded data removed]",
      "text/plain": [
       "<Figure size 1080x720 with 1 Axes>"
      ]
     },
     "metadata": {
      "needs_background": "light"
     },
     "output_type": "display_data"
    }
   ],
   "source": [
    "plt.figure(figsize=(15,10))\n",
    "plt.hist(df_users['age'], bins = 10)\n",
    "plt.title('Возраст пользователей')\n",
    "plt.xlabel('Возраст')\n",
    "plt.ylabel('Количество пользователей')\n",
    "plt.grid()\n",
    "plt.show()"
   ]
  },
  {
   "cell_type": "code",
   "execution_count": 40,
   "id": "e38a9118",
   "metadata": {},
   "outputs": [
    {
     "data": {
      "image/png": "[encoded data removed]",
      "text/plain": [
       "<Figure size 1080x720 with 1 Axes>"
      ]
     },
     "metadata": {
      "needs_background": "light"
     },
     "output_type": "display_data"
    }
   ],
   "source": [
    "plt.figure(figsize=(15,10))\n",
    "df_users.boxplot(column='age')\n",
    "plt.title('Среднее значение возраста пользователей')\n",
    "plt.ylabel('Возраст')\n",
    "plt.show()"
   ]
  },
  {
   "attachments": {},
   "cell_type": "markdown",
   "id": "7066f332",
   "metadata": {},
   "source": [
    "Данные показывают следующую информацию: \n",
    "- Большинство пользователей находятся в возрастной группе 23-28 лет. \n"
   ]
  },
  {
   "attachments": {},
   "cell_type": "markdown",
   "id": "8e57867a",
   "metadata": {},
   "source": [
    "### Расстояние, которое пользователь преодолел за одну поездку"
   ]
  },
  {
   "cell_type": "code",
   "execution_count": 41,
   "id": "27f83074",
   "metadata": {},
   "outputs": [
    {
     "data": {
      "image/png": "[encoded data removed]",
      "text/plain": [
       "<Figure size 1080x720 with 1 Axes>"
      ]
     },
     "metadata": {
      "needs_background": "light"
     },
     "output_type": "display_data"
    }
   ],
   "source": [
    "df_rides['distance'].hist(bins=50, figsize=(15,10), ec='black')\n",
    "plt.title('Расстояние за одну поездку')\n",
    "plt.xlabel('Расстояние')\n",
    "plt.ylabel('Количество пользователей')\n",
    "plt.show()"
   ]
  },
  {
   "attachments": {},
   "cell_type": "markdown",
   "id": "b4f2a72e",
   "metadata": {},
   "source": [
    "Для более удобного рассмотрения преодаленной дистанции сделаем условную классификацию и добавим новый столбец"
   ]
  },
  {
   "cell_type": "code",
   "execution_count": 42,
   "id": "e00e567a",
   "metadata": {},
   "outputs": [],
   "source": [
    "def dist(row):\n",
    "    if row['distance'] < 1000:\n",
    "        return 'короткая дистанция'\n",
    "    elif row['distance'] < 3000:\n",
    "        return 'средняя дистанция'\n",
    "    elif row['distance'] < 4000:\n",
    "        return 'выше средней дистанция'\n",
    "    elif row['distance'] >= 4000:\n",
    "        return 'длинная дистанция'"
   ]
  },
  {
   "cell_type": "code",
   "execution_count": 43,
   "id": "1deba7cc",
   "metadata": {},
   "outputs": [],
   "source": [
    "df_rides['range'] = df_rides.apply(dist, axis=1)"
   ]
  },
  {
   "attachments": {},
   "cell_type": "markdown",
   "id": "9c3da71e",
   "metadata": {},
   "source": [
    "**Визуализируем**"
   ]
  },
  {
   "cell_type": "code",
   "execution_count": 44,
   "id": "2a0ced47",
   "metadata": {},
   "outputs": [
    {
     "data": {
      "text/html": [
       "<div>\n",
       "<style scoped>\n",
       "    .dataframe tbody tr th:only-of-type {\n",
       "        vertical-align: middle;\n",
       "    }\n",
       "\n",
       "    .dataframe tbody tr th {\n",
       "        vertical-align: top;\n",
       "    }\n",
       "\n",
       "    .dataframe thead tr th {\n",
       "        text-align: left;\n",
       "    }\n",
       "\n",
       "    .dataframe thead tr:last-of-type th {\n",
       "        text-align: right;\n",
       "    }\n",
       "</style>\n",
       "<table border=\"1\" class=\"dataframe\">\n",
       "  <thead>\n",
       "    <tr>\n",
       "      <th></th>\n",
       "      <th>user_id</th>\n",
       "    </tr>\n",
       "    <tr>\n",
       "      <th></th>\n",
       "      <th>count</th>\n",
       "    </tr>\n",
       "    <tr>\n",
       "      <th>range</th>\n",
       "      <th></th>\n",
       "    </tr>\n",
       "  </thead>\n",
       "  <tbody>\n",
       "    <tr>\n",
       "      <th>выше средней дистанция</th>\n",
       "      <td>6707</td>\n",
       "    </tr>\n",
       "    <tr>\n",
       "      <th>длинная дистанция</th>\n",
       "      <td>3481</td>\n",
       "    </tr>\n",
       "    <tr>\n",
       "      <th>короткая дистанция</th>\n",
       "      <td>1371</td>\n",
       "    </tr>\n",
       "    <tr>\n",
       "      <th>средняя дистанция</th>\n",
       "      <td>6509</td>\n",
       "    </tr>\n",
       "  </tbody>\n",
       "</table>\n",
       "</div>"
      ],
      "text/plain": [
       "                       user_id\n",
       "                         count\n",
       "range                         \n",
       "выше средней дистанция    6707\n",
       "длинная дистанция         3481\n",
       "короткая дистанция        1371\n",
       "средняя дистанция         6509"
      ]
     },
     "execution_count": 44,
     "metadata": {},
     "output_type": "execute_result"
    }
   ],
   "source": [
    "df_grouped_range = df_rides.groupby('range').agg({'user_id': ['count']})\n",
    "df_grouped_range"
   ]
  },
  {
   "cell_type": "code",
   "execution_count": 45,
   "id": "e7ca92fe",
   "metadata": {},
   "outputs": [
    {
     "data": {
      "image/png": "[encoded data removed]",
      "text/plain": [
       "<Figure size 1080x720 with 1 Axes>"
      ]
     },
     "metadata": {},
     "output_type": "display_data"
    }
   ],
   "source": [
    "df_grouped_range.groupby(['range']).sum().plot(kind='pie', y='user_id', autopct='%.1f', title='Cоотношения растояния %', figsize=(15,10))\n",
    "plt.show()"
   ]
  },
  {
   "attachments": {},
   "cell_type": "markdown",
   "id": "bfdac648",
   "metadata": {},
   "source": [
    "Большинство пользователей предпочитают использовать самокаты на среднюю (36.0%) или выше средней(37.1%) дистанцию, затем идут пользователи, предпочитающие брать самокаты на длинные дистанции (19.3%) и самой малочисленной категорией выступают пользователи на короткую дистанцию (7.6%)"
   ]
  },
  {
   "attachments": {},
   "cell_type": "markdown",
   "id": "6374cd87",
   "metadata": {},
   "source": [
    "### Продолжительность поездок"
   ]
  },
  {
   "attachments": {},
   "cell_type": "markdown",
   "id": "bd2625d2",
   "metadata": {},
   "source": [
    "Для более удобного рассмотрения продолжительности поездок сделаем условную классификацию и добавим новый столбец"
   ]
  },
  {
   "cell_type": "code",
   "execution_count": 46,
   "id": "6f6465bc",
   "metadata": {},
   "outputs": [],
   "source": [
    "def time(row):\n",
    "    if row['duration'] < 10:\n",
    "        return 'кратковременная'\n",
    "    elif row['duration'] < 20:\n",
    "        return 'средняя'\n",
    "    elif row['duration'] < 30:\n",
    "        return 'выше средней'\n",
    "    elif row['duration'] >= 30:\n",
    "        return 'долгая поездка'"
   ]
  },
  {
   "cell_type": "code",
   "execution_count": 47,
   "id": "37ee3aa5",
   "metadata": {},
   "outputs": [],
   "source": [
    "df_rides['duration_type'] = df_rides.apply(time, axis=1)"
   ]
  },
  {
   "attachments": {},
   "cell_type": "markdown",
   "id": "6d18e386",
   "metadata": {},
   "source": [
    "**Визуализируем**"
   ]
  },
  {
   "cell_type": "code",
   "execution_count": 48,
   "id": "4f3a4d83",
   "metadata": {},
   "outputs": [
    {
     "data": {
      "text/html": [
       "<div>\n",
       "<style scoped>\n",
       "    .dataframe tbody tr th:only-of-type {\n",
       "        vertical-align: middle;\n",
       "    }\n",
       "\n",
       "    .dataframe tbody tr th {\n",
       "        vertical-align: top;\n",
       "    }\n",
       "\n",
       "    .dataframe thead tr th {\n",
       "        text-align: left;\n",
       "    }\n",
       "\n",
       "    .dataframe thead tr:last-of-type th {\n",
       "        text-align: right;\n",
       "    }\n",
       "</style>\n",
       "<table border=\"1\" class=\"dataframe\">\n",
       "  <thead>\n",
       "    <tr>\n",
       "      <th></th>\n",
       "      <th>user_id</th>\n",
       "    </tr>\n",
       "    <tr>\n",
       "      <th></th>\n",
       "      <th>count</th>\n",
       "    </tr>\n",
       "    <tr>\n",
       "      <th>duration_type</th>\n",
       "      <th></th>\n",
       "    </tr>\n",
       "  </thead>\n",
       "  <tbody>\n",
       "    <tr>\n",
       "      <th>выше средней</th>\n",
       "      <td>6713</td>\n",
       "    </tr>\n",
       "    <tr>\n",
       "      <th>долгая поездка</th>\n",
       "      <td>740</td>\n",
       "    </tr>\n",
       "    <tr>\n",
       "      <th>кратковременная</th>\n",
       "      <td>1170</td>\n",
       "    </tr>\n",
       "    <tr>\n",
       "      <th>средняя</th>\n",
       "      <td>9445</td>\n",
       "    </tr>\n",
       "  </tbody>\n",
       "</table>\n",
       "</div>"
      ],
      "text/plain": [
       "                user_id\n",
       "                  count\n",
       "duration_type          \n",
       "выше средней       6713\n",
       "долгая поездка      740\n",
       "кратковременная    1170\n",
       "средняя            9445"
      ]
     },
     "execution_count": 48,
     "metadata": {},
     "output_type": "execute_result"
    }
   ],
   "source": [
    "df_grouped_type = df_rides.groupby('duration_type').agg({'user_id': ['count']})\n",
    "df_grouped_type"
   ]
  },
  {
   "cell_type": "code",
   "execution_count": 49,
   "id": "7d8a065f",
   "metadata": {},
   "outputs": [
    {
     "data": {
      "image/png": "[encoded data removed]",
      "text/plain": [
       "<Figure size 1080x720 with 1 Axes>"
      ]
     },
     "metadata": {},
     "output_type": "display_data"
    }
   ],
   "source": [
    "df_grouped_type.groupby(['duration_type']).sum().plot(kind='pie', y='user_id', autopct='%.1f', title='Продолжительность поездки %', figsize=(15,10))\n",
    "plt.show()"
   ]
  },
  {
   "attachments": {},
   "cell_type": "markdown",
   "id": "3222b15b",
   "metadata": {},
   "source": [
    "Больше половины пользователей (55.9%) предпочитает брать самокаты от 10 до 20 минут. Затем идут пользователи, которые берут самокаты на выше средней дистанции 20-30 минут - 32.1%. Пользователей предпочитающих брать на самокаты на кратковременные или длинные поездки очень мало 9.1% и 3.0% соответственно."
   ]
  },
  {
   "attachments": {},
   "cell_type": "markdown",
   "id": "a874189a",
   "metadata": {},
   "source": [
    "**Рассмотрим аномально короткие поездки**"
   ]
  },
  {
   "cell_type": "code",
   "execution_count": 50,
   "id": "e5b54e91",
   "metadata": {},
   "outputs": [
    {
     "data": {
      "image/png": "[encoded data removed]",
      "text/plain": [
       "<Figure size 1080x720 with 1 Axes>"
      ]
     },
     "metadata": {
      "needs_background": "light"
     },
     "output_type": "display_data"
    }
   ],
   "source": [
    "plt.figure(figsize=(15,10))\n",
    "df_rides.boxplot(column='duration')\n",
    "plt.title('Расстояние аномально коротких поездок')\n",
    "plt.ylabel('Расстояние')\n",
    "plt.show()"
   ]
  },
  {
   "attachments": {},
   "cell_type": "markdown",
   "id": "a7701c87",
   "metadata": {},
   "source": [
    "Представленный боксплот указывает, что транспорт в большинстве случаев используется в пределах 14-23 минут, а также устанавливается общий диапазон в 3-34 минут, остальное считается выбросами. Выброс вверх считается положительной тенденцией для сервиса, соответственно их не будем рассматривать. \n",
    "\n",
    "**Можно определить, что `Аномально короткими поездками являются поездки менее 3 минут`**"
   ]
  },
  {
   "cell_type": "code",
   "execution_count": 51,
   "id": "61527265",
   "metadata": {},
   "outputs": [
    {
     "data": {
      "text/plain": [
       "1    95\n",
       "Name: duration, dtype: int64"
      ]
     },
     "execution_count": 51,
     "metadata": {},
     "output_type": "execute_result"
    }
   ],
   "source": [
    "df_rides.query('duration < 3')['duration'].value_counts()"
   ]
  },
  {
   "attachments": {},
   "cell_type": "markdown",
   "id": "2494316b",
   "metadata": {},
   "source": [
    "Как мы видим, у нас есть 95 пользователей, которые использовали самокаты 1 минуту. Скорее всего это связано с тем, что устройство было либо поломано и его пришлось заменить либо были какие-нибудь иные причины в результате которых пользователь передумал использовать самокат."
   ]
  },
  {
   "attachments": {},
   "cell_type": "markdown",
   "id": "5daff135",
   "metadata": {},
   "source": [
    "**Выводы:**\n",
    "1. Распределение пользователей в 8 городах практически одинаковое. Самое большое количество пользователей в Пятигорске - 219, минимальное в Москве - 168\n",
    "2. Пользователей без подписок больше, чем пользователей с подпиской\n",
    "3. Большинство пользователей сервиса имеют возраст от 18 до 31 лет\n",
    "4. Пользователи предпочитают пользоваться самокатами на средние дистанции от 1 до 4 км\n",
    "5. Большинство пользователей пользуются самокатами 10-30 минут"
   ]
  },
  {
   "attachments": {},
   "cell_type": "markdown",
   "id": "4ef51331",
   "metadata": {},
   "source": [
    "## Объединение данных"
   ]
  },
  {
   "attachments": {},
   "cell_type": "markdown",
   "id": "d5017496",
   "metadata": {},
   "source": [
    "В данном разделе будут осуществлены следующие мероприятия: \n",
    "1. Будут объедены данные о пользователях, поездках и подписках в один датафрейм;\n",
    "2. Из объединенного датафрейма будут созданы два новых:\n",
    "- данными о пользователях без подписки;\n",
    "- данными о пользователях с подпиской.\n",
    "3. Будет визуализирована информацию о расстоянии и времени поездок для пользователей обеих категорий"
   ]
  },
  {
   "attachments": {},
   "cell_type": "markdown",
   "id": "a7d785a1",
   "metadata": {},
   "source": [
    "### Объединение датафреймов"
   ]
  },
  {
   "attachments": {},
   "cell_type": "markdown",
   "id": "6aa22580",
   "metadata": {},
   "source": [
    "Произведем объединение трех датайфреймов `df_users`, `df_rides`, `df_sub` в один - **`df`**"
   ]
  },
  {
   "cell_type": "code",
   "execution_count": 52,
   "id": "c13fd6a7",
   "metadata": {},
   "outputs": [],
   "source": [
    "df = df_users.merge(df_rides, on='user_id', how='left')"
   ]
  },
  {
   "cell_type": "code",
   "execution_count": 53,
   "id": "39cfba0b",
   "metadata": {},
   "outputs": [],
   "source": [
    "df = df.merge(df_sub, on='subscription_type', how='left')"
   ]
  },
  {
   "cell_type": "code",
   "execution_count": 54,
   "id": "b9ce0212",
   "metadata": {},
   "outputs": [
    {
     "data": {
      "text/html": [
       "<div>\n",
       "<style scoped>\n",
       "    .dataframe tbody tr th:only-of-type {\n",
       "        vertical-align: middle;\n",
       "    }\n",
       "\n",
       "    .dataframe tbody tr th {\n",
       "        vertical-align: top;\n",
       "    }\n",
       "\n",
       "    .dataframe thead th {\n",
       "        text-align: right;\n",
       "    }\n",
       "</style>\n",
       "<table border=\"1\" class=\"dataframe\">\n",
       "  <thead>\n",
       "    <tr style=\"text-align: right;\">\n",
       "      <th></th>\n",
       "      <th>user_id</th>\n",
       "      <th>name</th>\n",
       "      <th>age</th>\n",
       "      <th>city</th>\n",
       "      <th>subscription_type</th>\n",
       "      <th>distance</th>\n",
       "      <th>duration</th>\n",
       "      <th>date</th>\n",
       "      <th>month</th>\n",
       "      <th>range</th>\n",
       "      <th>duration_type</th>\n",
       "      <th>minute_price</th>\n",
       "      <th>start_ride_price</th>\n",
       "      <th>subscription_fee</th>\n",
       "    </tr>\n",
       "  </thead>\n",
       "  <tbody>\n",
       "    <tr>\n",
       "      <th>0</th>\n",
       "      <td>1</td>\n",
       "      <td>Кира</td>\n",
       "      <td>22</td>\n",
       "      <td>Тюмень</td>\n",
       "      <td>ultra</td>\n",
       "      <td>4410</td>\n",
       "      <td>26</td>\n",
       "      <td>2021-01-01</td>\n",
       "      <td>1</td>\n",
       "      <td>длинная дистанция</td>\n",
       "      <td>выше средней</td>\n",
       "      <td>6</td>\n",
       "      <td>0</td>\n",
       "      <td>199</td>\n",
       "    </tr>\n",
       "    <tr>\n",
       "      <th>1</th>\n",
       "      <td>1</td>\n",
       "      <td>Кира</td>\n",
       "      <td>22</td>\n",
       "      <td>Тюмень</td>\n",
       "      <td>ultra</td>\n",
       "      <td>2618</td>\n",
       "      <td>16</td>\n",
       "      <td>2021-01-18</td>\n",
       "      <td>1</td>\n",
       "      <td>средняя дистанция</td>\n",
       "      <td>средняя</td>\n",
       "      <td>6</td>\n",
       "      <td>0</td>\n",
       "      <td>199</td>\n",
       "    </tr>\n",
       "    <tr>\n",
       "      <th>2</th>\n",
       "      <td>1</td>\n",
       "      <td>Кира</td>\n",
       "      <td>22</td>\n",
       "      <td>Тюмень</td>\n",
       "      <td>ultra</td>\n",
       "      <td>755</td>\n",
       "      <td>7</td>\n",
       "      <td>2021-04-20</td>\n",
       "      <td>4</td>\n",
       "      <td>короткая дистанция</td>\n",
       "      <td>кратковременная</td>\n",
       "      <td>6</td>\n",
       "      <td>0</td>\n",
       "      <td>199</td>\n",
       "    </tr>\n",
       "    <tr>\n",
       "      <th>3</th>\n",
       "      <td>1</td>\n",
       "      <td>Кира</td>\n",
       "      <td>22</td>\n",
       "      <td>Тюмень</td>\n",
       "      <td>ultra</td>\n",
       "      <td>2695</td>\n",
       "      <td>19</td>\n",
       "      <td>2021-08-11</td>\n",
       "      <td>8</td>\n",
       "      <td>средняя дистанция</td>\n",
       "      <td>средняя</td>\n",
       "      <td>6</td>\n",
       "      <td>0</td>\n",
       "      <td>199</td>\n",
       "    </tr>\n",
       "    <tr>\n",
       "      <th>4</th>\n",
       "      <td>1</td>\n",
       "      <td>Кира</td>\n",
       "      <td>22</td>\n",
       "      <td>Тюмень</td>\n",
       "      <td>ultra</td>\n",
       "      <td>4029</td>\n",
       "      <td>27</td>\n",
       "      <td>2021-08-28</td>\n",
       "      <td>8</td>\n",
       "      <td>длинная дистанция</td>\n",
       "      <td>выше средней</td>\n",
       "      <td>6</td>\n",
       "      <td>0</td>\n",
       "      <td>199</td>\n",
       "    </tr>\n",
       "    <tr>\n",
       "      <th>5</th>\n",
       "      <td>1</td>\n",
       "      <td>Кира</td>\n",
       "      <td>22</td>\n",
       "      <td>Тюмень</td>\n",
       "      <td>ultra</td>\n",
       "      <td>2771</td>\n",
       "      <td>17</td>\n",
       "      <td>2021-10-09</td>\n",
       "      <td>10</td>\n",
       "      <td>средняя дистанция</td>\n",
       "      <td>средняя</td>\n",
       "      <td>6</td>\n",
       "      <td>0</td>\n",
       "      <td>199</td>\n",
       "    </tr>\n",
       "    <tr>\n",
       "      <th>6</th>\n",
       "      <td>1</td>\n",
       "      <td>Кира</td>\n",
       "      <td>22</td>\n",
       "      <td>Тюмень</td>\n",
       "      <td>ultra</td>\n",
       "      <td>3040</td>\n",
       "      <td>15</td>\n",
       "      <td>2021-10-19</td>\n",
       "      <td>10</td>\n",
       "      <td>выше средней дистанция</td>\n",
       "      <td>средняя</td>\n",
       "      <td>6</td>\n",
       "      <td>0</td>\n",
       "      <td>199</td>\n",
       "    </tr>\n",
       "    <tr>\n",
       "      <th>7</th>\n",
       "      <td>1</td>\n",
       "      <td>Кира</td>\n",
       "      <td>22</td>\n",
       "      <td>Тюмень</td>\n",
       "      <td>ultra</td>\n",
       "      <td>2843</td>\n",
       "      <td>24</td>\n",
       "      <td>2021-11-06</td>\n",
       "      <td>11</td>\n",
       "      <td>средняя дистанция</td>\n",
       "      <td>выше средней</td>\n",
       "      <td>6</td>\n",
       "      <td>0</td>\n",
       "      <td>199</td>\n",
       "    </tr>\n",
       "    <tr>\n",
       "      <th>8</th>\n",
       "      <td>1</td>\n",
       "      <td>Кира</td>\n",
       "      <td>22</td>\n",
       "      <td>Тюмень</td>\n",
       "      <td>ultra</td>\n",
       "      <td>3413</td>\n",
       "      <td>16</td>\n",
       "      <td>2021-11-14</td>\n",
       "      <td>11</td>\n",
       "      <td>выше средней дистанция</td>\n",
       "      <td>средняя</td>\n",
       "      <td>6</td>\n",
       "      <td>0</td>\n",
       "      <td>199</td>\n",
       "    </tr>\n",
       "    <tr>\n",
       "      <th>9</th>\n",
       "      <td>1</td>\n",
       "      <td>Кира</td>\n",
       "      <td>22</td>\n",
       "      <td>Тюмень</td>\n",
       "      <td>ultra</td>\n",
       "      <td>749</td>\n",
       "      <td>16</td>\n",
       "      <td>2021-11-22</td>\n",
       "      <td>11</td>\n",
       "      <td>короткая дистанция</td>\n",
       "      <td>средняя</td>\n",
       "      <td>6</td>\n",
       "      <td>0</td>\n",
       "      <td>199</td>\n",
       "    </tr>\n",
       "    <tr>\n",
       "      <th>10</th>\n",
       "      <td>1</td>\n",
       "      <td>Кира</td>\n",
       "      <td>22</td>\n",
       "      <td>Тюмень</td>\n",
       "      <td>ultra</td>\n",
       "      <td>4032</td>\n",
       "      <td>18</td>\n",
       "      <td>2021-12-14</td>\n",
       "      <td>12</td>\n",
       "      <td>длинная дистанция</td>\n",
       "      <td>средняя</td>\n",
       "      <td>6</td>\n",
       "      <td>0</td>\n",
       "      <td>199</td>\n",
       "    </tr>\n",
       "    <tr>\n",
       "      <th>11</th>\n",
       "      <td>1</td>\n",
       "      <td>Кира</td>\n",
       "      <td>22</td>\n",
       "      <td>Тюмень</td>\n",
       "      <td>ultra</td>\n",
       "      <td>2721</td>\n",
       "      <td>10</td>\n",
       "      <td>2021-12-22</td>\n",
       "      <td>12</td>\n",
       "      <td>средняя дистанция</td>\n",
       "      <td>средняя</td>\n",
       "      <td>6</td>\n",
       "      <td>0</td>\n",
       "      <td>199</td>\n",
       "    </tr>\n",
       "    <tr>\n",
       "      <th>12</th>\n",
       "      <td>2</td>\n",
       "      <td>Станислав</td>\n",
       "      <td>31</td>\n",
       "      <td>Омск</td>\n",
       "      <td>ultra</td>\n",
       "      <td>3106</td>\n",
       "      <td>25</td>\n",
       "      <td>2021-03-15</td>\n",
       "      <td>3</td>\n",
       "      <td>выше средней дистанция</td>\n",
       "      <td>выше средней</td>\n",
       "      <td>6</td>\n",
       "      <td>0</td>\n",
       "      <td>199</td>\n",
       "    </tr>\n",
       "    <tr>\n",
       "      <th>13</th>\n",
       "      <td>2</td>\n",
       "      <td>Станислав</td>\n",
       "      <td>31</td>\n",
       "      <td>Омск</td>\n",
       "      <td>ultra</td>\n",
       "      <td>3054</td>\n",
       "      <td>12</td>\n",
       "      <td>2021-03-18</td>\n",
       "      <td>3</td>\n",
       "      <td>выше средней дистанция</td>\n",
       "      <td>средняя</td>\n",
       "      <td>6</td>\n",
       "      <td>0</td>\n",
       "      <td>199</td>\n",
       "    </tr>\n",
       "    <tr>\n",
       "      <th>14</th>\n",
       "      <td>2</td>\n",
       "      <td>Станислав</td>\n",
       "      <td>31</td>\n",
       "      <td>Омск</td>\n",
       "      <td>ultra</td>\n",
       "      <td>4030</td>\n",
       "      <td>26</td>\n",
       "      <td>2021-03-23</td>\n",
       "      <td>3</td>\n",
       "      <td>длинная дистанция</td>\n",
       "      <td>выше средней</td>\n",
       "      <td>6</td>\n",
       "      <td>0</td>\n",
       "      <td>199</td>\n",
       "    </tr>\n",
       "    <tr>\n",
       "      <th>15</th>\n",
       "      <td>2</td>\n",
       "      <td>Станислав</td>\n",
       "      <td>31</td>\n",
       "      <td>Омск</td>\n",
       "      <td>ultra</td>\n",
       "      <td>2806</td>\n",
       "      <td>21</td>\n",
       "      <td>2021-04-08</td>\n",
       "      <td>4</td>\n",
       "      <td>средняя дистанция</td>\n",
       "      <td>выше средней</td>\n",
       "      <td>6</td>\n",
       "      <td>0</td>\n",
       "      <td>199</td>\n",
       "    </tr>\n",
       "    <tr>\n",
       "      <th>16</th>\n",
       "      <td>2</td>\n",
       "      <td>Станислав</td>\n",
       "      <td>31</td>\n",
       "      <td>Омск</td>\n",
       "      <td>ultra</td>\n",
       "      <td>3359</td>\n",
       "      <td>19</td>\n",
       "      <td>2021-04-13</td>\n",
       "      <td>4</td>\n",
       "      <td>выше средней дистанция</td>\n",
       "      <td>средняя</td>\n",
       "      <td>6</td>\n",
       "      <td>0</td>\n",
       "      <td>199</td>\n",
       "    </tr>\n",
       "    <tr>\n",
       "      <th>17</th>\n",
       "      <td>2</td>\n",
       "      <td>Станислав</td>\n",
       "      <td>31</td>\n",
       "      <td>Омск</td>\n",
       "      <td>ultra</td>\n",
       "      <td>3256</td>\n",
       "      <td>14</td>\n",
       "      <td>2021-06-20</td>\n",
       "      <td>6</td>\n",
       "      <td>выше средней дистанция</td>\n",
       "      <td>средняя</td>\n",
       "      <td>6</td>\n",
       "      <td>0</td>\n",
       "      <td>199</td>\n",
       "    </tr>\n",
       "    <tr>\n",
       "      <th>18</th>\n",
       "      <td>2</td>\n",
       "      <td>Станислав</td>\n",
       "      <td>31</td>\n",
       "      <td>Омск</td>\n",
       "      <td>ultra</td>\n",
       "      <td>3943</td>\n",
       "      <td>21</td>\n",
       "      <td>2021-07-02</td>\n",
       "      <td>7</td>\n",
       "      <td>выше средней дистанция</td>\n",
       "      <td>выше средней</td>\n",
       "      <td>6</td>\n",
       "      <td>0</td>\n",
       "      <td>199</td>\n",
       "    </tr>\n",
       "    <tr>\n",
       "      <th>19</th>\n",
       "      <td>2</td>\n",
       "      <td>Станислав</td>\n",
       "      <td>31</td>\n",
       "      <td>Омск</td>\n",
       "      <td>ultra</td>\n",
       "      <td>2838</td>\n",
       "      <td>27</td>\n",
       "      <td>2021-07-18</td>\n",
       "      <td>7</td>\n",
       "      <td>средняя дистанция</td>\n",
       "      <td>выше средней</td>\n",
       "      <td>6</td>\n",
       "      <td>0</td>\n",
       "      <td>199</td>\n",
       "    </tr>\n",
       "    <tr>\n",
       "      <th>20</th>\n",
       "      <td>2</td>\n",
       "      <td>Станислав</td>\n",
       "      <td>31</td>\n",
       "      <td>Омск</td>\n",
       "      <td>ultra</td>\n",
       "      <td>924</td>\n",
       "      <td>7</td>\n",
       "      <td>2021-08-03</td>\n",
       "      <td>8</td>\n",
       "      <td>короткая дистанция</td>\n",
       "      <td>кратковременная</td>\n",
       "      <td>6</td>\n",
       "      <td>0</td>\n",
       "      <td>199</td>\n",
       "    </tr>\n",
       "    <tr>\n",
       "      <th>21</th>\n",
       "      <td>2</td>\n",
       "      <td>Станислав</td>\n",
       "      <td>31</td>\n",
       "      <td>Омск</td>\n",
       "      <td>ultra</td>\n",
       "      <td>2825</td>\n",
       "      <td>19</td>\n",
       "      <td>2021-10-27</td>\n",
       "      <td>10</td>\n",
       "      <td>средняя дистанция</td>\n",
       "      <td>средняя</td>\n",
       "      <td>6</td>\n",
       "      <td>0</td>\n",
       "      <td>199</td>\n",
       "    </tr>\n",
       "    <tr>\n",
       "      <th>22</th>\n",
       "      <td>2</td>\n",
       "      <td>Станислав</td>\n",
       "      <td>31</td>\n",
       "      <td>Омск</td>\n",
       "      <td>ultra</td>\n",
       "      <td>3829</td>\n",
       "      <td>12</td>\n",
       "      <td>2021-12-18</td>\n",
       "      <td>12</td>\n",
       "      <td>выше средней дистанция</td>\n",
       "      <td>средняя</td>\n",
       "      <td>6</td>\n",
       "      <td>0</td>\n",
       "      <td>199</td>\n",
       "    </tr>\n",
       "    <tr>\n",
       "      <th>23</th>\n",
       "      <td>3</td>\n",
       "      <td>Алексей</td>\n",
       "      <td>20</td>\n",
       "      <td>Москва</td>\n",
       "      <td>ultra</td>\n",
       "      <td>3062</td>\n",
       "      <td>13</td>\n",
       "      <td>2021-01-31</td>\n",
       "      <td>1</td>\n",
       "      <td>выше средней дистанция</td>\n",
       "      <td>средняя</td>\n",
       "      <td>6</td>\n",
       "      <td>0</td>\n",
       "      <td>199</td>\n",
       "    </tr>\n",
       "    <tr>\n",
       "      <th>24</th>\n",
       "      <td>3</td>\n",
       "      <td>Алексей</td>\n",
       "      <td>20</td>\n",
       "      <td>Москва</td>\n",
       "      <td>ultra</td>\n",
       "      <td>2561</td>\n",
       "      <td>17</td>\n",
       "      <td>2021-02-24</td>\n",
       "      <td>2</td>\n",
       "      <td>средняя дистанция</td>\n",
       "      <td>средняя</td>\n",
       "      <td>6</td>\n",
       "      <td>0</td>\n",
       "      <td>199</td>\n",
       "    </tr>\n",
       "    <tr>\n",
       "      <th>25</th>\n",
       "      <td>3</td>\n",
       "      <td>Алексей</td>\n",
       "      <td>20</td>\n",
       "      <td>Москва</td>\n",
       "      <td>ultra</td>\n",
       "      <td>2861</td>\n",
       "      <td>22</td>\n",
       "      <td>2021-02-26</td>\n",
       "      <td>2</td>\n",
       "      <td>средняя дистанция</td>\n",
       "      <td>выше средней</td>\n",
       "      <td>6</td>\n",
       "      <td>0</td>\n",
       "      <td>199</td>\n",
       "    </tr>\n",
       "    <tr>\n",
       "      <th>26</th>\n",
       "      <td>3</td>\n",
       "      <td>Алексей</td>\n",
       "      <td>20</td>\n",
       "      <td>Москва</td>\n",
       "      <td>ultra</td>\n",
       "      <td>2957</td>\n",
       "      <td>21</td>\n",
       "      <td>2021-04-12</td>\n",
       "      <td>4</td>\n",
       "      <td>средняя дистанция</td>\n",
       "      <td>выше средней</td>\n",
       "      <td>6</td>\n",
       "      <td>0</td>\n",
       "      <td>199</td>\n",
       "    </tr>\n",
       "    <tr>\n",
       "      <th>27</th>\n",
       "      <td>3</td>\n",
       "      <td>Алексей</td>\n",
       "      <td>20</td>\n",
       "      <td>Москва</td>\n",
       "      <td>ultra</td>\n",
       "      <td>2757</td>\n",
       "      <td>19</td>\n",
       "      <td>2021-05-07</td>\n",
       "      <td>5</td>\n",
       "      <td>средняя дистанция</td>\n",
       "      <td>средняя</td>\n",
       "      <td>6</td>\n",
       "      <td>0</td>\n",
       "      <td>199</td>\n",
       "    </tr>\n",
       "    <tr>\n",
       "      <th>28</th>\n",
       "      <td>3</td>\n",
       "      <td>Алексей</td>\n",
       "      <td>20</td>\n",
       "      <td>Москва</td>\n",
       "      <td>ultra</td>\n",
       "      <td>2838</td>\n",
       "      <td>25</td>\n",
       "      <td>2021-05-21</td>\n",
       "      <td>5</td>\n",
       "      <td>средняя дистанция</td>\n",
       "      <td>выше средней</td>\n",
       "      <td>6</td>\n",
       "      <td>0</td>\n",
       "      <td>199</td>\n",
       "    </tr>\n",
       "    <tr>\n",
       "      <th>29</th>\n",
       "      <td>3</td>\n",
       "      <td>Алексей</td>\n",
       "      <td>20</td>\n",
       "      <td>Москва</td>\n",
       "      <td>ultra</td>\n",
       "      <td>3470</td>\n",
       "      <td>19</td>\n",
       "      <td>2021-05-22</td>\n",
       "      <td>5</td>\n",
       "      <td>выше средней дистанция</td>\n",
       "      <td>средняя</td>\n",
       "      <td>6</td>\n",
       "      <td>0</td>\n",
       "      <td>199</td>\n",
       "    </tr>\n",
       "    <tr>\n",
       "      <th>30</th>\n",
       "      <td>3</td>\n",
       "      <td>Алексей</td>\n",
       "      <td>20</td>\n",
       "      <td>Москва</td>\n",
       "      <td>ultra</td>\n",
       "      <td>2728</td>\n",
       "      <td>20</td>\n",
       "      <td>2021-07-04</td>\n",
       "      <td>7</td>\n",
       "      <td>средняя дистанция</td>\n",
       "      <td>выше средней</td>\n",
       "      <td>6</td>\n",
       "      <td>0</td>\n",
       "      <td>199</td>\n",
       "    </tr>\n",
       "    <tr>\n",
       "      <th>31</th>\n",
       "      <td>3</td>\n",
       "      <td>Алексей</td>\n",
       "      <td>20</td>\n",
       "      <td>Москва</td>\n",
       "      <td>ultra</td>\n",
       "      <td>2857</td>\n",
       "      <td>21</td>\n",
       "      <td>2021-07-07</td>\n",
       "      <td>7</td>\n",
       "      <td>средняя дистанция</td>\n",
       "      <td>выше средней</td>\n",
       "      <td>6</td>\n",
       "      <td>0</td>\n",
       "      <td>199</td>\n",
       "    </tr>\n",
       "    <tr>\n",
       "      <th>32</th>\n",
       "      <td>3</td>\n",
       "      <td>Алексей</td>\n",
       "      <td>20</td>\n",
       "      <td>Москва</td>\n",
       "      <td>ultra</td>\n",
       "      <td>5336</td>\n",
       "      <td>26</td>\n",
       "      <td>2021-07-14</td>\n",
       "      <td>7</td>\n",
       "      <td>длинная дистанция</td>\n",
       "      <td>выше средней</td>\n",
       "      <td>6</td>\n",
       "      <td>0</td>\n",
       "      <td>199</td>\n",
       "    </tr>\n",
       "    <tr>\n",
       "      <th>33</th>\n",
       "      <td>3</td>\n",
       "      <td>Алексей</td>\n",
       "      <td>20</td>\n",
       "      <td>Москва</td>\n",
       "      <td>ultra</td>\n",
       "      <td>2892</td>\n",
       "      <td>23</td>\n",
       "      <td>2021-09-04</td>\n",
       "      <td>9</td>\n",
       "      <td>средняя дистанция</td>\n",
       "      <td>выше средней</td>\n",
       "      <td>6</td>\n",
       "      <td>0</td>\n",
       "      <td>199</td>\n",
       "    </tr>\n",
       "    <tr>\n",
       "      <th>34</th>\n",
       "      <td>3</td>\n",
       "      <td>Алексей</td>\n",
       "      <td>20</td>\n",
       "      <td>Москва</td>\n",
       "      <td>ultra</td>\n",
       "      <td>2594</td>\n",
       "      <td>13</td>\n",
       "      <td>2021-12-14</td>\n",
       "      <td>12</td>\n",
       "      <td>средняя дистанция</td>\n",
       "      <td>средняя</td>\n",
       "      <td>6</td>\n",
       "      <td>0</td>\n",
       "      <td>199</td>\n",
       "    </tr>\n",
       "    <tr>\n",
       "      <th>35</th>\n",
       "      <td>4</td>\n",
       "      <td>Константин</td>\n",
       "      <td>26</td>\n",
       "      <td>Ростов-на-Дону</td>\n",
       "      <td>ultra</td>\n",
       "      <td>2906</td>\n",
       "      <td>28</td>\n",
       "      <td>2021-02-10</td>\n",
       "      <td>2</td>\n",
       "      <td>средняя дистанция</td>\n",
       "      <td>выше средней</td>\n",
       "      <td>6</td>\n",
       "      <td>0</td>\n",
       "      <td>199</td>\n",
       "    </tr>\n",
       "    <tr>\n",
       "      <th>36</th>\n",
       "      <td>4</td>\n",
       "      <td>Константин</td>\n",
       "      <td>26</td>\n",
       "      <td>Ростов-на-Дону</td>\n",
       "      <td>ultra</td>\n",
       "      <td>3435</td>\n",
       "      <td>21</td>\n",
       "      <td>2021-02-16</td>\n",
       "      <td>2</td>\n",
       "      <td>выше средней дистанция</td>\n",
       "      <td>выше средней</td>\n",
       "      <td>6</td>\n",
       "      <td>0</td>\n",
       "      <td>199</td>\n",
       "    </tr>\n",
       "    <tr>\n",
       "      <th>37</th>\n",
       "      <td>4</td>\n",
       "      <td>Константин</td>\n",
       "      <td>26</td>\n",
       "      <td>Ростов-на-Дону</td>\n",
       "      <td>ultra</td>\n",
       "      <td>3313</td>\n",
       "      <td>23</td>\n",
       "      <td>2021-06-06</td>\n",
       "      <td>6</td>\n",
       "      <td>выше средней дистанция</td>\n",
       "      <td>выше средней</td>\n",
       "      <td>6</td>\n",
       "      <td>0</td>\n",
       "      <td>199</td>\n",
       "    </tr>\n",
       "    <tr>\n",
       "      <th>38</th>\n",
       "      <td>4</td>\n",
       "      <td>Константин</td>\n",
       "      <td>26</td>\n",
       "      <td>Ростов-на-Дону</td>\n",
       "      <td>ultra</td>\n",
       "      <td>3441</td>\n",
       "      <td>22</td>\n",
       "      <td>2021-06-27</td>\n",
       "      <td>6</td>\n",
       "      <td>выше средней дистанция</td>\n",
       "      <td>выше средней</td>\n",
       "      <td>6</td>\n",
       "      <td>0</td>\n",
       "      <td>199</td>\n",
       "    </tr>\n",
       "    <tr>\n",
       "      <th>39</th>\n",
       "      <td>4</td>\n",
       "      <td>Константин</td>\n",
       "      <td>26</td>\n",
       "      <td>Ростов-на-Дону</td>\n",
       "      <td>ultra</td>\n",
       "      <td>3719</td>\n",
       "      <td>17</td>\n",
       "      <td>2021-07-04</td>\n",
       "      <td>7</td>\n",
       "      <td>выше средней дистанция</td>\n",
       "      <td>средняя</td>\n",
       "      <td>6</td>\n",
       "      <td>0</td>\n",
       "      <td>199</td>\n",
       "    </tr>\n",
       "    <tr>\n",
       "      <th>40</th>\n",
       "      <td>4</td>\n",
       "      <td>Константин</td>\n",
       "      <td>26</td>\n",
       "      <td>Ростов-на-Дону</td>\n",
       "      <td>ultra</td>\n",
       "      <td>2564</td>\n",
       "      <td>16</td>\n",
       "      <td>2021-07-06</td>\n",
       "      <td>7</td>\n",
       "      <td>средняя дистанция</td>\n",
       "      <td>средняя</td>\n",
       "      <td>6</td>\n",
       "      <td>0</td>\n",
       "      <td>199</td>\n",
       "    </tr>\n",
       "    <tr>\n",
       "      <th>41</th>\n",
       "      <td>4</td>\n",
       "      <td>Константин</td>\n",
       "      <td>26</td>\n",
       "      <td>Ростов-на-Дону</td>\n",
       "      <td>ultra</td>\n",
       "      <td>4209</td>\n",
       "      <td>23</td>\n",
       "      <td>2021-07-17</td>\n",
       "      <td>7</td>\n",
       "      <td>длинная дистанция</td>\n",
       "      <td>выше средней</td>\n",
       "      <td>6</td>\n",
       "      <td>0</td>\n",
       "      <td>199</td>\n",
       "    </tr>\n",
       "    <tr>\n",
       "      <th>42</th>\n",
       "      <td>4</td>\n",
       "      <td>Константин</td>\n",
       "      <td>26</td>\n",
       "      <td>Ростов-на-Дону</td>\n",
       "      <td>ultra</td>\n",
       "      <td>4650</td>\n",
       "      <td>36</td>\n",
       "      <td>2021-08-14</td>\n",
       "      <td>8</td>\n",
       "      <td>длинная дистанция</td>\n",
       "      <td>долгая поездка</td>\n",
       "      <td>6</td>\n",
       "      <td>0</td>\n",
       "      <td>199</td>\n",
       "    </tr>\n",
       "    <tr>\n",
       "      <th>43</th>\n",
       "      <td>4</td>\n",
       "      <td>Константин</td>\n",
       "      <td>26</td>\n",
       "      <td>Ростов-на-Дону</td>\n",
       "      <td>ultra</td>\n",
       "      <td>2334</td>\n",
       "      <td>17</td>\n",
       "      <td>2021-10-08</td>\n",
       "      <td>10</td>\n",
       "      <td>средняя дистанция</td>\n",
       "      <td>средняя</td>\n",
       "      <td>6</td>\n",
       "      <td>0</td>\n",
       "      <td>199</td>\n",
       "    </tr>\n",
       "    <tr>\n",
       "      <th>44</th>\n",
       "      <td>4</td>\n",
       "      <td>Константин</td>\n",
       "      <td>26</td>\n",
       "      <td>Ростов-на-Дону</td>\n",
       "      <td>ultra</td>\n",
       "      <td>3894</td>\n",
       "      <td>22</td>\n",
       "      <td>2021-10-24</td>\n",
       "      <td>10</td>\n",
       "      <td>выше средней дистанция</td>\n",
       "      <td>выше средней</td>\n",
       "      <td>6</td>\n",
       "      <td>0</td>\n",
       "      <td>199</td>\n",
       "    </tr>\n",
       "    <tr>\n",
       "      <th>45</th>\n",
       "      <td>4</td>\n",
       "      <td>Константин</td>\n",
       "      <td>26</td>\n",
       "      <td>Ростов-на-Дону</td>\n",
       "      <td>ultra</td>\n",
       "      <td>3934</td>\n",
       "      <td>15</td>\n",
       "      <td>2021-10-27</td>\n",
       "      <td>10</td>\n",
       "      <td>выше средней дистанция</td>\n",
       "      <td>средняя</td>\n",
       "      <td>6</td>\n",
       "      <td>0</td>\n",
       "      <td>199</td>\n",
       "    </tr>\n",
       "    <tr>\n",
       "      <th>46</th>\n",
       "      <td>4</td>\n",
       "      <td>Константин</td>\n",
       "      <td>26</td>\n",
       "      <td>Ростов-на-Дону</td>\n",
       "      <td>ultra</td>\n",
       "      <td>3101</td>\n",
       "      <td>25</td>\n",
       "      <td>2021-10-30</td>\n",
       "      <td>10</td>\n",
       "      <td>выше средней дистанция</td>\n",
       "      <td>выше средней</td>\n",
       "      <td>6</td>\n",
       "      <td>0</td>\n",
       "      <td>199</td>\n",
       "    </tr>\n",
       "    <tr>\n",
       "      <th>47</th>\n",
       "      <td>4</td>\n",
       "      <td>Константин</td>\n",
       "      <td>26</td>\n",
       "      <td>Ростов-на-Дону</td>\n",
       "      <td>ultra</td>\n",
       "      <td>725</td>\n",
       "      <td>12</td>\n",
       "      <td>2021-11-14</td>\n",
       "      <td>11</td>\n",
       "      <td>короткая дистанция</td>\n",
       "      <td>средняя</td>\n",
       "      <td>6</td>\n",
       "      <td>0</td>\n",
       "      <td>199</td>\n",
       "    </tr>\n",
       "    <tr>\n",
       "      <th>48</th>\n",
       "      <td>4</td>\n",
       "      <td>Константин</td>\n",
       "      <td>26</td>\n",
       "      <td>Ростов-на-Дону</td>\n",
       "      <td>ultra</td>\n",
       "      <td>2619</td>\n",
       "      <td>16</td>\n",
       "      <td>2021-11-25</td>\n",
       "      <td>11</td>\n",
       "      <td>средняя дистанция</td>\n",
       "      <td>средняя</td>\n",
       "      <td>6</td>\n",
       "      <td>0</td>\n",
       "      <td>199</td>\n",
       "    </tr>\n",
       "    <tr>\n",
       "      <th>49</th>\n",
       "      <td>5</td>\n",
       "      <td>Адель</td>\n",
       "      <td>28</td>\n",
       "      <td>Омск</td>\n",
       "      <td>ultra</td>\n",
       "      <td>3915</td>\n",
       "      <td>13</td>\n",
       "      <td>2021-01-18</td>\n",
       "      <td>1</td>\n",
       "      <td>выше средней дистанция</td>\n",
       "      <td>средняя</td>\n",
       "      <td>6</td>\n",
       "      <td>0</td>\n",
       "      <td>199</td>\n",
       "    </tr>\n",
       "  </tbody>\n",
       "</table>\n",
       "</div>"
      ],
      "text/plain": [
       "    user_id        name  age            city subscription_type  distance  \\\n",
       "0         1        Кира   22          Тюмень             ultra      4410   \n",
       "1         1        Кира   22          Тюмень             ultra      2618   \n",
       "2         1        Кира   22          Тюмень             ultra       755   \n",
       "3         1        Кира   22          Тюмень             ultra      2695   \n",
       "4         1        Кира   22          Тюмень             ultra      4029   \n",
       "5         1        Кира   22          Тюмень             ultra      2771   \n",
       "6         1        Кира   22          Тюмень             ultra      3040   \n",
       "7         1        Кира   22          Тюмень             ultra      2843   \n",
       "8         1        Кира   22          Тюмень             ultra      3413   \n",
       "9         1        Кира   22          Тюмень             ultra       749   \n",
       "10        1        Кира   22          Тюмень             ultra      4032   \n",
       "11        1        Кира   22          Тюмень             ultra      2721   \n",
       "12        2   Станислав   31            Омск             ultra      3106   \n",
       "13        2   Станислав   31            Омск             ultra      3054   \n",
       "14        2   Станислав   31            Омск             ultra      4030   \n",
       "15        2   Станислав   31            Омск             ultra      2806   \n",
       "16        2   Станислав   31            Омск             ultra      3359   \n",
       "17        2   Станислав   31            Омск             ultra      3256   \n",
       "18        2   Станислав   31            Омск             ultra      3943   \n",
       "19        2   Станислав   31            Омск             ultra      2838   \n",
       "20        2   Станислав   31            Омск             ultra       924   \n",
       "21        2   Станислав   31            Омск             ultra      2825   \n",
       "22        2   Станислав   31            Омск             ultra      3829   \n",
       "23        3     Алексей   20          Москва             ultra      3062   \n",
       "24        3     Алексей   20          Москва             ultra      2561   \n",
       "25        3     Алексей   20          Москва             ultra      2861   \n",
       "26        3     Алексей   20          Москва             ultra      2957   \n",
       "27        3     Алексей   20          Москва             ultra      2757   \n",
       "28        3     Алексей   20          Москва             ultra      2838   \n",
       "29        3     Алексей   20          Москва             ultra      3470   \n",
       "30        3     Алексей   20          Москва             ultra      2728   \n",
       "31        3     Алексей   20          Москва             ultra      2857   \n",
       "32        3     Алексей   20          Москва             ultra      5336   \n",
       "33        3     Алексей   20          Москва             ultra      2892   \n",
       "34        3     Алексей   20          Москва             ultra      2594   \n",
       "35        4  Константин   26  Ростов-на-Дону             ultra      2906   \n",
       "36        4  Константин   26  Ростов-на-Дону             ultra      3435   \n",
       "37        4  Константин   26  Ростов-на-Дону             ultra      3313   \n",
       "38        4  Константин   26  Ростов-на-Дону             ultra      3441   \n",
       "39        4  Константин   26  Ростов-на-Дону             ultra      3719   \n",
       "40        4  Константин   26  Ростов-на-Дону             ultra      2564   \n",
       "41        4  Константин   26  Ростов-на-Дону             ultra      4209   \n",
       "42        4  Константин   26  Ростов-на-Дону             ultra      4650   \n",
       "43        4  Константин   26  Ростов-на-Дону             ultra      2334   \n",
       "44        4  Константин   26  Ростов-на-Дону             ultra      3894   \n",
       "45        4  Константин   26  Ростов-на-Дону             ultra      3934   \n",
       "46        4  Константин   26  Ростов-на-Дону             ultra      3101   \n",
       "47        4  Константин   26  Ростов-на-Дону             ultra       725   \n",
       "48        4  Константин   26  Ростов-на-Дону             ultra      2619   \n",
       "49        5       Адель   28            Омск             ultra      3915   \n",
       "\n",
       "    duration       date  month                   range    duration_type  \\\n",
       "0         26 2021-01-01      1       длинная дистанция     выше средней   \n",
       "1         16 2021-01-18      1       средняя дистанция          средняя   \n",
       "2          7 2021-04-20      4      короткая дистанция  кратковременная   \n",
       "3         19 2021-08-11      8       средняя дистанция          средняя   \n",
       "4         27 2021-08-28      8       длинная дистанция     выше средней   \n",
       "5         17 2021-10-09     10       средняя дистанция          средняя   \n",
       "6         15 2021-10-19     10  выше средней дистанция          средняя   \n",
       "7         24 2021-11-06     11       средняя дистанция     выше средней   \n",
       "8         16 2021-11-14     11  выше средней дистанция          средняя   \n",
       "9         16 2021-11-22     11      короткая дистанция          средняя   \n",
       "10        18 2021-12-14     12       длинная дистанция          средняя   \n",
       "11        10 2021-12-22     12       средняя дистанция          средняя   \n",
       "12        25 2021-03-15      3  выше средней дистанция     выше средней   \n",
       "13        12 2021-03-18      3  выше средней дистанция          средняя   \n",
       "14        26 2021-03-23      3       длинная дистанция     выше средней   \n",
       "15        21 2021-04-08      4       средняя дистанция     выше средней   \n",
       "16        19 2021-04-13      4  выше средней дистанция          средняя   \n",
       "17        14 2021-06-20      6  выше средней дистанция          средняя   \n",
       "18        21 2021-07-02      7  выше средней дистанция     выше средней   \n",
       "19        27 2021-07-18      7       средняя дистанция     выше средней   \n",
       "20         7 2021-08-03      8      короткая дистанция  кратковременная   \n",
       "21        19 2021-10-27     10       средняя дистанция          средняя   \n",
       "22        12 2021-12-18     12  выше средней дистанция          средняя   \n",
       "23        13 2021-01-31      1  выше средней дистанция          средняя   \n",
       "24        17 2021-02-24      2       средняя дистанция          средняя   \n",
       "25        22 2021-02-26      2       средняя дистанция     выше средней   \n",
       "26        21 2021-04-12      4       средняя дистанция     выше средней   \n",
       "27        19 2021-05-07      5       средняя дистанция          средняя   \n",
       "28        25 2021-05-21      5       средняя дистанция     выше средней   \n",
       "29        19 2021-05-22      5  выше средней дистанция          средняя   \n",
       "30        20 2021-07-04      7       средняя дистанция     выше средней   \n",
       "31        21 2021-07-07      7       средняя дистанция     выше средней   \n",
       "32        26 2021-07-14      7       длинная дистанция     выше средней   \n",
       "33        23 2021-09-04      9       средняя дистанция     выше средней   \n",
       "34        13 2021-12-14     12       средняя дистанция          средняя   \n",
       "35        28 2021-02-10      2       средняя дистанция     выше средней   \n",
       "36        21 2021-02-16      2  выше средней дистанция     выше средней   \n",
       "37        23 2021-06-06      6  выше средней дистанция     выше средней   \n",
       "38        22 2021-06-27      6  выше средней дистанция     выше средней   \n",
       "39        17 2021-07-04      7  выше средней дистанция          средняя   \n",
       "40        16 2021-07-06      7       средняя дистанция          средняя   \n",
       "41        23 2021-07-17      7       длинная дистанция     выше средней   \n",
       "42        36 2021-08-14      8       длинная дистанция   долгая поездка   \n",
       "43        17 2021-10-08     10       средняя дистанция          средняя   \n",
       "44        22 2021-10-24     10  выше средней дистанция     выше средней   \n",
       "45        15 2021-10-27     10  выше средней дистанция          средняя   \n",
       "46        25 2021-10-30     10  выше средней дистанция     выше средней   \n",
       "47        12 2021-11-14     11      короткая дистанция          средняя   \n",
       "48        16 2021-11-25     11       средняя дистанция          средняя   \n",
       "49        13 2021-01-18      1  выше средней дистанция          средняя   \n",
       "\n",
       "    minute_price  start_ride_price  subscription_fee  \n",
       "0              6                 0               199  \n",
       "1              6                 0               199  \n",
       "2              6                 0               199  \n",
       "3              6                 0               199  \n",
       "4              6                 0               199  \n",
       "5              6                 0               199  \n",
       "6              6                 0               199  \n",
       "7              6                 0               199  \n",
       "8              6                 0               199  \n",
       "9              6                 0               199  \n",
       "10             6                 0               199  \n",
       "11             6                 0               199  \n",
       "12             6                 0               199  \n",
       "13             6                 0               199  \n",
       "14             6                 0               199  \n",
       "15             6                 0               199  \n",
       "16             6                 0               199  \n",
       "17             6                 0               199  \n",
       "18             6                 0               199  \n",
       "19             6                 0               199  \n",
       "20             6                 0               199  \n",
       "21             6                 0               199  \n",
       "22             6                 0               199  \n",
       "23             6                 0               199  \n",
       "24             6                 0               199  \n",
       "25             6                 0               199  \n",
       "26             6                 0               199  \n",
       "27             6                 0               199  \n",
       "28             6                 0               199  \n",
       "29             6                 0               199  \n",
       "30             6                 0               199  \n",
       "31             6                 0               199  \n",
       "32             6                 0               199  \n",
       "33             6                 0               199  \n",
       "34             6                 0               199  \n",
       "35             6                 0               199  \n",
       "36             6                 0               199  \n",
       "37             6                 0               199  \n",
       "38             6                 0               199  \n",
       "39             6                 0               199  \n",
       "40             6                 0               199  \n",
       "41             6                 0               199  \n",
       "42             6                 0               199  \n",
       "43             6                 0               199  \n",
       "44             6                 0               199  \n",
       "45             6                 0               199  \n",
       "46             6                 0               199  \n",
       "47             6                 0               199  \n",
       "48             6                 0               199  \n",
       "49             6                 0               199  "
      ]
     },
     "execution_count": 54,
     "metadata": {},
     "output_type": "execute_result"
    }
   ],
   "source": [
    "df.head(50)"
   ]
  },
  {
   "attachments": {},
   "cell_type": "markdown",
   "id": "c1287177",
   "metadata": {},
   "source": [
    "Посмотрим на полученные нами данные"
   ]
  },
  {
   "cell_type": "code",
   "execution_count": 55,
   "id": "64e9a1fe",
   "metadata": {},
   "outputs": [
    {
     "data": {
      "text/html": [
       "<div>\n",
       "<style scoped>\n",
       "    .dataframe tbody tr th:only-of-type {\n",
       "        vertical-align: middle;\n",
       "    }\n",
       "\n",
       "    .dataframe tbody tr th {\n",
       "        vertical-align: top;\n",
       "    }\n",
       "\n",
       "    .dataframe thead th {\n",
       "        text-align: right;\n",
       "    }\n",
       "</style>\n",
       "<table border=\"1\" class=\"dataframe\">\n",
       "  <thead>\n",
       "    <tr style=\"text-align: right;\">\n",
       "      <th></th>\n",
       "      <th>user_id</th>\n",
       "      <th>age</th>\n",
       "      <th>distance</th>\n",
       "      <th>duration</th>\n",
       "      <th>month</th>\n",
       "      <th>minute_price</th>\n",
       "      <th>start_ride_price</th>\n",
       "      <th>subscription_fee</th>\n",
       "    </tr>\n",
       "  </thead>\n",
       "  <tbody>\n",
       "    <tr>\n",
       "      <th>count</th>\n",
       "      <td>18068.000000</td>\n",
       "      <td>18068.000000</td>\n",
       "      <td>18068.000000</td>\n",
       "      <td>18068.000000</td>\n",
       "      <td>18068.000000</td>\n",
       "      <td>18068.000000</td>\n",
       "      <td>18068.000000</td>\n",
       "      <td>18068.000000</td>\n",
       "    </tr>\n",
       "    <tr>\n",
       "      <th>mean</th>\n",
       "      <td>842.869936</td>\n",
       "      <td>24.893071</td>\n",
       "      <td>3071.159841</td>\n",
       "      <td>18.303520</td>\n",
       "      <td>6.486772</td>\n",
       "      <td>7.280496</td>\n",
       "      <td>32.012398</td>\n",
       "      <td>71.590658</td>\n",
       "    </tr>\n",
       "    <tr>\n",
       "      <th>std</th>\n",
       "      <td>434.734317</td>\n",
       "      <td>4.582216</td>\n",
       "      <td>1116.831548</td>\n",
       "      <td>6.094928</td>\n",
       "      <td>3.437410</td>\n",
       "      <td>0.959882</td>\n",
       "      <td>23.997045</td>\n",
       "      <td>95.508238</td>\n",
       "    </tr>\n",
       "    <tr>\n",
       "      <th>min</th>\n",
       "      <td>1.000000</td>\n",
       "      <td>12.000000</td>\n",
       "      <td>1.000000</td>\n",
       "      <td>1.000000</td>\n",
       "      <td>1.000000</td>\n",
       "      <td>6.000000</td>\n",
       "      <td>0.000000</td>\n",
       "      <td>0.000000</td>\n",
       "    </tr>\n",
       "    <tr>\n",
       "      <th>25%</th>\n",
       "      <td>487.000000</td>\n",
       "      <td>22.000000</td>\n",
       "      <td>2543.750000</td>\n",
       "      <td>14.000000</td>\n",
       "      <td>4.000000</td>\n",
       "      <td>6.000000</td>\n",
       "      <td>0.000000</td>\n",
       "      <td>0.000000</td>\n",
       "    </tr>\n",
       "    <tr>\n",
       "      <th>50%</th>\n",
       "      <td>889.000000</td>\n",
       "      <td>25.000000</td>\n",
       "      <td>3134.000000</td>\n",
       "      <td>18.000000</td>\n",
       "      <td>6.000000</td>\n",
       "      <td>8.000000</td>\n",
       "      <td>50.000000</td>\n",
       "      <td>0.000000</td>\n",
       "    </tr>\n",
       "    <tr>\n",
       "      <th>75%</th>\n",
       "      <td>1213.250000</td>\n",
       "      <td>28.000000</td>\n",
       "      <td>3777.000000</td>\n",
       "      <td>22.000000</td>\n",
       "      <td>9.000000</td>\n",
       "      <td>8.000000</td>\n",
       "      <td>50.000000</td>\n",
       "      <td>199.000000</td>\n",
       "    </tr>\n",
       "    <tr>\n",
       "      <th>max</th>\n",
       "      <td>1534.000000</td>\n",
       "      <td>43.000000</td>\n",
       "      <td>7212.000000</td>\n",
       "      <td>41.000000</td>\n",
       "      <td>12.000000</td>\n",
       "      <td>8.000000</td>\n",
       "      <td>50.000000</td>\n",
       "      <td>199.000000</td>\n",
       "    </tr>\n",
       "  </tbody>\n",
       "</table>\n",
       "</div>"
      ],
      "text/plain": [
       "            user_id           age      distance      duration         month  \\\n",
       "count  18068.000000  18068.000000  18068.000000  18068.000000  18068.000000   \n",
       "mean     842.869936     24.893071   3071.159841     18.303520      6.486772   \n",
       "std      434.734317      4.582216   1116.831548      6.094928      3.437410   \n",
       "min        1.000000     12.000000      1.000000      1.000000      1.000000   \n",
       "25%      487.000000     22.000000   2543.750000     14.000000      4.000000   \n",
       "50%      889.000000     25.000000   3134.000000     18.000000      6.000000   \n",
       "75%     1213.250000     28.000000   3777.000000     22.000000      9.000000   \n",
       "max     1534.000000     43.000000   7212.000000     41.000000     12.000000   \n",
       "\n",
       "       minute_price  start_ride_price  subscription_fee  \n",
       "count  18068.000000      18068.000000      18068.000000  \n",
       "mean       7.280496         32.012398         71.590658  \n",
       "std        0.959882         23.997045         95.508238  \n",
       "min        6.000000          0.000000          0.000000  \n",
       "25%        6.000000          0.000000          0.000000  \n",
       "50%        8.000000         50.000000          0.000000  \n",
       "75%        8.000000         50.000000        199.000000  \n",
       "max        8.000000         50.000000        199.000000  "
      ]
     },
     "execution_count": 55,
     "metadata": {},
     "output_type": "execute_result"
    }
   ],
   "source": [
    "df = df.loc[df['duration'] > 0] #уберем нулевые значения из наших данных\n",
    "df = df.loc[df['distance'] > 0] #уберем нулевые значения из наших данных\n",
    "df.describe()"
   ]
  },
  {
   "cell_type": "code",
   "execution_count": 56,
   "id": "931f6f28",
   "metadata": {},
   "outputs": [
    {
     "name": "stdout",
     "output_type": "stream",
     "text": [
      "<class 'pandas.core.frame.DataFrame'>\n",
      "Int64Index: 18068 entries, 0 to 18067\n",
      "Data columns (total 14 columns):\n",
      " #   Column             Non-Null Count  Dtype         \n",
      "---  ------             --------------  -----         \n",
      " 0   user_id            18068 non-null  int64         \n",
      " 1   name               18068 non-null  object        \n",
      " 2   age                18068 non-null  int64         \n",
      " 3   city               18068 non-null  object        \n",
      " 4   subscription_type  18068 non-null  object        \n",
      " 5   distance           18068 non-null  int64         \n",
      " 6   duration           18068 non-null  int64         \n",
      " 7   date               18068 non-null  datetime64[ns]\n",
      " 8   month              18068 non-null  int64         \n",
      " 9   range              18068 non-null  object        \n",
      " 10  duration_type      18068 non-null  object        \n",
      " 11  minute_price       18068 non-null  int64         \n",
      " 12  start_ride_price   18068 non-null  int64         \n",
      " 13  subscription_fee   18068 non-null  int64         \n",
      "dtypes: datetime64[ns](1), int64(8), object(5)\n",
      "memory usage: 2.1+ MB\n"
     ]
    }
   ],
   "source": [
    "df.info()"
   ]
  },
  {
   "attachments": {},
   "cell_type": "markdown",
   "id": "5124ba8d",
   "metadata": {},
   "source": [
    "Объединение прошло успешно, двигаемся дальше. "
   ]
  },
  {
   "attachments": {},
   "cell_type": "markdown",
   "id": "2538e47b",
   "metadata": {},
   "source": [
    "### Создание новых датафреймов "
   ]
  },
  {
   "attachments": {},
   "cell_type": "markdown",
   "id": "39b87f28",
   "metadata": {},
   "source": [
    "#### Создание нового датафрейма с данными о пользователях без подписки"
   ]
  },
  {
   "cell_type": "code",
   "execution_count": 57,
   "id": "79179286",
   "metadata": {},
   "outputs": [
    {
     "data": {
      "text/html": [
       "<div>\n",
       "<style scoped>\n",
       "    .dataframe tbody tr th:only-of-type {\n",
       "        vertical-align: middle;\n",
       "    }\n",
       "\n",
       "    .dataframe tbody tr th {\n",
       "        vertical-align: top;\n",
       "    }\n",
       "\n",
       "    .dataframe thead th {\n",
       "        text-align: right;\n",
       "    }\n",
       "</style>\n",
       "<table border=\"1\" class=\"dataframe\">\n",
       "  <thead>\n",
       "    <tr style=\"text-align: right;\">\n",
       "      <th></th>\n",
       "      <th>user_id</th>\n",
       "      <th>name</th>\n",
       "      <th>age</th>\n",
       "      <th>city</th>\n",
       "      <th>subscription_type</th>\n",
       "      <th>distance</th>\n",
       "      <th>duration</th>\n",
       "      <th>date</th>\n",
       "      <th>month</th>\n",
       "      <th>range</th>\n",
       "      <th>duration_type</th>\n",
       "      <th>minute_price</th>\n",
       "      <th>start_ride_price</th>\n",
       "      <th>subscription_fee</th>\n",
       "    </tr>\n",
       "  </thead>\n",
       "  <tbody>\n",
       "    <tr>\n",
       "      <th>6500</th>\n",
       "      <td>700</td>\n",
       "      <td>Айдар</td>\n",
       "      <td>22</td>\n",
       "      <td>Омск</td>\n",
       "      <td>free</td>\n",
       "      <td>2516</td>\n",
       "      <td>15</td>\n",
       "      <td>2021-01-02</td>\n",
       "      <td>1</td>\n",
       "      <td>средняя дистанция</td>\n",
       "      <td>средняя</td>\n",
       "      <td>8</td>\n",
       "      <td>50</td>\n",
       "      <td>0</td>\n",
       "    </tr>\n",
       "    <tr>\n",
       "      <th>6501</th>\n",
       "      <td>700</td>\n",
       "      <td>Айдар</td>\n",
       "      <td>22</td>\n",
       "      <td>Омск</td>\n",
       "      <td>free</td>\n",
       "      <td>847</td>\n",
       "      <td>17</td>\n",
       "      <td>2021-02-01</td>\n",
       "      <td>2</td>\n",
       "      <td>короткая дистанция</td>\n",
       "      <td>средняя</td>\n",
       "      <td>8</td>\n",
       "      <td>50</td>\n",
       "      <td>0</td>\n",
       "    </tr>\n",
       "    <tr>\n",
       "      <th>6502</th>\n",
       "      <td>700</td>\n",
       "      <td>Айдар</td>\n",
       "      <td>22</td>\n",
       "      <td>Омск</td>\n",
       "      <td>free</td>\n",
       "      <td>4005</td>\n",
       "      <td>21</td>\n",
       "      <td>2021-02-04</td>\n",
       "      <td>2</td>\n",
       "      <td>длинная дистанция</td>\n",
       "      <td>выше средней</td>\n",
       "      <td>8</td>\n",
       "      <td>50</td>\n",
       "      <td>0</td>\n",
       "    </tr>\n",
       "    <tr>\n",
       "      <th>6503</th>\n",
       "      <td>700</td>\n",
       "      <td>Айдар</td>\n",
       "      <td>22</td>\n",
       "      <td>Омск</td>\n",
       "      <td>free</td>\n",
       "      <td>1206</td>\n",
       "      <td>10</td>\n",
       "      <td>2021-02-10</td>\n",
       "      <td>2</td>\n",
       "      <td>средняя дистанция</td>\n",
       "      <td>средняя</td>\n",
       "      <td>8</td>\n",
       "      <td>50</td>\n",
       "      <td>0</td>\n",
       "    </tr>\n",
       "    <tr>\n",
       "      <th>6504</th>\n",
       "      <td>700</td>\n",
       "      <td>Айдар</td>\n",
       "      <td>22</td>\n",
       "      <td>Омск</td>\n",
       "      <td>free</td>\n",
       "      <td>3048</td>\n",
       "      <td>18</td>\n",
       "      <td>2021-02-14</td>\n",
       "      <td>2</td>\n",
       "      <td>выше средней дистанция</td>\n",
       "      <td>средняя</td>\n",
       "      <td>8</td>\n",
       "      <td>50</td>\n",
       "      <td>0</td>\n",
       "    </tr>\n",
       "    <tr>\n",
       "      <th>...</th>\n",
       "      <td>...</td>\n",
       "      <td>...</td>\n",
       "      <td>...</td>\n",
       "      <td>...</td>\n",
       "      <td>...</td>\n",
       "      <td>...</td>\n",
       "      <td>...</td>\n",
       "      <td>...</td>\n",
       "      <td>...</td>\n",
       "      <td>...</td>\n",
       "      <td>...</td>\n",
       "      <td>...</td>\n",
       "      <td>...</td>\n",
       "      <td>...</td>\n",
       "    </tr>\n",
       "    <tr>\n",
       "      <th>18063</th>\n",
       "      <td>1534</td>\n",
       "      <td>Альберт</td>\n",
       "      <td>25</td>\n",
       "      <td>Краснодар</td>\n",
       "      <td>free</td>\n",
       "      <td>3782</td>\n",
       "      <td>20</td>\n",
       "      <td>2021-11-04</td>\n",
       "      <td>11</td>\n",
       "      <td>выше средней дистанция</td>\n",
       "      <td>выше средней</td>\n",
       "      <td>8</td>\n",
       "      <td>50</td>\n",
       "      <td>0</td>\n",
       "    </tr>\n",
       "    <tr>\n",
       "      <th>18064</th>\n",
       "      <td>1534</td>\n",
       "      <td>Альберт</td>\n",
       "      <td>25</td>\n",
       "      <td>Краснодар</td>\n",
       "      <td>free</td>\n",
       "      <td>2841</td>\n",
       "      <td>22</td>\n",
       "      <td>2021-11-16</td>\n",
       "      <td>11</td>\n",
       "      <td>средняя дистанция</td>\n",
       "      <td>выше средней</td>\n",
       "      <td>8</td>\n",
       "      <td>50</td>\n",
       "      <td>0</td>\n",
       "    </tr>\n",
       "    <tr>\n",
       "      <th>18065</th>\n",
       "      <td>1534</td>\n",
       "      <td>Альберт</td>\n",
       "      <td>25</td>\n",
       "      <td>Краснодар</td>\n",
       "      <td>free</td>\n",
       "      <td>3827</td>\n",
       "      <td>19</td>\n",
       "      <td>2021-11-18</td>\n",
       "      <td>11</td>\n",
       "      <td>выше средней дистанция</td>\n",
       "      <td>средняя</td>\n",
       "      <td>8</td>\n",
       "      <td>50</td>\n",
       "      <td>0</td>\n",
       "    </tr>\n",
       "    <tr>\n",
       "      <th>18066</th>\n",
       "      <td>1534</td>\n",
       "      <td>Альберт</td>\n",
       "      <td>25</td>\n",
       "      <td>Краснодар</td>\n",
       "      <td>free</td>\n",
       "      <td>2903</td>\n",
       "      <td>17</td>\n",
       "      <td>2021-11-27</td>\n",
       "      <td>11</td>\n",
       "      <td>средняя дистанция</td>\n",
       "      <td>средняя</td>\n",
       "      <td>8</td>\n",
       "      <td>50</td>\n",
       "      <td>0</td>\n",
       "    </tr>\n",
       "    <tr>\n",
       "      <th>18067</th>\n",
       "      <td>1534</td>\n",
       "      <td>Альберт</td>\n",
       "      <td>25</td>\n",
       "      <td>Краснодар</td>\n",
       "      <td>free</td>\n",
       "      <td>2372</td>\n",
       "      <td>16</td>\n",
       "      <td>2021-12-29</td>\n",
       "      <td>12</td>\n",
       "      <td>средняя дистанция</td>\n",
       "      <td>средняя</td>\n",
       "      <td>8</td>\n",
       "      <td>50</td>\n",
       "      <td>0</td>\n",
       "    </tr>\n",
       "  </tbody>\n",
       "</table>\n",
       "<p>11568 rows × 14 columns</p>\n",
       "</div>"
      ],
      "text/plain": [
       "       user_id     name  age       city subscription_type  distance  duration  \\\n",
       "6500       700    Айдар   22       Омск              free      2516        15   \n",
       "6501       700    Айдар   22       Омск              free       847        17   \n",
       "6502       700    Айдар   22       Омск              free      4005        21   \n",
       "6503       700    Айдар   22       Омск              free      1206        10   \n",
       "6504       700    Айдар   22       Омск              free      3048        18   \n",
       "...        ...      ...  ...        ...               ...       ...       ...   \n",
       "18063     1534  Альберт   25  Краснодар              free      3782        20   \n",
       "18064     1534  Альберт   25  Краснодар              free      2841        22   \n",
       "18065     1534  Альберт   25  Краснодар              free      3827        19   \n",
       "18066     1534  Альберт   25  Краснодар              free      2903        17   \n",
       "18067     1534  Альберт   25  Краснодар              free      2372        16   \n",
       "\n",
       "            date  month                   range duration_type  minute_price  \\\n",
       "6500  2021-01-02      1       средняя дистанция       средняя             8   \n",
       "6501  2021-02-01      2      короткая дистанция       средняя             8   \n",
       "6502  2021-02-04      2       длинная дистанция  выше средней             8   \n",
       "6503  2021-02-10      2       средняя дистанция       средняя             8   \n",
       "6504  2021-02-14      2  выше средней дистанция       средняя             8   \n",
       "...          ...    ...                     ...           ...           ...   \n",
       "18063 2021-11-04     11  выше средней дистанция  выше средней             8   \n",
       "18064 2021-11-16     11       средняя дистанция  выше средней             8   \n",
       "18065 2021-11-18     11  выше средней дистанция       средняя             8   \n",
       "18066 2021-11-27     11       средняя дистанция       средняя             8   \n",
       "18067 2021-12-29     12       средняя дистанция       средняя             8   \n",
       "\n",
       "       start_ride_price  subscription_fee  \n",
       "6500                 50                 0  \n",
       "6501                 50                 0  \n",
       "6502                 50                 0  \n",
       "6503                 50                 0  \n",
       "6504                 50                 0  \n",
       "...                 ...               ...  \n",
       "18063                50                 0  \n",
       "18064                50                 0  \n",
       "18065                50                 0  \n",
       "18066                50                 0  \n",
       "18067                50                 0  \n",
       "\n",
       "[11568 rows x 14 columns]"
      ]
     },
     "execution_count": 57,
     "metadata": {},
     "output_type": "execute_result"
    }
   ],
   "source": [
    "df_free = df.loc[df['subscription_type'] == 'free']\n",
    "df_free"
   ]
  },
  {
   "attachments": {},
   "cell_type": "markdown",
   "id": "c0975b24",
   "metadata": {},
   "source": [
    "Мы создали новый датафрейм, который включает в себя только пользователей без подписки"
   ]
  },
  {
   "attachments": {},
   "cell_type": "markdown",
   "id": "ac080304",
   "metadata": {},
   "source": [
    "#### Создание нового датафрейма с данными о пользователях с подпиской"
   ]
  },
  {
   "cell_type": "code",
   "execution_count": 58,
   "id": "3f2da788",
   "metadata": {},
   "outputs": [
    {
     "data": {
      "text/html": [
       "<div>\n",
       "<style scoped>\n",
       "    .dataframe tbody tr th:only-of-type {\n",
       "        vertical-align: middle;\n",
       "    }\n",
       "\n",
       "    .dataframe tbody tr th {\n",
       "        vertical-align: top;\n",
       "    }\n",
       "\n",
       "    .dataframe thead th {\n",
       "        text-align: right;\n",
       "    }\n",
       "</style>\n",
       "<table border=\"1\" class=\"dataframe\">\n",
       "  <thead>\n",
       "    <tr style=\"text-align: right;\">\n",
       "      <th></th>\n",
       "      <th>user_id</th>\n",
       "      <th>name</th>\n",
       "      <th>age</th>\n",
       "      <th>city</th>\n",
       "      <th>subscription_type</th>\n",
       "      <th>distance</th>\n",
       "      <th>duration</th>\n",
       "      <th>date</th>\n",
       "      <th>month</th>\n",
       "      <th>range</th>\n",
       "      <th>duration_type</th>\n",
       "      <th>minute_price</th>\n",
       "      <th>start_ride_price</th>\n",
       "      <th>subscription_fee</th>\n",
       "    </tr>\n",
       "  </thead>\n",
       "  <tbody>\n",
       "    <tr>\n",
       "      <th>0</th>\n",
       "      <td>1</td>\n",
       "      <td>Кира</td>\n",
       "      <td>22</td>\n",
       "      <td>Тюмень</td>\n",
       "      <td>ultra</td>\n",
       "      <td>4410</td>\n",
       "      <td>26</td>\n",
       "      <td>2021-01-01</td>\n",
       "      <td>1</td>\n",
       "      <td>длинная дистанция</td>\n",
       "      <td>выше средней</td>\n",
       "      <td>6</td>\n",
       "      <td>0</td>\n",
       "      <td>199</td>\n",
       "    </tr>\n",
       "    <tr>\n",
       "      <th>1</th>\n",
       "      <td>1</td>\n",
       "      <td>Кира</td>\n",
       "      <td>22</td>\n",
       "      <td>Тюмень</td>\n",
       "      <td>ultra</td>\n",
       "      <td>2618</td>\n",
       "      <td>16</td>\n",
       "      <td>2021-01-18</td>\n",
       "      <td>1</td>\n",
       "      <td>средняя дистанция</td>\n",
       "      <td>средняя</td>\n",
       "      <td>6</td>\n",
       "      <td>0</td>\n",
       "      <td>199</td>\n",
       "    </tr>\n",
       "    <tr>\n",
       "      <th>2</th>\n",
       "      <td>1</td>\n",
       "      <td>Кира</td>\n",
       "      <td>22</td>\n",
       "      <td>Тюмень</td>\n",
       "      <td>ultra</td>\n",
       "      <td>755</td>\n",
       "      <td>7</td>\n",
       "      <td>2021-04-20</td>\n",
       "      <td>4</td>\n",
       "      <td>короткая дистанция</td>\n",
       "      <td>кратковременная</td>\n",
       "      <td>6</td>\n",
       "      <td>0</td>\n",
       "      <td>199</td>\n",
       "    </tr>\n",
       "    <tr>\n",
       "      <th>3</th>\n",
       "      <td>1</td>\n",
       "      <td>Кира</td>\n",
       "      <td>22</td>\n",
       "      <td>Тюмень</td>\n",
       "      <td>ultra</td>\n",
       "      <td>2695</td>\n",
       "      <td>19</td>\n",
       "      <td>2021-08-11</td>\n",
       "      <td>8</td>\n",
       "      <td>средняя дистанция</td>\n",
       "      <td>средняя</td>\n",
       "      <td>6</td>\n",
       "      <td>0</td>\n",
       "      <td>199</td>\n",
       "    </tr>\n",
       "    <tr>\n",
       "      <th>4</th>\n",
       "      <td>1</td>\n",
       "      <td>Кира</td>\n",
       "      <td>22</td>\n",
       "      <td>Тюмень</td>\n",
       "      <td>ultra</td>\n",
       "      <td>4029</td>\n",
       "      <td>27</td>\n",
       "      <td>2021-08-28</td>\n",
       "      <td>8</td>\n",
       "      <td>длинная дистанция</td>\n",
       "      <td>выше средней</td>\n",
       "      <td>6</td>\n",
       "      <td>0</td>\n",
       "      <td>199</td>\n",
       "    </tr>\n",
       "    <tr>\n",
       "      <th>...</th>\n",
       "      <td>...</td>\n",
       "      <td>...</td>\n",
       "      <td>...</td>\n",
       "      <td>...</td>\n",
       "      <td>...</td>\n",
       "      <td>...</td>\n",
       "      <td>...</td>\n",
       "      <td>...</td>\n",
       "      <td>...</td>\n",
       "      <td>...</td>\n",
       "      <td>...</td>\n",
       "      <td>...</td>\n",
       "      <td>...</td>\n",
       "      <td>...</td>\n",
       "    </tr>\n",
       "    <tr>\n",
       "      <th>6495</th>\n",
       "      <td>699</td>\n",
       "      <td>Оксана</td>\n",
       "      <td>22</td>\n",
       "      <td>Москва</td>\n",
       "      <td>ultra</td>\n",
       "      <td>3974</td>\n",
       "      <td>25</td>\n",
       "      <td>2021-08-29</td>\n",
       "      <td>8</td>\n",
       "      <td>выше средней дистанция</td>\n",
       "      <td>выше средней</td>\n",
       "      <td>6</td>\n",
       "      <td>0</td>\n",
       "      <td>199</td>\n",
       "    </tr>\n",
       "    <tr>\n",
       "      <th>6496</th>\n",
       "      <td>699</td>\n",
       "      <td>Оксана</td>\n",
       "      <td>22</td>\n",
       "      <td>Москва</td>\n",
       "      <td>ultra</td>\n",
       "      <td>3289</td>\n",
       "      <td>16</td>\n",
       "      <td>2021-09-12</td>\n",
       "      <td>9</td>\n",
       "      <td>выше средней дистанция</td>\n",
       "      <td>средняя</td>\n",
       "      <td>6</td>\n",
       "      <td>0</td>\n",
       "      <td>199</td>\n",
       "    </tr>\n",
       "    <tr>\n",
       "      <th>6497</th>\n",
       "      <td>699</td>\n",
       "      <td>Оксана</td>\n",
       "      <td>22</td>\n",
       "      <td>Москва</td>\n",
       "      <td>ultra</td>\n",
       "      <td>3077</td>\n",
       "      <td>15</td>\n",
       "      <td>2021-09-26</td>\n",
       "      <td>9</td>\n",
       "      <td>выше средней дистанция</td>\n",
       "      <td>средняя</td>\n",
       "      <td>6</td>\n",
       "      <td>0</td>\n",
       "      <td>199</td>\n",
       "    </tr>\n",
       "    <tr>\n",
       "      <th>6498</th>\n",
       "      <td>699</td>\n",
       "      <td>Оксана</td>\n",
       "      <td>22</td>\n",
       "      <td>Москва</td>\n",
       "      <td>ultra</td>\n",
       "      <td>4708</td>\n",
       "      <td>16</td>\n",
       "      <td>2021-10-17</td>\n",
       "      <td>10</td>\n",
       "      <td>длинная дистанция</td>\n",
       "      <td>средняя</td>\n",
       "      <td>6</td>\n",
       "      <td>0</td>\n",
       "      <td>199</td>\n",
       "    </tr>\n",
       "    <tr>\n",
       "      <th>6499</th>\n",
       "      <td>699</td>\n",
       "      <td>Оксана</td>\n",
       "      <td>22</td>\n",
       "      <td>Москва</td>\n",
       "      <td>ultra</td>\n",
       "      <td>3203</td>\n",
       "      <td>26</td>\n",
       "      <td>2021-12-03</td>\n",
       "      <td>12</td>\n",
       "      <td>выше средней дистанция</td>\n",
       "      <td>выше средней</td>\n",
       "      <td>6</td>\n",
       "      <td>0</td>\n",
       "      <td>199</td>\n",
       "    </tr>\n",
       "  </tbody>\n",
       "</table>\n",
       "<p>6500 rows × 14 columns</p>\n",
       "</div>"
      ],
      "text/plain": [
       "      user_id    name  age    city subscription_type  distance  duration  \\\n",
       "0           1    Кира   22  Тюмень             ultra      4410        26   \n",
       "1           1    Кира   22  Тюмень             ultra      2618        16   \n",
       "2           1    Кира   22  Тюмень             ultra       755         7   \n",
       "3           1    Кира   22  Тюмень             ultra      2695        19   \n",
       "4           1    Кира   22  Тюмень             ultra      4029        27   \n",
       "...       ...     ...  ...     ...               ...       ...       ...   \n",
       "6495      699  Оксана   22  Москва             ultra      3974        25   \n",
       "6496      699  Оксана   22  Москва             ultra      3289        16   \n",
       "6497      699  Оксана   22  Москва             ultra      3077        15   \n",
       "6498      699  Оксана   22  Москва             ultra      4708        16   \n",
       "6499      699  Оксана   22  Москва             ultra      3203        26   \n",
       "\n",
       "           date  month                   range    duration_type  minute_price  \\\n",
       "0    2021-01-01      1       длинная дистанция     выше средней             6   \n",
       "1    2021-01-18      1       средняя дистанция          средняя             6   \n",
       "2    2021-04-20      4      короткая дистанция  кратковременная             6   \n",
       "3    2021-08-11      8       средняя дистанция          средняя             6   \n",
       "4    2021-08-28      8       длинная дистанция     выше средней             6   \n",
       "...         ...    ...                     ...              ...           ...   \n",
       "6495 2021-08-29      8  выше средней дистанция     выше средней             6   \n",
       "6496 2021-09-12      9  выше средней дистанция          средняя             6   \n",
       "6497 2021-09-26      9  выше средней дистанция          средняя             6   \n",
       "6498 2021-10-17     10       длинная дистанция          средняя             6   \n",
       "6499 2021-12-03     12  выше средней дистанция     выше средней             6   \n",
       "\n",
       "      start_ride_price  subscription_fee  \n",
       "0                    0               199  \n",
       "1                    0               199  \n",
       "2                    0               199  \n",
       "3                    0               199  \n",
       "4                    0               199  \n",
       "...                ...               ...  \n",
       "6495                 0               199  \n",
       "6496                 0               199  \n",
       "6497                 0               199  \n",
       "6498                 0               199  \n",
       "6499                 0               199  \n",
       "\n",
       "[6500 rows x 14 columns]"
      ]
     },
     "execution_count": 58,
     "metadata": {},
     "output_type": "execute_result"
    }
   ],
   "source": [
    "df_ultra = df.loc[df['subscription_type'] == 'ultra']\n",
    "df_ultra"
   ]
  },
  {
   "attachments": {},
   "cell_type": "markdown",
   "id": "378ed6ca",
   "metadata": {},
   "source": [
    "Мы создали новый датафрейм, который включает в себя только пользователей c подпиской"
   ]
  },
  {
   "attachments": {},
   "cell_type": "markdown",
   "id": "0a390d99",
   "metadata": {},
   "source": [
    "#### Визуализации информацию о расстоянии и времени поездок для пользователей обеих категорий"
   ]
  },
  {
   "attachments": {},
   "cell_type": "markdown",
   "id": "eef02377",
   "metadata": {},
   "source": [
    "##### Визуализация информации о расстоянии и времени поездок для пользователей обеих категорий для пользователей без подписки"
   ]
  },
  {
   "attachments": {},
   "cell_type": "markdown",
   "id": "3d1d4a51",
   "metadata": {},
   "source": [
    "Визуализация информации о расстоянии поездок"
   ]
  },
  {
   "cell_type": "code",
   "execution_count": 59,
   "id": "e5e8ad72",
   "metadata": {},
   "outputs": [
    {
     "data": {
      "image/png": "[encoded data removed]",
      "text/plain": [
       "<Figure size 1080x720 with 1 Axes>"
      ]
     },
     "metadata": {},
     "output_type": "display_data"
    }
   ],
   "source": [
    "df_free.groupby(['range']).sum().plot(kind='pie', y='user_id', autopct='%.1f', title='Cоотношения растояния %', figsize=(15,10))\n",
    "plt.show()"
   ]
  },
  {
   "attachments": {},
   "cell_type": "markdown",
   "id": "b945a074",
   "metadata": {},
   "source": [
    "Большинство пользователей предпочитают использовать самокаты на среднюю (37.1%) или выше средней (31.4%) дистанцию, затем идут пользователи, предпочитающие брать самокаты на длинные дистанции (21.8%) и самой малочисленной категорией выступают пользователи на короткую дистанцию (9.7%)"
   ]
  },
  {
   "attachments": {},
   "cell_type": "markdown",
   "id": "db8a38fd",
   "metadata": {},
   "source": [
    "Визуализация информации о времени поздок "
   ]
  },
  {
   "cell_type": "code",
   "execution_count": 60,
   "id": "d6a09601",
   "metadata": {},
   "outputs": [
    {
     "data": {
      "image/png": "[encoded data removed]",
      "text/plain": [
       "<Figure size 1080x720 with 1 Axes>"
      ]
     },
     "metadata": {},
     "output_type": "display_data"
    }
   ],
   "source": [
    "df_free.groupby(['duration_type']).sum().plot(kind='pie', y='user_id', autopct='%.1f', title='Cоотношения времени %', figsize=(15,10))\n",
    "plt.show()"
   ]
  },
  {
   "attachments": {},
   "cell_type": "markdown",
   "id": "5a6698cd",
   "metadata": {},
   "source": [
    "Больше половины пользователей (54.9%) предпочитает брать самокаты от 10 до 20 минут. Затем идут пользователи, которые берут самокаты на выше средней дистанции 20-30 минут - 31.1%. Пользователей предпочитающих брать на самокаты на кратковременные или длинные поездки очень мало 11.1% и 2.9% соответственно."
   ]
  },
  {
   "attachments": {},
   "cell_type": "markdown",
   "id": "f05c3910",
   "metadata": {},
   "source": [
    "##### Визуализация информации о расстоянии и времени поездок для пользователей обеих категорий для пользователей с подпиской"
   ]
  },
  {
   "attachments": {},
   "cell_type": "markdown",
   "id": "7ad1b5f8",
   "metadata": {},
   "source": [
    "Визуализация информации о расстоянии поездок "
   ]
  },
  {
   "cell_type": "code",
   "execution_count": 61,
   "id": "65499685",
   "metadata": {},
   "outputs": [
    {
     "data": {
      "image/png": "[encoded data removed]",
      "text/plain": [
       "<Figure size 1080x720 with 1 Axes>"
      ]
     },
     "metadata": {},
     "output_type": "display_data"
    }
   ],
   "source": [
    "df_ultra.groupby(['range']).sum().plot(kind='pie', y='user_id', autopct='%.1f', title='Cоотношения растояния %', figsize=(15,10))\n",
    "plt.show()"
   ]
  },
  {
   "attachments": {},
   "cell_type": "markdown",
   "id": "7511036b",
   "metadata": {},
   "source": [
    "Большинство пользователей предпочитают использовать самокаты на выше средней (47.3%) или среднюю (35.0%) дистанцию, затем идут пользователи, предпочитающие брать самокаты на длинные дистанции (13.5%) и самой малочисленной категорией выступают пользователи на короткую дистанцию (4.0%)"
   ]
  },
  {
   "attachments": {},
   "cell_type": "markdown",
   "id": "7e589540",
   "metadata": {},
   "source": [
    "Визуализация информации о времени поздок "
   ]
  },
  {
   "cell_type": "code",
   "execution_count": 62,
   "id": "76c1116e",
   "metadata": {},
   "outputs": [
    {
     "data": {
      "image/png": "[encoded data removed]",
      "text/plain": [
       "<Figure size 1080x720 with 1 Axes>"
      ]
     },
     "metadata": {},
     "output_type": "display_data"
    }
   ],
   "source": [
    "df_ultra.groupby(['duration_type']).sum().plot(kind='pie', y='user_id', autopct='%.1f', title='Cоотношения времени %', figsize=(15,10))\n",
    "plt.show()"
   ]
  },
  {
   "attachments": {},
   "cell_type": "markdown",
   "id": "3aba99e1",
   "metadata": {},
   "source": [
    "Больше половины пользователей (57.6%) предпочитает брать самокаты от 10 до 20 минут. Затем идут пользователи, которые берут самокаты на выше средней дистанции 20-30 минут - 34.8%. Пользователей предпочитающих брать на самокаты на кратковременные или длинные поездки очень мало 4.4% и 3.2% соответственно."
   ]
  },
  {
   "attachments": {},
   "cell_type": "markdown",
   "id": "77ef2218",
   "metadata": {},
   "source": [
    "**Выводы:** в настоящем параграфе были достигнуты следующие цели: \n",
    "1. Создан новый датафрейм - **`df`**, который объединяет три других `df_users`, `df_rides`, `df_sub`\n",
    "2. Из нового датафрейма были выделены два новых:\n",
    "- **`df_free`** - для пользователей без подписки;\n",
    "- **`df_ultra`** - для пользователей с подпиской. \n",
    "3. Визуализирована информация о расстоянии и времени поездок для пользователей обеих категорий, которая показала: \n",
    "- пользователи без подписки чаще всего используют самокаты среднюю дистанцию 1-3 км (37.1%), в то время, как пользователи с подписками чаще всего используют самокаты на выше средней дистации 3-4 км (47.5%);\n",
    "- более половины пользователей без подписок (54.9%) и с подписками(57.6%) предпочитают брать самокаты от 10 до 20 минут."
   ]
  },
  {
   "attachments": {},
   "cell_type": "markdown",
   "id": "402d620f",
   "metadata": {},
   "source": [
    "## Подсчёт выручки"
   ]
  },
  {
   "attachments": {},
   "cell_type": "markdown",
   "id": "0861e78d",
   "metadata": {},
   "source": [
    "Найдем суммарное расстояние, количество поeздок и суммарное время для каждого пользователя за каждый месяц"
   ]
  },
  {
   "cell_type": "code",
   "execution_count": 63,
   "id": "1c4c57e7",
   "metadata": {},
   "outputs": [],
   "source": [
    "total_df = pd.pivot_table(df,\n",
    "                           index=['month', 'user_id'],\n",
    "                           values = ['distance', 'duration', 'name', 'subscription_type'],\n",
    "                           aggfunc = {'distance': sum, \n",
    "                                      'duration' : sum, \n",
    "                                      'name' : len, \n",
    "                                      'subscription_type' : min})"
   ]
  },
  {
   "cell_type": "code",
   "execution_count": 64,
   "id": "ba618ef3",
   "metadata": {},
   "outputs": [],
   "source": [
    "total_df.rename(columns = {'name' : 'count_trips'}, inplace = True)"
   ]
  },
  {
   "cell_type": "code",
   "execution_count": 65,
   "id": "65409365",
   "metadata": {},
   "outputs": [
    {
     "data": {
      "text/html": [
       "<div>\n",
       "<style scoped>\n",
       "    .dataframe tbody tr th:only-of-type {\n",
       "        vertical-align: middle;\n",
       "    }\n",
       "\n",
       "    .dataframe tbody tr th {\n",
       "        vertical-align: top;\n",
       "    }\n",
       "\n",
       "    .dataframe thead th {\n",
       "        text-align: right;\n",
       "    }\n",
       "</style>\n",
       "<table border=\"1\" class=\"dataframe\">\n",
       "  <thead>\n",
       "    <tr style=\"text-align: right;\">\n",
       "      <th></th>\n",
       "      <th></th>\n",
       "      <th>distance</th>\n",
       "      <th>duration</th>\n",
       "      <th>count_trips</th>\n",
       "      <th>subscription_type</th>\n",
       "    </tr>\n",
       "    <tr>\n",
       "      <th>month</th>\n",
       "      <th>user_id</th>\n",
       "      <th></th>\n",
       "      <th></th>\n",
       "      <th></th>\n",
       "      <th></th>\n",
       "    </tr>\n",
       "  </thead>\n",
       "  <tbody>\n",
       "    <tr>\n",
       "      <th rowspan=\"5\" valign=\"top\">1</th>\n",
       "      <th>1</th>\n",
       "      <td>7028</td>\n",
       "      <td>42</td>\n",
       "      <td>2</td>\n",
       "      <td>ultra</td>\n",
       "    </tr>\n",
       "    <tr>\n",
       "      <th>1061</th>\n",
       "      <td>12638</td>\n",
       "      <td>43</td>\n",
       "      <td>3</td>\n",
       "      <td>free</td>\n",
       "    </tr>\n",
       "    <tr>\n",
       "      <th>1063</th>\n",
       "      <td>3277</td>\n",
       "      <td>10</td>\n",
       "      <td>1</td>\n",
       "      <td>free</td>\n",
       "    </tr>\n",
       "    <tr>\n",
       "      <th>1064</th>\n",
       "      <td>5298</td>\n",
       "      <td>15</td>\n",
       "      <td>1</td>\n",
       "      <td>free</td>\n",
       "    </tr>\n",
       "    <tr>\n",
       "      <th>1065</th>\n",
       "      <td>14549</td>\n",
       "      <td>99</td>\n",
       "      <td>4</td>\n",
       "      <td>free</td>\n",
       "    </tr>\n",
       "  </tbody>\n",
       "</table>\n",
       "</div>"
      ],
      "text/plain": [
       "               distance  duration  count_trips subscription_type\n",
       "month user_id                                                   \n",
       "1     1            7028        42            2             ultra\n",
       "      1061        12638        43            3              free\n",
       "      1063         3277        10            1              free\n",
       "      1064         5298        15            1              free\n",
       "      1065        14549        99            4              free"
      ]
     },
     "execution_count": 65,
     "metadata": {},
     "output_type": "execute_result"
    }
   ],
   "source": [
    "total_df.sort_values(by='month').head(5)"
   ]
  },
  {
   "attachments": {},
   "cell_type": "markdown",
   "id": "5c0e5356",
   "metadata": {},
   "source": [
    "Добавим столбец с помесячной выручкой "
   ]
  },
  {
   "cell_type": "code",
   "execution_count": 66,
   "id": "6d9528a0",
   "metadata": {},
   "outputs": [],
   "source": [
    "def revenue(row):\n",
    "    if row['subscription_type'] == 'ultra':\n",
    "        return 6 * row['duration'] + 199\n",
    "    elif row['subscription_type'] == 'free':\n",
    "        return 8 * row['duration'] + 50 * row['count_trips']\n",
    "    else:\n",
    "        return 'Not subscription'"
   ]
  },
  {
   "cell_type": "code",
   "execution_count": 67,
   "id": "1a05f884",
   "metadata": {},
   "outputs": [],
   "source": [
    "total_df['month_revenue'] = total_df.apply(revenue, axis=1)"
   ]
  },
  {
   "cell_type": "code",
   "execution_count": 68,
   "id": "5e3e9fd9",
   "metadata": {},
   "outputs": [
    {
     "data": {
      "text/html": [
       "<div>\n",
       "<style scoped>\n",
       "    .dataframe tbody tr th:only-of-type {\n",
       "        vertical-align: middle;\n",
       "    }\n",
       "\n",
       "    .dataframe tbody tr th {\n",
       "        vertical-align: top;\n",
       "    }\n",
       "\n",
       "    .dataframe thead th {\n",
       "        text-align: right;\n",
       "    }\n",
       "</style>\n",
       "<table border=\"1\" class=\"dataframe\">\n",
       "  <thead>\n",
       "    <tr style=\"text-align: right;\">\n",
       "      <th></th>\n",
       "      <th></th>\n",
       "      <th>distance</th>\n",
       "      <th>duration</th>\n",
       "      <th>count_trips</th>\n",
       "      <th>subscription_type</th>\n",
       "      <th>month_revenue</th>\n",
       "    </tr>\n",
       "    <tr>\n",
       "      <th>month</th>\n",
       "      <th>user_id</th>\n",
       "      <th></th>\n",
       "      <th></th>\n",
       "      <th></th>\n",
       "      <th></th>\n",
       "      <th></th>\n",
       "    </tr>\n",
       "  </thead>\n",
       "  <tbody>\n",
       "    <tr>\n",
       "      <th>1</th>\n",
       "      <th>5</th>\n",
       "      <td>3915</td>\n",
       "      <td>13</td>\n",
       "      <td>1</td>\n",
       "      <td>ultra</td>\n",
       "      <td>277</td>\n",
       "    </tr>\n",
       "    <tr>\n",
       "      <th>2</th>\n",
       "      <th>5</th>\n",
       "      <td>2562</td>\n",
       "      <td>12</td>\n",
       "      <td>1</td>\n",
       "      <td>ultra</td>\n",
       "      <td>271</td>\n",
       "    </tr>\n",
       "    <tr>\n",
       "      <th>3</th>\n",
       "      <th>5</th>\n",
       "      <td>10635</td>\n",
       "      <td>57</td>\n",
       "      <td>3</td>\n",
       "      <td>ultra</td>\n",
       "      <td>541</td>\n",
       "    </tr>\n",
       "    <tr>\n",
       "      <th>4</th>\n",
       "      <th>5</th>\n",
       "      <td>3374</td>\n",
       "      <td>15</td>\n",
       "      <td>1</td>\n",
       "      <td>ultra</td>\n",
       "      <td>289</td>\n",
       "    </tr>\n",
       "    <tr>\n",
       "      <th>5</th>\n",
       "      <th>5</th>\n",
       "      <td>5825</td>\n",
       "      <td>33</td>\n",
       "      <td>2</td>\n",
       "      <td>ultra</td>\n",
       "      <td>397</td>\n",
       "    </tr>\n",
       "    <tr>\n",
       "      <th>7</th>\n",
       "      <th>5</th>\n",
       "      <td>3312</td>\n",
       "      <td>12</td>\n",
       "      <td>1</td>\n",
       "      <td>ultra</td>\n",
       "      <td>271</td>\n",
       "    </tr>\n",
       "    <tr>\n",
       "      <th>8</th>\n",
       "      <th>5</th>\n",
       "      <td>2721</td>\n",
       "      <td>18</td>\n",
       "      <td>1</td>\n",
       "      <td>ultra</td>\n",
       "      <td>307</td>\n",
       "    </tr>\n",
       "    <tr>\n",
       "      <th>10</th>\n",
       "      <th>5</th>\n",
       "      <td>3219</td>\n",
       "      <td>20</td>\n",
       "      <td>1</td>\n",
       "      <td>ultra</td>\n",
       "      <td>319</td>\n",
       "    </tr>\n",
       "  </tbody>\n",
       "</table>\n",
       "</div>"
      ],
      "text/plain": [
       "               distance  duration  count_trips subscription_type  \\\n",
       "month user_id                                                      \n",
       "1     5            3915        13            1             ultra   \n",
       "2     5            2562        12            1             ultra   \n",
       "3     5           10635        57            3             ultra   \n",
       "4     5            3374        15            1             ultra   \n",
       "5     5            5825        33            2             ultra   \n",
       "7     5            3312        12            1             ultra   \n",
       "8     5            2721        18            1             ultra   \n",
       "10    5            3219        20            1             ultra   \n",
       "\n",
       "               month_revenue  \n",
       "month user_id                 \n",
       "1     5                  277  \n",
       "2     5                  271  \n",
       "3     5                  541  \n",
       "4     5                  289  \n",
       "5     5                  397  \n",
       "7     5                  271  \n",
       "8     5                  307  \n",
       "10    5                  319  "
      ]
     },
     "execution_count": 68,
     "metadata": {},
     "output_type": "execute_result"
    }
   ],
   "source": [
    "total_df.query('user_id == 5')"
   ]
  },
  {
   "cell_type": "code",
   "execution_count": 69,
   "id": "8bffd41a",
   "metadata": {},
   "outputs": [
    {
     "name": "stdout",
     "output_type": "stream",
     "text": [
      "Общая выручка: 3878641\n"
     ]
    }
   ],
   "source": [
    "print(f'Общая выручка:', total_df['month_revenue'].sum())\n"
   ]
  },
  {
   "attachments": {},
   "cell_type": "markdown",
   "id": "6983b50e",
   "metadata": {},
   "source": [
    "**Выводы:** в рамках данного раздела было сделано: \n",
    "1. Найдено суммарное расстояние, количество поeздок и суммарное время для каждого пользователя за каждый месяц. \n",
    "2. Рассчитана ежемесячная выручка сервиса за каждого пользователя\n",
    "3. Рассчитана общая выручка\n"
   ]
  },
  {
   "attachments": {},
   "cell_type": "markdown",
   "id": "41545ac0",
   "metadata": {},
   "source": [
    "## Проверка гипотез"
   ]
  },
  {
   "attachments": {},
   "cell_type": "markdown",
   "id": "77ee79c1",
   "metadata": {},
   "source": [
    "### Тратят ли пользователи с подпиской больше времени на поездки?"
   ]
  },
  {
   "attachments": {},
   "cell_type": "markdown",
   "id": "623d0419",
   "metadata": {},
   "source": [
    "Если пользователи с подпиской тратят больше времени на поездки, чем пользователи без подписки - то пользователи с подпиской могут быть «выгоднее» для компании"
   ]
  },
  {
   "attachments": {},
   "cell_type": "markdown",
   "id": "39aa6b5e",
   "metadata": {},
   "source": [
    "**Проверка гипотезы** "
   ]
  },
  {
   "attachments": {},
   "cell_type": "markdown",
   "id": "d5323dee",
   "metadata": {},
   "source": [
    "H_0: Время (duration) пользователей по подписке = время (duration) пользователей без подписки\n",
    "\n",
    "H_1: Время (duration) пользователей по подписке ultra > время (duration) пользователей без подписки\n"
   ]
  },
  {
   "cell_type": "code",
   "execution_count": 70,
   "id": "c7102aed",
   "metadata": {},
   "outputs": [
    {
     "name": "stdout",
     "output_type": "stream",
     "text": [
      "2.4959453720736625e-34\n",
      "Отвергаем нулевую гипотезу\n"
     ]
    }
   ],
   "source": [
    "ultra = df_ultra['duration'] \n",
    "\n",
    "free = df_free['duration']\n",
    "\n",
    "results = st.ttest_ind(ultra, \n",
    "                       free,\n",
    "                       alternative = 'greater')\n",
    "\n",
    "alpha = 0.05\n",
    "\n",
    "print(results.pvalue)\n",
    "\n",
    "if results.pvalue < alpha:\n",
    "    print('Отвергаем нулевую гипотезу')\n",
    "else:\n",
    "    print('Не удалось отвергнуть нулевую гипотезу')"
   ]
  },
  {
   "attachments": {},
   "cell_type": "markdown",
   "id": "2f8eece7",
   "metadata": {},
   "source": [
    "**Визуализируем**"
   ]
  },
  {
   "cell_type": "code",
   "execution_count": 71,
   "id": "ef220a65",
   "metadata": {},
   "outputs": [
    {
     "data": {
      "image/png": "[encoded data removed]",
      "text/plain": [
       "<Figure size 1080x720 with 1 Axes>"
      ]
     },
     "metadata": {
      "needs_background": "light"
     },
     "output_type": "display_data"
    }
   ],
   "source": [
    "plt.figure(figsize=(15,10))\n",
    "ax = sns.barplot(x = 'month',\n",
    "            y = 'duration',\n",
    "            hue = \"subscription_type\",\n",
    "            data = df,\n",
    "            palette = ['red', 'green'])\n",
    "ax.set_title('Распределение продолжительности поездок по видам подписок и месяцам')\n",
    "ax.set(xlabel='Номер месяца', ylabel='Продолжительность поездок');"
   ]
  },
  {
   "attachments": {},
   "cell_type": "markdown",
   "id": "12d56d48",
   "metadata": {},
   "source": [
    "Исходя из полученных данных, можно констатировать, что у пользователей с подписками продолжительность использования самокатов больше, чем у пользователей без подписок. Тем самым, пользователи с подпиской могут быть являются выгоднее для компании. "
   ]
  },
  {
   "attachments": {},
   "cell_type": "markdown",
   "id": "aa178ffb",
   "metadata": {},
   "source": [
    "### Можно ли сказать, что среднее расстояние, которое проезжают пользователи с подпиской за одну поездку, не превышает 3130 метров? "
   ]
  },
  {
   "attachments": {},
   "cell_type": "markdown",
   "id": "e9d4b55d",
   "metadata": {},
   "source": [
    "Эксперты указывают, что расстояние одной поездки в 3130 метров — оптимальное с точки зрения износа самоката. \n",
    "\n",
    "Посмотрим превышает ли среднее расстояние, которое проезжают пользователи с подпиской за одну поездку, это значение. "
   ]
  },
  {
   "cell_type": "code",
   "execution_count": 72,
   "id": "44ac2a63",
   "metadata": {},
   "outputs": [
    {
     "data": {
      "text/plain": [
       "count    6500.000000\n",
       "mean     3115.949231\n",
       "std       836.894838\n",
       "min       245.000000\n",
       "25%      2786.000000\n",
       "50%      3149.000000\n",
       "75%      3561.000000\n",
       "max      5700.000000\n",
       "Name: distance, dtype: float64"
      ]
     },
     "execution_count": 72,
     "metadata": {},
     "output_type": "execute_result"
    }
   ],
   "source": [
    "df_ultra['distance'].describe()"
   ]
  },
  {
   "attachments": {},
   "cell_type": "markdown",
   "id": "998d9cd5",
   "metadata": {},
   "source": [
    "Как мы видим, `среднее` значение расположено на отметке - `3115 метров`, в то время, как `медианное` значение - `3149 метров`"
   ]
  },
  {
   "attachments": {},
   "cell_type": "markdown",
   "id": "dad78836",
   "metadata": {},
   "source": [
    "**Визуализируем**"
   ]
  },
  {
   "cell_type": "code",
   "execution_count": 73,
   "id": "0b530bbc",
   "metadata": {},
   "outputs": [
    {
     "data": {
      "image/png": "[encoded data removed]",
      "text/plain": [
       "<Figure size 1080x720 with 1 Axes>"
      ]
     },
     "metadata": {
      "needs_background": "light"
     },
     "output_type": "display_data"
    }
   ],
   "source": [
    "plt.figure(figsize=(15,10))\n",
    "df_ultra['distance'].hist()\n",
    "plt.title('Среднее расстояние поездок')\n",
    "plt.xlabel('Расстояние')\n",
    "plt.ylabel('Количество пользователей')\n",
    "plt.show()\n"
   ]
  },
  {
   "cell_type": "code",
   "execution_count": 74,
   "id": "230c3d74",
   "metadata": {},
   "outputs": [
    {
     "data": {
      "image/png": "[encoded data removed]",
      "text/plain": [
       "<Figure size 1080x720 with 1 Axes>"
      ]
     },
     "metadata": {
      "needs_background": "light"
     },
     "output_type": "display_data"
    }
   ],
   "source": [
    "plt.figure(figsize=(15,10))\n",
    "df_ultra.boxplot(column='distance')\n",
    "plt.title('Боксплот среднего расстояния за поездку')\n",
    "plt.ylabel('Расстояние')\n",
    "plt.show()"
   ]
  },
  {
   "attachments": {},
   "cell_type": "markdown",
   "id": "57525907",
   "metadata": {},
   "source": [
    "Представленные данные указывают на то, что наибольшее количество пользователей с подписками используют транспорт в диапазоне с 2800 до 3500 метров за одну поездку. \n",
    "\n",
    "**Проверим гипотезу**"
   ]
  },
  {
   "attachments": {},
   "cell_type": "markdown",
   "id": "bc2c362e",
   "metadata": {},
   "source": [
    "H_0: Расстояние пользователей с подпиской = 3130 метров\n",
    "\n",
    "H_1: Расстояние пользователей с подпиской < 3130 метров"
   ]
  },
  {
   "cell_type": "code",
   "execution_count": 75,
   "id": "36928fbf",
   "metadata": {},
   "outputs": [
    {
     "name": "stdout",
     "output_type": "stream",
     "text": [
      "0.08795776629194929\n",
      "Не удалось отвергнуть нулевую гипотезу\n"
     ]
    }
   ],
   "source": [
    "ultra_distance = df_ultra['distance']\n",
    "\n",
    "interested_value = 3130.0\n",
    "\n",
    "alpha = .05\n",
    "\n",
    "results = st.ttest_1samp(\n",
    "    ultra_distance, \n",
    "    interested_value,\n",
    "    alternative='less')\n",
    "    \n",
    "print(results.pvalue)\n",
    "\n",
    "if (results.pvalue < alpha):\n",
    "    print('Отвергаем нулевую гипотезу')\n",
    "else:\n",
    "    print('Не удалось отвергнуть нулевую гипотезу')"
   ]
  },
  {
   "attachments": {},
   "cell_type": "markdown",
   "id": "54ec7cfb",
   "metadata": {},
   "source": [
    "Так, рассматривая данную гипотезу, мы не можем утверждать, что пользователи не проезжают 3130 метров за одну поездку. "
   ]
  },
  {
   "attachments": {},
   "cell_type": "markdown",
   "id": "9de694cc",
   "metadata": {},
   "source": [
    "### Будет ли помесячная выручка от пользователей с подпиской по месяцам выше, чем выручка от пользователей без подписки"
   ]
  },
  {
   "cell_type": "code",
   "execution_count": 76,
   "id": "c7de35c2",
   "metadata": {},
   "outputs": [],
   "source": [
    "ultra_per_mnth = total_df.loc[total_df.subscription_type == 'ultra', 'month_revenue'] \n",
    "\n",
    "free_per_mnth = total_df.loc[total_df.subscription_type == 'free', 'month_revenue'] "
   ]
  },
  {
   "cell_type": "code",
   "execution_count": 77,
   "id": "3f07ba57",
   "metadata": {},
   "outputs": [
    {
     "name": "stdout",
     "output_type": "stream",
     "text": [
      "Выручка пользователей с подписками: 1644537\n",
      "Выручка пользователей без подписок: 2234104\n"
     ]
    }
   ],
   "source": [
    "print(f'Выручка пользователей с подписками:', ultra_per_mnth.sum())\n",
    "print(f'Выручка пользователей без подписок:', free_per_mnth.sum())"
   ]
  },
  {
   "attachments": {},
   "cell_type": "markdown",
   "id": "86d7f1cb",
   "metadata": {},
   "source": [
    "Как мы видим, общая выручка пользователей без подписок превышает выручку с пользователей с подписками. Однако, нам необходимо убедиться в гипотезе, что выручка от пользователей с подпиской по месяцам выше, чем выручка от пользователей без подписки."
   ]
  },
  {
   "attachments": {},
   "cell_type": "markdown",
   "id": "83589eaf",
   "metadata": {},
   "source": [
    "**Проверим гипотезу**"
   ]
  },
  {
   "attachments": {},
   "cell_type": "markdown",
   "id": "6414879b",
   "metadata": {},
   "source": [
    "H_0: Выручка (month_revenue) пользователей с подпиской = выручка (month_revenue) пользователей без подписки\n",
    "\n",
    "H_1: Выручка (month_revenue) пользователей с подпиской > выручка (month_revenue) пользователей без подписки"
   ]
  },
  {
   "cell_type": "code",
   "execution_count": 78,
   "id": "4efaab15",
   "metadata": {},
   "outputs": [
    {
     "name": "stdout",
     "output_type": "stream",
     "text": [
      "1.8850394384715216e-31\n",
      "Отвергаем нулевую гипотезу\n"
     ]
    }
   ],
   "source": [
    "results = st.ttest_ind(ultra_per_mnth, \n",
    "                       free_per_mnth,\n",
    "                       alternative = 'greater')\n",
    "\n",
    "alpha = .05\n",
    "\n",
    "print(results.pvalue)\n",
    "\n",
    "if results.pvalue < alpha:\n",
    "    print('Отвергаем нулевую гипотезу')\n",
    "else:\n",
    "    print('Не удалось отвергнуть нулевую гипотезу')"
   ]
  },
  {
   "attachments": {},
   "cell_type": "markdown",
   "id": "e0a9ef04",
   "metadata": {},
   "source": [
    "Указанные данные подтверждают, что выручка от пользователей с подпиской выше, чем выручка от пользователей без подписки"
   ]
  },
  {
   "attachments": {},
   "cell_type": "markdown",
   "id": "922d8059",
   "metadata": {},
   "source": [
    "### Моделируем ситуацию"
   ]
  },
  {
   "attachments": {},
   "cell_type": "markdown",
   "id": "a3cadaa1",
   "metadata": {},
   "source": [
    "Представьте такую ситуацию: техническая команда сервиса обновила сервера, с которыми взаимодействует мобильное приложение. Она надеется, что из-за этого количество обращений в техподдержку значимо снизилось. Некоторый файл содержит для каждого пользователя данные о количестве обращений до обновления и после него. Какой тест вам понадобился бы для проверки этой гипотезы?"
   ]
  },
  {
   "attachments": {},
   "cell_type": "markdown",
   "id": "91caf9a7",
   "metadata": {},
   "source": [
    "**Будем использовать гипотезу о равенстве средних для зависимых (парных) выборок.**\n",
    "\n",
    "Гипотезы будут сформулированы так:\n",
    "\n",
    "- H0 : μ1 = μ2\n",
    "\n",
    "- H1 : μ1 != μ2\n",
    "\n",
    "где:\n",
    "\n",
    "μ1 и μ2 - средние значения количество обращений в техподдержку до и после изменения.\n",
    "\n",
    "Метод, который нужно использовать при сравнении: **`scipy.stats.ttest_rel()`**"
   ]
  },
  {
   "attachments": {},
   "cell_type": "markdown",
   "id": "bda99331",
   "metadata": {},
   "source": [
    "**Выводы:** в настоящем разделе нами были проверены 3 гипотезы, в рамках которых мы пришли к следующим выводам:\n",
    "1. У пользователей с подписками продолжительность использования самокатов больше, чем у пользователей без подписок\n",
    "2. Утверждать о том, что растояние, которые преодаливают пользователи с подписками за одну поездку, не превышает 3130 метров нельзя. Наибольшее количество пользователей с подписками используют транспорт в диапазоне с 2800 до 3500 метров за одну поездку.\n",
    "3. Выручка от пользователей с подпиской выше, чем выручка от пользователей без подписки"
   ]
  },
  {
   "attachments": {},
   "cell_type": "markdown",
   "id": "61213c5e",
   "metadata": {},
   "source": [
    "## Заключение"
   ]
  },
  {
   "attachments": {},
   "cell_type": "markdown",
   "id": "50514722",
   "metadata": {},
   "source": [
    "В данной работе были исследованы данные сервиса аренды самокатов **`GoFast`**. \n",
    "\n",
    "На первом этапе было импортировано и в дальнейшем изучено 3 датафрейма `o пользователях`, `о поездках` и `о подписках`. \n",
    "\n",
    "Далее была осуществлена предобработка данных, в рамках которой было преобразовано ряд столбцов в другой формат, созданы новые столбцы, а также осуществлена проверка датафреймов на пропущенные значения и дубликаты. \n",
    "\n",
    "После преобработки данных начался исследовательский процесс, где были изучены следующие вопросы: \n",
    "- частота встречаемости городов; \n",
    "- соотношение пользователей с подпиской и без;\n",
    "- соотношение возраста пользователей;\n",
    "- расстояние, которое пользователь преодалел за одну поездку;\n",
    "- продолжительность поездко. \n",
    "\n",
    "В рамках данного исследования нами было установлено: \n",
    "1. Больше всего пользователей сервиса находится в городе `Пятигорск`, меньше всего пользователей в `Москве`\n",
    "2. Пользователей `без подписок больше(54.4%)`, чем пользователей `с подписками(45.6%)`.\n",
    "3. Большинство пользователей возрастом 23-28 лет.\n",
    "4. `Средняя` дистанция пользователей составляет `3071 метр`, `медианное` - `3134 метра`.\n",
    "5. Пользователи предпочитают брать самокаты от 10 до 30 минут. \n",
    "\n",
    "После исследования основных характеристик был осуществлен подсчет помесячной выручки, которую принес каждый пользователь и рассчитана общая `выручка` - `3 878 641 рублей`\n",
    "\n",
    "Затем было рассмотрено несколько гипотез:\n",
    "- тратят ли пользователи с подпиской больше времени на поездки?;\n",
    "- превышает ли среднее расстояние, которое проезжают пользователи с подпиской за одну поездку, 3130 метров?\n",
    "- будет ли помесячная выручка от пользователей с подпиской по месяцам выше, чем выручка от пользователей без подписки?\n",
    "\n",
    "Рассмотрение данных гипотез показало: \n",
    "1.  У пользователей с подписками продолжительность использования самокатов больше, чем у пользователей без подписок.\n",
    "2. Утверждение о том, что среднее расстояние, которое проезжают пользователи с подпиской за одну поездку, не превышает 3130 метров не соотвествует действительности;\n",
    "3. Помесячная выручка от пользователей с подпиской по месяцам выше, чем выручка от пользователей без подписки. \n",
    "\n"
   ]
  }
 ],
 "metadata": {
  "ExecuteTimeLog": [
   {
    "duration": 1797,
    "start_time": "2023-10-10T20:01:15.792Z"
   },
   {
    "duration": 1309,
    "start_time": "2023-10-11T19:41:20.947Z"
   },
   {
    "duration": 86,
    "start_time": "2023-10-11T19:41:38.101Z"
   },
   {
    "duration": 91,
    "start_time": "2023-10-11T19:42:26.745Z"
   },
   {
    "duration": 28,
    "start_time": "2023-10-11T19:42:34.061Z"
   },
   {
    "duration": 11,
    "start_time": "2023-10-11T19:42:35.531Z"
   },
   {
    "duration": 129,
    "start_time": "2023-10-11T19:43:51.927Z"
   },
   {
    "duration": 15,
    "start_time": "2023-10-11T19:45:49.252Z"
   },
   {
    "duration": 6,
    "start_time": "2023-10-11T19:46:30.817Z"
   },
   {
    "duration": 28,
    "start_time": "2023-10-11T19:46:48.050Z"
   },
   {
    "duration": 1077,
    "start_time": "2023-10-11T19:46:54.994Z"
   },
   {
    "duration": 30,
    "start_time": "2023-10-11T19:46:56.073Z"
   },
   {
    "duration": 11,
    "start_time": "2023-10-11T19:46:56.104Z"
   },
   {
    "duration": 25,
    "start_time": "2023-10-11T19:46:56.116Z"
   },
   {
    "duration": 9,
    "start_time": "2023-10-11T19:46:56.143Z"
   },
   {
    "duration": 9,
    "start_time": "2023-10-11T19:49:38.411Z"
   },
   {
    "duration": 11,
    "start_time": "2023-10-11T19:50:09.228Z"
   },
   {
    "duration": 11,
    "start_time": "2023-10-11T19:50:24.522Z"
   },
   {
    "duration": 8,
    "start_time": "2023-10-11T19:52:51.849Z"
   },
   {
    "duration": 384,
    "start_time": "2023-10-11T19:52:54.493Z"
   },
   {
    "duration": 10,
    "start_time": "2023-10-11T19:53:22.409Z"
   },
   {
    "duration": 422,
    "start_time": "2023-10-11T19:53:24.540Z"
   },
   {
    "duration": 295,
    "start_time": "2023-10-11T19:53:30.023Z"
   },
   {
    "duration": 6,
    "start_time": "2023-10-11T19:55:36.984Z"
   },
   {
    "duration": 5,
    "start_time": "2023-10-11T19:55:48.728Z"
   },
   {
    "duration": 5,
    "start_time": "2023-10-11T19:56:07.083Z"
   },
   {
    "duration": 5,
    "start_time": "2023-10-11T19:56:34.130Z"
   },
   {
    "duration": 117,
    "start_time": "2023-10-11T20:02:27.335Z"
   },
   {
    "duration": 4412,
    "start_time": "2023-10-11T20:02:53.545Z"
   },
   {
    "duration": 8,
    "start_time": "2023-10-11T20:07:24.269Z"
   },
   {
    "duration": 14,
    "start_time": "2023-10-11T20:07:35.760Z"
   },
   {
    "duration": 18,
    "start_time": "2023-10-11T20:09:02.523Z"
   },
   {
    "duration": 1521,
    "start_time": "2023-10-11T20:11:34.829Z"
   },
   {
    "duration": 1556,
    "start_time": "2023-10-11T20:11:38.917Z"
   },
   {
    "duration": 1496,
    "start_time": "2023-10-11T20:11:43.837Z"
   },
   {
    "duration": 1495,
    "start_time": "2023-10-11T20:11:54.362Z"
   },
   {
    "duration": 4,
    "start_time": "2023-10-11T20:13:04.664Z"
   },
   {
    "duration": 1475,
    "start_time": "2023-10-11T20:13:18.054Z"
   },
   {
    "duration": 1328,
    "start_time": "2023-10-11T20:13:41.642Z"
   },
   {
    "duration": 1625,
    "start_time": "2023-10-11T20:14:04.602Z"
   },
   {
    "duration": 82,
    "start_time": "2023-10-11T20:17:45.335Z"
   },
   {
    "duration": 76,
    "start_time": "2023-10-11T20:17:52.763Z"
   },
   {
    "duration": 18,
    "start_time": "2023-10-11T20:18:02.118Z"
   },
   {
    "duration": 11,
    "start_time": "2023-10-11T20:18:11.332Z"
   },
   {
    "duration": 8,
    "start_time": "2023-10-11T20:19:17.567Z"
   },
   {
    "duration": 82,
    "start_time": "2023-10-11T20:25:13.853Z"
   },
   {
    "duration": 16,
    "start_time": "2023-10-11T20:28:30.474Z"
   },
   {
    "duration": 136,
    "start_time": "2023-10-11T20:29:41.203Z"
   },
   {
    "duration": 1506,
    "start_time": "2023-10-13T11:25:01.636Z"
   },
   {
    "duration": 92,
    "start_time": "2023-10-13T11:25:03.144Z"
   },
   {
    "duration": 15,
    "start_time": "2023-10-13T11:25:03.238Z"
   },
   {
    "duration": 41,
    "start_time": "2023-10-13T11:25:03.255Z"
   },
   {
    "duration": 64,
    "start_time": "2023-10-13T11:25:03.299Z"
   },
   {
    "duration": 49,
    "start_time": "2023-10-13T11:25:03.365Z"
   },
   {
    "duration": 380,
    "start_time": "2023-10-13T11:25:03.417Z"
   },
   {
    "duration": 82,
    "start_time": "2023-10-13T11:25:03.800Z"
   },
   {
    "duration": 13,
    "start_time": "2023-10-13T11:25:03.884Z"
   },
   {
    "duration": 15,
    "start_time": "2023-10-13T11:32:48.514Z"
   },
   {
    "duration": 9,
    "start_time": "2023-10-13T11:33:10.424Z"
   },
   {
    "duration": 29,
    "start_time": "2023-10-13T11:33:35.685Z"
   },
   {
    "duration": 9,
    "start_time": "2023-10-13T11:33:39.336Z"
   },
   {
    "duration": 2055,
    "start_time": "2023-10-13T11:34:39.941Z"
   },
   {
    "duration": 15,
    "start_time": "2023-10-13T11:34:49.510Z"
   },
   {
    "duration": 473,
    "start_time": "2023-10-13T11:35:14.353Z"
   },
   {
    "duration": 346,
    "start_time": "2023-10-13T11:35:55.874Z"
   },
   {
    "duration": 530,
    "start_time": "2023-10-13T11:36:03.896Z"
   },
   {
    "duration": 5,
    "start_time": "2023-10-13T11:38:05.284Z"
   },
   {
    "duration": 10,
    "start_time": "2023-10-13T11:40:18.144Z"
   },
   {
    "duration": 9,
    "start_time": "2023-10-13T11:40:28.933Z"
   },
   {
    "duration": 69,
    "start_time": "2023-10-13T12:03:02.283Z"
   },
   {
    "duration": 11,
    "start_time": "2023-10-13T12:03:32.237Z"
   },
   {
    "duration": 88,
    "start_time": "2023-10-13T12:06:16.770Z"
   },
   {
    "duration": 10,
    "start_time": "2023-10-13T12:06:35.069Z"
   },
   {
    "duration": 9,
    "start_time": "2023-10-13T12:06:40.033Z"
   },
   {
    "duration": 1305,
    "start_time": "2023-10-13T12:40:53.452Z"
   },
   {
    "duration": 32,
    "start_time": "2023-10-13T12:40:54.760Z"
   },
   {
    "duration": 14,
    "start_time": "2023-10-13T12:40:54.794Z"
   },
   {
    "duration": 78,
    "start_time": "2023-10-13T12:40:54.810Z"
   },
   {
    "duration": 10,
    "start_time": "2023-10-13T12:40:54.891Z"
   },
   {
    "duration": 44,
    "start_time": "2023-10-13T12:40:54.902Z"
   },
   {
    "duration": 307,
    "start_time": "2023-10-13T12:40:54.948Z"
   },
   {
    "duration": 28,
    "start_time": "2023-10-13T12:40:55.257Z"
   },
   {
    "duration": 42,
    "start_time": "2023-10-13T12:40:55.286Z"
   },
   {
    "duration": 35,
    "start_time": "2023-10-13T12:40:55.329Z"
   },
   {
    "duration": 10,
    "start_time": "2023-10-13T12:40:55.366Z"
   },
   {
    "duration": 502,
    "start_time": "2023-10-13T12:40:55.378Z"
   },
   {
    "duration": 29,
    "start_time": "2023-10-13T12:40:55.882Z"
   },
   {
    "duration": 11,
    "start_time": "2023-10-13T12:40:55.914Z"
   },
   {
    "duration": 44,
    "start_time": "2023-10-13T12:40:55.927Z"
   },
   {
    "duration": 21,
    "start_time": "2023-10-13T12:40:55.973Z"
   },
   {
    "duration": 8,
    "start_time": "2023-10-13T12:41:18.121Z"
   },
   {
    "duration": 9,
    "start_time": "2023-10-13T12:43:19.582Z"
   },
   {
    "duration": 12,
    "start_time": "2023-10-13T12:43:34.566Z"
   },
   {
    "duration": 12,
    "start_time": "2023-10-13T12:44:01.909Z"
   },
   {
    "duration": 7,
    "start_time": "2023-10-13T12:48:52.940Z"
   },
   {
    "duration": 12,
    "start_time": "2023-10-13T12:49:04.220Z"
   },
   {
    "duration": 7,
    "start_time": "2023-10-13T12:49:19.519Z"
   },
   {
    "duration": 111,
    "start_time": "2023-10-13T12:52:18.453Z"
   },
   {
    "duration": 12,
    "start_time": "2023-10-13T12:52:25.178Z"
   },
   {
    "duration": 11,
    "start_time": "2023-10-13T12:52:30.625Z"
   },
   {
    "duration": 96,
    "start_time": "2023-10-13T12:53:08.678Z"
   },
   {
    "duration": 93,
    "start_time": "2023-10-13T12:53:13.632Z"
   },
   {
    "duration": 14,
    "start_time": "2023-10-13T12:53:20.514Z"
   },
   {
    "duration": 11,
    "start_time": "2023-10-13T12:53:25.954Z"
   },
   {
    "duration": 8,
    "start_time": "2023-10-13T12:53:29.860Z"
   },
   {
    "duration": 5,
    "start_time": "2023-10-13T12:54:00.258Z"
   },
   {
    "duration": 9,
    "start_time": "2023-10-13T12:54:12.986Z"
   },
   {
    "duration": 9,
    "start_time": "2023-10-13T12:54:18.017Z"
   },
   {
    "duration": 8,
    "start_time": "2023-10-13T12:54:23.976Z"
   },
   {
    "duration": 6,
    "start_time": "2023-10-13T12:57:42.081Z"
   },
   {
    "duration": 12,
    "start_time": "2023-10-13T12:58:10.115Z"
   },
   {
    "duration": 12,
    "start_time": "2023-10-13T12:58:18.733Z"
   },
   {
    "duration": 6,
    "start_time": "2023-10-13T13:00:05.533Z"
   },
   {
    "duration": 7,
    "start_time": "2023-10-13T13:02:06.233Z"
   },
   {
    "duration": 12,
    "start_time": "2023-10-13T13:03:06.550Z"
   },
   {
    "duration": 10,
    "start_time": "2023-10-13T13:03:45.073Z"
   },
   {
    "duration": 5,
    "start_time": "2023-10-13T13:04:02.303Z"
   },
   {
    "duration": 15,
    "start_time": "2023-10-13T13:06:20.562Z"
   },
   {
    "duration": 7,
    "start_time": "2023-10-13T13:11:41.980Z"
   },
   {
    "duration": 8,
    "start_time": "2023-10-13T13:12:06.954Z"
   },
   {
    "duration": 1639,
    "start_time": "2023-10-13T13:13:37.941Z"
   },
   {
    "duration": 9,
    "start_time": "2023-10-13T13:13:47.951Z"
   },
   {
    "duration": 5,
    "start_time": "2023-10-13T13:13:51.429Z"
   },
   {
    "duration": 7,
    "start_time": "2023-10-13T13:14:20.280Z"
   },
   {
    "duration": 74,
    "start_time": "2023-10-13T13:19:59.938Z"
   },
   {
    "duration": 6,
    "start_time": "2023-10-13T13:21:20.024Z"
   },
   {
    "duration": 6,
    "start_time": "2023-10-13T13:21:57.165Z"
   },
   {
    "duration": 1386,
    "start_time": "2023-10-13T17:05:10.466Z"
   },
   {
    "duration": 87,
    "start_time": "2023-10-13T17:05:11.855Z"
   },
   {
    "duration": 13,
    "start_time": "2023-10-13T17:05:11.944Z"
   },
   {
    "duration": 58,
    "start_time": "2023-10-13T17:05:11.959Z"
   },
   {
    "duration": 47,
    "start_time": "2023-10-13T17:05:12.020Z"
   },
   {
    "duration": 124,
    "start_time": "2023-10-13T17:05:12.069Z"
   },
   {
    "duration": 347,
    "start_time": "2023-10-13T17:05:12.194Z"
   },
   {
    "duration": 70,
    "start_time": "2023-10-13T17:05:12.543Z"
   },
   {
    "duration": 16,
    "start_time": "2023-10-13T17:05:12.615Z"
   },
   {
    "duration": 101,
    "start_time": "2023-10-13T17:05:12.633Z"
   },
   {
    "duration": 17,
    "start_time": "2023-10-13T17:05:12.736Z"
   },
   {
    "duration": 534,
    "start_time": "2023-10-13T17:05:12.755Z"
   },
   {
    "duration": 84,
    "start_time": "2023-10-13T17:05:13.291Z"
   },
   {
    "duration": 10,
    "start_time": "2023-10-13T17:05:13.378Z"
   },
   {
    "duration": 51,
    "start_time": "2023-10-13T17:05:13.390Z"
   },
   {
    "duration": 72,
    "start_time": "2023-10-13T17:05:13.443Z"
   },
   {
    "duration": 43,
    "start_time": "2023-10-13T17:05:13.517Z"
   },
   {
    "duration": 61,
    "start_time": "2023-10-13T17:05:13.562Z"
   },
   {
    "duration": 134,
    "start_time": "2023-10-13T17:05:13.625Z"
   },
   {
    "duration": 0,
    "start_time": "2023-10-13T17:05:13.762Z"
   },
   {
    "duration": 0,
    "start_time": "2023-10-13T17:05:13.763Z"
   },
   {
    "duration": 0,
    "start_time": "2023-10-13T17:05:13.765Z"
   },
   {
    "duration": 0,
    "start_time": "2023-10-13T17:05:13.767Z"
   },
   {
    "duration": 0,
    "start_time": "2023-10-13T17:05:13.769Z"
   },
   {
    "duration": 0,
    "start_time": "2023-10-13T17:05:13.771Z"
   },
   {
    "duration": 0,
    "start_time": "2023-10-13T17:05:13.773Z"
   },
   {
    "duration": 0,
    "start_time": "2023-10-13T17:05:13.775Z"
   },
   {
    "duration": 0,
    "start_time": "2023-10-13T17:05:13.775Z"
   },
   {
    "duration": 0,
    "start_time": "2023-10-13T17:05:13.776Z"
   },
   {
    "duration": 0,
    "start_time": "2023-10-13T17:05:13.779Z"
   },
   {
    "duration": 0,
    "start_time": "2023-10-13T17:05:13.781Z"
   },
   {
    "duration": 0,
    "start_time": "2023-10-13T17:05:13.782Z"
   },
   {
    "duration": 0,
    "start_time": "2023-10-13T17:05:13.784Z"
   },
   {
    "duration": 1293,
    "start_time": "2023-10-13T17:07:17.987Z"
   },
   {
    "duration": 31,
    "start_time": "2023-10-13T17:07:19.282Z"
   },
   {
    "duration": 12,
    "start_time": "2023-10-13T17:07:19.315Z"
   },
   {
    "duration": 27,
    "start_time": "2023-10-13T17:07:19.329Z"
   },
   {
    "duration": 11,
    "start_time": "2023-10-13T17:07:19.359Z"
   },
   {
    "duration": 9,
    "start_time": "2023-10-13T17:07:19.372Z"
   },
   {
    "duration": 295,
    "start_time": "2023-10-13T17:07:19.383Z"
   },
   {
    "duration": 26,
    "start_time": "2023-10-13T17:07:19.681Z"
   },
   {
    "duration": 17,
    "start_time": "2023-10-13T17:07:19.709Z"
   },
   {
    "duration": 22,
    "start_time": "2023-10-13T17:07:19.727Z"
   },
   {
    "duration": 8,
    "start_time": "2023-10-13T17:07:19.750Z"
   },
   {
    "duration": 482,
    "start_time": "2023-10-13T17:07:19.759Z"
   },
   {
    "duration": 17,
    "start_time": "2023-10-13T17:07:20.244Z"
   },
   {
    "duration": 19,
    "start_time": "2023-10-13T17:07:20.265Z"
   },
   {
    "duration": 28,
    "start_time": "2023-10-13T17:07:20.287Z"
   },
   {
    "duration": 31,
    "start_time": "2023-10-13T17:07:20.317Z"
   },
   {
    "duration": 22,
    "start_time": "2023-10-13T17:07:20.350Z"
   },
   {
    "duration": 38,
    "start_time": "2023-10-13T17:07:20.374Z"
   },
   {
    "duration": 145,
    "start_time": "2023-10-13T17:07:20.415Z"
   },
   {
    "duration": 0,
    "start_time": "2023-10-13T17:07:20.562Z"
   },
   {
    "duration": 0,
    "start_time": "2023-10-13T17:07:20.564Z"
   },
   {
    "duration": 0,
    "start_time": "2023-10-13T17:07:20.566Z"
   },
   {
    "duration": 0,
    "start_time": "2023-10-13T17:07:20.567Z"
   },
   {
    "duration": 0,
    "start_time": "2023-10-13T17:07:20.568Z"
   },
   {
    "duration": 0,
    "start_time": "2023-10-13T17:07:20.569Z"
   },
   {
    "duration": 0,
    "start_time": "2023-10-13T17:07:20.571Z"
   },
   {
    "duration": 0,
    "start_time": "2023-10-13T17:07:20.572Z"
   },
   {
    "duration": 0,
    "start_time": "2023-10-13T17:07:20.574Z"
   },
   {
    "duration": 0,
    "start_time": "2023-10-13T17:07:20.575Z"
   },
   {
    "duration": 0,
    "start_time": "2023-10-13T17:07:20.576Z"
   },
   {
    "duration": 0,
    "start_time": "2023-10-13T17:07:20.577Z"
   },
   {
    "duration": 0,
    "start_time": "2023-10-13T17:07:20.578Z"
   },
   {
    "duration": 0,
    "start_time": "2023-10-13T17:07:20.580Z"
   },
   {
    "duration": 1223,
    "start_time": "2023-10-13T17:09:16.774Z"
   },
   {
    "duration": 30,
    "start_time": "2023-10-13T17:09:17.999Z"
   },
   {
    "duration": 12,
    "start_time": "2023-10-13T17:09:18.031Z"
   },
   {
    "duration": 21,
    "start_time": "2023-10-13T17:09:18.046Z"
   },
   {
    "duration": 9,
    "start_time": "2023-10-13T17:09:18.070Z"
   },
   {
    "duration": 17,
    "start_time": "2023-10-13T17:09:18.081Z"
   },
   {
    "duration": 317,
    "start_time": "2023-10-13T17:09:18.101Z"
   },
   {
    "duration": 28,
    "start_time": "2023-10-13T17:09:18.423Z"
   },
   {
    "duration": 12,
    "start_time": "2023-10-13T17:09:18.453Z"
   },
   {
    "duration": 31,
    "start_time": "2023-10-13T17:09:18.467Z"
   },
   {
    "duration": 14,
    "start_time": "2023-10-13T17:09:18.500Z"
   },
   {
    "duration": 472,
    "start_time": "2023-10-13T17:09:18.523Z"
   },
   {
    "duration": 16,
    "start_time": "2023-10-13T17:09:18.997Z"
   },
   {
    "duration": 35,
    "start_time": "2023-10-13T17:09:19.016Z"
   },
   {
    "duration": 30,
    "start_time": "2023-10-13T17:09:19.052Z"
   },
   {
    "duration": 36,
    "start_time": "2023-10-13T17:09:19.083Z"
   },
   {
    "duration": 43,
    "start_time": "2023-10-13T17:09:19.122Z"
   },
   {
    "duration": 46,
    "start_time": "2023-10-13T17:09:19.166Z"
   },
   {
    "duration": 118,
    "start_time": "2023-10-13T17:09:19.214Z"
   },
   {
    "duration": 0,
    "start_time": "2023-10-13T17:09:19.333Z"
   },
   {
    "duration": 0,
    "start_time": "2023-10-13T17:09:19.334Z"
   },
   {
    "duration": 0,
    "start_time": "2023-10-13T17:09:19.336Z"
   },
   {
    "duration": 0,
    "start_time": "2023-10-13T17:09:19.337Z"
   },
   {
    "duration": 0,
    "start_time": "2023-10-13T17:09:19.338Z"
   },
   {
    "duration": 0,
    "start_time": "2023-10-13T17:09:19.339Z"
   },
   {
    "duration": 0,
    "start_time": "2023-10-13T17:09:19.340Z"
   },
   {
    "duration": 0,
    "start_time": "2023-10-13T17:09:19.341Z"
   },
   {
    "duration": 0,
    "start_time": "2023-10-13T17:09:19.342Z"
   },
   {
    "duration": 0,
    "start_time": "2023-10-13T17:09:19.343Z"
   },
   {
    "duration": 0,
    "start_time": "2023-10-13T17:09:19.344Z"
   },
   {
    "duration": 0,
    "start_time": "2023-10-13T17:09:19.345Z"
   },
   {
    "duration": 0,
    "start_time": "2023-10-13T17:09:19.346Z"
   },
   {
    "duration": 0,
    "start_time": "2023-10-13T17:09:19.347Z"
   },
   {
    "duration": 13,
    "start_time": "2023-10-13T17:10:32.117Z"
   },
   {
    "duration": 15,
    "start_time": "2023-10-13T17:11:08.244Z"
   },
   {
    "duration": 10,
    "start_time": "2023-10-13T17:11:09.433Z"
   },
   {
    "duration": 11,
    "start_time": "2023-10-13T17:12:27.952Z"
   },
   {
    "duration": 11,
    "start_time": "2023-10-13T17:12:31.981Z"
   },
   {
    "duration": 11,
    "start_time": "2023-10-13T17:13:15.702Z"
   },
   {
    "duration": 1274,
    "start_time": "2023-10-13T17:13:21.733Z"
   },
   {
    "duration": 30,
    "start_time": "2023-10-13T17:13:23.009Z"
   },
   {
    "duration": 159,
    "start_time": "2023-10-13T17:13:23.041Z"
   },
   {
    "duration": 44,
    "start_time": "2023-10-13T17:13:23.202Z"
   },
   {
    "duration": 9,
    "start_time": "2023-10-13T17:13:23.249Z"
   },
   {
    "duration": 10,
    "start_time": "2023-10-13T17:13:23.260Z"
   },
   {
    "duration": 323,
    "start_time": "2023-10-13T17:13:23.272Z"
   },
   {
    "duration": 35,
    "start_time": "2023-10-13T17:13:23.597Z"
   },
   {
    "duration": 16,
    "start_time": "2023-10-13T17:13:23.634Z"
   },
   {
    "duration": 28,
    "start_time": "2023-10-13T17:13:23.651Z"
   },
   {
    "duration": 10,
    "start_time": "2023-10-13T17:13:23.681Z"
   },
   {
    "duration": 518,
    "start_time": "2023-10-13T17:13:23.693Z"
   },
   {
    "duration": 27,
    "start_time": "2023-10-13T17:13:24.213Z"
   },
   {
    "duration": 13,
    "start_time": "2023-10-13T17:13:24.244Z"
   },
   {
    "duration": 10,
    "start_time": "2023-10-13T17:13:24.259Z"
   },
   {
    "duration": 11,
    "start_time": "2023-10-13T17:13:24.270Z"
   },
   {
    "duration": 10,
    "start_time": "2023-10-13T17:13:24.283Z"
   },
   {
    "duration": 30,
    "start_time": "2023-10-13T17:13:24.295Z"
   },
   {
    "duration": 11,
    "start_time": "2023-10-13T17:13:24.327Z"
   },
   {
    "duration": 14,
    "start_time": "2023-10-13T17:13:24.340Z"
   },
   {
    "duration": 15,
    "start_time": "2023-10-13T17:13:24.356Z"
   },
   {
    "duration": 6,
    "start_time": "2023-10-13T17:13:24.372Z"
   },
   {
    "duration": 12,
    "start_time": "2023-10-13T17:13:24.380Z"
   },
   {
    "duration": 31,
    "start_time": "2023-10-13T17:13:24.394Z"
   },
   {
    "duration": 7,
    "start_time": "2023-10-13T17:13:24.428Z"
   },
   {
    "duration": 6,
    "start_time": "2023-10-13T17:13:24.437Z"
   },
   {
    "duration": 10,
    "start_time": "2023-10-13T17:13:24.445Z"
   },
   {
    "duration": 18,
    "start_time": "2023-10-13T17:13:24.457Z"
   },
   {
    "duration": 7,
    "start_time": "2023-10-13T17:13:24.477Z"
   },
   {
    "duration": 40,
    "start_time": "2023-10-13T17:13:24.486Z"
   },
   {
    "duration": 7,
    "start_time": "2023-10-13T17:13:24.528Z"
   },
   {
    "duration": 7,
    "start_time": "2023-10-13T17:13:24.537Z"
   },
   {
    "duration": 10,
    "start_time": "2023-10-13T17:13:24.546Z"
   },
   {
    "duration": 117,
    "start_time": "2023-10-13T17:18:50.729Z"
   },
   {
    "duration": 19,
    "start_time": "2023-10-13T17:19:04.957Z"
   },
   {
    "duration": 18,
    "start_time": "2023-10-13T17:20:03.817Z"
   },
   {
    "duration": 14,
    "start_time": "2023-10-13T17:20:13.366Z"
   },
   {
    "duration": 11,
    "start_time": "2023-10-13T17:20:21.352Z"
   },
   {
    "duration": 15,
    "start_time": "2023-10-13T17:21:03.421Z"
   },
   {
    "duration": 11,
    "start_time": "2023-10-13T17:21:12.517Z"
   },
   {
    "duration": 236,
    "start_time": "2023-10-13T17:24:16.321Z"
   },
   {
    "duration": 282,
    "start_time": "2023-10-13T17:24:52.207Z"
   },
   {
    "duration": 276,
    "start_time": "2023-10-13T17:26:00.966Z"
   },
   {
    "duration": 275,
    "start_time": "2023-10-13T17:26:21.970Z"
   },
   {
    "duration": 328,
    "start_time": "2023-10-13T17:26:27.880Z"
   },
   {
    "duration": 372,
    "start_time": "2023-10-13T17:27:30.565Z"
   },
   {
    "duration": 269,
    "start_time": "2023-10-13T17:27:44.640Z"
   },
   {
    "duration": 282,
    "start_time": "2023-10-13T17:30:14.545Z"
   },
   {
    "duration": 303,
    "start_time": "2023-10-13T17:30:26.324Z"
   },
   {
    "duration": 14,
    "start_time": "2023-10-13T17:38:05.466Z"
   },
   {
    "duration": 160,
    "start_time": "2023-10-13T17:40:56.079Z"
   },
   {
    "duration": 170,
    "start_time": "2023-10-13T17:41:03.361Z"
   },
   {
    "duration": 132,
    "start_time": "2023-10-13T17:41:17.349Z"
   },
   {
    "duration": 84,
    "start_time": "2023-10-13T17:43:09.502Z"
   },
   {
    "duration": 11,
    "start_time": "2023-10-13T17:43:13.887Z"
   },
   {
    "duration": 11,
    "start_time": "2023-10-13T17:43:17.568Z"
   },
   {
    "duration": 141,
    "start_time": "2023-10-13T17:44:19.731Z"
   },
   {
    "duration": 136,
    "start_time": "2023-10-13T17:45:05.400Z"
   },
   {
    "duration": 141,
    "start_time": "2023-10-13T17:45:18.470Z"
   },
   {
    "duration": 164,
    "start_time": "2023-10-13T17:45:32.385Z"
   },
   {
    "duration": 243,
    "start_time": "2023-10-13T17:45:37.620Z"
   },
   {
    "duration": 172,
    "start_time": "2023-10-13T17:45:41.433Z"
   },
   {
    "duration": 152,
    "start_time": "2023-10-13T17:46:00.020Z"
   },
   {
    "duration": 73,
    "start_time": "2023-10-13T17:46:14.794Z"
   },
   {
    "duration": 218,
    "start_time": "2023-10-13T17:46:25.750Z"
   },
   {
    "duration": 159,
    "start_time": "2023-10-13T17:46:33.500Z"
   },
   {
    "duration": 155,
    "start_time": "2023-10-13T17:46:42.266Z"
   },
   {
    "duration": 153,
    "start_time": "2023-10-13T17:49:54.550Z"
   },
   {
    "duration": 4,
    "start_time": "2023-10-13T17:53:53.483Z"
   },
   {
    "duration": 17,
    "start_time": "2023-10-13T17:57:03.745Z"
   },
   {
    "duration": 3,
    "start_time": "2023-10-13T17:57:17.632Z"
   },
   {
    "duration": 19,
    "start_time": "2023-10-13T17:57:19.043Z"
   },
   {
    "duration": 12,
    "start_time": "2023-10-13T18:00:53.637Z"
   },
   {
    "duration": 9,
    "start_time": "2023-10-13T18:01:03.360Z"
   },
   {
    "duration": 10,
    "start_time": "2023-10-13T18:01:11.442Z"
   },
   {
    "duration": 168,
    "start_time": "2023-10-13T18:01:17.890Z"
   },
   {
    "duration": 20,
    "start_time": "2023-10-13T18:10:55.904Z"
   },
   {
    "duration": 12,
    "start_time": "2023-10-13T18:11:51.109Z"
   },
   {
    "duration": 8,
    "start_time": "2023-10-13T18:11:54.314Z"
   },
   {
    "duration": 9,
    "start_time": "2023-10-13T18:17:55.087Z"
   },
   {
    "duration": 49,
    "start_time": "2023-10-13T18:18:00.775Z"
   },
   {
    "duration": 1150,
    "start_time": "2023-10-13T18:18:08.729Z"
   },
   {
    "duration": 29,
    "start_time": "2023-10-13T18:18:09.881Z"
   },
   {
    "duration": 43,
    "start_time": "2023-10-13T18:18:09.912Z"
   },
   {
    "duration": 25,
    "start_time": "2023-10-13T18:18:09.957Z"
   },
   {
    "duration": 8,
    "start_time": "2023-10-13T18:18:09.984Z"
   },
   {
    "duration": 89,
    "start_time": "2023-10-13T18:18:09.993Z"
   },
   {
    "duration": 355,
    "start_time": "2023-10-13T18:18:10.084Z"
   },
   {
    "duration": 27,
    "start_time": "2023-10-13T18:18:10.441Z"
   },
   {
    "duration": 11,
    "start_time": "2023-10-13T18:18:10.470Z"
   },
   {
    "duration": 22,
    "start_time": "2023-10-13T18:18:10.484Z"
   },
   {
    "duration": 21,
    "start_time": "2023-10-13T18:18:10.508Z"
   },
   {
    "duration": 470,
    "start_time": "2023-10-13T18:18:10.531Z"
   },
   {
    "duration": 27,
    "start_time": "2023-10-13T18:18:11.002Z"
   },
   {
    "duration": 10,
    "start_time": "2023-10-13T18:18:11.030Z"
   },
   {
    "duration": 8,
    "start_time": "2023-10-13T18:18:11.042Z"
   },
   {
    "duration": 9,
    "start_time": "2023-10-13T18:18:11.052Z"
   },
   {
    "duration": 10,
    "start_time": "2023-10-13T18:18:11.062Z"
   },
   {
    "duration": 7,
    "start_time": "2023-10-13T18:18:11.074Z"
   },
   {
    "duration": 44,
    "start_time": "2023-10-13T18:18:11.082Z"
   },
   {
    "duration": 7,
    "start_time": "2023-10-13T18:18:11.127Z"
   },
   {
    "duration": 15,
    "start_time": "2023-10-13T18:18:11.135Z"
   },
   {
    "duration": 8,
    "start_time": "2023-10-13T18:18:11.151Z"
   },
   {
    "duration": 6,
    "start_time": "2023-10-13T18:18:11.160Z"
   },
   {
    "duration": 8,
    "start_time": "2023-10-13T18:18:11.168Z"
   },
   {
    "duration": 15,
    "start_time": "2023-10-13T18:18:11.178Z"
   },
   {
    "duration": 31,
    "start_time": "2023-10-13T18:18:11.195Z"
   },
   {
    "duration": 11,
    "start_time": "2023-10-13T18:18:11.228Z"
   },
   {
    "duration": 5,
    "start_time": "2023-10-13T18:18:11.243Z"
   },
   {
    "duration": 14,
    "start_time": "2023-10-13T18:18:11.249Z"
   },
   {
    "duration": 21,
    "start_time": "2023-10-13T18:18:11.264Z"
   },
   {
    "duration": 11,
    "start_time": "2023-10-13T18:18:11.287Z"
   },
   {
    "duration": 29,
    "start_time": "2023-10-13T18:18:11.300Z"
   },
   {
    "duration": 10,
    "start_time": "2023-10-13T18:18:11.331Z"
   },
   {
    "duration": 12,
    "start_time": "2023-10-13T18:18:11.343Z"
   },
   {
    "duration": 11,
    "start_time": "2023-10-13T18:18:11.357Z"
   },
   {
    "duration": 302,
    "start_time": "2023-10-13T18:18:11.369Z"
   },
   {
    "duration": 13,
    "start_time": "2023-10-13T18:18:11.673Z"
   },
   {
    "duration": 198,
    "start_time": "2023-10-13T18:18:11.688Z"
   },
   {
    "duration": 3,
    "start_time": "2023-10-13T18:18:11.888Z"
   },
   {
    "duration": 32,
    "start_time": "2023-10-13T18:18:11.892Z"
   },
   {
    "duration": 10,
    "start_time": "2023-10-13T18:18:11.926Z"
   },
   {
    "duration": 189,
    "start_time": "2023-10-13T18:18:11.938Z"
   },
   {
    "duration": 8,
    "start_time": "2023-10-13T18:18:12.129Z"
   },
   {
    "duration": 9,
    "start_time": "2023-10-13T18:18:21.298Z"
   },
   {
    "duration": 166,
    "start_time": "2023-10-13T18:18:54.740Z"
   },
   {
    "duration": 10,
    "start_time": "2023-10-13T18:18:56.616Z"
   },
   {
    "duration": 8,
    "start_time": "2023-10-13T18:19:19.378Z"
   },
   {
    "duration": 9,
    "start_time": "2023-10-13T18:19:21.143Z"
   },
   {
    "duration": 9,
    "start_time": "2023-10-13T18:19:33.138Z"
   },
   {
    "duration": 12,
    "start_time": "2023-10-13T18:19:34.611Z"
   },
   {
    "duration": 8,
    "start_time": "2023-10-13T18:19:36.388Z"
   },
   {
    "duration": 1233,
    "start_time": "2023-10-13T18:19:45.510Z"
   },
   {
    "duration": 30,
    "start_time": "2023-10-13T18:19:46.745Z"
   },
   {
    "duration": 11,
    "start_time": "2023-10-13T18:19:46.777Z"
   },
   {
    "duration": 35,
    "start_time": "2023-10-13T18:19:46.790Z"
   },
   {
    "duration": 8,
    "start_time": "2023-10-13T18:19:46.828Z"
   },
   {
    "duration": 12,
    "start_time": "2023-10-13T18:19:46.837Z"
   },
   {
    "duration": 300,
    "start_time": "2023-10-13T18:19:46.850Z"
   },
   {
    "duration": 26,
    "start_time": "2023-10-13T18:19:47.151Z"
   },
   {
    "duration": 11,
    "start_time": "2023-10-13T18:19:47.179Z"
   },
   {
    "duration": 37,
    "start_time": "2023-10-13T18:19:47.192Z"
   },
   {
    "duration": 8,
    "start_time": "2023-10-13T18:19:47.231Z"
   },
   {
    "duration": 460,
    "start_time": "2023-10-13T18:19:47.240Z"
   },
   {
    "duration": 16,
    "start_time": "2023-10-13T18:19:47.702Z"
   },
   {
    "duration": 10,
    "start_time": "2023-10-13T18:19:47.721Z"
   },
   {
    "duration": 20,
    "start_time": "2023-10-13T18:19:47.732Z"
   },
   {
    "duration": 11,
    "start_time": "2023-10-13T18:19:47.754Z"
   },
   {
    "duration": 7,
    "start_time": "2023-10-13T18:19:47.766Z"
   },
   {
    "duration": 10,
    "start_time": "2023-10-13T18:19:47.774Z"
   },
   {
    "duration": 23,
    "start_time": "2023-10-13T18:19:47.786Z"
   },
   {
    "duration": 10,
    "start_time": "2023-10-13T18:19:47.810Z"
   },
   {
    "duration": 7,
    "start_time": "2023-10-13T18:19:47.823Z"
   },
   {
    "duration": 16,
    "start_time": "2023-10-13T18:19:47.831Z"
   },
   {
    "duration": 13,
    "start_time": "2023-10-13T18:19:47.848Z"
   },
   {
    "duration": 7,
    "start_time": "2023-10-13T18:19:47.862Z"
   },
   {
    "duration": 9,
    "start_time": "2023-10-13T18:19:47.870Z"
   },
   {
    "duration": 7,
    "start_time": "2023-10-13T18:19:47.880Z"
   },
   {
    "duration": 9,
    "start_time": "2023-10-13T18:19:47.888Z"
   },
   {
    "duration": 25,
    "start_time": "2023-10-13T18:19:47.899Z"
   },
   {
    "duration": 6,
    "start_time": "2023-10-13T18:19:47.926Z"
   },
   {
    "duration": 17,
    "start_time": "2023-10-13T18:19:47.933Z"
   },
   {
    "duration": 6,
    "start_time": "2023-10-13T18:19:47.952Z"
   },
   {
    "duration": 6,
    "start_time": "2023-10-13T18:19:47.959Z"
   },
   {
    "duration": 22,
    "start_time": "2023-10-13T18:19:47.966Z"
   },
   {
    "duration": 28,
    "start_time": "2023-10-13T18:19:47.989Z"
   },
   {
    "duration": 280,
    "start_time": "2023-10-13T18:19:48.019Z"
   },
   {
    "duration": 10,
    "start_time": "2023-10-13T18:19:48.300Z"
   },
   {
    "duration": 169,
    "start_time": "2023-10-13T18:19:48.312Z"
   },
   {
    "duration": 3,
    "start_time": "2023-10-13T18:19:48.483Z"
   },
   {
    "duration": 22,
    "start_time": "2023-10-13T18:19:48.487Z"
   },
   {
    "duration": 17,
    "start_time": "2023-10-13T18:19:48.511Z"
   },
   {
    "duration": 177,
    "start_time": "2023-10-13T18:19:48.531Z"
   },
   {
    "duration": 15,
    "start_time": "2023-10-13T18:19:48.709Z"
   },
   {
    "duration": 76,
    "start_time": "2023-10-13T18:25:35.222Z"
   },
   {
    "duration": 3,
    "start_time": "2023-10-13T18:27:52.503Z"
   },
   {
    "duration": 267,
    "start_time": "2023-10-13T18:29:15.041Z"
   },
   {
    "duration": 98,
    "start_time": "2023-10-13T18:30:50.432Z"
   },
   {
    "duration": 12,
    "start_time": "2023-10-13T18:30:55.617Z"
   },
   {
    "duration": 1225,
    "start_time": "2023-10-13T18:31:44.661Z"
   },
   {
    "duration": 30,
    "start_time": "2023-10-13T18:31:45.888Z"
   },
   {
    "duration": 19,
    "start_time": "2023-10-13T18:31:45.920Z"
   },
   {
    "duration": 30,
    "start_time": "2023-10-13T18:31:45.942Z"
   },
   {
    "duration": 11,
    "start_time": "2023-10-13T18:31:45.975Z"
   },
   {
    "duration": 22,
    "start_time": "2023-10-13T18:31:45.989Z"
   },
   {
    "duration": 402,
    "start_time": "2023-10-13T18:31:46.025Z"
   },
   {
    "duration": 26,
    "start_time": "2023-10-13T18:31:46.429Z"
   },
   {
    "duration": 12,
    "start_time": "2023-10-13T18:31:46.457Z"
   },
   {
    "duration": 61,
    "start_time": "2023-10-13T18:31:46.471Z"
   },
   {
    "duration": 98,
    "start_time": "2023-10-13T18:31:46.533Z"
   },
   {
    "duration": 573,
    "start_time": "2023-10-13T18:31:46.634Z"
   },
   {
    "duration": 27,
    "start_time": "2023-10-13T18:31:47.209Z"
   },
   {
    "duration": 15,
    "start_time": "2023-10-13T18:31:47.237Z"
   },
   {
    "duration": 26,
    "start_time": "2023-10-13T18:31:47.254Z"
   },
   {
    "duration": 22,
    "start_time": "2023-10-13T18:31:47.282Z"
   },
   {
    "duration": 43,
    "start_time": "2023-10-13T18:31:47.306Z"
   },
   {
    "duration": 22,
    "start_time": "2023-10-13T18:31:47.351Z"
   },
   {
    "duration": 308,
    "start_time": "2023-10-13T18:31:47.375Z"
   },
   {
    "duration": 12,
    "start_time": "2023-10-13T18:31:47.685Z"
   },
   {
    "duration": 8,
    "start_time": "2023-10-13T18:31:47.699Z"
   },
   {
    "duration": 12,
    "start_time": "2023-10-13T18:31:47.709Z"
   },
   {
    "duration": 17,
    "start_time": "2023-10-13T18:31:47.723Z"
   },
   {
    "duration": 53,
    "start_time": "2023-10-13T18:31:47.741Z"
   },
   {
    "duration": 14,
    "start_time": "2023-10-13T18:31:47.796Z"
   },
   {
    "duration": 6,
    "start_time": "2023-10-13T18:31:47.812Z"
   },
   {
    "duration": 42,
    "start_time": "2023-10-13T18:31:47.820Z"
   },
   {
    "duration": 18,
    "start_time": "2023-10-13T18:31:47.866Z"
   },
   {
    "duration": 13,
    "start_time": "2023-10-13T18:31:47.886Z"
   },
   {
    "duration": 15,
    "start_time": "2023-10-13T18:31:47.901Z"
   },
   {
    "duration": 7,
    "start_time": "2023-10-13T18:31:47.918Z"
   },
   {
    "duration": 10,
    "start_time": "2023-10-13T18:31:47.927Z"
   },
   {
    "duration": 14,
    "start_time": "2023-10-13T18:31:47.939Z"
   },
   {
    "duration": 80,
    "start_time": "2023-10-13T18:31:47.955Z"
   },
   {
    "duration": 293,
    "start_time": "2023-10-13T18:31:48.036Z"
   },
   {
    "duration": 12,
    "start_time": "2023-10-13T18:31:48.331Z"
   },
   {
    "duration": 194,
    "start_time": "2023-10-13T18:31:48.345Z"
   },
   {
    "duration": 5,
    "start_time": "2023-10-13T18:31:48.541Z"
   },
   {
    "duration": 42,
    "start_time": "2023-10-13T18:31:48.548Z"
   },
   {
    "duration": 77,
    "start_time": "2023-10-13T18:31:48.592Z"
   },
   {
    "duration": 221,
    "start_time": "2023-10-13T18:31:48.672Z"
   },
   {
    "duration": 4,
    "start_time": "2023-10-13T18:31:48.894Z"
   },
   {
    "duration": 370,
    "start_time": "2023-10-13T18:31:48.899Z"
   },
   {
    "duration": 11,
    "start_time": "2023-10-13T18:31:49.271Z"
   },
   {
    "duration": 232,
    "start_time": "2023-10-13T18:31:49.284Z"
   },
   {
    "duration": 4,
    "start_time": "2023-10-13T18:35:36.034Z"
   },
   {
    "duration": 188,
    "start_time": "2023-10-13T18:36:01.320Z"
   },
   {
    "duration": 12,
    "start_time": "2023-10-13T18:36:55.058Z"
   },
   {
    "duration": 208,
    "start_time": "2023-10-13T18:37:26.711Z"
   },
   {
    "duration": 1196,
    "start_time": "2023-10-14T13:34:01.896Z"
   },
   {
    "duration": 76,
    "start_time": "2023-10-14T13:34:03.094Z"
   },
   {
    "duration": 10,
    "start_time": "2023-10-14T13:34:03.171Z"
   },
   {
    "duration": 19,
    "start_time": "2023-10-14T13:34:03.182Z"
   },
   {
    "duration": 7,
    "start_time": "2023-10-14T13:34:03.202Z"
   },
   {
    "duration": 7,
    "start_time": "2023-10-14T13:34:03.210Z"
   },
   {
    "duration": 221,
    "start_time": "2023-10-14T13:34:03.218Z"
   },
   {
    "duration": 64,
    "start_time": "2023-10-14T13:34:03.441Z"
   },
   {
    "duration": 10,
    "start_time": "2023-10-14T13:34:03.506Z"
   },
   {
    "duration": 15,
    "start_time": "2023-10-14T13:34:03.517Z"
   },
   {
    "duration": 6,
    "start_time": "2023-10-14T13:34:03.533Z"
   },
   {
    "duration": 394,
    "start_time": "2023-10-14T13:34:03.540Z"
   },
   {
    "duration": 56,
    "start_time": "2023-10-14T13:34:03.935Z"
   },
   {
    "duration": 9,
    "start_time": "2023-10-14T13:34:03.993Z"
   },
   {
    "duration": 7,
    "start_time": "2023-10-14T13:34:04.003Z"
   },
   {
    "duration": 7,
    "start_time": "2023-10-14T13:34:04.011Z"
   },
   {
    "duration": 6,
    "start_time": "2023-10-14T13:34:04.019Z"
   },
   {
    "duration": 10,
    "start_time": "2023-10-14T13:34:04.026Z"
   },
   {
    "duration": 6,
    "start_time": "2023-10-14T13:34:04.037Z"
   },
   {
    "duration": 8,
    "start_time": "2023-10-14T13:34:04.044Z"
   },
   {
    "duration": 5,
    "start_time": "2023-10-14T13:34:04.054Z"
   },
   {
    "duration": 4,
    "start_time": "2023-10-14T13:34:04.061Z"
   },
   {
    "duration": 6,
    "start_time": "2023-10-14T13:34:04.066Z"
   },
   {
    "duration": 5,
    "start_time": "2023-10-14T13:34:04.073Z"
   },
   {
    "duration": 5,
    "start_time": "2023-10-14T13:34:04.079Z"
   },
   {
    "duration": 7,
    "start_time": "2023-10-14T13:34:04.085Z"
   },
   {
    "duration": 4,
    "start_time": "2023-10-14T13:34:04.093Z"
   },
   {
    "duration": 42,
    "start_time": "2023-10-14T13:34:04.099Z"
   },
   {
    "duration": 5,
    "start_time": "2023-10-14T13:34:04.142Z"
   },
   {
    "duration": 6,
    "start_time": "2023-10-14T13:34:04.148Z"
   },
   {
    "duration": 4,
    "start_time": "2023-10-14T13:34:04.156Z"
   },
   {
    "duration": 6,
    "start_time": "2023-10-14T13:34:04.161Z"
   },
   {
    "duration": 5,
    "start_time": "2023-10-14T13:34:04.168Z"
   },
   {
    "duration": 9,
    "start_time": "2023-10-14T13:34:04.174Z"
   },
   {
    "duration": 265,
    "start_time": "2023-10-14T13:34:04.184Z"
   },
   {
    "duration": 9,
    "start_time": "2023-10-14T13:34:04.451Z"
   },
   {
    "duration": 152,
    "start_time": "2023-10-14T13:34:04.461Z"
   },
   {
    "duration": 3,
    "start_time": "2023-10-14T13:34:04.614Z"
   },
   {
    "duration": 29,
    "start_time": "2023-10-14T13:34:04.618Z"
   },
   {
    "duration": 9,
    "start_time": "2023-10-14T13:34:04.648Z"
   },
   {
    "duration": 158,
    "start_time": "2023-10-14T13:34:04.660Z"
   },
   {
    "duration": 3,
    "start_time": "2023-10-14T13:34:04.819Z"
   },
   {
    "duration": 260,
    "start_time": "2023-10-14T13:34:04.823Z"
   },
   {
    "duration": 9,
    "start_time": "2023-10-14T13:34:05.084Z"
   },
   {
    "duration": 151,
    "start_time": "2023-10-14T13:34:05.095Z"
   },
   {
    "duration": 2,
    "start_time": "2023-10-14T13:34:05.248Z"
   },
   {
    "duration": 199,
    "start_time": "2023-10-14T13:34:05.252Z"
   },
   {
    "duration": 10,
    "start_time": "2023-10-14T13:34:05.452Z"
   },
   {
    "duration": 184,
    "start_time": "2023-10-14T13:34:05.463Z"
   },
   {
    "duration": 9,
    "start_time": "2023-10-14T13:42:30.880Z"
   },
   {
    "duration": 1016,
    "start_time": "2023-10-14T13:42:43.801Z"
   },
   {
    "duration": 29,
    "start_time": "2023-10-14T13:42:44.819Z"
   },
   {
    "duration": 10,
    "start_time": "2023-10-14T13:42:44.849Z"
   },
   {
    "duration": 36,
    "start_time": "2023-10-14T13:42:44.861Z"
   },
   {
    "duration": 15,
    "start_time": "2023-10-14T13:42:44.898Z"
   },
   {
    "duration": 12,
    "start_time": "2023-10-14T13:42:44.914Z"
   },
   {
    "duration": 250,
    "start_time": "2023-10-14T13:42:44.927Z"
   },
   {
    "duration": 24,
    "start_time": "2023-10-14T13:42:45.178Z"
   },
   {
    "duration": 8,
    "start_time": "2023-10-14T13:42:45.204Z"
   },
   {
    "duration": 29,
    "start_time": "2023-10-14T13:42:45.214Z"
   },
   {
    "duration": 6,
    "start_time": "2023-10-14T13:42:45.245Z"
   },
   {
    "duration": 416,
    "start_time": "2023-10-14T13:42:45.252Z"
   },
   {
    "duration": 16,
    "start_time": "2023-10-14T13:42:45.669Z"
   },
   {
    "duration": 17,
    "start_time": "2023-10-14T13:42:45.686Z"
   },
   {
    "duration": 15,
    "start_time": "2023-10-14T13:42:45.704Z"
   },
   {
    "duration": 14,
    "start_time": "2023-10-14T13:42:45.720Z"
   },
   {
    "duration": 8,
    "start_time": "2023-10-14T13:42:45.735Z"
   },
   {
    "duration": 15,
    "start_time": "2023-10-14T13:42:45.744Z"
   },
   {
    "duration": 5,
    "start_time": "2023-10-14T13:42:45.761Z"
   },
   {
    "duration": 10,
    "start_time": "2023-10-14T13:42:45.768Z"
   },
   {
    "duration": 6,
    "start_time": "2023-10-14T13:42:45.779Z"
   },
   {
    "duration": 24,
    "start_time": "2023-10-14T13:42:45.786Z"
   },
   {
    "duration": 8,
    "start_time": "2023-10-14T13:42:45.811Z"
   },
   {
    "duration": 9,
    "start_time": "2023-10-14T13:42:45.820Z"
   },
   {
    "duration": 9,
    "start_time": "2023-10-14T13:42:45.830Z"
   },
   {
    "duration": 5,
    "start_time": "2023-10-14T13:42:45.840Z"
   },
   {
    "duration": 8,
    "start_time": "2023-10-14T13:42:45.846Z"
   },
   {
    "duration": 9,
    "start_time": "2023-10-14T13:42:45.858Z"
   },
   {
    "duration": 6,
    "start_time": "2023-10-14T13:42:45.868Z"
   },
   {
    "duration": 6,
    "start_time": "2023-10-14T13:42:45.875Z"
   },
   {
    "duration": 4,
    "start_time": "2023-10-14T13:42:45.883Z"
   },
   {
    "duration": 4,
    "start_time": "2023-10-14T13:42:45.889Z"
   },
   {
    "duration": 5,
    "start_time": "2023-10-14T13:42:45.895Z"
   },
   {
    "duration": 41,
    "start_time": "2023-10-14T13:42:45.901Z"
   },
   {
    "duration": 238,
    "start_time": "2023-10-14T13:42:45.943Z"
   },
   {
    "duration": 8,
    "start_time": "2023-10-14T13:42:46.183Z"
   },
   {
    "duration": 170,
    "start_time": "2023-10-14T13:42:46.193Z"
   },
   {
    "duration": 3,
    "start_time": "2023-10-14T13:42:46.364Z"
   },
   {
    "duration": 20,
    "start_time": "2023-10-14T13:42:46.368Z"
   },
   {
    "duration": 8,
    "start_time": "2023-10-14T13:42:46.389Z"
   },
   {
    "duration": 167,
    "start_time": "2023-10-14T13:42:46.398Z"
   },
   {
    "duration": 3,
    "start_time": "2023-10-14T13:42:46.566Z"
   },
   {
    "duration": 258,
    "start_time": "2023-10-14T13:42:46.570Z"
   },
   {
    "duration": 12,
    "start_time": "2023-10-14T13:42:46.829Z"
   },
   {
    "duration": 150,
    "start_time": "2023-10-14T13:42:46.843Z"
   },
   {
    "duration": 3,
    "start_time": "2023-10-14T13:42:46.994Z"
   },
   {
    "duration": 190,
    "start_time": "2023-10-14T13:42:46.998Z"
   },
   {
    "duration": 10,
    "start_time": "2023-10-14T13:42:47.189Z"
   },
   {
    "duration": 187,
    "start_time": "2023-10-14T13:42:47.200Z"
   },
   {
    "duration": 9,
    "start_time": "2023-10-14T13:42:47.388Z"
   },
   {
    "duration": 5,
    "start_time": "2023-10-14T13:43:04.185Z"
   },
   {
    "duration": 7,
    "start_time": "2023-10-14T13:43:09.168Z"
   },
   {
    "duration": 9,
    "start_time": "2023-10-14T13:43:22.110Z"
   },
   {
    "duration": 14,
    "start_time": "2023-10-14T13:44:33.449Z"
   },
   {
    "duration": 11,
    "start_time": "2023-10-14T13:44:40.287Z"
   },
   {
    "duration": 9,
    "start_time": "2023-10-14T13:46:08.926Z"
   },
   {
    "duration": 17,
    "start_time": "2023-10-14T13:46:14.591Z"
   },
   {
    "duration": 8,
    "start_time": "2023-10-14T13:48:44.501Z"
   },
   {
    "duration": 12,
    "start_time": "2023-10-14T13:52:24.083Z"
   },
   {
    "duration": 1093,
    "start_time": "2023-10-14T13:52:59.652Z"
   },
   {
    "duration": 30,
    "start_time": "2023-10-14T13:53:00.748Z"
   },
   {
    "duration": 95,
    "start_time": "2023-10-14T13:53:00.779Z"
   },
   {
    "duration": 55,
    "start_time": "2023-10-14T13:53:00.876Z"
   },
   {
    "duration": 50,
    "start_time": "2023-10-14T13:53:00.932Z"
   },
   {
    "duration": 72,
    "start_time": "2023-10-14T13:53:00.984Z"
   },
   {
    "duration": 299,
    "start_time": "2023-10-14T13:53:01.057Z"
   },
   {
    "duration": 31,
    "start_time": "2023-10-14T13:53:01.358Z"
   },
   {
    "duration": 28,
    "start_time": "2023-10-14T13:53:01.391Z"
   },
   {
    "duration": 36,
    "start_time": "2023-10-14T13:53:01.421Z"
   },
   {
    "duration": 62,
    "start_time": "2023-10-14T13:53:01.459Z"
   },
   {
    "duration": 553,
    "start_time": "2023-10-14T13:53:01.523Z"
   },
   {
    "duration": 27,
    "start_time": "2023-10-14T13:53:02.077Z"
   },
   {
    "duration": 9,
    "start_time": "2023-10-14T13:53:02.106Z"
   },
   {
    "duration": 17,
    "start_time": "2023-10-14T13:53:02.117Z"
   },
   {
    "duration": 22,
    "start_time": "2023-10-14T13:53:02.136Z"
   },
   {
    "duration": 9,
    "start_time": "2023-10-14T13:53:02.159Z"
   },
   {
    "duration": 13,
    "start_time": "2023-10-14T13:53:02.169Z"
   },
   {
    "duration": 14,
    "start_time": "2023-10-14T13:53:02.184Z"
   },
   {
    "duration": 9,
    "start_time": "2023-10-14T13:53:02.199Z"
   },
   {
    "duration": 14,
    "start_time": "2023-10-14T13:53:02.209Z"
   },
   {
    "duration": 4,
    "start_time": "2023-10-14T13:53:02.225Z"
   },
   {
    "duration": 19,
    "start_time": "2023-10-14T13:53:02.231Z"
   },
   {
    "duration": 14,
    "start_time": "2023-10-14T13:53:02.252Z"
   },
   {
    "duration": 12,
    "start_time": "2023-10-14T13:53:02.267Z"
   },
   {
    "duration": 13,
    "start_time": "2023-10-14T13:53:02.280Z"
   },
   {
    "duration": 20,
    "start_time": "2023-10-14T13:53:02.294Z"
   },
   {
    "duration": 24,
    "start_time": "2023-10-14T13:53:02.316Z"
   },
   {
    "duration": 8,
    "start_time": "2023-10-14T13:53:02.341Z"
   },
   {
    "duration": 16,
    "start_time": "2023-10-14T13:53:02.351Z"
   },
   {
    "duration": 5,
    "start_time": "2023-10-14T13:53:02.369Z"
   },
   {
    "duration": 5,
    "start_time": "2023-10-14T13:53:02.375Z"
   },
   {
    "duration": 26,
    "start_time": "2023-10-14T13:53:02.381Z"
   },
   {
    "duration": 17,
    "start_time": "2023-10-14T13:53:02.409Z"
   },
   {
    "duration": 288,
    "start_time": "2023-10-14T13:53:02.428Z"
   },
   {
    "duration": 9,
    "start_time": "2023-10-14T13:53:02.718Z"
   },
   {
    "duration": 157,
    "start_time": "2023-10-14T13:53:02.739Z"
   },
   {
    "duration": 3,
    "start_time": "2023-10-14T13:53:02.897Z"
   },
   {
    "duration": 19,
    "start_time": "2023-10-14T13:53:02.902Z"
   },
   {
    "duration": 27,
    "start_time": "2023-10-14T13:53:02.922Z"
   },
   {
    "duration": 170,
    "start_time": "2023-10-14T13:53:02.956Z"
   },
   {
    "duration": 17,
    "start_time": "2023-10-14T13:53:03.127Z"
   },
   {
    "duration": 269,
    "start_time": "2023-10-14T13:53:03.146Z"
   },
   {
    "duration": 9,
    "start_time": "2023-10-14T13:53:03.417Z"
   },
   {
    "duration": 168,
    "start_time": "2023-10-14T13:53:03.427Z"
   },
   {
    "duration": 3,
    "start_time": "2023-10-14T13:53:03.596Z"
   },
   {
    "duration": 214,
    "start_time": "2023-10-14T13:53:03.600Z"
   },
   {
    "duration": 10,
    "start_time": "2023-10-14T13:53:03.815Z"
   },
   {
    "duration": 186,
    "start_time": "2023-10-14T13:53:03.826Z"
   },
   {
    "duration": 10,
    "start_time": "2023-10-14T13:53:04.014Z"
   },
   {
    "duration": 21,
    "start_time": "2023-10-14T13:53:04.025Z"
   },
   {
    "duration": 21,
    "start_time": "2023-10-14T13:53:04.047Z"
   },
   {
    "duration": 10,
    "start_time": "2023-10-14T13:53:04.069Z"
   },
   {
    "duration": 12,
    "start_time": "2023-10-14T13:53:04.080Z"
   },
   {
    "duration": 11,
    "start_time": "2023-10-14T13:53:23.367Z"
   },
   {
    "duration": 12,
    "start_time": "2023-10-14T13:53:38.692Z"
   },
   {
    "duration": 3,
    "start_time": "2023-10-14T13:54:01.634Z"
   },
   {
    "duration": 71,
    "start_time": "2023-10-14T13:54:26.986Z"
   },
   {
    "duration": 2,
    "start_time": "2023-10-14T13:54:32.119Z"
   },
   {
    "duration": 3,
    "start_time": "2023-10-14T13:54:35.529Z"
   },
   {
    "duration": 3,
    "start_time": "2023-10-14T13:54:38.073Z"
   },
   {
    "duration": 1037,
    "start_time": "2023-10-14T13:54:42.178Z"
   },
   {
    "duration": 28,
    "start_time": "2023-10-14T13:54:43.217Z"
   },
   {
    "duration": 9,
    "start_time": "2023-10-14T13:54:43.247Z"
   },
   {
    "duration": 14,
    "start_time": "2023-10-14T13:54:43.258Z"
   },
   {
    "duration": 6,
    "start_time": "2023-10-14T13:54:43.274Z"
   },
   {
    "duration": 12,
    "start_time": "2023-10-14T13:54:43.281Z"
   },
   {
    "duration": 239,
    "start_time": "2023-10-14T13:54:43.295Z"
   },
   {
    "duration": 24,
    "start_time": "2023-10-14T13:54:43.535Z"
   },
   {
    "duration": 11,
    "start_time": "2023-10-14T13:54:43.561Z"
   },
   {
    "duration": 15,
    "start_time": "2023-10-14T13:54:43.573Z"
   },
   {
    "duration": 7,
    "start_time": "2023-10-14T13:54:43.589Z"
   },
   {
    "duration": 416,
    "start_time": "2023-10-14T13:54:43.597Z"
   },
   {
    "duration": 15,
    "start_time": "2023-10-14T13:54:44.014Z"
   },
   {
    "duration": 8,
    "start_time": "2023-10-14T13:54:44.032Z"
   },
   {
    "duration": 10,
    "start_time": "2023-10-14T13:54:44.041Z"
   },
   {
    "duration": 5,
    "start_time": "2023-10-14T13:54:44.053Z"
   },
   {
    "duration": 7,
    "start_time": "2023-10-14T13:54:44.059Z"
   },
   {
    "duration": 14,
    "start_time": "2023-10-14T13:54:44.067Z"
   },
   {
    "duration": 7,
    "start_time": "2023-10-14T13:54:44.083Z"
   },
   {
    "duration": 19,
    "start_time": "2023-10-14T13:54:44.091Z"
   },
   {
    "duration": 6,
    "start_time": "2023-10-14T13:54:44.111Z"
   },
   {
    "duration": 21,
    "start_time": "2023-10-14T13:54:44.118Z"
   },
   {
    "duration": 7,
    "start_time": "2023-10-14T13:54:44.141Z"
   },
   {
    "duration": 6,
    "start_time": "2023-10-14T13:54:44.150Z"
   },
   {
    "duration": 6,
    "start_time": "2023-10-14T13:54:44.157Z"
   },
   {
    "duration": 5,
    "start_time": "2023-10-14T13:54:44.164Z"
   },
   {
    "duration": 4,
    "start_time": "2023-10-14T13:54:44.170Z"
   },
   {
    "duration": 12,
    "start_time": "2023-10-14T13:54:44.175Z"
   },
   {
    "duration": 5,
    "start_time": "2023-10-14T13:54:44.188Z"
   },
   {
    "duration": 7,
    "start_time": "2023-10-14T13:54:44.194Z"
   },
   {
    "duration": 41,
    "start_time": "2023-10-14T13:54:44.202Z"
   },
   {
    "duration": 14,
    "start_time": "2023-10-14T13:54:44.245Z"
   },
   {
    "duration": 5,
    "start_time": "2023-10-14T13:54:44.261Z"
   },
   {
    "duration": 9,
    "start_time": "2023-10-14T13:54:44.268Z"
   },
   {
    "duration": 253,
    "start_time": "2023-10-14T13:54:44.278Z"
   },
   {
    "duration": 15,
    "start_time": "2023-10-14T13:54:44.532Z"
   },
   {
    "duration": 157,
    "start_time": "2023-10-14T13:54:44.548Z"
   },
   {
    "duration": 3,
    "start_time": "2023-10-14T13:54:44.706Z"
   },
   {
    "duration": 18,
    "start_time": "2023-10-14T13:54:44.710Z"
   },
   {
    "duration": 16,
    "start_time": "2023-10-14T13:54:44.730Z"
   },
   {
    "duration": 161,
    "start_time": "2023-10-14T13:54:44.749Z"
   },
   {
    "duration": 2,
    "start_time": "2023-10-14T13:54:44.912Z"
   },
   {
    "duration": 259,
    "start_time": "2023-10-14T13:54:44.915Z"
   },
   {
    "duration": 10,
    "start_time": "2023-10-14T13:54:45.175Z"
   },
   {
    "duration": 153,
    "start_time": "2023-10-14T13:54:45.186Z"
   },
   {
    "duration": 3,
    "start_time": "2023-10-14T13:54:45.341Z"
   },
   {
    "duration": 192,
    "start_time": "2023-10-14T13:54:45.345Z"
   },
   {
    "duration": 10,
    "start_time": "2023-10-14T13:54:45.538Z"
   },
   {
    "duration": 176,
    "start_time": "2023-10-14T13:54:45.549Z"
   },
   {
    "duration": 13,
    "start_time": "2023-10-14T13:54:45.726Z"
   },
   {
    "duration": 7,
    "start_time": "2023-10-14T13:54:45.741Z"
   },
   {
    "duration": 17,
    "start_time": "2023-10-14T13:54:45.750Z"
   },
   {
    "duration": 9,
    "start_time": "2023-10-14T13:54:45.768Z"
   },
   {
    "duration": 11,
    "start_time": "2023-10-14T13:54:45.778Z"
   },
   {
    "duration": 22,
    "start_time": "2023-10-14T13:55:14.523Z"
   },
   {
    "duration": 75,
    "start_time": "2023-10-14T13:56:34.896Z"
   },
   {
    "duration": 26,
    "start_time": "2023-10-14T13:56:51.185Z"
   },
   {
    "duration": 89,
    "start_time": "2023-10-14T13:57:26.787Z"
   },
   {
    "duration": 18,
    "start_time": "2023-10-14T13:57:30.670Z"
   },
   {
    "duration": 7,
    "start_time": "2023-10-14T14:06:37.230Z"
   },
   {
    "duration": 4,
    "start_time": "2023-10-14T14:07:10.010Z"
   },
   {
    "duration": 3,
    "start_time": "2023-10-14T14:07:24.565Z"
   },
   {
    "duration": 9,
    "start_time": "2023-10-14T14:07:31.626Z"
   },
   {
    "duration": 4,
    "start_time": "2023-10-14T14:07:34.322Z"
   },
   {
    "duration": 9,
    "start_time": "2023-10-14T14:07:39.518Z"
   },
   {
    "duration": 1024,
    "start_time": "2023-10-14T14:09:16.198Z"
   },
   {
    "duration": 29,
    "start_time": "2023-10-14T14:09:17.224Z"
   },
   {
    "duration": 11,
    "start_time": "2023-10-14T14:09:17.255Z"
   },
   {
    "duration": 16,
    "start_time": "2023-10-14T14:09:17.268Z"
   },
   {
    "duration": 8,
    "start_time": "2023-10-14T14:09:17.285Z"
   },
   {
    "duration": 7,
    "start_time": "2023-10-14T14:09:17.294Z"
   },
   {
    "duration": 259,
    "start_time": "2023-10-14T14:09:17.303Z"
   },
   {
    "duration": 24,
    "start_time": "2023-10-14T14:09:17.563Z"
   },
   {
    "duration": 10,
    "start_time": "2023-10-14T14:09:17.589Z"
   },
   {
    "duration": 17,
    "start_time": "2023-10-14T14:09:17.601Z"
   },
   {
    "duration": 21,
    "start_time": "2023-10-14T14:09:17.619Z"
   },
   {
    "duration": 402,
    "start_time": "2023-10-14T14:09:17.642Z"
   },
   {
    "duration": 15,
    "start_time": "2023-10-14T14:09:18.046Z"
   },
   {
    "duration": 9,
    "start_time": "2023-10-14T14:09:18.062Z"
   },
   {
    "duration": 7,
    "start_time": "2023-10-14T14:09:18.072Z"
   },
   {
    "duration": 14,
    "start_time": "2023-10-14T14:09:18.081Z"
   },
   {
    "duration": 6,
    "start_time": "2023-10-14T14:09:18.096Z"
   },
   {
    "duration": 9,
    "start_time": "2023-10-14T14:09:18.104Z"
   },
   {
    "duration": 6,
    "start_time": "2023-10-14T14:09:18.114Z"
   },
   {
    "duration": 25,
    "start_time": "2023-10-14T14:09:18.121Z"
   },
   {
    "duration": 6,
    "start_time": "2023-10-14T14:09:18.147Z"
   },
   {
    "duration": 5,
    "start_time": "2023-10-14T14:09:18.154Z"
   },
   {
    "duration": 6,
    "start_time": "2023-10-14T14:09:18.160Z"
   },
   {
    "duration": 5,
    "start_time": "2023-10-14T14:09:18.168Z"
   },
   {
    "duration": 5,
    "start_time": "2023-10-14T14:09:18.174Z"
   },
   {
    "duration": 5,
    "start_time": "2023-10-14T14:09:18.180Z"
   },
   {
    "duration": 11,
    "start_time": "2023-10-14T14:09:18.186Z"
   },
   {
    "duration": 45,
    "start_time": "2023-10-14T14:09:18.201Z"
   },
   {
    "duration": 6,
    "start_time": "2023-10-14T14:09:18.248Z"
   },
   {
    "duration": 5,
    "start_time": "2023-10-14T14:09:18.256Z"
   },
   {
    "duration": 5,
    "start_time": "2023-10-14T14:09:18.262Z"
   },
   {
    "duration": 4,
    "start_time": "2023-10-14T14:09:18.269Z"
   },
   {
    "duration": 5,
    "start_time": "2023-10-14T14:09:18.274Z"
   },
   {
    "duration": 8,
    "start_time": "2023-10-14T14:09:18.280Z"
   },
   {
    "duration": 278,
    "start_time": "2023-10-14T14:09:18.290Z"
   },
   {
    "duration": 10,
    "start_time": "2023-10-14T14:09:18.569Z"
   },
   {
    "duration": 165,
    "start_time": "2023-10-14T14:09:18.581Z"
   },
   {
    "duration": 3,
    "start_time": "2023-10-14T14:09:18.747Z"
   },
   {
    "duration": 20,
    "start_time": "2023-10-14T14:09:18.751Z"
   },
   {
    "duration": 9,
    "start_time": "2023-10-14T14:09:18.772Z"
   },
   {
    "duration": 172,
    "start_time": "2023-10-14T14:09:18.783Z"
   },
   {
    "duration": 3,
    "start_time": "2023-10-14T14:09:18.956Z"
   },
   {
    "duration": 292,
    "start_time": "2023-10-14T14:09:18.960Z"
   },
   {
    "duration": 10,
    "start_time": "2023-10-14T14:09:19.253Z"
   },
   {
    "duration": 160,
    "start_time": "2023-10-14T14:09:19.264Z"
   },
   {
    "duration": 3,
    "start_time": "2023-10-14T14:09:19.425Z"
   },
   {
    "duration": 213,
    "start_time": "2023-10-14T14:09:19.439Z"
   },
   {
    "duration": 9,
    "start_time": "2023-10-14T14:09:19.653Z"
   },
   {
    "duration": 192,
    "start_time": "2023-10-14T14:09:19.664Z"
   },
   {
    "duration": 10,
    "start_time": "2023-10-14T14:09:19.857Z"
   },
   {
    "duration": 8,
    "start_time": "2023-10-14T14:09:19.868Z"
   },
   {
    "duration": 25,
    "start_time": "2023-10-14T14:09:19.877Z"
   },
   {
    "duration": 30,
    "start_time": "2023-10-14T14:09:33.459Z"
   },
   {
    "duration": 33,
    "start_time": "2023-10-14T14:10:32.290Z"
   },
   {
    "duration": 5,
    "start_time": "2023-10-14T14:18:31.144Z"
   },
   {
    "duration": 18,
    "start_time": "2023-10-14T14:18:36.126Z"
   },
   {
    "duration": 5,
    "start_time": "2023-10-14T14:18:59.051Z"
   },
   {
    "duration": 7,
    "start_time": "2023-10-14T14:20:51.895Z"
   },
   {
    "duration": 24,
    "start_time": "2023-10-14T14:21:23.442Z"
   },
   {
    "duration": 7,
    "start_time": "2023-10-14T14:22:01.951Z"
   },
   {
    "duration": 21,
    "start_time": "2023-10-14T14:22:15.192Z"
   },
   {
    "duration": 5,
    "start_time": "2023-10-14T14:22:40.207Z"
   },
   {
    "duration": 3,
    "start_time": "2023-10-14T14:26:19.829Z"
   },
   {
    "duration": 166,
    "start_time": "2023-10-14T14:35:12.567Z"
   },
   {
    "duration": 160,
    "start_time": "2023-10-14T14:36:30.747Z"
   },
   {
    "duration": 164,
    "start_time": "2023-10-14T14:38:09.187Z"
   },
   {
    "duration": 2,
    "start_time": "2023-10-14T14:38:41.859Z"
   },
   {
    "duration": 9,
    "start_time": "2023-10-14T14:38:44.218Z"
   },
   {
    "duration": 201,
    "start_time": "2023-10-14T14:38:48.594Z"
   },
   {
    "duration": 10,
    "start_time": "2023-10-14T14:38:49.772Z"
   },
   {
    "duration": 161,
    "start_time": "2023-10-14T14:38:52.083Z"
   },
   {
    "duration": 147,
    "start_time": "2023-10-14T14:39:44.848Z"
   },
   {
    "duration": 210,
    "start_time": "2023-10-14T14:40:17.134Z"
   },
   {
    "duration": 187,
    "start_time": "2023-10-14T14:40:35.688Z"
   },
   {
    "duration": 163,
    "start_time": "2023-10-14T14:41:44.017Z"
   },
   {
    "duration": 172,
    "start_time": "2023-10-14T14:41:45.549Z"
   },
   {
    "duration": 155,
    "start_time": "2023-10-14T14:41:49.935Z"
   },
   {
    "duration": 168,
    "start_time": "2023-10-14T14:42:08.497Z"
   },
   {
    "duration": 5,
    "start_time": "2023-10-14T14:51:17.640Z"
   },
   {
    "duration": 243,
    "start_time": "2023-10-14T14:51:19.146Z"
   },
   {
    "duration": 10,
    "start_time": "2023-10-14T14:51:20.843Z"
   },
   {
    "duration": 3,
    "start_time": "2023-10-14T14:51:29.298Z"
   },
   {
    "duration": 3,
    "start_time": "2023-10-14T14:51:38.439Z"
   },
   {
    "duration": 4,
    "start_time": "2023-10-14T14:51:42.462Z"
   },
   {
    "duration": 238,
    "start_time": "2023-10-14T14:51:43.341Z"
   },
   {
    "duration": 11,
    "start_time": "2023-10-14T14:51:45.043Z"
   },
   {
    "duration": 170,
    "start_time": "2023-10-14T14:51:48.139Z"
   },
   {
    "duration": 4,
    "start_time": "2023-10-14T14:52:50.782Z"
   },
   {
    "duration": 319,
    "start_time": "2023-10-14T14:52:52.459Z"
   },
   {
    "duration": 12,
    "start_time": "2023-10-14T14:52:54.558Z"
   },
   {
    "duration": 170,
    "start_time": "2023-10-14T14:52:57.659Z"
   },
   {
    "duration": 147,
    "start_time": "2023-10-14T14:53:05.773Z"
   },
   {
    "duration": 1245,
    "start_time": "2023-10-14T14:53:14.080Z"
   },
   {
    "duration": 29,
    "start_time": "2023-10-14T14:53:15.327Z"
   },
   {
    "duration": 9,
    "start_time": "2023-10-14T14:53:15.358Z"
   },
   {
    "duration": 16,
    "start_time": "2023-10-14T14:53:15.369Z"
   },
   {
    "duration": 7,
    "start_time": "2023-10-14T14:53:15.386Z"
   },
   {
    "duration": 8,
    "start_time": "2023-10-14T14:53:15.395Z"
   },
   {
    "duration": 258,
    "start_time": "2023-10-14T14:53:15.404Z"
   },
   {
    "duration": 24,
    "start_time": "2023-10-14T14:53:15.664Z"
   },
   {
    "duration": 10,
    "start_time": "2023-10-14T14:53:15.690Z"
   },
   {
    "duration": 15,
    "start_time": "2023-10-14T14:53:15.702Z"
   },
   {
    "duration": 22,
    "start_time": "2023-10-14T14:53:15.718Z"
   },
   {
    "duration": 416,
    "start_time": "2023-10-14T14:53:15.742Z"
   },
   {
    "duration": 16,
    "start_time": "2023-10-14T14:53:16.160Z"
   },
   {
    "duration": 9,
    "start_time": "2023-10-14T14:53:16.177Z"
   },
   {
    "duration": 13,
    "start_time": "2023-10-14T14:53:16.187Z"
   },
   {
    "duration": 13,
    "start_time": "2023-10-14T14:53:16.202Z"
   },
   {
    "duration": 7,
    "start_time": "2023-10-14T14:53:16.217Z"
   },
   {
    "duration": 24,
    "start_time": "2023-10-14T14:53:16.226Z"
   },
   {
    "duration": 9,
    "start_time": "2023-10-14T14:53:16.252Z"
   },
   {
    "duration": 10,
    "start_time": "2023-10-14T14:53:16.262Z"
   },
   {
    "duration": 6,
    "start_time": "2023-10-14T14:53:16.273Z"
   },
   {
    "duration": 10,
    "start_time": "2023-10-14T14:53:16.281Z"
   },
   {
    "duration": 7,
    "start_time": "2023-10-14T14:53:16.292Z"
   },
   {
    "duration": 6,
    "start_time": "2023-10-14T14:53:16.300Z"
   },
   {
    "duration": 41,
    "start_time": "2023-10-14T14:53:16.308Z"
   },
   {
    "duration": 10,
    "start_time": "2023-10-14T14:53:16.352Z"
   },
   {
    "duration": 6,
    "start_time": "2023-10-14T14:53:16.364Z"
   },
   {
    "duration": 15,
    "start_time": "2023-10-14T14:53:16.374Z"
   },
   {
    "duration": 6,
    "start_time": "2023-10-14T14:53:16.390Z"
   },
   {
    "duration": 7,
    "start_time": "2023-10-14T14:53:16.397Z"
   },
   {
    "duration": 6,
    "start_time": "2023-10-14T14:53:16.405Z"
   },
   {
    "duration": 5,
    "start_time": "2023-10-14T14:53:16.439Z"
   },
   {
    "duration": 8,
    "start_time": "2023-10-14T14:53:16.445Z"
   },
   {
    "duration": 11,
    "start_time": "2023-10-14T14:53:16.454Z"
   },
   {
    "duration": 255,
    "start_time": "2023-10-14T14:53:16.466Z"
   },
   {
    "duration": 8,
    "start_time": "2023-10-14T14:53:16.722Z"
   },
   {
    "duration": 153,
    "start_time": "2023-10-14T14:53:16.739Z"
   },
   {
    "duration": 4,
    "start_time": "2023-10-14T14:53:16.893Z"
   },
   {
    "duration": 19,
    "start_time": "2023-10-14T14:53:16.898Z"
   },
   {
    "duration": 21,
    "start_time": "2023-10-14T14:53:16.918Z"
   },
   {
    "duration": 155,
    "start_time": "2023-10-14T14:53:16.941Z"
   },
   {
    "duration": 4,
    "start_time": "2023-10-14T14:53:17.097Z"
   },
   {
    "duration": 280,
    "start_time": "2023-10-14T14:53:17.102Z"
   },
   {
    "duration": 10,
    "start_time": "2023-10-14T14:53:17.383Z"
   },
   {
    "duration": 170,
    "start_time": "2023-10-14T14:53:17.394Z"
   },
   {
    "duration": 3,
    "start_time": "2023-10-14T14:53:17.565Z"
   },
   {
    "duration": 227,
    "start_time": "2023-10-14T14:53:17.570Z"
   },
   {
    "duration": 10,
    "start_time": "2023-10-14T14:53:17.798Z"
   },
   {
    "duration": 174,
    "start_time": "2023-10-14T14:53:17.809Z"
   },
   {
    "duration": 10,
    "start_time": "2023-10-14T14:53:17.984Z"
   },
   {
    "duration": 11,
    "start_time": "2023-10-14T14:53:17.996Z"
   },
   {
    "duration": 32,
    "start_time": "2023-10-14T14:53:18.008Z"
   },
   {
    "duration": 37,
    "start_time": "2023-10-14T14:53:18.042Z"
   },
   {
    "duration": 19,
    "start_time": "2023-10-14T14:53:18.080Z"
   },
   {
    "duration": 40,
    "start_time": "2023-10-14T14:53:18.101Z"
   },
   {
    "duration": 182,
    "start_time": "2023-10-14T14:53:18.142Z"
   },
   {
    "duration": 168,
    "start_time": "2023-10-14T14:53:18.325Z"
   },
   {
    "duration": 170,
    "start_time": "2023-10-14T14:53:18.494Z"
   },
   {
    "duration": 187,
    "start_time": "2023-10-14T14:53:18.665Z"
   },
   {
    "duration": 1087,
    "start_time": "2023-10-14T15:03:52.367Z"
   },
   {
    "duration": 30,
    "start_time": "2023-10-14T15:03:53.456Z"
   },
   {
    "duration": 11,
    "start_time": "2023-10-14T15:03:53.487Z"
   },
   {
    "duration": 16,
    "start_time": "2023-10-14T15:03:53.500Z"
   },
   {
    "duration": 9,
    "start_time": "2023-10-14T15:03:53.519Z"
   },
   {
    "duration": 12,
    "start_time": "2023-10-14T15:03:53.530Z"
   },
   {
    "duration": 295,
    "start_time": "2023-10-14T15:03:53.544Z"
   },
   {
    "duration": 24,
    "start_time": "2023-10-14T15:03:53.840Z"
   },
   {
    "duration": 10,
    "start_time": "2023-10-14T15:03:53.866Z"
   },
   {
    "duration": 15,
    "start_time": "2023-10-14T15:03:53.878Z"
   },
   {
    "duration": 7,
    "start_time": "2023-10-14T15:03:53.894Z"
   },
   {
    "duration": 442,
    "start_time": "2023-10-14T15:03:53.902Z"
   },
   {
    "duration": 16,
    "start_time": "2023-10-14T15:03:54.345Z"
   },
   {
    "duration": 9,
    "start_time": "2023-10-14T15:03:54.364Z"
   },
   {
    "duration": 8,
    "start_time": "2023-10-14T15:03:54.374Z"
   },
   {
    "duration": 19,
    "start_time": "2023-10-14T15:03:54.383Z"
   },
   {
    "duration": 8,
    "start_time": "2023-10-14T15:03:54.403Z"
   },
   {
    "duration": 23,
    "start_time": "2023-10-14T15:03:54.412Z"
   },
   {
    "duration": 7,
    "start_time": "2023-10-14T15:03:54.437Z"
   },
   {
    "duration": 11,
    "start_time": "2023-10-14T15:03:54.446Z"
   },
   {
    "duration": 27,
    "start_time": "2023-10-14T15:03:54.458Z"
   },
   {
    "duration": 20,
    "start_time": "2023-10-14T15:03:54.487Z"
   },
   {
    "duration": 9,
    "start_time": "2023-10-14T15:03:54.509Z"
   },
   {
    "duration": 6,
    "start_time": "2023-10-14T15:03:54.519Z"
   },
   {
    "duration": 7,
    "start_time": "2023-10-14T15:03:54.526Z"
   },
   {
    "duration": 7,
    "start_time": "2023-10-14T15:03:54.534Z"
   },
   {
    "duration": 5,
    "start_time": "2023-10-14T15:03:54.543Z"
   },
   {
    "duration": 11,
    "start_time": "2023-10-14T15:03:54.550Z"
   },
   {
    "duration": 7,
    "start_time": "2023-10-14T15:03:54.562Z"
   },
   {
    "duration": 8,
    "start_time": "2023-10-14T15:03:54.571Z"
   },
   {
    "duration": 6,
    "start_time": "2023-10-14T15:03:54.580Z"
   },
   {
    "duration": 6,
    "start_time": "2023-10-14T15:03:54.588Z"
   },
   {
    "duration": 10,
    "start_time": "2023-10-14T15:03:54.596Z"
   },
   {
    "duration": 46,
    "start_time": "2023-10-14T15:03:54.608Z"
   },
   {
    "duration": 290,
    "start_time": "2023-10-14T15:03:54.655Z"
   },
   {
    "duration": 12,
    "start_time": "2023-10-14T15:03:54.947Z"
   },
   {
    "duration": 160,
    "start_time": "2023-10-14T15:03:54.961Z"
   },
   {
    "duration": 3,
    "start_time": "2023-10-14T15:03:55.122Z"
   },
   {
    "duration": 33,
    "start_time": "2023-10-14T15:03:55.127Z"
   },
   {
    "duration": 11,
    "start_time": "2023-10-14T15:03:55.162Z"
   },
   {
    "duration": 191,
    "start_time": "2023-10-14T15:03:55.178Z"
   },
   {
    "duration": 5,
    "start_time": "2023-10-14T15:03:55.370Z"
   },
   {
    "duration": 320,
    "start_time": "2023-10-14T15:03:55.376Z"
   },
   {
    "duration": 10,
    "start_time": "2023-10-14T15:03:55.698Z"
   },
   {
    "duration": 213,
    "start_time": "2023-10-14T15:03:55.710Z"
   },
   {
    "duration": 3,
    "start_time": "2023-10-14T15:03:55.924Z"
   },
   {
    "duration": 237,
    "start_time": "2023-10-14T15:03:55.929Z"
   },
   {
    "duration": 11,
    "start_time": "2023-10-14T15:03:56.167Z"
   },
   {
    "duration": 219,
    "start_time": "2023-10-14T15:03:56.179Z"
   },
   {
    "duration": 10,
    "start_time": "2023-10-14T15:03:56.401Z"
   },
   {
    "duration": 31,
    "start_time": "2023-10-14T15:03:56.412Z"
   },
   {
    "duration": 26,
    "start_time": "2023-10-14T15:03:56.444Z"
   },
   {
    "duration": 40,
    "start_time": "2023-10-14T15:03:56.471Z"
   },
   {
    "duration": 35,
    "start_time": "2023-10-14T15:03:56.512Z"
   },
   {
    "duration": 18,
    "start_time": "2023-10-14T15:03:56.549Z"
   },
   {
    "duration": 191,
    "start_time": "2023-10-14T15:03:56.568Z"
   },
   {
    "duration": 199,
    "start_time": "2023-10-14T15:03:56.760Z"
   },
   {
    "duration": 186,
    "start_time": "2023-10-14T15:03:56.960Z"
   },
   {
    "duration": 182,
    "start_time": "2023-10-14T15:03:57.148Z"
   },
   {
    "duration": 47,
    "start_time": "2023-10-14T17:44:54.004Z"
   },
   {
    "duration": 1457,
    "start_time": "2023-10-14T17:45:07.820Z"
   },
   {
    "duration": 78,
    "start_time": "2023-10-14T17:45:09.279Z"
   },
   {
    "duration": 14,
    "start_time": "2023-10-14T17:45:09.358Z"
   },
   {
    "duration": 32,
    "start_time": "2023-10-14T17:45:09.374Z"
   },
   {
    "duration": 14,
    "start_time": "2023-10-14T17:45:09.408Z"
   },
   {
    "duration": 13,
    "start_time": "2023-10-14T17:45:09.424Z"
   },
   {
    "duration": 357,
    "start_time": "2023-10-14T17:45:09.439Z"
   },
   {
    "duration": 79,
    "start_time": "2023-10-14T17:45:09.797Z"
   },
   {
    "duration": 16,
    "start_time": "2023-10-14T17:45:09.878Z"
   },
   {
    "duration": 25,
    "start_time": "2023-10-14T17:45:09.897Z"
   },
   {
    "duration": 25,
    "start_time": "2023-10-14T17:45:09.923Z"
   },
   {
    "duration": 465,
    "start_time": "2023-10-14T17:45:09.950Z"
   },
   {
    "duration": 65,
    "start_time": "2023-10-14T17:45:10.417Z"
   },
   {
    "duration": 10,
    "start_time": "2023-10-14T17:45:10.484Z"
   },
   {
    "duration": 22,
    "start_time": "2023-10-14T17:45:10.496Z"
   },
   {
    "duration": 26,
    "start_time": "2023-10-14T17:45:10.520Z"
   },
   {
    "duration": 28,
    "start_time": "2023-10-14T17:45:10.549Z"
   },
   {
    "duration": 39,
    "start_time": "2023-10-14T17:45:10.579Z"
   },
   {
    "duration": 25,
    "start_time": "2023-10-14T17:45:10.620Z"
   },
   {
    "duration": 28,
    "start_time": "2023-10-14T17:45:10.647Z"
   },
   {
    "duration": 15,
    "start_time": "2023-10-14T17:45:10.677Z"
   },
   {
    "duration": 29,
    "start_time": "2023-10-14T17:45:10.693Z"
   },
   {
    "duration": 38,
    "start_time": "2023-10-14T17:45:10.724Z"
   },
   {
    "duration": 31,
    "start_time": "2023-10-14T17:45:10.764Z"
   },
   {
    "duration": 22,
    "start_time": "2023-10-14T17:45:10.797Z"
   },
   {
    "duration": 21,
    "start_time": "2023-10-14T17:45:10.820Z"
   },
   {
    "duration": 20,
    "start_time": "2023-10-14T17:45:10.842Z"
   },
   {
    "duration": 25,
    "start_time": "2023-10-14T17:45:10.865Z"
   },
   {
    "duration": 12,
    "start_time": "2023-10-14T17:45:10.892Z"
   },
   {
    "duration": 21,
    "start_time": "2023-10-14T17:45:10.906Z"
   },
   {
    "duration": 16,
    "start_time": "2023-10-14T17:45:10.930Z"
   },
   {
    "duration": 11,
    "start_time": "2023-10-14T17:45:10.948Z"
   },
   {
    "duration": 14,
    "start_time": "2023-10-14T17:45:10.961Z"
   },
   {
    "duration": 20,
    "start_time": "2023-10-14T17:45:10.977Z"
   },
   {
    "duration": 316,
    "start_time": "2023-10-14T17:45:10.999Z"
   },
   {
    "duration": 10,
    "start_time": "2023-10-14T17:45:11.316Z"
   },
   {
    "duration": 177,
    "start_time": "2023-10-14T17:45:11.328Z"
   },
   {
    "duration": 3,
    "start_time": "2023-10-14T17:45:11.507Z"
   },
   {
    "duration": 35,
    "start_time": "2023-10-14T17:45:11.512Z"
   },
   {
    "duration": 23,
    "start_time": "2023-10-14T17:45:11.549Z"
   },
   {
    "duration": 190,
    "start_time": "2023-10-14T17:45:11.574Z"
   },
   {
    "duration": 4,
    "start_time": "2023-10-14T17:45:11.765Z"
   },
   {
    "duration": 349,
    "start_time": "2023-10-14T17:45:11.772Z"
   },
   {
    "duration": 10,
    "start_time": "2023-10-14T17:45:12.123Z"
   },
   {
    "duration": 201,
    "start_time": "2023-10-14T17:45:12.135Z"
   },
   {
    "duration": 3,
    "start_time": "2023-10-14T17:45:12.338Z"
   },
   {
    "duration": 230,
    "start_time": "2023-10-14T17:45:12.344Z"
   },
   {
    "duration": 12,
    "start_time": "2023-10-14T17:45:12.575Z"
   },
   {
    "duration": 217,
    "start_time": "2023-10-14T17:45:12.588Z"
   },
   {
    "duration": 13,
    "start_time": "2023-10-14T17:45:12.807Z"
   },
   {
    "duration": 22,
    "start_time": "2023-10-14T17:45:12.822Z"
   },
   {
    "duration": 43,
    "start_time": "2023-10-14T17:45:12.845Z"
   },
   {
    "duration": 42,
    "start_time": "2023-10-14T17:45:12.889Z"
   },
   {
    "duration": 25,
    "start_time": "2023-10-14T17:45:12.934Z"
   },
   {
    "duration": 22,
    "start_time": "2023-10-14T17:45:12.961Z"
   },
   {
    "duration": 203,
    "start_time": "2023-10-14T17:45:12.985Z"
   },
   {
    "duration": 197,
    "start_time": "2023-10-14T17:45:13.190Z"
   },
   {
    "duration": 196,
    "start_time": "2023-10-14T17:45:13.389Z"
   },
   {
    "duration": 227,
    "start_time": "2023-10-14T17:45:13.587Z"
   },
   {
    "duration": 208,
    "start_time": "2023-10-14T17:45:13.816Z"
   },
   {
    "duration": 279,
    "start_time": "2023-10-14T17:45:58.322Z"
   },
   {
    "duration": 275,
    "start_time": "2023-10-14T17:46:04.843Z"
   },
   {
    "duration": 185,
    "start_time": "2023-10-14T17:47:54.471Z"
   },
   {
    "duration": 123,
    "start_time": "2023-10-14T17:48:06.974Z"
   },
   {
    "duration": 120,
    "start_time": "2023-10-14T17:48:09.741Z"
   },
   {
    "duration": 12,
    "start_time": "2023-10-14T17:50:48.952Z"
   },
   {
    "duration": 144,
    "start_time": "2023-10-14T17:50:54.035Z"
   },
   {
    "duration": 182,
    "start_time": "2023-10-14T17:51:13.687Z"
   },
   {
    "duration": 155,
    "start_time": "2023-10-14T17:51:18.994Z"
   },
   {
    "duration": 140,
    "start_time": "2023-10-14T17:51:23.841Z"
   },
   {
    "duration": 166,
    "start_time": "2023-10-14T17:53:53.708Z"
   },
   {
    "duration": 170,
    "start_time": "2023-10-14T17:54:04.418Z"
   },
   {
    "duration": 166,
    "start_time": "2023-10-14T17:55:49.041Z"
   },
   {
    "duration": 258,
    "start_time": "2023-10-14T17:56:51.746Z"
   },
   {
    "duration": 188,
    "start_time": "2023-10-14T17:57:31.639Z"
   },
   {
    "duration": 176,
    "start_time": "2023-10-14T17:57:48.883Z"
   },
   {
    "duration": 1253,
    "start_time": "2023-10-14T17:57:58.869Z"
   },
   {
    "duration": 31,
    "start_time": "2023-10-14T17:58:00.124Z"
   },
   {
    "duration": 17,
    "start_time": "2023-10-14T17:58:00.156Z"
   },
   {
    "duration": 46,
    "start_time": "2023-10-14T17:58:00.174Z"
   },
   {
    "duration": 62,
    "start_time": "2023-10-14T17:58:00.222Z"
   },
   {
    "duration": 91,
    "start_time": "2023-10-14T17:58:00.285Z"
   },
   {
    "duration": 449,
    "start_time": "2023-10-14T17:58:00.378Z"
   },
   {
    "duration": 28,
    "start_time": "2023-10-14T17:58:00.829Z"
   },
   {
    "duration": 33,
    "start_time": "2023-10-14T17:58:00.859Z"
   },
   {
    "duration": 94,
    "start_time": "2023-10-14T17:58:00.894Z"
   },
   {
    "duration": 66,
    "start_time": "2023-10-14T17:58:00.990Z"
   },
   {
    "duration": 564,
    "start_time": "2023-10-14T17:58:01.059Z"
   },
   {
    "duration": 30,
    "start_time": "2023-10-14T17:58:01.625Z"
   },
   {
    "duration": 146,
    "start_time": "2023-10-14T17:58:01.660Z"
   },
   {
    "duration": 211,
    "start_time": "2023-10-14T17:58:01.808Z"
   },
   {
    "duration": 94,
    "start_time": "2023-10-14T17:58:02.022Z"
   },
   {
    "duration": 101,
    "start_time": "2023-10-14T17:58:02.118Z"
   },
   {
    "duration": 56,
    "start_time": "2023-10-14T17:58:02.220Z"
   },
   {
    "duration": 130,
    "start_time": "2023-10-14T17:58:02.278Z"
   },
   {
    "duration": 154,
    "start_time": "2023-10-14T17:58:02.410Z"
   },
   {
    "duration": 92,
    "start_time": "2023-10-14T17:58:02.566Z"
   },
   {
    "duration": 36,
    "start_time": "2023-10-14T17:58:02.660Z"
   },
   {
    "duration": 42,
    "start_time": "2023-10-14T17:58:02.698Z"
   },
   {
    "duration": 40,
    "start_time": "2023-10-14T17:58:02.741Z"
   },
   {
    "duration": 31,
    "start_time": "2023-10-14T17:58:02.783Z"
   },
   {
    "duration": 33,
    "start_time": "2023-10-14T17:58:02.815Z"
   },
   {
    "duration": 32,
    "start_time": "2023-10-14T17:58:02.849Z"
   },
   {
    "duration": 37,
    "start_time": "2023-10-14T17:58:02.883Z"
   },
   {
    "duration": 19,
    "start_time": "2023-10-14T17:58:02.921Z"
   },
   {
    "duration": 37,
    "start_time": "2023-10-14T17:58:02.942Z"
   },
   {
    "duration": 24,
    "start_time": "2023-10-14T17:58:02.981Z"
   },
   {
    "duration": 24,
    "start_time": "2023-10-14T17:58:03.006Z"
   },
   {
    "duration": 22,
    "start_time": "2023-10-14T17:58:03.031Z"
   },
   {
    "duration": 31,
    "start_time": "2023-10-14T17:58:03.055Z"
   },
   {
    "duration": 292,
    "start_time": "2023-10-14T17:58:03.088Z"
   },
   {
    "duration": 11,
    "start_time": "2023-10-14T17:58:03.382Z"
   },
   {
    "duration": 187,
    "start_time": "2023-10-14T17:58:03.395Z"
   },
   {
    "duration": 168,
    "start_time": "2023-10-14T17:58:03.583Z"
   },
   {
    "duration": 3,
    "start_time": "2023-10-14T17:58:03.752Z"
   },
   {
    "duration": 334,
    "start_time": "2023-10-14T17:58:03.757Z"
   },
   {
    "duration": 11,
    "start_time": "2023-10-14T17:58:04.095Z"
   },
   {
    "duration": 201,
    "start_time": "2023-10-14T17:58:04.107Z"
   },
   {
    "duration": 3,
    "start_time": "2023-10-14T17:58:04.310Z"
   },
   {
    "duration": 267,
    "start_time": "2023-10-14T17:58:04.315Z"
   },
   {
    "duration": 15,
    "start_time": "2023-10-14T17:58:04.585Z"
   },
   {
    "duration": 234,
    "start_time": "2023-10-14T17:58:04.602Z"
   },
   {
    "duration": 13,
    "start_time": "2023-10-14T17:58:04.838Z"
   },
   {
    "duration": 16,
    "start_time": "2023-10-14T17:58:04.853Z"
   },
   {
    "duration": 22,
    "start_time": "2023-10-14T17:58:04.871Z"
   },
   {
    "duration": 54,
    "start_time": "2023-10-14T17:58:04.895Z"
   },
   {
    "duration": 19,
    "start_time": "2023-10-14T17:58:04.950Z"
   },
   {
    "duration": 18,
    "start_time": "2023-10-14T17:58:04.971Z"
   },
   {
    "duration": 227,
    "start_time": "2023-10-14T17:58:04.991Z"
   },
   {
    "duration": 232,
    "start_time": "2023-10-14T17:58:05.220Z"
   },
   {
    "duration": 183,
    "start_time": "2023-10-14T17:58:05.454Z"
   },
   {
    "duration": 201,
    "start_time": "2023-10-14T17:58:05.644Z"
   },
   {
    "duration": 194,
    "start_time": "2023-10-14T17:58:05.847Z"
   },
   {
    "duration": 211,
    "start_time": "2023-10-14T17:58:06.043Z"
   },
   {
    "duration": 283,
    "start_time": "2023-10-14T17:58:06.256Z"
   },
   {
    "duration": 194,
    "start_time": "2023-10-14T17:58:06.544Z"
   },
   {
    "duration": 182,
    "start_time": "2023-10-14T17:59:22.169Z"
   },
   {
    "duration": 182,
    "start_time": "2023-10-14T17:59:29.308Z"
   },
   {
    "duration": 897,
    "start_time": "2023-10-14T18:02:08.344Z"
   },
   {
    "duration": 16,
    "start_time": "2023-10-14T18:02:49.253Z"
   },
   {
    "duration": 22,
    "start_time": "2023-10-14T18:03:25.201Z"
   },
   {
    "duration": 98,
    "start_time": "2023-10-14T18:03:39.071Z"
   },
   {
    "duration": 4,
    "start_time": "2023-10-14T18:03:44.048Z"
   },
   {
    "duration": 18,
    "start_time": "2023-10-14T18:03:50.532Z"
   },
   {
    "duration": 12,
    "start_time": "2023-10-14T18:04:31.271Z"
   },
   {
    "duration": 12,
    "start_time": "2023-10-14T18:04:34.903Z"
   },
   {
    "duration": 10,
    "start_time": "2023-10-14T18:15:31.293Z"
   },
   {
    "duration": 879,
    "start_time": "2023-10-14T18:18:48.718Z"
   },
   {
    "duration": 9,
    "start_time": "2023-10-14T18:18:49.599Z"
   },
   {
    "duration": 4,
    "start_time": "2023-10-14T18:19:15.295Z"
   },
   {
    "duration": 11,
    "start_time": "2023-10-14T18:19:16.942Z"
   },
   {
    "duration": 4,
    "start_time": "2023-10-14T18:20:33.950Z"
   },
   {
    "duration": 80,
    "start_time": "2023-10-14T18:23:12.007Z"
   },
   {
    "duration": 4,
    "start_time": "2023-10-14T18:24:32.991Z"
   },
   {
    "duration": 1497,
    "start_time": "2023-10-14T18:24:34.496Z"
   },
   {
    "duration": 1255,
    "start_time": "2023-10-14T18:24:59.658Z"
   },
   {
    "duration": 30,
    "start_time": "2023-10-14T18:25:00.915Z"
   },
   {
    "duration": 80,
    "start_time": "2023-10-14T18:25:00.947Z"
   },
   {
    "duration": 107,
    "start_time": "2023-10-14T18:25:01.030Z"
   },
   {
    "duration": 64,
    "start_time": "2023-10-14T18:25:01.139Z"
   },
   {
    "duration": 72,
    "start_time": "2023-10-14T18:25:01.205Z"
   },
   {
    "duration": 352,
    "start_time": "2023-10-14T18:25:01.278Z"
   },
   {
    "duration": 27,
    "start_time": "2023-10-14T18:25:01.631Z"
   },
   {
    "duration": 35,
    "start_time": "2023-10-14T18:25:01.660Z"
   },
   {
    "duration": 74,
    "start_time": "2023-10-14T18:25:01.698Z"
   },
   {
    "duration": 175,
    "start_time": "2023-10-14T18:25:01.774Z"
   },
   {
    "duration": 631,
    "start_time": "2023-10-14T18:25:01.952Z"
   },
   {
    "duration": 28,
    "start_time": "2023-10-14T18:25:02.585Z"
   },
   {
    "duration": 26,
    "start_time": "2023-10-14T18:25:02.615Z"
   },
   {
    "duration": 57,
    "start_time": "2023-10-14T18:25:02.642Z"
   },
   {
    "duration": 45,
    "start_time": "2023-10-14T18:25:02.701Z"
   },
   {
    "duration": 64,
    "start_time": "2023-10-14T18:25:02.748Z"
   },
   {
    "duration": 41,
    "start_time": "2023-10-14T18:25:02.814Z"
   },
   {
    "duration": 21,
    "start_time": "2023-10-14T18:25:02.857Z"
   },
   {
    "duration": 47,
    "start_time": "2023-10-14T18:25:02.880Z"
   },
   {
    "duration": 29,
    "start_time": "2023-10-14T18:25:02.929Z"
   },
   {
    "duration": 27,
    "start_time": "2023-10-14T18:25:02.960Z"
   },
   {
    "duration": 48,
    "start_time": "2023-10-14T18:25:02.989Z"
   },
   {
    "duration": 26,
    "start_time": "2023-10-14T18:25:03.040Z"
   },
   {
    "duration": 29,
    "start_time": "2023-10-14T18:25:03.068Z"
   },
   {
    "duration": 25,
    "start_time": "2023-10-14T18:25:03.099Z"
   },
   {
    "duration": 39,
    "start_time": "2023-10-14T18:25:03.126Z"
   },
   {
    "duration": 27,
    "start_time": "2023-10-14T18:25:03.169Z"
   },
   {
    "duration": 20,
    "start_time": "2023-10-14T18:25:03.198Z"
   },
   {
    "duration": 14,
    "start_time": "2023-10-14T18:25:03.219Z"
   },
   {
    "duration": 53,
    "start_time": "2023-10-14T18:25:03.235Z"
   },
   {
    "duration": 19,
    "start_time": "2023-10-14T18:25:03.290Z"
   },
   {
    "duration": 28,
    "start_time": "2023-10-14T18:25:03.311Z"
   },
   {
    "duration": 48,
    "start_time": "2023-10-14T18:25:03.341Z"
   },
   {
    "duration": 310,
    "start_time": "2023-10-14T18:25:03.390Z"
   },
   {
    "duration": 13,
    "start_time": "2023-10-14T18:25:03.702Z"
   },
   {
    "duration": 229,
    "start_time": "2023-10-14T18:25:03.717Z"
   },
   {
    "duration": 149,
    "start_time": "2023-10-14T18:25:03.948Z"
   },
   {
    "duration": 3,
    "start_time": "2023-10-14T18:25:04.099Z"
   },
   {
    "duration": 324,
    "start_time": "2023-10-14T18:25:04.104Z"
   },
   {
    "duration": 24,
    "start_time": "2023-10-14T18:25:04.431Z"
   },
   {
    "duration": 255,
    "start_time": "2023-10-14T18:25:04.457Z"
   },
   {
    "duration": 3,
    "start_time": "2023-10-14T18:25:04.714Z"
   },
   {
    "duration": 287,
    "start_time": "2023-10-14T18:25:04.719Z"
   },
   {
    "duration": 11,
    "start_time": "2023-10-14T18:25:05.008Z"
   },
   {
    "duration": 218,
    "start_time": "2023-10-14T18:25:05.020Z"
   },
   {
    "duration": 13,
    "start_time": "2023-10-14T18:25:05.239Z"
   },
   {
    "duration": 36,
    "start_time": "2023-10-14T18:25:05.253Z"
   },
   {
    "duration": 30,
    "start_time": "2023-10-14T18:25:05.290Z"
   },
   {
    "duration": 63,
    "start_time": "2023-10-14T18:25:05.321Z"
   },
   {
    "duration": 19,
    "start_time": "2023-10-14T18:25:05.386Z"
   },
   {
    "duration": 23,
    "start_time": "2023-10-14T18:25:05.407Z"
   },
   {
    "duration": 196,
    "start_time": "2023-10-14T18:25:05.432Z"
   },
   {
    "duration": 197,
    "start_time": "2023-10-14T18:25:05.631Z"
   },
   {
    "duration": 190,
    "start_time": "2023-10-14T18:25:05.830Z"
   },
   {
    "duration": 206,
    "start_time": "2023-10-14T18:25:06.032Z"
   },
   {
    "duration": 190,
    "start_time": "2023-10-14T18:25:06.239Z"
   },
   {
    "duration": 216,
    "start_time": "2023-10-14T18:25:06.431Z"
   },
   {
    "duration": 294,
    "start_time": "2023-10-14T18:25:06.649Z"
   },
   {
    "duration": 259,
    "start_time": "2023-10-14T18:25:06.945Z"
   },
   {
    "duration": 17,
    "start_time": "2023-10-14T18:25:07.206Z"
   },
   {
    "duration": 924,
    "start_time": "2023-10-14T18:25:07.225Z"
   },
   {
    "duration": 3,
    "start_time": "2023-10-14T18:25:08.151Z"
   },
   {
    "duration": 26,
    "start_time": "2023-10-14T18:25:08.156Z"
   },
   {
    "duration": 10,
    "start_time": "2023-10-14T18:25:08.183Z"
   },
   {
    "duration": 1613,
    "start_time": "2023-10-14T18:25:08.194Z"
   },
   {
    "duration": 3,
    "start_time": "2023-10-14T18:25:41.915Z"
   },
   {
    "duration": 1315,
    "start_time": "2023-10-14T18:25:46.637Z"
   },
   {
    "duration": 4,
    "start_time": "2023-10-14T18:26:18.044Z"
   },
   {
    "duration": 1369,
    "start_time": "2023-10-14T18:26:20.338Z"
   },
   {
    "duration": 3,
    "start_time": "2023-10-14T18:26:29.785Z"
   },
   {
    "duration": 1268,
    "start_time": "2023-10-14T18:26:31.779Z"
   },
   {
    "duration": 3,
    "start_time": "2023-10-14T18:28:45.719Z"
   },
   {
    "duration": 1400,
    "start_time": "2023-10-14T18:28:47.234Z"
   },
   {
    "duration": 828,
    "start_time": "2023-10-14T18:29:06.856Z"
   },
   {
    "duration": 3,
    "start_time": "2023-10-14T18:29:10.129Z"
   },
   {
    "duration": 9,
    "start_time": "2023-10-14T18:29:11.354Z"
   },
   {
    "duration": 5,
    "start_time": "2023-10-14T18:29:14.879Z"
   },
   {
    "duration": 1284,
    "start_time": "2023-10-14T18:29:17.083Z"
   },
   {
    "duration": 1840,
    "start_time": "2023-10-14T18:29:45.694Z"
   },
   {
    "duration": 3,
    "start_time": "2023-10-14T18:29:48.438Z"
   },
   {
    "duration": 10,
    "start_time": "2023-10-14T18:29:50.290Z"
   },
   {
    "duration": 3,
    "start_time": "2023-10-14T18:29:54.393Z"
   },
   {
    "duration": 139,
    "start_time": "2023-10-14T18:29:56.232Z"
   },
   {
    "duration": 19,
    "start_time": "2023-10-14T18:30:01.277Z"
   },
   {
    "duration": 11,
    "start_time": "2023-10-14T18:31:35.927Z"
   },
   {
    "duration": 1193,
    "start_time": "2023-10-14T18:31:47.357Z"
   },
   {
    "duration": 30,
    "start_time": "2023-10-14T18:31:48.552Z"
   },
   {
    "duration": 12,
    "start_time": "2023-10-14T18:31:48.583Z"
   },
   {
    "duration": 44,
    "start_time": "2023-10-14T18:31:48.597Z"
   },
   {
    "duration": 30,
    "start_time": "2023-10-14T18:31:48.643Z"
   },
   {
    "duration": 45,
    "start_time": "2023-10-14T18:31:48.675Z"
   },
   {
    "duration": 293,
    "start_time": "2023-10-14T18:31:48.722Z"
   },
   {
    "duration": 27,
    "start_time": "2023-10-14T18:31:49.017Z"
   },
   {
    "duration": 13,
    "start_time": "2023-10-14T18:31:49.047Z"
   },
   {
    "duration": 20,
    "start_time": "2023-10-14T18:31:49.063Z"
   },
   {
    "duration": 7,
    "start_time": "2023-10-14T18:31:49.084Z"
   },
   {
    "duration": 469,
    "start_time": "2023-10-14T18:31:49.093Z"
   },
   {
    "duration": 15,
    "start_time": "2023-10-14T18:31:49.564Z"
   },
   {
    "duration": 12,
    "start_time": "2023-10-14T18:31:49.581Z"
   },
   {
    "duration": 20,
    "start_time": "2023-10-14T18:31:49.595Z"
   },
   {
    "duration": 27,
    "start_time": "2023-10-14T18:31:49.617Z"
   },
   {
    "duration": 9,
    "start_time": "2023-10-14T18:31:49.646Z"
   },
   {
    "duration": 28,
    "start_time": "2023-10-14T18:31:49.656Z"
   },
   {
    "duration": 16,
    "start_time": "2023-10-14T18:31:49.686Z"
   },
   {
    "duration": 15,
    "start_time": "2023-10-14T18:31:49.703Z"
   },
   {
    "duration": 16,
    "start_time": "2023-10-14T18:31:49.719Z"
   },
   {
    "duration": 26,
    "start_time": "2023-10-14T18:31:49.736Z"
   },
   {
    "duration": 21,
    "start_time": "2023-10-14T18:31:49.763Z"
   },
   {
    "duration": 25,
    "start_time": "2023-10-14T18:31:49.786Z"
   },
   {
    "duration": 27,
    "start_time": "2023-10-14T18:31:49.812Z"
   },
   {
    "duration": 33,
    "start_time": "2023-10-14T18:31:49.840Z"
   },
   {
    "duration": 9,
    "start_time": "2023-10-14T18:31:49.875Z"
   },
   {
    "duration": 31,
    "start_time": "2023-10-14T18:31:49.888Z"
   },
   {
    "duration": 27,
    "start_time": "2023-10-14T18:31:49.920Z"
   },
   {
    "duration": 26,
    "start_time": "2023-10-14T18:31:49.949Z"
   },
   {
    "duration": 51,
    "start_time": "2023-10-14T18:31:49.977Z"
   },
   {
    "duration": 27,
    "start_time": "2023-10-14T18:31:50.029Z"
   },
   {
    "duration": 33,
    "start_time": "2023-10-14T18:31:50.057Z"
   },
   {
    "duration": 46,
    "start_time": "2023-10-14T18:31:50.092Z"
   },
   {
    "duration": 302,
    "start_time": "2023-10-14T18:31:50.139Z"
   },
   {
    "duration": 10,
    "start_time": "2023-10-14T18:31:50.443Z"
   },
   {
    "duration": 198,
    "start_time": "2023-10-14T18:31:50.454Z"
   },
   {
    "duration": 149,
    "start_time": "2023-10-14T18:31:50.654Z"
   },
   {
    "duration": 4,
    "start_time": "2023-10-14T18:31:50.804Z"
   },
   {
    "duration": 307,
    "start_time": "2023-10-14T18:31:50.810Z"
   },
   {
    "duration": 11,
    "start_time": "2023-10-14T18:31:51.119Z"
   },
   {
    "duration": 245,
    "start_time": "2023-10-14T18:31:51.132Z"
   },
   {
    "duration": 3,
    "start_time": "2023-10-14T18:31:51.378Z"
   },
   {
    "duration": 231,
    "start_time": "2023-10-14T18:31:51.383Z"
   },
   {
    "duration": 11,
    "start_time": "2023-10-14T18:31:51.615Z"
   },
   {
    "duration": 193,
    "start_time": "2023-10-14T18:31:51.628Z"
   },
   {
    "duration": 21,
    "start_time": "2023-10-14T18:31:51.822Z"
   },
   {
    "duration": 9,
    "start_time": "2023-10-14T18:31:51.845Z"
   },
   {
    "duration": 21,
    "start_time": "2023-10-14T18:31:51.856Z"
   },
   {
    "duration": 49,
    "start_time": "2023-10-14T18:31:51.880Z"
   },
   {
    "duration": 20,
    "start_time": "2023-10-14T18:31:51.943Z"
   },
   {
    "duration": 28,
    "start_time": "2023-10-14T18:31:51.965Z"
   },
   {
    "duration": 231,
    "start_time": "2023-10-14T18:31:51.996Z"
   },
   {
    "duration": 187,
    "start_time": "2023-10-14T18:31:52.230Z"
   },
   {
    "duration": 183,
    "start_time": "2023-10-14T18:31:52.419Z"
   },
   {
    "duration": 200,
    "start_time": "2023-10-14T18:31:52.604Z"
   },
   {
    "duration": 174,
    "start_time": "2023-10-14T18:31:52.806Z"
   },
   {
    "duration": 198,
    "start_time": "2023-10-14T18:31:52.982Z"
   },
   {
    "duration": 263,
    "start_time": "2023-10-14T18:31:53.183Z"
   },
   {
    "duration": 222,
    "start_time": "2023-10-14T18:31:53.448Z"
   },
   {
    "duration": 12,
    "start_time": "2023-10-14T18:31:53.671Z"
   },
   {
    "duration": 966,
    "start_time": "2023-10-14T18:31:53.685Z"
   },
   {
    "duration": 3,
    "start_time": "2023-10-14T18:31:54.653Z"
   },
   {
    "duration": 14,
    "start_time": "2023-10-14T18:31:54.658Z"
   },
   {
    "duration": 19,
    "start_time": "2023-10-14T18:31:54.673Z"
   },
   {
    "duration": 149,
    "start_time": "2023-10-14T18:31:54.694Z"
   },
   {
    "duration": 15,
    "start_time": "2023-10-14T18:31:54.845Z"
   },
   {
    "duration": 13,
    "start_time": "2023-10-14T18:32:27.550Z"
   },
   {
    "duration": 1313,
    "start_time": "2023-10-14T18:32:53.702Z"
   },
   {
    "duration": 11,
    "start_time": "2023-10-14T18:33:11.522Z"
   },
   {
    "duration": 14,
    "start_time": "2023-10-14T18:34:04.249Z"
   },
   {
    "duration": 14,
    "start_time": "2023-10-14T18:36:50.294Z"
   },
   {
    "duration": 10,
    "start_time": "2023-10-14T18:37:11.012Z"
   },
   {
    "duration": 20,
    "start_time": "2023-10-14T18:37:15.341Z"
   },
   {
    "duration": 6,
    "start_time": "2023-10-14T18:37:49.605Z"
   },
   {
    "duration": 5,
    "start_time": "2023-10-14T18:37:54.966Z"
   },
   {
    "duration": 5,
    "start_time": "2023-10-14T18:38:05.787Z"
   },
   {
    "duration": 4,
    "start_time": "2023-10-14T18:38:12.962Z"
   },
   {
    "duration": 11,
    "start_time": "2023-10-14T18:38:14.455Z"
   },
   {
    "duration": 5,
    "start_time": "2023-10-14T18:38:17.577Z"
   },
   {
    "duration": 9,
    "start_time": "2023-10-14T18:39:14.860Z"
   },
   {
    "duration": 11,
    "start_time": "2023-10-14T18:39:47.772Z"
   },
   {
    "duration": 12,
    "start_time": "2023-10-14T18:39:50.937Z"
   },
   {
    "duration": 1324,
    "start_time": "2023-10-14T18:39:59.626Z"
   },
   {
    "duration": 33,
    "start_time": "2023-10-14T18:40:00.959Z"
   },
   {
    "duration": 66,
    "start_time": "2023-10-14T18:40:00.994Z"
   },
   {
    "duration": 71,
    "start_time": "2023-10-14T18:40:01.062Z"
   },
   {
    "duration": 176,
    "start_time": "2023-10-14T18:40:01.136Z"
   },
   {
    "duration": 105,
    "start_time": "2023-10-14T18:40:01.313Z"
   },
   {
    "duration": 379,
    "start_time": "2023-10-14T18:40:01.420Z"
   },
   {
    "duration": 28,
    "start_time": "2023-10-14T18:40:01.800Z"
   },
   {
    "duration": 229,
    "start_time": "2023-10-14T18:40:01.830Z"
   },
   {
    "duration": 132,
    "start_time": "2023-10-14T18:40:02.060Z"
   },
   {
    "duration": 79,
    "start_time": "2023-10-14T18:40:02.195Z"
   },
   {
    "duration": 671,
    "start_time": "2023-10-14T18:40:02.276Z"
   },
   {
    "duration": 34,
    "start_time": "2023-10-14T18:40:02.953Z"
   },
   {
    "duration": 36,
    "start_time": "2023-10-14T18:40:02.992Z"
   },
   {
    "duration": 57,
    "start_time": "2023-10-14T18:40:03.031Z"
   },
   {
    "duration": 47,
    "start_time": "2023-10-14T18:40:03.091Z"
   },
   {
    "duration": 49,
    "start_time": "2023-10-14T18:40:03.140Z"
   },
   {
    "duration": 49,
    "start_time": "2023-10-14T18:40:03.192Z"
   },
   {
    "duration": 36,
    "start_time": "2023-10-14T18:40:03.243Z"
   },
   {
    "duration": 17,
    "start_time": "2023-10-14T18:40:03.282Z"
   },
   {
    "duration": 19,
    "start_time": "2023-10-14T18:40:03.301Z"
   },
   {
    "duration": 52,
    "start_time": "2023-10-14T18:40:03.323Z"
   },
   {
    "duration": 56,
    "start_time": "2023-10-14T18:40:03.376Z"
   },
   {
    "duration": 40,
    "start_time": "2023-10-14T18:40:03.434Z"
   },
   {
    "duration": 53,
    "start_time": "2023-10-14T18:40:03.476Z"
   },
   {
    "duration": 43,
    "start_time": "2023-10-14T18:40:03.531Z"
   },
   {
    "duration": 35,
    "start_time": "2023-10-14T18:40:03.576Z"
   },
   {
    "duration": 28,
    "start_time": "2023-10-14T18:40:03.613Z"
   },
   {
    "duration": 32,
    "start_time": "2023-10-14T18:40:03.643Z"
   },
   {
    "duration": 20,
    "start_time": "2023-10-14T18:40:03.677Z"
   },
   {
    "duration": 18,
    "start_time": "2023-10-14T18:40:03.699Z"
   },
   {
    "duration": 28,
    "start_time": "2023-10-14T18:40:03.719Z"
   },
   {
    "duration": 39,
    "start_time": "2023-10-14T18:40:03.750Z"
   },
   {
    "duration": 48,
    "start_time": "2023-10-14T18:40:03.791Z"
   },
   {
    "duration": 371,
    "start_time": "2023-10-14T18:40:03.843Z"
   },
   {
    "duration": 18,
    "start_time": "2023-10-14T18:40:04.216Z"
   },
   {
    "duration": 214,
    "start_time": "2023-10-14T18:40:04.245Z"
   },
   {
    "duration": 261,
    "start_time": "2023-10-14T18:40:04.465Z"
   },
   {
    "duration": 5,
    "start_time": "2023-10-14T18:40:04.730Z"
   },
   {
    "duration": 399,
    "start_time": "2023-10-14T18:40:04.737Z"
   },
   {
    "duration": 29,
    "start_time": "2023-10-14T18:40:05.143Z"
   },
   {
    "duration": 240,
    "start_time": "2023-10-14T18:40:05.174Z"
   },
   {
    "duration": 6,
    "start_time": "2023-10-14T18:40:05.416Z"
   },
   {
    "duration": 322,
    "start_time": "2023-10-14T18:40:05.425Z"
   },
   {
    "duration": 21,
    "start_time": "2023-10-14T18:40:05.749Z"
   },
   {
    "duration": 250,
    "start_time": "2023-10-14T18:40:05.772Z"
   },
   {
    "duration": 26,
    "start_time": "2023-10-14T18:40:06.024Z"
   },
   {
    "duration": 19,
    "start_time": "2023-10-14T18:40:06.053Z"
   },
   {
    "duration": 53,
    "start_time": "2023-10-14T18:40:06.074Z"
   },
   {
    "duration": 96,
    "start_time": "2023-10-14T18:40:06.128Z"
   },
   {
    "duration": 33,
    "start_time": "2023-10-14T18:40:06.226Z"
   },
   {
    "duration": 31,
    "start_time": "2023-10-14T18:40:06.261Z"
   },
   {
    "duration": 293,
    "start_time": "2023-10-14T18:40:06.294Z"
   },
   {
    "duration": 225,
    "start_time": "2023-10-14T18:40:06.589Z"
   },
   {
    "duration": 266,
    "start_time": "2023-10-14T18:40:06.816Z"
   },
   {
    "duration": 235,
    "start_time": "2023-10-14T18:40:07.085Z"
   },
   {
    "duration": 206,
    "start_time": "2023-10-14T18:40:07.322Z"
   },
   {
    "duration": 223,
    "start_time": "2023-10-14T18:40:07.531Z"
   },
   {
    "duration": 299,
    "start_time": "2023-10-14T18:40:07.755Z"
   },
   {
    "duration": 269,
    "start_time": "2023-10-14T18:40:08.059Z"
   },
   {
    "duration": 1037,
    "start_time": "2023-10-14T18:40:08.331Z"
   },
   {
    "duration": 5,
    "start_time": "2023-10-14T18:40:09.372Z"
   },
   {
    "duration": 41,
    "start_time": "2023-10-14T18:40:09.380Z"
   },
   {
    "duration": 16,
    "start_time": "2023-10-14T18:40:09.423Z"
   },
   {
    "duration": 226,
    "start_time": "2023-10-14T18:40:09.441Z"
   },
   {
    "duration": 19,
    "start_time": "2023-10-14T18:40:09.671Z"
   },
   {
    "duration": 169,
    "start_time": "2023-10-14T18:42:21.714Z"
   },
   {
    "duration": 265,
    "start_time": "2023-10-14T18:44:00.531Z"
   },
   {
    "duration": 217,
    "start_time": "2023-10-14T18:44:10.240Z"
   },
   {
    "duration": 248,
    "start_time": "2023-10-14T18:45:07.824Z"
   },
   {
    "duration": 218,
    "start_time": "2023-10-14T18:45:21.865Z"
   },
   {
    "duration": 312,
    "start_time": "2023-10-14T18:45:27.392Z"
   },
   {
    "duration": 112,
    "start_time": "2023-10-14T18:45:56.517Z"
   },
   {
    "duration": 231,
    "start_time": "2023-10-14T18:46:01.151Z"
   },
   {
    "duration": 214,
    "start_time": "2023-10-14T18:46:12.281Z"
   },
   {
    "duration": 175,
    "start_time": "2023-10-14T18:46:55.571Z"
   },
   {
    "duration": 170,
    "start_time": "2023-10-14T18:48:14.044Z"
   },
   {
    "duration": 123,
    "start_time": "2023-10-14T18:49:32.138Z"
   },
   {
    "duration": 125,
    "start_time": "2023-10-14T18:49:41.758Z"
   },
   {
    "duration": 1010,
    "start_time": "2023-10-14T18:51:38.328Z"
   },
   {
    "duration": 8,
    "start_time": "2023-10-14T18:51:39.340Z"
   },
   {
    "duration": 10,
    "start_time": "2023-10-14T18:51:39.479Z"
   },
   {
    "duration": 3,
    "start_time": "2023-10-14T18:51:42.391Z"
   },
   {
    "duration": 191,
    "start_time": "2023-10-14T18:51:42.920Z"
   },
   {
    "duration": 16,
    "start_time": "2023-10-14T18:51:43.660Z"
   },
   {
    "duration": 11,
    "start_time": "2023-10-14T19:55:17.631Z"
   },
   {
    "duration": 3,
    "start_time": "2023-10-14T19:55:39.768Z"
   },
   {
    "duration": 1203,
    "start_time": "2023-10-14T19:55:45.624Z"
   },
   {
    "duration": 32,
    "start_time": "2023-10-14T19:55:46.828Z"
   },
   {
    "duration": 14,
    "start_time": "2023-10-14T19:55:46.863Z"
   },
   {
    "duration": 46,
    "start_time": "2023-10-14T19:55:46.880Z"
   },
   {
    "duration": 10,
    "start_time": "2023-10-14T19:55:46.929Z"
   },
   {
    "duration": 36,
    "start_time": "2023-10-14T19:55:46.941Z"
   },
   {
    "duration": 314,
    "start_time": "2023-10-14T19:55:46.979Z"
   },
   {
    "duration": 27,
    "start_time": "2023-10-14T19:55:47.295Z"
   },
   {
    "duration": 13,
    "start_time": "2023-10-14T19:55:47.323Z"
   },
   {
    "duration": 23,
    "start_time": "2023-10-14T19:55:47.343Z"
   },
   {
    "duration": 9,
    "start_time": "2023-10-14T19:55:47.368Z"
   },
   {
    "duration": 509,
    "start_time": "2023-10-14T19:55:47.379Z"
   },
   {
    "duration": 27,
    "start_time": "2023-10-14T19:55:47.890Z"
   },
   {
    "duration": 11,
    "start_time": "2023-10-14T19:55:47.919Z"
   },
   {
    "duration": 15,
    "start_time": "2023-10-14T19:55:47.932Z"
   },
   {
    "duration": 22,
    "start_time": "2023-10-14T19:55:47.949Z"
   },
   {
    "duration": 7,
    "start_time": "2023-10-14T19:55:47.973Z"
   },
   {
    "duration": 20,
    "start_time": "2023-10-14T19:55:47.982Z"
   },
   {
    "duration": 7,
    "start_time": "2023-10-14T19:55:48.003Z"
   },
   {
    "duration": 27,
    "start_time": "2023-10-14T19:55:48.012Z"
   },
   {
    "duration": 12,
    "start_time": "2023-10-14T19:55:48.041Z"
   },
   {
    "duration": 23,
    "start_time": "2023-10-14T19:55:48.055Z"
   },
   {
    "duration": 17,
    "start_time": "2023-10-14T19:55:48.080Z"
   },
   {
    "duration": 7,
    "start_time": "2023-10-14T19:55:48.098Z"
   },
   {
    "duration": 13,
    "start_time": "2023-10-14T19:55:48.107Z"
   },
   {
    "duration": 5,
    "start_time": "2023-10-14T19:55:48.122Z"
   },
   {
    "duration": 9,
    "start_time": "2023-10-14T19:55:48.129Z"
   },
   {
    "duration": 27,
    "start_time": "2023-10-14T19:55:48.144Z"
   },
   {
    "duration": 8,
    "start_time": "2023-10-14T19:55:48.173Z"
   },
   {
    "duration": 11,
    "start_time": "2023-10-14T19:55:48.183Z"
   },
   {
    "duration": 11,
    "start_time": "2023-10-14T19:55:48.196Z"
   },
   {
    "duration": 19,
    "start_time": "2023-10-14T19:55:48.209Z"
   },
   {
    "duration": 14,
    "start_time": "2023-10-14T19:55:48.230Z"
   },
   {
    "duration": 14,
    "start_time": "2023-10-14T19:55:48.246Z"
   },
   {
    "duration": 312,
    "start_time": "2023-10-14T19:55:48.262Z"
   },
   {
    "duration": 13,
    "start_time": "2023-10-14T19:55:48.576Z"
   },
   {
    "duration": 193,
    "start_time": "2023-10-14T19:55:48.590Z"
   },
   {
    "duration": 189,
    "start_time": "2023-10-14T19:55:48.785Z"
   },
   {
    "duration": 320,
    "start_time": "2023-10-14T19:55:48.975Z"
   },
   {
    "duration": 3,
    "start_time": "2023-10-14T19:55:49.298Z"
   },
   {
    "duration": 337,
    "start_time": "2023-10-14T19:55:49.303Z"
   },
   {
    "duration": 15,
    "start_time": "2023-10-14T19:55:49.641Z"
   },
   {
    "duration": 224,
    "start_time": "2023-10-14T19:55:49.658Z"
   },
   {
    "duration": 4,
    "start_time": "2023-10-14T19:55:49.883Z"
   },
   {
    "duration": 226,
    "start_time": "2023-10-14T19:55:49.889Z"
   },
   {
    "duration": 13,
    "start_time": "2023-10-14T19:55:50.117Z"
   },
   {
    "duration": 261,
    "start_time": "2023-10-14T19:55:50.132Z"
   },
   {
    "duration": 10,
    "start_time": "2023-10-14T19:55:50.395Z"
   },
   {
    "duration": 15,
    "start_time": "2023-10-14T19:55:50.407Z"
   },
   {
    "duration": 47,
    "start_time": "2023-10-14T19:55:50.423Z"
   },
   {
    "duration": 43,
    "start_time": "2023-10-14T19:55:50.474Z"
   },
   {
    "duration": 47,
    "start_time": "2023-10-14T19:55:50.518Z"
   },
   {
    "duration": 28,
    "start_time": "2023-10-14T19:55:50.570Z"
   },
   {
    "duration": 219,
    "start_time": "2023-10-14T19:55:50.600Z"
   },
   {
    "duration": 233,
    "start_time": "2023-10-14T19:55:50.821Z"
   },
   {
    "duration": 193,
    "start_time": "2023-10-14T19:55:51.058Z"
   },
   {
    "duration": 225,
    "start_time": "2023-10-14T19:55:51.253Z"
   },
   {
    "duration": 283,
    "start_time": "2023-10-14T19:55:51.480Z"
   },
   {
    "duration": 229,
    "start_time": "2023-10-14T19:55:51.767Z"
   },
   {
    "duration": 216,
    "start_time": "2023-10-14T19:55:51.999Z"
   },
   {
    "duration": 223,
    "start_time": "2023-10-14T19:55:52.217Z"
   },
   {
    "duration": 978,
    "start_time": "2023-10-14T19:55:52.442Z"
   },
   {
    "duration": 4,
    "start_time": "2023-10-14T19:55:53.422Z"
   },
   {
    "duration": 22,
    "start_time": "2023-10-14T19:55:53.427Z"
   },
   {
    "duration": 5,
    "start_time": "2023-10-14T19:55:53.450Z"
   },
   {
    "duration": 177,
    "start_time": "2023-10-14T19:55:53.457Z"
   },
   {
    "duration": 27,
    "start_time": "2023-10-14T19:55:53.635Z"
   },
   {
    "duration": 9,
    "start_time": "2023-10-14T19:55:53.664Z"
   },
   {
    "duration": 1012,
    "start_time": "2023-10-14T19:57:00.675Z"
   },
   {
    "duration": 1068,
    "start_time": "2023-10-14T19:57:31.930Z"
   },
   {
    "duration": 1453,
    "start_time": "2023-10-14T20:01:31.757Z"
   },
   {
    "duration": 5,
    "start_time": "2023-10-14T20:01:55.801Z"
   },
   {
    "duration": 194,
    "start_time": "2023-10-14T20:14:40.095Z"
   },
   {
    "duration": 137,
    "start_time": "2023-10-14T20:14:49.009Z"
   },
   {
    "duration": 230,
    "start_time": "2023-10-14T20:15:59.352Z"
   },
   {
    "duration": 112,
    "start_time": "2023-10-14T20:16:14.209Z"
   },
   {
    "duration": 10,
    "start_time": "2023-10-14T20:16:41.470Z"
   },
   {
    "duration": 104,
    "start_time": "2023-10-14T20:21:30.874Z"
   },
   {
    "duration": 508,
    "start_time": "2023-10-14T20:23:07.815Z"
   },
   {
    "duration": 142,
    "start_time": "2023-10-14T20:23:39.151Z"
   },
   {
    "duration": 115,
    "start_time": "2023-10-14T20:23:45.503Z"
   },
   {
    "duration": 118,
    "start_time": "2023-10-14T20:23:54.990Z"
   },
   {
    "duration": 5,
    "start_time": "2023-10-14T20:28:16.347Z"
   },
   {
    "duration": 12,
    "start_time": "2023-10-14T20:48:23.457Z"
   },
   {
    "duration": 73,
    "start_time": "2023-10-14T20:48:39.204Z"
   },
   {
    "duration": 95,
    "start_time": "2023-10-14T20:49:59.916Z"
   },
   {
    "duration": 8,
    "start_time": "2023-10-14T20:50:18.653Z"
   },
   {
    "duration": 105,
    "start_time": "2023-10-14T20:50:21.074Z"
   },
   {
    "duration": 226,
    "start_time": "2023-10-14T20:50:35.610Z"
   },
   {
    "duration": 116,
    "start_time": "2023-10-14T20:50:45.246Z"
   },
   {
    "duration": 11,
    "start_time": "2023-10-14T20:53:08.922Z"
   },
   {
    "duration": 80,
    "start_time": "2023-10-14T20:54:10.839Z"
   },
   {
    "duration": 124,
    "start_time": "2023-10-14T21:17:04.582Z"
   },
   {
    "duration": 6,
    "start_time": "2023-10-14T21:23:55.805Z"
   },
   {
    "duration": 4,
    "start_time": "2023-10-14T21:24:17.562Z"
   },
   {
    "duration": 5,
    "start_time": "2023-10-14T21:25:14.816Z"
   },
   {
    "duration": 83,
    "start_time": "2023-10-14T21:26:08.099Z"
   },
   {
    "duration": 4,
    "start_time": "2023-10-14T21:26:30.557Z"
   },
   {
    "duration": 3,
    "start_time": "2023-10-14T21:29:58.498Z"
   },
   {
    "duration": 55,
    "start_time": "2023-10-15T15:26:46.244Z"
   },
   {
    "duration": 1478,
    "start_time": "2023-10-15T15:27:01.683Z"
   },
   {
    "duration": 77,
    "start_time": "2023-10-15T15:27:03.165Z"
   },
   {
    "duration": 16,
    "start_time": "2023-10-15T15:27:03.244Z"
   },
   {
    "duration": 42,
    "start_time": "2023-10-15T15:27:03.262Z"
   },
   {
    "duration": 13,
    "start_time": "2023-10-15T15:27:03.307Z"
   },
   {
    "duration": 35,
    "start_time": "2023-10-15T15:27:03.322Z"
   },
   {
    "duration": 383,
    "start_time": "2023-10-15T15:27:03.359Z"
   },
   {
    "duration": 69,
    "start_time": "2023-10-15T15:27:03.746Z"
   },
   {
    "duration": 13,
    "start_time": "2023-10-15T15:27:03.817Z"
   },
   {
    "duration": 32,
    "start_time": "2023-10-15T15:27:03.832Z"
   },
   {
    "duration": 10,
    "start_time": "2023-10-15T15:27:03.867Z"
   },
   {
    "duration": 549,
    "start_time": "2023-10-15T15:27:03.879Z"
   },
   {
    "duration": 66,
    "start_time": "2023-10-15T15:27:04.430Z"
   },
   {
    "duration": 12,
    "start_time": "2023-10-15T15:27:04.499Z"
   },
   {
    "duration": 51,
    "start_time": "2023-10-15T15:27:04.513Z"
   },
   {
    "duration": 33,
    "start_time": "2023-10-15T15:27:04.566Z"
   },
   {
    "duration": 16,
    "start_time": "2023-10-15T15:27:04.601Z"
   },
   {
    "duration": 27,
    "start_time": "2023-10-15T15:27:04.619Z"
   },
   {
    "duration": 11,
    "start_time": "2023-10-15T15:27:04.649Z"
   },
   {
    "duration": 17,
    "start_time": "2023-10-15T15:27:04.662Z"
   },
   {
    "duration": 13,
    "start_time": "2023-10-15T15:27:04.681Z"
   },
   {
    "duration": 16,
    "start_time": "2023-10-15T15:27:04.696Z"
   },
   {
    "duration": 34,
    "start_time": "2023-10-15T15:27:04.714Z"
   },
   {
    "duration": 11,
    "start_time": "2023-10-15T15:27:04.750Z"
   },
   {
    "duration": 23,
    "start_time": "2023-10-15T15:27:04.764Z"
   },
   {
    "duration": 19,
    "start_time": "2023-10-15T15:27:04.789Z"
   },
   {
    "duration": 21,
    "start_time": "2023-10-15T15:27:04.810Z"
   },
   {
    "duration": 36,
    "start_time": "2023-10-15T15:27:04.833Z"
   },
   {
    "duration": 9,
    "start_time": "2023-10-15T15:27:04.872Z"
   },
   {
    "duration": 37,
    "start_time": "2023-10-15T15:27:04.883Z"
   },
   {
    "duration": 33,
    "start_time": "2023-10-15T15:27:04.922Z"
   },
   {
    "duration": 11,
    "start_time": "2023-10-15T15:27:04.958Z"
   },
   {
    "duration": 10,
    "start_time": "2023-10-15T15:27:04.971Z"
   },
   {
    "duration": 34,
    "start_time": "2023-10-15T15:27:04.983Z"
   },
   {
    "duration": 431,
    "start_time": "2023-10-15T15:27:05.020Z"
   },
   {
    "duration": 0,
    "start_time": "2023-10-15T15:27:05.455Z"
   },
   {
    "duration": 0,
    "start_time": "2023-10-15T15:27:05.457Z"
   },
   {
    "duration": 0,
    "start_time": "2023-10-15T15:27:05.458Z"
   },
   {
    "duration": 0,
    "start_time": "2023-10-15T15:27:05.460Z"
   },
   {
    "duration": 0,
    "start_time": "2023-10-15T15:27:05.461Z"
   },
   {
    "duration": 0,
    "start_time": "2023-10-15T15:27:05.463Z"
   },
   {
    "duration": 0,
    "start_time": "2023-10-15T15:27:05.465Z"
   },
   {
    "duration": 0,
    "start_time": "2023-10-15T15:27:05.466Z"
   },
   {
    "duration": 0,
    "start_time": "2023-10-15T15:27:05.468Z"
   },
   {
    "duration": 0,
    "start_time": "2023-10-15T15:27:05.469Z"
   },
   {
    "duration": 0,
    "start_time": "2023-10-15T15:27:05.471Z"
   },
   {
    "duration": 0,
    "start_time": "2023-10-15T15:27:05.473Z"
   },
   {
    "duration": 0,
    "start_time": "2023-10-15T15:27:05.474Z"
   },
   {
    "duration": 0,
    "start_time": "2023-10-15T15:27:05.476Z"
   },
   {
    "duration": 0,
    "start_time": "2023-10-15T15:27:05.478Z"
   },
   {
    "duration": 0,
    "start_time": "2023-10-15T15:27:05.479Z"
   },
   {
    "duration": 0,
    "start_time": "2023-10-15T15:27:05.480Z"
   },
   {
    "duration": 0,
    "start_time": "2023-10-15T15:27:05.481Z"
   },
   {
    "duration": 0,
    "start_time": "2023-10-15T15:27:05.482Z"
   },
   {
    "duration": 0,
    "start_time": "2023-10-15T15:27:05.482Z"
   },
   {
    "duration": 0,
    "start_time": "2023-10-15T15:27:05.483Z"
   },
   {
    "duration": 0,
    "start_time": "2023-10-15T15:27:05.484Z"
   },
   {
    "duration": 0,
    "start_time": "2023-10-15T15:27:05.485Z"
   },
   {
    "duration": 0,
    "start_time": "2023-10-15T15:27:05.486Z"
   },
   {
    "duration": 0,
    "start_time": "2023-10-15T15:27:05.487Z"
   },
   {
    "duration": 0,
    "start_time": "2023-10-15T15:27:05.488Z"
   },
   {
    "duration": 0,
    "start_time": "2023-10-15T15:27:05.489Z"
   },
   {
    "duration": 0,
    "start_time": "2023-10-15T15:27:05.490Z"
   },
   {
    "duration": 0,
    "start_time": "2023-10-15T15:27:05.491Z"
   },
   {
    "duration": 1,
    "start_time": "2023-10-15T15:27:05.491Z"
   },
   {
    "duration": 0,
    "start_time": "2023-10-15T15:27:05.546Z"
   },
   {
    "duration": 0,
    "start_time": "2023-10-15T15:27:05.548Z"
   },
   {
    "duration": 0,
    "start_time": "2023-10-15T15:27:05.550Z"
   },
   {
    "duration": 0,
    "start_time": "2023-10-15T15:27:05.551Z"
   },
   {
    "duration": 0,
    "start_time": "2023-10-15T15:27:05.553Z"
   },
   {
    "duration": 0,
    "start_time": "2023-10-15T15:27:05.555Z"
   },
   {
    "duration": 0,
    "start_time": "2023-10-15T15:27:05.556Z"
   },
   {
    "duration": 0,
    "start_time": "2023-10-15T15:27:05.558Z"
   },
   {
    "duration": 0,
    "start_time": "2023-10-15T15:27:05.559Z"
   },
   {
    "duration": 0,
    "start_time": "2023-10-15T15:27:05.560Z"
   },
   {
    "duration": 0,
    "start_time": "2023-10-15T15:27:05.562Z"
   },
   {
    "duration": 0,
    "start_time": "2023-10-15T15:27:05.563Z"
   },
   {
    "duration": 0,
    "start_time": "2023-10-15T15:27:05.565Z"
   },
   {
    "duration": 190,
    "start_time": "2023-10-15T15:27:39.172Z"
   },
   {
    "duration": 12,
    "start_time": "2023-10-15T15:30:50.515Z"
   },
   {
    "duration": 116,
    "start_time": "2023-10-15T15:31:05.737Z"
   },
   {
    "duration": 97,
    "start_time": "2023-10-15T15:31:18.589Z"
   },
   {
    "duration": 101,
    "start_time": "2023-10-15T15:31:21.954Z"
   },
   {
    "duration": 1593,
    "start_time": "2023-10-15T15:33:55.425Z"
   },
   {
    "duration": 1406,
    "start_time": "2023-10-15T15:34:12.686Z"
   },
   {
    "duration": 238,
    "start_time": "2023-10-15T15:36:48.585Z"
   },
   {
    "duration": 328,
    "start_time": "2023-10-15T15:37:00.345Z"
   },
   {
    "duration": 1271,
    "start_time": "2023-10-15T15:37:19.420Z"
   },
   {
    "duration": 30,
    "start_time": "2023-10-15T15:37:20.694Z"
   },
   {
    "duration": 16,
    "start_time": "2023-10-15T15:37:20.726Z"
   },
   {
    "duration": 49,
    "start_time": "2023-10-15T15:37:20.745Z"
   },
   {
    "duration": 36,
    "start_time": "2023-10-15T15:37:20.796Z"
   },
   {
    "duration": 56,
    "start_time": "2023-10-15T15:37:20.834Z"
   },
   {
    "duration": 336,
    "start_time": "2023-10-15T15:37:20.892Z"
   },
   {
    "duration": 29,
    "start_time": "2023-10-15T15:37:21.230Z"
   },
   {
    "duration": 12,
    "start_time": "2023-10-15T15:37:21.260Z"
   },
   {
    "duration": 24,
    "start_time": "2023-10-15T15:37:21.275Z"
   },
   {
    "duration": 22,
    "start_time": "2023-10-15T15:37:21.300Z"
   },
   {
    "duration": 527,
    "start_time": "2023-10-15T15:37:21.324Z"
   },
   {
    "duration": 27,
    "start_time": "2023-10-15T15:37:21.852Z"
   },
   {
    "duration": 34,
    "start_time": "2023-10-15T15:37:21.880Z"
   },
   {
    "duration": 22,
    "start_time": "2023-10-15T15:37:21.916Z"
   },
   {
    "duration": 40,
    "start_time": "2023-10-15T15:37:21.939Z"
   },
   {
    "duration": 27,
    "start_time": "2023-10-15T15:37:21.981Z"
   },
   {
    "duration": 47,
    "start_time": "2023-10-15T15:37:22.010Z"
   },
   {
    "duration": 27,
    "start_time": "2023-10-15T15:37:22.059Z"
   },
   {
    "duration": 30,
    "start_time": "2023-10-15T15:37:22.088Z"
   },
   {
    "duration": 13,
    "start_time": "2023-10-15T15:37:22.120Z"
   },
   {
    "duration": 67,
    "start_time": "2023-10-15T15:37:22.135Z"
   },
   {
    "duration": 31,
    "start_time": "2023-10-15T15:37:22.204Z"
   },
   {
    "duration": 29,
    "start_time": "2023-10-15T15:37:22.237Z"
   },
   {
    "duration": 43,
    "start_time": "2023-10-15T15:37:22.268Z"
   },
   {
    "duration": 17,
    "start_time": "2023-10-15T15:37:22.314Z"
   },
   {
    "duration": 33,
    "start_time": "2023-10-15T15:37:22.333Z"
   },
   {
    "duration": 32,
    "start_time": "2023-10-15T15:37:22.370Z"
   },
   {
    "duration": 20,
    "start_time": "2023-10-15T15:37:22.403Z"
   },
   {
    "duration": 22,
    "start_time": "2023-10-15T15:37:22.425Z"
   },
   {
    "duration": 17,
    "start_time": "2023-10-15T15:37:22.449Z"
   },
   {
    "duration": 23,
    "start_time": "2023-10-15T15:37:22.468Z"
   },
   {
    "duration": 31,
    "start_time": "2023-10-15T15:37:22.493Z"
   },
   {
    "duration": 38,
    "start_time": "2023-10-15T15:37:22.527Z"
   },
   {
    "duration": 332,
    "start_time": "2023-10-15T15:37:22.567Z"
   },
   {
    "duration": 12,
    "start_time": "2023-10-15T15:37:22.901Z"
   },
   {
    "duration": 171,
    "start_time": "2023-10-15T15:37:22.915Z"
   },
   {
    "duration": 172,
    "start_time": "2023-10-15T15:37:23.088Z"
   },
   {
    "duration": 115,
    "start_time": "2023-10-15T15:37:23.262Z"
   },
   {
    "duration": 215,
    "start_time": "2023-10-15T15:37:23.379Z"
   },
   {
    "duration": 4,
    "start_time": "2023-10-15T15:37:23.596Z"
   },
   {
    "duration": 339,
    "start_time": "2023-10-15T15:37:23.601Z"
   },
   {
    "duration": 11,
    "start_time": "2023-10-15T15:37:23.942Z"
   },
   {
    "duration": 263,
    "start_time": "2023-10-15T15:37:23.955Z"
   },
   {
    "duration": 4,
    "start_time": "2023-10-15T15:37:24.219Z"
   },
   {
    "duration": 263,
    "start_time": "2023-10-15T15:37:24.225Z"
   },
   {
    "duration": 11,
    "start_time": "2023-10-15T15:37:24.490Z"
   },
   {
    "duration": 233,
    "start_time": "2023-10-15T15:37:24.503Z"
   },
   {
    "duration": 19,
    "start_time": "2023-10-15T15:37:24.738Z"
   },
   {
    "duration": 12,
    "start_time": "2023-10-15T15:37:24.760Z"
   },
   {
    "duration": 34,
    "start_time": "2023-10-15T15:37:24.773Z"
   },
   {
    "duration": 57,
    "start_time": "2023-10-15T15:37:24.809Z"
   },
   {
    "duration": 34,
    "start_time": "2023-10-15T15:37:24.868Z"
   },
   {
    "duration": 50,
    "start_time": "2023-10-15T15:37:24.904Z"
   },
   {
    "duration": 242,
    "start_time": "2023-10-15T15:37:24.956Z"
   },
   {
    "duration": 273,
    "start_time": "2023-10-15T15:37:25.201Z"
   },
   {
    "duration": 207,
    "start_time": "2023-10-15T15:37:25.477Z"
   },
   {
    "duration": 228,
    "start_time": "2023-10-15T15:37:25.686Z"
   },
   {
    "duration": 282,
    "start_time": "2023-10-15T15:37:25.916Z"
   },
   {
    "duration": 217,
    "start_time": "2023-10-15T15:37:26.199Z"
   },
   {
    "duration": 199,
    "start_time": "2023-10-15T15:37:26.418Z"
   },
   {
    "duration": 231,
    "start_time": "2023-10-15T15:37:26.620Z"
   },
   {
    "duration": 1044,
    "start_time": "2023-10-15T15:37:26.853Z"
   },
   {
    "duration": 3,
    "start_time": "2023-10-15T15:37:27.899Z"
   },
   {
    "duration": 30,
    "start_time": "2023-10-15T15:37:27.904Z"
   },
   {
    "duration": 13,
    "start_time": "2023-10-15T15:37:27.936Z"
   },
   {
    "duration": 170,
    "start_time": "2023-10-15T15:37:27.951Z"
   },
   {
    "duration": 13,
    "start_time": "2023-10-15T15:37:28.124Z"
   },
   {
    "duration": 9,
    "start_time": "2023-10-15T15:37:28.139Z"
   },
   {
    "duration": 17,
    "start_time": "2023-10-15T15:37:28.150Z"
   },
   {
    "duration": 1161,
    "start_time": "2023-10-15T15:37:28.169Z"
   },
   {
    "duration": 17,
    "start_time": "2023-10-15T15:37:29.331Z"
   },
   {
    "duration": 125,
    "start_time": "2023-10-15T15:37:29.349Z"
   },
   {
    "duration": 120,
    "start_time": "2023-10-15T15:37:29.476Z"
   },
   {
    "duration": 6,
    "start_time": "2023-10-15T15:37:29.598Z"
   },
   {
    "duration": 12,
    "start_time": "2023-10-15T15:37:29.605Z"
   },
   {
    "duration": 22,
    "start_time": "2023-10-15T15:37:29.619Z"
   },
   {
    "duration": 31,
    "start_time": "2023-10-15T15:37:29.643Z"
   },
   {
    "duration": 117,
    "start_time": "2023-10-15T15:42:22.822Z"
   },
   {
    "duration": 17,
    "start_time": "2023-10-15T15:43:02.334Z"
   },
   {
    "duration": 15,
    "start_time": "2023-10-15T15:43:37.568Z"
   },
   {
    "duration": 16,
    "start_time": "2023-10-15T15:43:56.306Z"
   },
   {
    "duration": 15,
    "start_time": "2023-10-15T15:44:37.454Z"
   },
   {
    "duration": 1812,
    "start_time": "2023-10-15T15:45:03.250Z"
   },
   {
    "duration": 1374,
    "start_time": "2023-10-15T15:45:22.539Z"
   },
   {
    "duration": 1394,
    "start_time": "2023-10-15T15:45:34.077Z"
   },
   {
    "duration": 28,
    "start_time": "2023-10-15T15:45:50.932Z"
   },
   {
    "duration": 394,
    "start_time": "2023-10-15T15:46:35.282Z"
   },
   {
    "duration": 13,
    "start_time": "2023-10-15T15:58:35.436Z"
   },
   {
    "duration": 14,
    "start_time": "2023-10-15T15:59:01.297Z"
   },
   {
    "duration": 17,
    "start_time": "2023-10-15T15:59:20.565Z"
   },
   {
    "duration": 12,
    "start_time": "2023-10-15T15:59:32.602Z"
   },
   {
    "duration": 22,
    "start_time": "2023-10-15T15:59:45.671Z"
   },
   {
    "duration": 9,
    "start_time": "2023-10-15T15:59:56.277Z"
   },
   {
    "duration": 16,
    "start_time": "2023-10-15T16:00:06.844Z"
   },
   {
    "duration": 9,
    "start_time": "2023-10-15T16:00:20.758Z"
   },
   {
    "duration": 17,
    "start_time": "2023-10-15T16:00:53.326Z"
   },
   {
    "duration": 16,
    "start_time": "2023-10-15T16:01:02.383Z"
   },
   {
    "duration": 9,
    "start_time": "2023-10-15T16:01:04.222Z"
   },
   {
    "duration": 9,
    "start_time": "2023-10-15T16:01:17.139Z"
   },
   {
    "duration": 13,
    "start_time": "2023-10-15T16:01:22.690Z"
   },
   {
    "duration": 9,
    "start_time": "2023-10-15T16:01:25.427Z"
   },
   {
    "duration": 132,
    "start_time": "2023-10-15T16:02:46.693Z"
   },
   {
    "duration": 9,
    "start_time": "2023-10-15T16:06:18.063Z"
   },
   {
    "duration": 20,
    "start_time": "2023-10-15T16:09:20.486Z"
   },
   {
    "duration": 1305,
    "start_time": "2023-10-15T16:09:33.442Z"
   },
   {
    "duration": 30,
    "start_time": "2023-10-15T16:09:34.750Z"
   },
   {
    "duration": 16,
    "start_time": "2023-10-15T16:09:34.781Z"
   },
   {
    "duration": 20,
    "start_time": "2023-10-15T16:09:34.800Z"
   },
   {
    "duration": 10,
    "start_time": "2023-10-15T16:09:34.822Z"
   },
   {
    "duration": 17,
    "start_time": "2023-10-15T16:09:34.833Z"
   },
   {
    "duration": 337,
    "start_time": "2023-10-15T16:09:34.852Z"
   },
   {
    "duration": 32,
    "start_time": "2023-10-15T16:09:35.191Z"
   },
   {
    "duration": 23,
    "start_time": "2023-10-15T16:09:35.225Z"
   },
   {
    "duration": 26,
    "start_time": "2023-10-15T16:09:35.253Z"
   },
   {
    "duration": 23,
    "start_time": "2023-10-15T16:09:35.281Z"
   },
   {
    "duration": 582,
    "start_time": "2023-10-15T16:09:35.307Z"
   },
   {
    "duration": 26,
    "start_time": "2023-10-15T16:09:35.891Z"
   },
   {
    "duration": 18,
    "start_time": "2023-10-15T16:09:35.919Z"
   },
   {
    "duration": 16,
    "start_time": "2023-10-15T16:09:35.939Z"
   },
   {
    "duration": 14,
    "start_time": "2023-10-15T16:09:35.957Z"
   },
   {
    "duration": 11,
    "start_time": "2023-10-15T16:09:35.973Z"
   },
   {
    "duration": 21,
    "start_time": "2023-10-15T16:09:35.987Z"
   },
   {
    "duration": 8,
    "start_time": "2023-10-15T16:09:36.010Z"
   },
   {
    "duration": 15,
    "start_time": "2023-10-15T16:09:36.047Z"
   },
   {
    "duration": 11,
    "start_time": "2023-10-15T16:09:36.064Z"
   },
   {
    "duration": 18,
    "start_time": "2023-10-15T16:09:36.077Z"
   },
   {
    "duration": 31,
    "start_time": "2023-10-15T16:09:36.097Z"
   },
   {
    "duration": 8,
    "start_time": "2023-10-15T16:09:36.130Z"
   },
   {
    "duration": 14,
    "start_time": "2023-10-15T16:09:36.140Z"
   },
   {
    "duration": 26,
    "start_time": "2023-10-15T16:09:36.156Z"
   },
   {
    "duration": 18,
    "start_time": "2023-10-15T16:09:36.184Z"
   },
   {
    "duration": 22,
    "start_time": "2023-10-15T16:09:36.210Z"
   },
   {
    "duration": 24,
    "start_time": "2023-10-15T16:09:36.235Z"
   },
   {
    "duration": 37,
    "start_time": "2023-10-15T16:09:36.261Z"
   },
   {
    "duration": 31,
    "start_time": "2023-10-15T16:09:36.300Z"
   },
   {
    "duration": 28,
    "start_time": "2023-10-15T16:09:36.333Z"
   },
   {
    "duration": 32,
    "start_time": "2023-10-15T16:09:36.363Z"
   },
   {
    "duration": 21,
    "start_time": "2023-10-15T16:09:36.398Z"
   },
   {
    "duration": 396,
    "start_time": "2023-10-15T16:09:36.421Z"
   },
   {
    "duration": 15,
    "start_time": "2023-10-15T16:09:36.820Z"
   },
   {
    "duration": 186,
    "start_time": "2023-10-15T16:09:36.847Z"
   },
   {
    "duration": 179,
    "start_time": "2023-10-15T16:09:37.036Z"
   },
   {
    "duration": 149,
    "start_time": "2023-10-15T16:09:37.217Z"
   },
   {
    "duration": 214,
    "start_time": "2023-10-15T16:09:37.368Z"
   },
   {
    "duration": 4,
    "start_time": "2023-10-15T16:09:37.584Z"
   },
   {
    "duration": 358,
    "start_time": "2023-10-15T16:09:37.590Z"
   },
   {
    "duration": 14,
    "start_time": "2023-10-15T16:09:37.950Z"
   },
   {
    "duration": 242,
    "start_time": "2023-10-15T16:09:37.966Z"
   },
   {
    "duration": 3,
    "start_time": "2023-10-15T16:09:38.210Z"
   },
   {
    "duration": 247,
    "start_time": "2023-10-15T16:09:38.215Z"
   },
   {
    "duration": 12,
    "start_time": "2023-10-15T16:09:38.464Z"
   },
   {
    "duration": 241,
    "start_time": "2023-10-15T16:09:38.478Z"
   },
   {
    "duration": 169,
    "start_time": "2023-10-15T16:09:38.722Z"
   },
   {
    "duration": 12,
    "start_time": "2023-10-15T16:09:38.894Z"
   },
   {
    "duration": 14,
    "start_time": "2023-10-15T16:09:38.908Z"
   },
   {
    "duration": 37,
    "start_time": "2023-10-15T16:09:38.923Z"
   },
   {
    "duration": 37,
    "start_time": "2023-10-15T16:09:38.963Z"
   },
   {
    "duration": 196,
    "start_time": "2023-10-15T16:09:39.002Z"
   },
   {
    "duration": 0,
    "start_time": "2023-10-15T16:09:39.200Z"
   },
   {
    "duration": 0,
    "start_time": "2023-10-15T16:09:39.201Z"
   },
   {
    "duration": 0,
    "start_time": "2023-10-15T16:09:39.203Z"
   },
   {
    "duration": 0,
    "start_time": "2023-10-15T16:09:39.205Z"
   },
   {
    "duration": 0,
    "start_time": "2023-10-15T16:09:39.207Z"
   },
   {
    "duration": 0,
    "start_time": "2023-10-15T16:09:39.209Z"
   },
   {
    "duration": 0,
    "start_time": "2023-10-15T16:09:39.210Z"
   },
   {
    "duration": 0,
    "start_time": "2023-10-15T16:09:39.211Z"
   },
   {
    "duration": 0,
    "start_time": "2023-10-15T16:09:39.213Z"
   },
   {
    "duration": 0,
    "start_time": "2023-10-15T16:09:39.215Z"
   },
   {
    "duration": 0,
    "start_time": "2023-10-15T16:09:39.216Z"
   },
   {
    "duration": 0,
    "start_time": "2023-10-15T16:09:39.218Z"
   },
   {
    "duration": 0,
    "start_time": "2023-10-15T16:09:39.219Z"
   },
   {
    "duration": 0,
    "start_time": "2023-10-15T16:09:39.248Z"
   },
   {
    "duration": 0,
    "start_time": "2023-10-15T16:09:39.249Z"
   },
   {
    "duration": 0,
    "start_time": "2023-10-15T16:09:39.250Z"
   },
   {
    "duration": 0,
    "start_time": "2023-10-15T16:09:39.252Z"
   },
   {
    "duration": 0,
    "start_time": "2023-10-15T16:09:39.254Z"
   },
   {
    "duration": 0,
    "start_time": "2023-10-15T16:09:39.256Z"
   },
   {
    "duration": 0,
    "start_time": "2023-10-15T16:09:39.257Z"
   },
   {
    "duration": 0,
    "start_time": "2023-10-15T16:09:39.258Z"
   },
   {
    "duration": 1,
    "start_time": "2023-10-15T16:09:39.259Z"
   },
   {
    "duration": 0,
    "start_time": "2023-10-15T16:09:39.261Z"
   },
   {
    "duration": 0,
    "start_time": "2023-10-15T16:09:39.263Z"
   },
   {
    "duration": 0,
    "start_time": "2023-10-15T16:09:39.265Z"
   },
   {
    "duration": 0,
    "start_time": "2023-10-15T16:09:39.266Z"
   },
   {
    "duration": 40,
    "start_time": "2023-10-15T16:09:48.386Z"
   },
   {
    "duration": 21,
    "start_time": "2023-10-15T16:10:04.118Z"
   },
   {
    "duration": 1319,
    "start_time": "2023-10-15T16:11:32.920Z"
   },
   {
    "duration": 29,
    "start_time": "2023-10-15T16:11:34.241Z"
   },
   {
    "duration": 13,
    "start_time": "2023-10-15T16:11:34.272Z"
   },
   {
    "duration": 20,
    "start_time": "2023-10-15T16:11:34.287Z"
   },
   {
    "duration": 10,
    "start_time": "2023-10-15T16:11:34.309Z"
   },
   {
    "duration": 26,
    "start_time": "2023-10-15T16:11:34.321Z"
   },
   {
    "duration": 308,
    "start_time": "2023-10-15T16:11:34.350Z"
   },
   {
    "duration": 27,
    "start_time": "2023-10-15T16:11:34.661Z"
   },
   {
    "duration": 13,
    "start_time": "2023-10-15T16:11:34.690Z"
   },
   {
    "duration": 19,
    "start_time": "2023-10-15T16:11:34.706Z"
   },
   {
    "duration": 25,
    "start_time": "2023-10-15T16:11:34.727Z"
   },
   {
    "duration": 549,
    "start_time": "2023-10-15T16:11:34.755Z"
   },
   {
    "duration": 29,
    "start_time": "2023-10-15T16:11:35.308Z"
   },
   {
    "duration": 16,
    "start_time": "2023-10-15T16:11:35.339Z"
   },
   {
    "duration": 14,
    "start_time": "2023-10-15T16:11:35.357Z"
   },
   {
    "duration": 23,
    "start_time": "2023-10-15T16:11:35.373Z"
   },
   {
    "duration": 22,
    "start_time": "2023-10-15T16:11:35.399Z"
   },
   {
    "duration": 34,
    "start_time": "2023-10-15T16:11:35.424Z"
   },
   {
    "duration": 26,
    "start_time": "2023-10-15T16:11:35.460Z"
   },
   {
    "duration": 22,
    "start_time": "2023-10-15T16:11:35.489Z"
   },
   {
    "duration": 16,
    "start_time": "2023-10-15T16:11:35.513Z"
   },
   {
    "duration": 35,
    "start_time": "2023-10-15T16:11:35.531Z"
   },
   {
    "duration": 10,
    "start_time": "2023-10-15T16:11:35.568Z"
   },
   {
    "duration": 12,
    "start_time": "2023-10-15T16:11:35.580Z"
   },
   {
    "duration": 22,
    "start_time": "2023-10-15T16:11:35.594Z"
   },
   {
    "duration": 12,
    "start_time": "2023-10-15T16:11:35.618Z"
   },
   {
    "duration": 14,
    "start_time": "2023-10-15T16:11:35.632Z"
   },
   {
    "duration": 23,
    "start_time": "2023-10-15T16:11:35.651Z"
   },
   {
    "duration": 10,
    "start_time": "2023-10-15T16:11:35.676Z"
   },
   {
    "duration": 9,
    "start_time": "2023-10-15T16:11:35.688Z"
   },
   {
    "duration": 9,
    "start_time": "2023-10-15T16:11:35.699Z"
   },
   {
    "duration": 8,
    "start_time": "2023-10-15T16:11:35.710Z"
   },
   {
    "duration": 32,
    "start_time": "2023-10-15T16:11:35.720Z"
   },
   {
    "duration": 72,
    "start_time": "2023-10-15T16:11:35.754Z"
   },
   {
    "duration": 332,
    "start_time": "2023-10-15T16:11:35.828Z"
   },
   {
    "duration": 11,
    "start_time": "2023-10-15T16:11:36.162Z"
   },
   {
    "duration": 179,
    "start_time": "2023-10-15T16:11:36.175Z"
   },
   {
    "duration": 179,
    "start_time": "2023-10-15T16:11:36.356Z"
   },
   {
    "duration": 107,
    "start_time": "2023-10-15T16:11:36.547Z"
   },
   {
    "duration": 225,
    "start_time": "2023-10-15T16:11:36.656Z"
   },
   {
    "duration": 4,
    "start_time": "2023-10-15T16:11:36.883Z"
   },
   {
    "duration": 340,
    "start_time": "2023-10-15T16:11:36.888Z"
   },
   {
    "duration": 17,
    "start_time": "2023-10-15T16:11:37.230Z"
   },
   {
    "duration": 216,
    "start_time": "2023-10-15T16:11:37.249Z"
   },
   {
    "duration": 4,
    "start_time": "2023-10-15T16:11:37.467Z"
   },
   {
    "duration": 243,
    "start_time": "2023-10-15T16:11:37.473Z"
   },
   {
    "duration": 13,
    "start_time": "2023-10-15T16:11:37.718Z"
   },
   {
    "duration": 237,
    "start_time": "2023-10-15T16:11:37.733Z"
   },
   {
    "duration": 136,
    "start_time": "2023-10-15T16:11:37.971Z"
   },
   {
    "duration": 12,
    "start_time": "2023-10-15T16:11:38.109Z"
   },
   {
    "duration": 29,
    "start_time": "2023-10-15T16:11:38.123Z"
   },
   {
    "duration": 17,
    "start_time": "2023-10-15T16:11:38.154Z"
   },
   {
    "duration": 24,
    "start_time": "2023-10-15T16:11:38.173Z"
   },
   {
    "duration": 58,
    "start_time": "2023-10-15T16:11:38.199Z"
   },
   {
    "duration": 15,
    "start_time": "2023-10-15T16:11:38.259Z"
   },
   {
    "duration": 23,
    "start_time": "2023-10-15T16:11:38.276Z"
   },
   {
    "duration": 47,
    "start_time": "2023-10-15T16:11:38.301Z"
   },
   {
    "duration": 227,
    "start_time": "2023-10-15T16:11:38.351Z"
   },
   {
    "duration": 249,
    "start_time": "2023-10-15T16:11:38.581Z"
   },
   {
    "duration": 218,
    "start_time": "2023-10-15T16:11:38.832Z"
   },
   {
    "duration": 303,
    "start_time": "2023-10-15T16:11:39.052Z"
   },
   {
    "duration": 205,
    "start_time": "2023-10-15T16:11:39.356Z"
   },
   {
    "duration": 213,
    "start_time": "2023-10-15T16:11:39.563Z"
   },
   {
    "duration": 203,
    "start_time": "2023-10-15T16:11:39.778Z"
   },
   {
    "duration": 240,
    "start_time": "2023-10-15T16:11:39.983Z"
   },
   {
    "duration": 972,
    "start_time": "2023-10-15T16:11:40.224Z"
   },
   {
    "duration": 4,
    "start_time": "2023-10-15T16:11:41.198Z"
   },
   {
    "duration": 16,
    "start_time": "2023-10-15T16:11:41.204Z"
   },
   {
    "duration": 6,
    "start_time": "2023-10-15T16:11:41.222Z"
   },
   {
    "duration": 174,
    "start_time": "2023-10-15T16:11:41.230Z"
   },
   {
    "duration": 13,
    "start_time": "2023-10-15T16:11:41.405Z"
   },
   {
    "duration": 8,
    "start_time": "2023-10-15T16:11:41.420Z"
   },
   {
    "duration": 15,
    "start_time": "2023-10-15T16:11:41.446Z"
   },
   {
    "duration": 1193,
    "start_time": "2023-10-15T16:11:41.463Z"
   },
   {
    "duration": 10,
    "start_time": "2023-10-15T16:11:42.658Z"
   },
   {
    "duration": 142,
    "start_time": "2023-10-15T16:11:42.670Z"
   },
   {
    "duration": 117,
    "start_time": "2023-10-15T16:11:42.814Z"
   },
   {
    "duration": 14,
    "start_time": "2023-10-15T16:11:42.933Z"
   },
   {
    "duration": 18,
    "start_time": "2023-10-15T16:11:42.949Z"
   },
   {
    "duration": 33,
    "start_time": "2023-10-15T16:11:42.969Z"
   },
   {
    "duration": 29,
    "start_time": "2023-10-15T16:11:43.004Z"
   },
   {
    "duration": 217,
    "start_time": "2023-10-15T16:13:17.817Z"
   },
   {
    "duration": 332,
    "start_time": "2023-10-15T16:21:49.413Z"
   },
   {
    "duration": 191,
    "start_time": "2023-10-15T16:32:23.624Z"
   },
   {
    "duration": 206,
    "start_time": "2023-10-15T16:32:32.746Z"
   },
   {
    "duration": 237,
    "start_time": "2023-10-15T16:33:16.030Z"
   },
   {
    "duration": 261,
    "start_time": "2023-10-15T16:33:55.521Z"
   },
   {
    "duration": 241,
    "start_time": "2023-10-15T16:34:18.447Z"
   },
   {
    "duration": 405,
    "start_time": "2023-10-15T16:34:35.479Z"
   },
   {
    "duration": 410,
    "start_time": "2023-10-15T16:35:10.084Z"
   },
   {
    "duration": 288,
    "start_time": "2023-10-15T16:35:50.902Z"
   },
   {
    "duration": 257,
    "start_time": "2023-10-15T16:36:19.037Z"
   },
   {
    "duration": 143,
    "start_time": "2023-10-15T16:38:17.018Z"
   },
   {
    "duration": 10,
    "start_time": "2023-10-15T16:38:37.791Z"
   },
   {
    "duration": 138,
    "start_time": "2023-10-15T16:38:47.172Z"
   },
   {
    "duration": 9,
    "start_time": "2023-10-15T16:39:42.409Z"
   },
   {
    "duration": 136,
    "start_time": "2023-10-15T16:39:50.582Z"
   },
   {
    "duration": 132,
    "start_time": "2023-10-15T16:40:27.077Z"
   },
   {
    "duration": 222,
    "start_time": "2023-10-15T16:50:15.106Z"
   },
   {
    "duration": 1224,
    "start_time": "2024-01-30T21:01:54.166Z"
   },
   {
    "duration": 77,
    "start_time": "2024-01-30T21:01:55.391Z"
   },
   {
    "duration": 13,
    "start_time": "2024-01-30T21:01:55.469Z"
   },
   {
    "duration": 21,
    "start_time": "2024-01-30T21:01:55.484Z"
   },
   {
    "duration": 8,
    "start_time": "2024-01-30T21:01:55.507Z"
   },
   {
    "duration": 13,
    "start_time": "2024-01-30T21:01:55.517Z"
   },
   {
    "duration": 300,
    "start_time": "2024-01-30T21:01:55.532Z"
   },
   {
    "duration": 67,
    "start_time": "2024-01-30T21:01:55.834Z"
   },
   {
    "duration": 14,
    "start_time": "2024-01-30T21:01:55.902Z"
   },
   {
    "duration": 34,
    "start_time": "2024-01-30T21:01:55.918Z"
   },
   {
    "duration": 9,
    "start_time": "2024-01-30T21:01:55.954Z"
   },
   {
    "duration": 488,
    "start_time": "2024-01-30T21:01:55.965Z"
   },
   {
    "duration": 63,
    "start_time": "2024-01-30T21:01:56.458Z"
   },
   {
    "duration": 10,
    "start_time": "2024-01-30T21:01:56.524Z"
   },
   {
    "duration": 11,
    "start_time": "2024-01-30T21:01:56.536Z"
   },
   {
    "duration": 10,
    "start_time": "2024-01-30T21:01:56.549Z"
   },
   {
    "duration": 8,
    "start_time": "2024-01-30T21:01:56.561Z"
   },
   {
    "duration": 23,
    "start_time": "2024-01-30T21:01:56.571Z"
   },
   {
    "duration": 15,
    "start_time": "2024-01-30T21:01:56.596Z"
   },
   {
    "duration": 10,
    "start_time": "2024-01-30T21:01:56.612Z"
   },
   {
    "duration": 11,
    "start_time": "2024-01-30T21:01:56.624Z"
   },
   {
    "duration": 24,
    "start_time": "2024-01-30T21:01:56.636Z"
   },
   {
    "duration": 9,
    "start_time": "2024-01-30T21:01:56.662Z"
   },
   {
    "duration": 11,
    "start_time": "2024-01-30T21:01:56.672Z"
   },
   {
    "duration": 20,
    "start_time": "2024-01-30T21:01:56.684Z"
   },
   {
    "duration": 8,
    "start_time": "2024-01-30T21:01:56.706Z"
   },
   {
    "duration": 9,
    "start_time": "2024-01-30T21:01:56.716Z"
   },
   {
    "duration": 14,
    "start_time": "2024-01-30T21:01:56.726Z"
   },
   {
    "duration": 21,
    "start_time": "2024-01-30T21:01:56.742Z"
   },
   {
    "duration": 7,
    "start_time": "2024-01-30T21:01:56.765Z"
   },
   {
    "duration": 14,
    "start_time": "2024-01-30T21:01:56.773Z"
   },
   {
    "duration": 23,
    "start_time": "2024-01-30T21:01:56.788Z"
   },
   {
    "duration": 12,
    "start_time": "2024-01-30T21:01:56.812Z"
   },
   {
    "duration": 53,
    "start_time": "2024-01-30T21:01:56.826Z"
   },
   {
    "duration": 11,
    "start_time": "2024-01-30T21:01:56.882Z"
   },
   {
    "duration": 339,
    "start_time": "2024-01-30T21:01:56.895Z"
   },
   {
    "duration": 23,
    "start_time": "2024-01-30T21:01:57.236Z"
   },
   {
    "duration": 155,
    "start_time": "2024-01-30T21:01:57.261Z"
   },
   {
    "duration": 164,
    "start_time": "2024-01-30T21:01:57.418Z"
   },
   {
    "duration": 110,
    "start_time": "2024-01-30T21:01:57.584Z"
   },
   {
    "duration": 210,
    "start_time": "2024-01-30T21:01:57.700Z"
   },
   {
    "duration": 4,
    "start_time": "2024-01-30T21:01:57.913Z"
   },
   {
    "duration": 319,
    "start_time": "2024-01-30T21:01:57.919Z"
   },
   {
    "duration": 20,
    "start_time": "2024-01-30T21:01:58.239Z"
   },
   {
    "duration": 221,
    "start_time": "2024-01-30T21:01:58.261Z"
   },
   {
    "duration": 4,
    "start_time": "2024-01-30T21:01:58.485Z"
   },
   {
    "duration": 234,
    "start_time": "2024-01-30T21:01:58.491Z"
   },
   {
    "duration": 13,
    "start_time": "2024-01-30T21:01:58.726Z"
   },
   {
    "duration": 231,
    "start_time": "2024-01-30T21:01:58.741Z"
   },
   {
    "duration": 125,
    "start_time": "2024-01-30T21:01:58.974Z"
   },
   {
    "duration": 9,
    "start_time": "2024-01-30T21:01:59.100Z"
   },
   {
    "duration": 19,
    "start_time": "2024-01-30T21:01:59.110Z"
   },
   {
    "duration": 16,
    "start_time": "2024-01-30T21:01:59.131Z"
   },
   {
    "duration": 31,
    "start_time": "2024-01-30T21:01:59.149Z"
   },
   {
    "duration": 39,
    "start_time": "2024-01-30T21:01:59.182Z"
   },
   {
    "duration": 36,
    "start_time": "2024-01-30T21:01:59.223Z"
   },
   {
    "duration": 22,
    "start_time": "2024-01-30T21:01:59.261Z"
   },
   {
    "duration": 21,
    "start_time": "2024-01-30T21:01:59.284Z"
   },
   {
    "duration": 226,
    "start_time": "2024-01-30T21:01:59.307Z"
   },
   {
    "duration": 229,
    "start_time": "2024-01-30T21:01:59.535Z"
   },
   {
    "duration": 212,
    "start_time": "2024-01-30T21:01:59.766Z"
   },
   {
    "duration": 223,
    "start_time": "2024-01-30T21:01:59.980Z"
   },
   {
    "duration": 964,
    "start_time": "2024-01-30T21:02:00.206Z"
   },
   {
    "duration": 4,
    "start_time": "2024-01-30T21:02:01.172Z"
   },
   {
    "duration": 55,
    "start_time": "2024-01-30T21:02:01.178Z"
   },
   {
    "duration": 40,
    "start_time": "2024-01-30T21:02:01.235Z"
   },
   {
    "duration": 293,
    "start_time": "2024-01-30T21:02:01.276Z"
   },
   {
    "duration": 13,
    "start_time": "2024-01-30T21:02:01.570Z"
   },
   {
    "duration": 38,
    "start_time": "2024-01-30T21:02:01.585Z"
   },
   {
    "duration": 72,
    "start_time": "2024-01-30T21:02:01.624Z"
   },
   {
    "duration": 957,
    "start_time": "2024-01-30T21:02:01.698Z"
   },
   {
    "duration": 9,
    "start_time": "2024-01-30T21:02:02.656Z"
   },
   {
    "duration": 230,
    "start_time": "2024-01-30T21:02:02.666Z"
   },
   {
    "duration": 114,
    "start_time": "2024-01-30T21:02:02.898Z"
   },
   {
    "duration": 55,
    "start_time": "2024-01-30T21:02:03.014Z"
   },
   {
    "duration": 152,
    "start_time": "2024-01-30T21:02:03.071Z"
   },
   {
    "duration": 71,
    "start_time": "2024-01-30T21:02:03.225Z"
   },
   {
    "duration": 26,
    "start_time": "2024-01-30T21:02:03.298Z"
   },
   {
    "duration": 172,
    "start_time": "2024-01-30T21:02:21.467Z"
   },
   {
    "duration": 232,
    "start_time": "2024-01-30T21:02:40.871Z"
   },
   {
    "duration": 173,
    "start_time": "2024-01-30T21:03:27.220Z"
   },
   {
    "duration": 198,
    "start_time": "2024-01-30T21:03:43.911Z"
   },
   {
    "duration": 308,
    "start_time": "2024-01-30T21:04:46.082Z"
   },
   {
    "duration": 487,
    "start_time": "2024-01-30T21:04:52.805Z"
   },
   {
    "duration": 276,
    "start_time": "2024-01-30T21:04:56.660Z"
   },
   {
    "duration": 213,
    "start_time": "2024-01-30T21:05:05.911Z"
   },
   {
    "duration": 222,
    "start_time": "2024-01-30T21:05:13.393Z"
   },
   {
    "duration": 183,
    "start_time": "2024-01-30T21:06:37.028Z"
   },
   {
    "duration": 234,
    "start_time": "2024-01-30T21:07:02.182Z"
   },
   {
    "duration": 227,
    "start_time": "2024-01-30T21:07:08.216Z"
   },
   {
    "duration": 213,
    "start_time": "2024-01-30T21:07:14.062Z"
   },
   {
    "duration": 237,
    "start_time": "2024-01-30T21:07:21.245Z"
   },
   {
    "duration": 991,
    "start_time": "2024-01-30T21:07:46.837Z"
   },
   {
    "duration": 292,
    "start_time": "2024-01-30T21:09:05.155Z"
   },
   {
    "duration": 171,
    "start_time": "2024-01-30T21:09:51.363Z"
   },
   {
    "duration": 1336,
    "start_time": "2024-01-30T21:10:03.605Z"
   },
   {
    "duration": 29,
    "start_time": "2024-01-30T21:10:04.943Z"
   },
   {
    "duration": 12,
    "start_time": "2024-01-30T21:10:04.975Z"
   },
   {
    "duration": 41,
    "start_time": "2024-01-30T21:10:04.989Z"
   },
   {
    "duration": 9,
    "start_time": "2024-01-30T21:10:05.032Z"
   },
   {
    "duration": 10,
    "start_time": "2024-01-30T21:10:05.042Z"
   },
   {
    "duration": 308,
    "start_time": "2024-01-30T21:10:05.054Z"
   },
   {
    "duration": 28,
    "start_time": "2024-01-30T21:10:05.364Z"
   },
   {
    "duration": 20,
    "start_time": "2024-01-30T21:10:05.393Z"
   },
   {
    "duration": 21,
    "start_time": "2024-01-30T21:10:05.416Z"
   },
   {
    "duration": 30,
    "start_time": "2024-01-30T21:10:05.439Z"
   },
   {
    "duration": 518,
    "start_time": "2024-01-30T21:10:05.472Z"
   },
   {
    "duration": 26,
    "start_time": "2024-01-30T21:10:05.992Z"
   },
   {
    "duration": 11,
    "start_time": "2024-01-30T21:10:06.020Z"
   },
   {
    "duration": 11,
    "start_time": "2024-01-30T21:10:06.033Z"
   },
   {
    "duration": 13,
    "start_time": "2024-01-30T21:10:06.046Z"
   },
   {
    "duration": 23,
    "start_time": "2024-01-30T21:10:06.062Z"
   },
   {
    "duration": 14,
    "start_time": "2024-01-30T21:10:06.087Z"
   },
   {
    "duration": 10,
    "start_time": "2024-01-30T21:10:06.103Z"
   },
   {
    "duration": 22,
    "start_time": "2024-01-30T21:10:06.115Z"
   },
   {
    "duration": 19,
    "start_time": "2024-01-30T21:10:06.139Z"
   },
   {
    "duration": 8,
    "start_time": "2024-01-30T21:10:06.160Z"
   },
   {
    "duration": 12,
    "start_time": "2024-01-30T21:10:06.170Z"
   },
   {
    "duration": 9,
    "start_time": "2024-01-30T21:10:06.184Z"
   },
   {
    "duration": 7,
    "start_time": "2024-01-30T21:10:06.195Z"
   },
   {
    "duration": 6,
    "start_time": "2024-01-30T21:10:06.204Z"
   },
   {
    "duration": 11,
    "start_time": "2024-01-30T21:10:06.212Z"
   },
   {
    "duration": 14,
    "start_time": "2024-01-30T21:10:06.260Z"
   },
   {
    "duration": 12,
    "start_time": "2024-01-30T21:10:06.276Z"
   },
   {
    "duration": 50,
    "start_time": "2024-01-30T21:10:06.289Z"
   },
   {
    "duration": 35,
    "start_time": "2024-01-30T21:10:06.341Z"
   },
   {
    "duration": 26,
    "start_time": "2024-01-30T21:10:06.377Z"
   },
   {
    "duration": 9,
    "start_time": "2024-01-30T21:10:06.405Z"
   },
   {
    "duration": 45,
    "start_time": "2024-01-30T21:10:06.415Z"
   },
   {
    "duration": 19,
    "start_time": "2024-01-30T21:10:06.462Z"
   },
   {
    "duration": 329,
    "start_time": "2024-01-30T21:10:06.483Z"
   },
   {
    "duration": 11,
    "start_time": "2024-01-30T21:10:06.814Z"
   },
   {
    "duration": 220,
    "start_time": "2024-01-30T21:10:06.827Z"
   },
   {
    "duration": 230,
    "start_time": "2024-01-30T21:10:07.048Z"
   },
   {
    "duration": 169,
    "start_time": "2024-01-30T21:10:07.281Z"
   },
   {
    "duration": 290,
    "start_time": "2024-01-30T21:10:07.458Z"
   },
   {
    "duration": 9,
    "start_time": "2024-01-30T21:10:07.750Z"
   },
   {
    "duration": 353,
    "start_time": "2024-01-30T21:10:07.761Z"
   },
   {
    "duration": 12,
    "start_time": "2024-01-30T21:10:08.116Z"
   },
   {
    "duration": 234,
    "start_time": "2024-01-30T21:10:08.130Z"
   },
   {
    "duration": 6,
    "start_time": "2024-01-30T21:10:08.366Z"
   },
   {
    "duration": 278,
    "start_time": "2024-01-30T21:10:08.374Z"
   },
   {
    "duration": 21,
    "start_time": "2024-01-30T21:10:08.658Z"
   },
   {
    "duration": 263,
    "start_time": "2024-01-30T21:10:08.682Z"
   },
   {
    "duration": 219,
    "start_time": "2024-01-30T21:10:08.947Z"
   },
   {
    "duration": 10,
    "start_time": "2024-01-30T21:10:09.169Z"
   },
   {
    "duration": 17,
    "start_time": "2024-01-30T21:10:09.181Z"
   },
   {
    "duration": 11,
    "start_time": "2024-01-30T21:10:09.200Z"
   },
   {
    "duration": 50,
    "start_time": "2024-01-30T21:10:09.213Z"
   },
   {
    "duration": 40,
    "start_time": "2024-01-30T21:10:09.264Z"
   },
   {
    "duration": 15,
    "start_time": "2024-01-30T21:10:09.306Z"
   },
   {
    "duration": 48,
    "start_time": "2024-01-30T21:10:09.323Z"
   },
   {
    "duration": 24,
    "start_time": "2024-01-30T21:10:09.374Z"
   },
   {
    "duration": 262,
    "start_time": "2024-01-30T21:10:09.400Z"
   },
   {
    "duration": 268,
    "start_time": "2024-01-30T21:10:09.665Z"
   },
   {
    "duration": 262,
    "start_time": "2024-01-30T21:10:09.935Z"
   },
   {
    "duration": 263,
    "start_time": "2024-01-30T21:10:10.199Z"
   },
   {
    "duration": 1064,
    "start_time": "2024-01-30T21:10:10.465Z"
   },
   {
    "duration": 3,
    "start_time": "2024-01-30T21:10:11.530Z"
   },
   {
    "duration": 14,
    "start_time": "2024-01-30T21:10:11.535Z"
   },
   {
    "duration": 6,
    "start_time": "2024-01-30T21:10:11.559Z"
   },
   {
    "duration": 245,
    "start_time": "2024-01-30T21:10:11.567Z"
   },
   {
    "duration": 13,
    "start_time": "2024-01-30T21:10:11.813Z"
   },
   {
    "duration": 11,
    "start_time": "2024-01-30T21:10:11.828Z"
   },
   {
    "duration": 21,
    "start_time": "2024-01-30T21:10:11.840Z"
   },
   {
    "duration": 1037,
    "start_time": "2024-01-30T21:10:11.863Z"
   },
   {
    "duration": 8,
    "start_time": "2024-01-30T21:10:12.902Z"
   },
   {
    "duration": 206,
    "start_time": "2024-01-30T21:10:12.912Z"
   },
   {
    "duration": 177,
    "start_time": "2024-01-30T21:10:13.120Z"
   },
   {
    "duration": 5,
    "start_time": "2024-01-30T21:10:13.299Z"
   },
   {
    "duration": 41,
    "start_time": "2024-01-30T21:10:13.306Z"
   },
   {
    "duration": 16,
    "start_time": "2024-01-30T21:10:13.349Z"
   },
   {
    "duration": 19,
    "start_time": "2024-01-30T21:10:13.367Z"
   }
  ],
  "kernelspec": {
   "display_name": "Python 3 (ipykernel)",
   "language": "python",
   "name": "python3"
  },
  "language_info": {
   "codemirror_mode": {
    "name": "ipython",
    "version": 3
   },
   "file_extension": ".py",
   "mimetype": "text/x-python",
   "name": "python",
   "nbconvert_exporter": "python",
   "pygments_lexer": "ipython3",
   "version": "3.9.5"
  },
  "toc": {
   "base_numbering": 1,
   "nav_menu": {},
   "number_sections": true,
   "sideBar": true,
   "skip_h1_title": true,
   "title_cell": "Table of Contents",
   "title_sidebar": "Contents",
   "toc_cell": false,
   "toc_position": {
    "height": "calc(100% - 180px)",
    "left": "10px",
    "top": "150px",
    "width": "349px"
   },
   "toc_section_display": true,
   "toc_window_display": true
  }
 },
 "nbformat": 4,
 "nbformat_minor": 5
}
