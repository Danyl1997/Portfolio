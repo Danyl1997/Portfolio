{
 "cells": [
  {
   "cell_type": "markdown",
   "metadata": {},
   "source": [
    "# Анализ базы данные сервиса для чтения книг по подписке"
   ]
  },
  {
   "cell_type": "markdown",
   "metadata": {},
   "source": [
    "Коронавирус застал мир врасплох, изменив привычный порядок вещей. На какое-то время жители городов перестали выходить на улицу, посещать кафе и торговые центры. Зато стало больше времени для книг. Это заметили стартаперы — и бросились создавать приложения для тех, кто любит читать."
   ]
  },
  {
   "cell_type": "markdown",
   "metadata": {},
   "source": [
    "## Введение "
   ]
  },
  {
   "cell_type": "markdown",
   "metadata": {},
   "source": [
    "В настоящем исследовании будет изучен датасет сервиса для чтения книг по подписке.\n",
    "\n",
    "**`Цели исследования:`**\n",
    "1. Проанализировать базу данных;\n",
    "2. Ответить на вопросы заказчика;\n",
    "3. Дать рекомендации заказчику по улчшению сервиса.\n",
    "\n",
    "\n",
    "**`Задачи:`**\n",
    "1. Исследовать таблицы — вывести первые строки каждой из таблиц.\n",
    "2. Посчитать сколько книг вышло после 1 января 2000 года; \n",
    "3. Для каждой книги посчитать количество обзоров и среднюю оценку;\n",
    "4. Определить издательство, которое выпустило наибольшее число книг толще 50 страниц — так мы исключите из анализа брошюры;\n",
    "5. Определить автора с самой высокой средней оценкой книг — учитываются только книги с 50 и более оценками;\n",
    "6. Посчитать среднее количество обзоров от пользователей, которые поставили больше 48 оценок;\n",
    "7. Подвести итоги исследования\n"
   ]
  },
  {
   "cell_type": "markdown",
   "metadata": {},
   "source": [
    "**`Описание данных:`** \n",
    "\n",
    "Таблица **`books`**\n",
    "\n",
    "Содержит данные о книгах:\n",
    "\n",
    "- `book_id` — идентификатор книги;\n",
    "- `author_id` — идентификатор автора;\n",
    "- `title` — название книги;\n",
    "- `num_pages` — количество страниц;\n",
    "- `publication_date` — дата публикации книги;\n",
    "- `publisher_id` — идентификатор издателя.\n",
    "\n",
    "Таблица **`authors`**\n",
    "\n",
    "Содержит данные об авторах:\n",
    "\n",
    "- `author_id` — идентификатор автора;\n",
    "- `author` — имя автора.\n",
    "\n",
    "Таблица **`publishers`**\n",
    "\n",
    "Содержит данные об издательствах:\n",
    "\n",
    "- `publisher_id` — идентификатор издательства;\n",
    "- `publisher` — название издательства;\n",
    "\n",
    "Таблица **`ratings`**\n",
    "\n",
    "Содержит данные о пользовательских оценках книг:\n",
    "\n",
    "- `rating_id` — идентификатор оценки;\n",
    "- `book_id` — идентификатор книги;\n",
    "- `username` — имя пользователя, оставившего оценку;\n",
    "- `rating` — оценка книги.\n",
    "\n",
    "Таблица **`reviews`**\n",
    "\n",
    "Содержит данные о пользовательских обзорах:\n",
    "\n",
    "- `review_id` — идентификатор обзора;\n",
    "- `book_id` — идентификатор книги;\n",
    "- `username` — имя автора обзора;\n",
    "- `text` — текст обзора."
   ]
  },
  {
   "cell_type": "markdown",
   "metadata": {},
   "source": [
    "## Исследование таблицы "
   ]
  },
  {
   "cell_type": "code",
   "execution_count": 1,
   "metadata": {},
   "outputs": [],
   "source": [
    "# импортируем библиотеки\n",
    "\n",
    "import pandas as pd\n",
    "from sqlalchemy import text, create_engine\n",
    "from PIL import Image\n",
    "# устанавливаем параметры\n",
    "db_config = {'user': 'praktikum_student', # имя пользователя\n",
    "'pwd': 'Sdf4$2;d-d30pp', # пароль\n",
    "'host': 'rc1b-wcoijxj3yxfsf3fs.mdb.yandexcloud.net',\n",
    "'port': 6432, # порт подключения\n",
    "'db': 'data-analyst-final-project-db'} # название базы данных\n",
    "connection_string = 'postgresql://{user}:{pwd}@{host}:{port}/{db}'.format(**db_config)\n",
    "# сохраняем коннектор\n",
    "engine = create_engine(connection_string, connect_args={'sslmode':'require'})"
   ]
  },
  {
   "cell_type": "markdown",
   "metadata": {},
   "source": [
    "**Посмтрим первые пять строк в `books`**"
   ]
  },
  {
   "cell_type": "code",
   "execution_count": 2,
   "metadata": {},
   "outputs": [
    {
     "data": {
      "text/html": [
       "<div>\n",
       "<style scoped>\n",
       "    .dataframe tbody tr th:only-of-type {\n",
       "        vertical-align: middle;\n",
       "    }\n",
       "\n",
       "    .dataframe tbody tr th {\n",
       "        vertical-align: top;\n",
       "    }\n",
       "\n",
       "    .dataframe thead th {\n",
       "        text-align: right;\n",
       "    }\n",
       "</style>\n",
       "<table border=\"1\" class=\"dataframe\">\n",
       "  <thead>\n",
       "    <tr style=\"text-align: right;\">\n",
       "      <th></th>\n",
       "      <th>book_id</th>\n",
       "      <th>author_id</th>\n",
       "      <th>title</th>\n",
       "      <th>num_pages</th>\n",
       "      <th>publication_date</th>\n",
       "      <th>publisher_id</th>\n",
       "    </tr>\n",
       "  </thead>\n",
       "  <tbody>\n",
       "    <tr>\n",
       "      <th>0</th>\n",
       "      <td>1</td>\n",
       "      <td>546</td>\n",
       "      <td>'Salem's Lot</td>\n",
       "      <td>594</td>\n",
       "      <td>2005-11-01</td>\n",
       "      <td>93</td>\n",
       "    </tr>\n",
       "    <tr>\n",
       "      <th>1</th>\n",
       "      <td>2</td>\n",
       "      <td>465</td>\n",
       "      <td>1 000 Places to See Before You Die</td>\n",
       "      <td>992</td>\n",
       "      <td>2003-05-22</td>\n",
       "      <td>336</td>\n",
       "    </tr>\n",
       "    <tr>\n",
       "      <th>2</th>\n",
       "      <td>3</td>\n",
       "      <td>407</td>\n",
       "      <td>13 Little Blue Envelopes (Little Blue Envelope...</td>\n",
       "      <td>322</td>\n",
       "      <td>2010-12-21</td>\n",
       "      <td>135</td>\n",
       "    </tr>\n",
       "    <tr>\n",
       "      <th>3</th>\n",
       "      <td>4</td>\n",
       "      <td>82</td>\n",
       "      <td>1491: New Revelations of the Americas Before C...</td>\n",
       "      <td>541</td>\n",
       "      <td>2006-10-10</td>\n",
       "      <td>309</td>\n",
       "    </tr>\n",
       "    <tr>\n",
       "      <th>4</th>\n",
       "      <td>5</td>\n",
       "      <td>125</td>\n",
       "      <td>1776</td>\n",
       "      <td>386</td>\n",
       "      <td>2006-07-04</td>\n",
       "      <td>268</td>\n",
       "    </tr>\n",
       "  </tbody>\n",
       "</table>\n",
       "</div>"
      ],
      "text/plain": [
       "   book_id  author_id                                              title  \\\n",
       "0        1        546                                       'Salem's Lot   \n",
       "1        2        465                 1 000 Places to See Before You Die   \n",
       "2        3        407  13 Little Blue Envelopes (Little Blue Envelope...   \n",
       "3        4         82  1491: New Revelations of the Americas Before C...   \n",
       "4        5        125                                               1776   \n",
       "\n",
       "   num_pages publication_date  publisher_id  \n",
       "0        594       2005-11-01            93  \n",
       "1        992       2003-05-22           336  \n",
       "2        322       2010-12-21           135  \n",
       "3        541       2006-10-10           309  \n",
       "4        386       2006-07-04           268  "
      ]
     },
     "execution_count": 2,
     "metadata": {},
     "output_type": "execute_result"
    }
   ],
   "source": [
    "books_query = '''SELECT * FROM books LIMIT 5'''\n",
    "con=engine.connect()\n",
    "pd.io.sql.read_sql(sql=text(books_query), con = con)"
   ]
  },
  {
   "cell_type": "markdown",
   "metadata": {},
   "source": [
    "**Посмтрим первые пять строк в `authors`**"
   ]
  },
  {
   "cell_type": "code",
   "execution_count": 3,
   "metadata": {},
   "outputs": [
    {
     "data": {
      "text/html": [
       "<div>\n",
       "<style scoped>\n",
       "    .dataframe tbody tr th:only-of-type {\n",
       "        vertical-align: middle;\n",
       "    }\n",
       "\n",
       "    .dataframe tbody tr th {\n",
       "        vertical-align: top;\n",
       "    }\n",
       "\n",
       "    .dataframe thead th {\n",
       "        text-align: right;\n",
       "    }\n",
       "</style>\n",
       "<table border=\"1\" class=\"dataframe\">\n",
       "  <thead>\n",
       "    <tr style=\"text-align: right;\">\n",
       "      <th></th>\n",
       "      <th>author_id</th>\n",
       "      <th>author</th>\n",
       "    </tr>\n",
       "  </thead>\n",
       "  <tbody>\n",
       "    <tr>\n",
       "      <th>0</th>\n",
       "      <td>1</td>\n",
       "      <td>A.S. Byatt</td>\n",
       "    </tr>\n",
       "    <tr>\n",
       "      <th>1</th>\n",
       "      <td>2</td>\n",
       "      <td>Aesop/Laura Harris/Laura Gibbs</td>\n",
       "    </tr>\n",
       "    <tr>\n",
       "      <th>2</th>\n",
       "      <td>3</td>\n",
       "      <td>Agatha Christie</td>\n",
       "    </tr>\n",
       "    <tr>\n",
       "      <th>3</th>\n",
       "      <td>4</td>\n",
       "      <td>Alan Brennert</td>\n",
       "    </tr>\n",
       "    <tr>\n",
       "      <th>4</th>\n",
       "      <td>5</td>\n",
       "      <td>Alan Moore/David   Lloyd</td>\n",
       "    </tr>\n",
       "  </tbody>\n",
       "</table>\n",
       "</div>"
      ],
      "text/plain": [
       "   author_id                          author\n",
       "0          1                      A.S. Byatt\n",
       "1          2  Aesop/Laura Harris/Laura Gibbs\n",
       "2          3                 Agatha Christie\n",
       "3          4                   Alan Brennert\n",
       "4          5        Alan Moore/David   Lloyd"
      ]
     },
     "execution_count": 3,
     "metadata": {},
     "output_type": "execute_result"
    }
   ],
   "source": [
    "authors_query = '''SELECT * FROM authors LIMIT 5'''\n",
    "con=engine.connect()\n",
    "pd.io.sql.read_sql(sql=text(authors_query), con = con)"
   ]
  },
  {
   "cell_type": "markdown",
   "metadata": {},
   "source": [
    "**Посмтрим первые пять строк в `publishers`**"
   ]
  },
  {
   "cell_type": "code",
   "execution_count": 4,
   "metadata": {},
   "outputs": [
    {
     "data": {
      "text/html": [
       "<div>\n",
       "<style scoped>\n",
       "    .dataframe tbody tr th:only-of-type {\n",
       "        vertical-align: middle;\n",
       "    }\n",
       "\n",
       "    .dataframe tbody tr th {\n",
       "        vertical-align: top;\n",
       "    }\n",
       "\n",
       "    .dataframe thead th {\n",
       "        text-align: right;\n",
       "    }\n",
       "</style>\n",
       "<table border=\"1\" class=\"dataframe\">\n",
       "  <thead>\n",
       "    <tr style=\"text-align: right;\">\n",
       "      <th></th>\n",
       "      <th>publisher_id</th>\n",
       "      <th>publisher</th>\n",
       "    </tr>\n",
       "  </thead>\n",
       "  <tbody>\n",
       "    <tr>\n",
       "      <th>0</th>\n",
       "      <td>1</td>\n",
       "      <td>Ace</td>\n",
       "    </tr>\n",
       "    <tr>\n",
       "      <th>1</th>\n",
       "      <td>2</td>\n",
       "      <td>Ace Book</td>\n",
       "    </tr>\n",
       "    <tr>\n",
       "      <th>2</th>\n",
       "      <td>3</td>\n",
       "      <td>Ace Books</td>\n",
       "    </tr>\n",
       "    <tr>\n",
       "      <th>3</th>\n",
       "      <td>4</td>\n",
       "      <td>Ace Hardcover</td>\n",
       "    </tr>\n",
       "    <tr>\n",
       "      <th>4</th>\n",
       "      <td>5</td>\n",
       "      <td>Addison Wesley Publishing Company</td>\n",
       "    </tr>\n",
       "  </tbody>\n",
       "</table>\n",
       "</div>"
      ],
      "text/plain": [
       "   publisher_id                          publisher\n",
       "0             1                                Ace\n",
       "1             2                           Ace Book\n",
       "2             3                          Ace Books\n",
       "3             4                      Ace Hardcover\n",
       "4             5  Addison Wesley Publishing Company"
      ]
     },
     "execution_count": 4,
     "metadata": {},
     "output_type": "execute_result"
    }
   ],
   "source": [
    "publishers_query = '''SELECT * FROM publishers LIMIT 5'''\n",
    "con=engine.connect()\n",
    "pd.io.sql.read_sql(sql=text(publishers_query), con = con)"
   ]
  },
  {
   "cell_type": "markdown",
   "metadata": {},
   "source": [
    "**Посмтрим первые пять строк в `ratings`**"
   ]
  },
  {
   "cell_type": "code",
   "execution_count": 5,
   "metadata": {},
   "outputs": [
    {
     "data": {
      "text/html": [
       "<div>\n",
       "<style scoped>\n",
       "    .dataframe tbody tr th:only-of-type {\n",
       "        vertical-align: middle;\n",
       "    }\n",
       "\n",
       "    .dataframe tbody tr th {\n",
       "        vertical-align: top;\n",
       "    }\n",
       "\n",
       "    .dataframe thead th {\n",
       "        text-align: right;\n",
       "    }\n",
       "</style>\n",
       "<table border=\"1\" class=\"dataframe\">\n",
       "  <thead>\n",
       "    <tr style=\"text-align: right;\">\n",
       "      <th></th>\n",
       "      <th>rating_id</th>\n",
       "      <th>book_id</th>\n",
       "      <th>username</th>\n",
       "      <th>rating</th>\n",
       "    </tr>\n",
       "  </thead>\n",
       "  <tbody>\n",
       "    <tr>\n",
       "      <th>0</th>\n",
       "      <td>1</td>\n",
       "      <td>1</td>\n",
       "      <td>ryanfranco</td>\n",
       "      <td>4</td>\n",
       "    </tr>\n",
       "    <tr>\n",
       "      <th>1</th>\n",
       "      <td>2</td>\n",
       "      <td>1</td>\n",
       "      <td>grantpatricia</td>\n",
       "      <td>2</td>\n",
       "    </tr>\n",
       "    <tr>\n",
       "      <th>2</th>\n",
       "      <td>3</td>\n",
       "      <td>1</td>\n",
       "      <td>brandtandrea</td>\n",
       "      <td>5</td>\n",
       "    </tr>\n",
       "    <tr>\n",
       "      <th>3</th>\n",
       "      <td>4</td>\n",
       "      <td>2</td>\n",
       "      <td>lorichen</td>\n",
       "      <td>3</td>\n",
       "    </tr>\n",
       "    <tr>\n",
       "      <th>4</th>\n",
       "      <td>5</td>\n",
       "      <td>2</td>\n",
       "      <td>mariokeller</td>\n",
       "      <td>2</td>\n",
       "    </tr>\n",
       "  </tbody>\n",
       "</table>\n",
       "</div>"
      ],
      "text/plain": [
       "   rating_id  book_id       username  rating\n",
       "0          1        1     ryanfranco       4\n",
       "1          2        1  grantpatricia       2\n",
       "2          3        1   brandtandrea       5\n",
       "3          4        2       lorichen       3\n",
       "4          5        2    mariokeller       2"
      ]
     },
     "execution_count": 5,
     "metadata": {},
     "output_type": "execute_result"
    }
   ],
   "source": [
    "ratings_query = '''SELECT * FROM ratings LIMIT 5'''\n",
    "con=engine.connect()\n",
    "pd.io.sql.read_sql(sql=text(ratings_query), con = con)"
   ]
  },
  {
   "cell_type": "markdown",
   "metadata": {},
   "source": [
    "**Посмтрим первые пять строк в `reviews`**"
   ]
  },
  {
   "cell_type": "code",
   "execution_count": 6,
   "metadata": {},
   "outputs": [
    {
     "data": {
      "text/html": [
       "<div>\n",
       "<style scoped>\n",
       "    .dataframe tbody tr th:only-of-type {\n",
       "        vertical-align: middle;\n",
       "    }\n",
       "\n",
       "    .dataframe tbody tr th {\n",
       "        vertical-align: top;\n",
       "    }\n",
       "\n",
       "    .dataframe thead th {\n",
       "        text-align: right;\n",
       "    }\n",
       "</style>\n",
       "<table border=\"1\" class=\"dataframe\">\n",
       "  <thead>\n",
       "    <tr style=\"text-align: right;\">\n",
       "      <th></th>\n",
       "      <th>review_id</th>\n",
       "      <th>book_id</th>\n",
       "      <th>username</th>\n",
       "      <th>text</th>\n",
       "    </tr>\n",
       "  </thead>\n",
       "  <tbody>\n",
       "    <tr>\n",
       "      <th>0</th>\n",
       "      <td>1</td>\n",
       "      <td>1</td>\n",
       "      <td>brandtandrea</td>\n",
       "      <td>Mention society tell send professor analysis. ...</td>\n",
       "    </tr>\n",
       "    <tr>\n",
       "      <th>1</th>\n",
       "      <td>2</td>\n",
       "      <td>1</td>\n",
       "      <td>ryanfranco</td>\n",
       "      <td>Foot glass pretty audience hit themselves. Amo...</td>\n",
       "    </tr>\n",
       "    <tr>\n",
       "      <th>2</th>\n",
       "      <td>3</td>\n",
       "      <td>2</td>\n",
       "      <td>lorichen</td>\n",
       "      <td>Listen treat keep worry. Miss husband tax but ...</td>\n",
       "    </tr>\n",
       "    <tr>\n",
       "      <th>3</th>\n",
       "      <td>4</td>\n",
       "      <td>3</td>\n",
       "      <td>johnsonamanda</td>\n",
       "      <td>Finally month interesting blue could nature cu...</td>\n",
       "    </tr>\n",
       "    <tr>\n",
       "      <th>4</th>\n",
       "      <td>5</td>\n",
       "      <td>3</td>\n",
       "      <td>scotttamara</td>\n",
       "      <td>Nation purpose heavy give wait song will. List...</td>\n",
       "    </tr>\n",
       "  </tbody>\n",
       "</table>\n",
       "</div>"
      ],
      "text/plain": [
       "   review_id  book_id       username  \\\n",
       "0          1        1   brandtandrea   \n",
       "1          2        1     ryanfranco   \n",
       "2          3        2       lorichen   \n",
       "3          4        3  johnsonamanda   \n",
       "4          5        3    scotttamara   \n",
       "\n",
       "                                                text  \n",
       "0  Mention society tell send professor analysis. ...  \n",
       "1  Foot glass pretty audience hit themselves. Amo...  \n",
       "2  Listen treat keep worry. Miss husband tax but ...  \n",
       "3  Finally month interesting blue could nature cu...  \n",
       "4  Nation purpose heavy give wait song will. List...  "
      ]
     },
     "execution_count": 6,
     "metadata": {},
     "output_type": "execute_result"
    }
   ],
   "source": [
    "reviews_query = '''SELECT * FROM reviews LIMIT 5'''\n",
    "con=engine.connect()\n",
    "pd.io.sql.read_sql(sql=text(reviews_query), con = con)"
   ]
  },
  {
   "cell_type": "markdown",
   "metadata": {},
   "source": [
    "## Количество книг опубликованных после 1 января 2000 года"
   ]
  },
  {
   "cell_type": "code",
   "execution_count": 7,
   "metadata": {},
   "outputs": [
    {
     "data": {
      "text/html": [
       "<div>\n",
       "<style scoped>\n",
       "    .dataframe tbody tr th:only-of-type {\n",
       "        vertical-align: middle;\n",
       "    }\n",
       "\n",
       "    .dataframe tbody tr th {\n",
       "        vertical-align: top;\n",
       "    }\n",
       "\n",
       "    .dataframe thead th {\n",
       "        text-align: right;\n",
       "    }\n",
       "</style>\n",
       "<table border=\"1\" class=\"dataframe\">\n",
       "  <thead>\n",
       "    <tr style=\"text-align: right;\">\n",
       "      <th></th>\n",
       "      <th>count</th>\n",
       "    </tr>\n",
       "  </thead>\n",
       "  <tbody>\n",
       "    <tr>\n",
       "      <th>0</th>\n",
       "      <td>821</td>\n",
       "    </tr>\n",
       "  </tbody>\n",
       "</table>\n",
       "</div>"
      ],
      "text/plain": [
       "   count\n",
       "0    821"
      ]
     },
     "execution_count": 7,
     "metadata": {},
     "output_type": "execute_result"
    }
   ],
   "source": [
    "books = '''SELECT COUNT(*) \n",
    "           FROM books \n",
    "           WHERE publication_date >= '2000-01-01';'''\n",
    "con=engine.connect()\n",
    "pd.io.sql.read_sql(sql=text(books), con = con)"
   ]
  },
  {
   "cell_type": "markdown",
   "metadata": {},
   "source": [
    "821 книга была выпущена после 1 января 2000 года"
   ]
  },
  {
   "cell_type": "markdown",
   "metadata": {},
   "source": [
    "## Количество обзоров и средняя оценка книг;"
   ]
  },
  {
   "cell_type": "code",
   "execution_count": 8,
   "metadata": {},
   "outputs": [
    {
     "data": {
      "text/html": [
       "<div>\n",
       "<style scoped>\n",
       "    .dataframe tbody tr th:only-of-type {\n",
       "        vertical-align: middle;\n",
       "    }\n",
       "\n",
       "    .dataframe tbody tr th {\n",
       "        vertical-align: top;\n",
       "    }\n",
       "\n",
       "    .dataframe thead th {\n",
       "        text-align: right;\n",
       "    }\n",
       "</style>\n",
       "<table border=\"1\" class=\"dataframe\">\n",
       "  <thead>\n",
       "    <tr style=\"text-align: right;\">\n",
       "      <th></th>\n",
       "      <th>id</th>\n",
       "      <th>title</th>\n",
       "      <th>total_reviews</th>\n",
       "      <th>avg_rating</th>\n",
       "    </tr>\n",
       "  </thead>\n",
       "  <tbody>\n",
       "    <tr>\n",
       "      <th>0</th>\n",
       "      <td>948</td>\n",
       "      <td>Twilight (Twilight  #1)</td>\n",
       "      <td>7</td>\n",
       "      <td>3.66</td>\n",
       "    </tr>\n",
       "    <tr>\n",
       "      <th>1</th>\n",
       "      <td>302</td>\n",
       "      <td>Harry Potter and the Prisoner of Azkaban (Harr...</td>\n",
       "      <td>6</td>\n",
       "      <td>4.41</td>\n",
       "    </tr>\n",
       "    <tr>\n",
       "      <th>2</th>\n",
       "      <td>299</td>\n",
       "      <td>Harry Potter and the Chamber of Secrets (Harry...</td>\n",
       "      <td>6</td>\n",
       "      <td>4.29</td>\n",
       "    </tr>\n",
       "    <tr>\n",
       "      <th>3</th>\n",
       "      <td>656</td>\n",
       "      <td>The Book Thief</td>\n",
       "      <td>6</td>\n",
       "      <td>4.26</td>\n",
       "    </tr>\n",
       "    <tr>\n",
       "      <th>4</th>\n",
       "      <td>734</td>\n",
       "      <td>The Glass Castle</td>\n",
       "      <td>6</td>\n",
       "      <td>4.21</td>\n",
       "    </tr>\n",
       "    <tr>\n",
       "      <th>...</th>\n",
       "      <td>...</td>\n",
       "      <td>...</td>\n",
       "      <td>...</td>\n",
       "      <td>...</td>\n",
       "    </tr>\n",
       "    <tr>\n",
       "      <th>995</th>\n",
       "      <td>191</td>\n",
       "      <td>Disney's Beauty and the Beast (A Little Golden...</td>\n",
       "      <td>0</td>\n",
       "      <td>4.00</td>\n",
       "    </tr>\n",
       "    <tr>\n",
       "      <th>996</th>\n",
       "      <td>387</td>\n",
       "      <td>Leonardo's Notebooks</td>\n",
       "      <td>0</td>\n",
       "      <td>4.00</td>\n",
       "    </tr>\n",
       "    <tr>\n",
       "      <th>997</th>\n",
       "      <td>221</td>\n",
       "      <td>Essential Tales and Poems</td>\n",
       "      <td>0</td>\n",
       "      <td>4.00</td>\n",
       "    </tr>\n",
       "    <tr>\n",
       "      <th>998</th>\n",
       "      <td>83</td>\n",
       "      <td>Anne Rice's The Vampire Lestat: A Graphic Novel</td>\n",
       "      <td>0</td>\n",
       "      <td>3.67</td>\n",
       "    </tr>\n",
       "    <tr>\n",
       "      <th>999</th>\n",
       "      <td>808</td>\n",
       "      <td>The Natural Way to Draw</td>\n",
       "      <td>0</td>\n",
       "      <td>3.00</td>\n",
       "    </tr>\n",
       "  </tbody>\n",
       "</table>\n",
       "<p>1000 rows × 4 columns</p>\n",
       "</div>"
      ],
      "text/plain": [
       "      id                                              title  total_reviews  \\\n",
       "0    948                            Twilight (Twilight  #1)              7   \n",
       "1    302  Harry Potter and the Prisoner of Azkaban (Harr...              6   \n",
       "2    299  Harry Potter and the Chamber of Secrets (Harry...              6   \n",
       "3    656                                     The Book Thief              6   \n",
       "4    734                                   The Glass Castle              6   \n",
       "..   ...                                                ...            ...   \n",
       "995  191  Disney's Beauty and the Beast (A Little Golden...              0   \n",
       "996  387                               Leonardo's Notebooks              0   \n",
       "997  221                          Essential Tales and Poems              0   \n",
       "998   83    Anne Rice's The Vampire Lestat: A Graphic Novel              0   \n",
       "999  808                            The Natural Way to Draw              0   \n",
       "\n",
       "     avg_rating  \n",
       "0          3.66  \n",
       "1          4.41  \n",
       "2          4.29  \n",
       "3          4.26  \n",
       "4          4.21  \n",
       "..          ...  \n",
       "995        4.00  \n",
       "996        4.00  \n",
       "997        4.00  \n",
       "998        3.67  \n",
       "999        3.00  \n",
       "\n",
       "[1000 rows x 4 columns]"
      ]
     },
     "execution_count": 8,
     "metadata": {},
     "output_type": "execute_result"
    }
   ],
   "source": [
    "count_review = '''SELECT b.book_id AS id, \n",
    "                         b.title AS title, \n",
    "                         COUNT(DISTINCT r.review_id) AS total_reviews, \n",
    "                         ROUND(AVG(ra.rating),2) AS avg_rating\n",
    "                  FROM books AS b \n",
    "                  LEFT JOIN reviews AS r ON b.book_id=r.book_id\n",
    "                  LEFT JOIN ratings AS ra ON b.book_id=ra.book_id\n",
    "                  GROUP BY id\n",
    "                  ORDER BY total_reviews DESC, avg_rating DESC'''\n",
    "\n",
    "con=engine.connect()\n",
    "pd.io.sql.read_sql(sql=text(count_review), con = con)"
   ]
  },
  {
   "cell_type": "markdown",
   "metadata": {},
   "source": [
    "Самое большое количество обзоров имеет книга Twilight, однако средний рейтинг у книги небольшой - 3.66 из 5. "
   ]
  },
  {
   "cell_type": "markdown",
   "metadata": {},
   "source": [
    "## Издательство, которое выпустило наибольшее число книг "
   ]
  },
  {
   "cell_type": "code",
   "execution_count": 9,
   "metadata": {},
   "outputs": [
    {
     "data": {
      "text/html": [
       "<div>\n",
       "<style scoped>\n",
       "    .dataframe tbody tr th:only-of-type {\n",
       "        vertical-align: middle;\n",
       "    }\n",
       "\n",
       "    .dataframe tbody tr th {\n",
       "        vertical-align: top;\n",
       "    }\n",
       "\n",
       "    .dataframe thead th {\n",
       "        text-align: right;\n",
       "    }\n",
       "</style>\n",
       "<table border=\"1\" class=\"dataframe\">\n",
       "  <thead>\n",
       "    <tr style=\"text-align: right;\">\n",
       "      <th></th>\n",
       "      <th>publisher</th>\n",
       "      <th>total_books</th>\n",
       "    </tr>\n",
       "  </thead>\n",
       "  <tbody>\n",
       "    <tr>\n",
       "      <th>0</th>\n",
       "      <td>Penguin Books</td>\n",
       "      <td>42</td>\n",
       "    </tr>\n",
       "  </tbody>\n",
       "</table>\n",
       "</div>"
      ],
      "text/plain": [
       "       publisher  total_books\n",
       "0  Penguin Books           42"
      ]
     },
     "execution_count": 9,
     "metadata": {},
     "output_type": "execute_result"
    }
   ],
   "source": [
    "#Определим издательство, которое выпустило наибольшее число книг толще 50 страниц — так мы исключите из анализа брошюры\n",
    "count_books_by_publisher = '''SELECT p.publisher, \n",
    "                              COUNT(b.book_id) AS total_books\n",
    "                              FROM books AS b\n",
    "                              LEFT JOIN publishers AS p ON b.publisher_id=p.publisher_id\n",
    "                              WHERE b.num_pages >= 50\n",
    "                              GROUP BY p.publisher\n",
    "                              ORDER BY total_books DESC\n",
    "                              LIMIT 1'''\n",
    "con=engine.connect()\n",
    "pd.io.sql.read_sql(sql=text(count_books_by_publisher), con = con)"
   ]
  },
  {
   "cell_type": "markdown",
   "metadata": {},
   "source": [
    "**Penguin Books** - издательство, которое выпустило наибольшее число книг толще 50 страниц."
   ]
  },
  {
   "cell_type": "markdown",
   "metadata": {},
   "source": [
    "## Автор с самой высокой средней оценкой книг "
   ]
  },
  {
   "cell_type": "code",
   "execution_count": 10,
   "metadata": {
    "scrolled": true
   },
   "outputs": [
    {
     "data": {
      "text/html": [
       "<div>\n",
       "<style scoped>\n",
       "    .dataframe tbody tr th:only-of-type {\n",
       "        vertical-align: middle;\n",
       "    }\n",
       "\n",
       "    .dataframe tbody tr th {\n",
       "        vertical-align: top;\n",
       "    }\n",
       "\n",
       "    .dataframe thead th {\n",
       "        text-align: right;\n",
       "    }\n",
       "</style>\n",
       "<table border=\"1\" class=\"dataframe\">\n",
       "  <thead>\n",
       "    <tr style=\"text-align: right;\">\n",
       "      <th></th>\n",
       "      <th>author</th>\n",
       "      <th>high_book_avg_rating</th>\n",
       "    </tr>\n",
       "  </thead>\n",
       "  <tbody>\n",
       "    <tr>\n",
       "      <th>0</th>\n",
       "      <td>J.K. Rowling/Mary GrandPré</td>\n",
       "      <td>4.28</td>\n",
       "    </tr>\n",
       "  </tbody>\n",
       "</table>\n",
       "</div>"
      ],
      "text/plain": [
       "                       author  high_book_avg_rating\n",
       "0  J.K. Rowling/Mary GrandPré                  4.28"
      ]
     },
     "execution_count": 10,
     "metadata": {},
     "output_type": "execute_result"
    }
   ],
   "source": [
    "#Определим автора с самой высокой средней оценкой книг — учитываются только книги с 50 и более оценками;\n",
    "top_authors = '''WITH top_books AS \n",
    "                 (SELECT a.author AS author, b.book_id, \n",
    "                 AVG(r.rating) AS avg_rating\n",
    "                 FROM books AS b \n",
    "                 LEFT JOIN ratings AS r ON b.book_id=r.book_id\n",
    "                 LEFT JOIN authors AS a ON b.author_id=a.author_id\n",
    "                 GROUP BY a.author, b.book_id\n",
    "                 HAVING COUNT(r.rating) >= 50)\n",
    "                 SELECT author,\n",
    "                        ROUND(AVG(avg_rating), 2) AS high_book_avg_rating\n",
    "                 FROM top_books\n",
    "                 GROUP BY author\n",
    "                 ORDER BY high_book_avg_rating DESC\n",
    "                 LIMIT 1'''\n",
    "\n",
    "con=engine.connect()\n",
    "pd.io.sql.read_sql(sql=text(top_authors), con = con)   "
   ]
  },
  {
   "cell_type": "markdown",
   "metadata": {},
   "source": [
    "**J.K. Rowling/Mary GrandPré** имеет самую высокую среднюю оценку книг - **4.28**."
   ]
  },
  {
   "cell_type": "markdown",
   "metadata": {},
   "source": [
    "## Cреднее количество обзоров от пользователей"
   ]
  },
  {
   "cell_type": "code",
   "execution_count": 11,
   "metadata": {},
   "outputs": [
    {
     "data": {
      "text/html": [
       "<div>\n",
       "<style scoped>\n",
       "    .dataframe tbody tr th:only-of-type {\n",
       "        vertical-align: middle;\n",
       "    }\n",
       "\n",
       "    .dataframe tbody tr th {\n",
       "        vertical-align: top;\n",
       "    }\n",
       "\n",
       "    .dataframe thead th {\n",
       "        text-align: right;\n",
       "    }\n",
       "</style>\n",
       "<table border=\"1\" class=\"dataframe\">\n",
       "  <thead>\n",
       "    <tr style=\"text-align: right;\">\n",
       "      <th></th>\n",
       "      <th>avg_count_reviews</th>\n",
       "    </tr>\n",
       "  </thead>\n",
       "  <tbody>\n",
       "    <tr>\n",
       "      <th>0</th>\n",
       "      <td>24.0</td>\n",
       "    </tr>\n",
       "  </tbody>\n",
       "</table>\n",
       "</div>"
      ],
      "text/plain": [
       "   avg_count_reviews\n",
       "0               24.0"
      ]
     },
     "execution_count": 11,
     "metadata": {},
     "output_type": "execute_result"
    }
   ],
   "source": [
    "# Посчитаем среднее количество обзоров от пользователей, которые поставили больше 48 оценок;\n",
    "avg_users_reviews = '''WITH users_by_rating AS \n",
    "                       (SELECT username AS users,\n",
    "                       COUNT(rating_id) AS count_ratings\n",
    "                       FROM ratings\n",
    "                       GROUP BY username\n",
    "                       HAVING COUNT(rating) > 48), \n",
    "                       users_by_reviews AS \n",
    "                       (SELECT username AS users, \n",
    "                        COUNT(review_id) AS count_reviews\n",
    "                        FROM reviews\n",
    "                        GROUP BY users)\n",
    "                        SELECT ROUND(AVG(re.count_reviews), 2) AS avg_count_reviews\n",
    "                        FROM users_by_reviews AS re\n",
    "                        JOIN users_by_rating AS ra ON ra.users=re.users\n",
    "                       '''\n",
    "\n",
    "con=engine.connect()\n",
    "pd.io.sql.read_sql(sql=text(avg_users_reviews), con = con)  "
   ]
  },
  {
   "cell_type": "markdown",
   "metadata": {},
   "source": [
    "Среднее количество обзоров от пользователей - 24."
   ]
  },
  {
   "cell_type": "markdown",
   "metadata": {},
   "source": [
    "## Выводы\n",
    "\n",
    "1. 821 книга была выпущена после 1 января 2000 года\n",
    "2. Самое большое количество обзоров имеет книга Twilight, однако средний рейтинг у книги небольшой - 3.66 из 5.\n",
    "3. Penguin Books - издательство, которое выпустило наибольшее число книг толще 50 страниц (42 книги)\n",
    "4. J.K. Rowling/Mary GrandPré имеет самую высокую среднюю оценку книг - 4.28.\n",
    "5. Среднее количество обзоров от пользователей, которые поставили больше 48 оценок, - 24."
   ]
  }
 ],
 "metadata": {
  "ExecuteTimeLog": [
   {
    "duration": 8854,
    "start_time": "2024-02-27T16:27:07.653Z"
   },
   {
    "duration": 15,
    "start_time": "2024-02-27T16:30:50.155Z"
   },
   {
    "duration": 3,
    "start_time": "2024-02-27T17:17:10.757Z"
   },
   {
    "duration": 9,
    "start_time": "2024-02-27T17:17:15.746Z"
   },
   {
    "duration": 5,
    "start_time": "2024-02-27T17:17:26.087Z"
   },
   {
    "duration": 4,
    "start_time": "2024-02-27T17:17:27.670Z"
   },
   {
    "duration": 224,
    "start_time": "2024-02-27T17:17:56.407Z"
   },
   {
    "duration": 130,
    "start_time": "2024-02-27T17:26:46.156Z"
   },
   {
    "duration": 50,
    "start_time": "2024-02-27T17:27:27.335Z"
   },
   {
    "duration": 52,
    "start_time": "2024-02-27T17:28:01.485Z"
   },
   {
    "duration": 51,
    "start_time": "2024-02-27T17:28:19.966Z"
   },
   {
    "duration": 65,
    "start_time": "2024-02-27T17:35:29.906Z"
   },
   {
    "duration": 8,
    "start_time": "2024-02-27T17:36:08.456Z"
   },
   {
    "duration": 8,
    "start_time": "2024-02-27T17:36:12.798Z"
   },
   {
    "duration": 3,
    "start_time": "2024-02-27T17:36:21.158Z"
   },
   {
    "duration": 226,
    "start_time": "2024-02-27T17:39:17.376Z"
   },
   {
    "duration": 113,
    "start_time": "2024-02-27T17:39:31.091Z"
   },
   {
    "duration": 54,
    "start_time": "2024-02-27T17:40:50.369Z"
   },
   {
    "duration": 58,
    "start_time": "2024-02-27T17:41:12.712Z"
   },
   {
    "duration": 56,
    "start_time": "2024-02-27T17:41:38.320Z"
   },
   {
    "duration": 8081,
    "start_time": "2024-02-27T17:41:45.906Z"
   },
   {
    "duration": 218,
    "start_time": "2024-02-27T17:41:53.988Z"
   },
   {
    "duration": 125,
    "start_time": "2024-02-27T17:41:54.208Z"
   },
   {
    "duration": 50,
    "start_time": "2024-02-27T17:41:54.335Z"
   },
   {
    "duration": 50,
    "start_time": "2024-02-27T17:41:54.386Z"
   },
   {
    "duration": 49,
    "start_time": "2024-02-27T17:41:54.437Z"
   },
   {
    "duration": 4,
    "start_time": "2024-02-27T17:47:39.962Z"
   },
   {
    "duration": 5,
    "start_time": "2024-02-27T17:47:49.575Z"
   },
   {
    "duration": 66,
    "start_time": "2024-02-27T17:49:32.982Z"
   },
   {
    "duration": 140,
    "start_time": "2024-02-27T17:49:58.118Z"
   },
   {
    "duration": 67,
    "start_time": "2024-02-27T17:50:12.695Z"
   },
   {
    "duration": 65,
    "start_time": "2024-02-27T17:50:21.287Z"
   },
   {
    "duration": 109,
    "start_time": "2024-02-27T17:50:32.337Z"
   },
   {
    "duration": 2,
    "start_time": "2024-02-27T18:03:03.053Z"
   },
   {
    "duration": 141,
    "start_time": "2024-02-27T18:03:16.348Z"
   },
   {
    "duration": 59,
    "start_time": "2024-02-27T18:03:47.793Z"
   },
   {
    "duration": 136,
    "start_time": "2024-02-27T18:04:08.184Z"
   },
   {
    "duration": 9311,
    "start_time": "2024-02-27T18:04:34.149Z"
   },
   {
    "duration": 219,
    "start_time": "2024-02-27T18:04:43.462Z"
   },
   {
    "duration": 107,
    "start_time": "2024-02-27T18:04:43.683Z"
   },
   {
    "duration": 51,
    "start_time": "2024-02-27T18:04:43.792Z"
   },
   {
    "duration": 51,
    "start_time": "2024-02-27T18:04:43.845Z"
   },
   {
    "duration": 51,
    "start_time": "2024-02-27T18:04:43.898Z"
   },
   {
    "duration": 48,
    "start_time": "2024-02-27T18:04:43.951Z"
   },
   {
    "duration": 129,
    "start_time": "2024-02-27T18:04:44.000Z"
   },
   {
    "duration": 59,
    "start_time": "2024-02-27T18:05:34.386Z"
   },
   {
    "duration": 141,
    "start_time": "2024-02-27T18:06:14.187Z"
   },
   {
    "duration": 154,
    "start_time": "2024-02-27T18:06:34.303Z"
   },
   {
    "duration": 91,
    "start_time": "2024-02-27T18:07:18.936Z"
   },
   {
    "duration": 87,
    "start_time": "2024-02-27T18:07:32.864Z"
   },
   {
    "duration": 8331,
    "start_time": "2024-02-27T18:11:17.281Z"
   },
   {
    "duration": 208,
    "start_time": "2024-02-27T18:11:25.614Z"
   },
   {
    "duration": 117,
    "start_time": "2024-02-27T18:11:25.824Z"
   },
   {
    "duration": 49,
    "start_time": "2024-02-27T18:11:25.942Z"
   },
   {
    "duration": 50,
    "start_time": "2024-02-27T18:11:25.992Z"
   },
   {
    "duration": 49,
    "start_time": "2024-02-27T18:11:26.044Z"
   },
   {
    "duration": 48,
    "start_time": "2024-02-27T18:11:26.095Z"
   },
   {
    "duration": 88,
    "start_time": "2024-02-27T18:11:26.144Z"
   },
   {
    "duration": 88,
    "start_time": "2024-02-27T18:18:00.453Z"
   },
   {
    "duration": 128,
    "start_time": "2024-02-27T18:18:14.057Z"
   },
   {
    "duration": 45,
    "start_time": "2024-02-27T18:18:24.598Z"
   },
   {
    "duration": 126,
    "start_time": "2024-02-27T18:18:51.218Z"
   },
   {
    "duration": 8682,
    "start_time": "2024-02-27T18:31:27.837Z"
   },
   {
    "duration": 215,
    "start_time": "2024-02-27T18:31:36.521Z"
   },
   {
    "duration": 114,
    "start_time": "2024-02-27T18:31:36.738Z"
   },
   {
    "duration": 49,
    "start_time": "2024-02-27T18:31:36.854Z"
   },
   {
    "duration": 50,
    "start_time": "2024-02-27T18:31:36.905Z"
   },
   {
    "duration": 51,
    "start_time": "2024-02-27T18:31:36.957Z"
   },
   {
    "duration": 50,
    "start_time": "2024-02-27T18:31:37.009Z"
   },
   {
    "duration": 89,
    "start_time": "2024-02-27T18:31:37.060Z"
   },
   {
    "duration": 51,
    "start_time": "2024-02-27T18:31:37.150Z"
   },
   {
    "duration": 126,
    "start_time": "2024-02-27T18:37:05.353Z"
   },
   {
    "duration": 41,
    "start_time": "2024-02-27T18:38:18.546Z"
   },
   {
    "duration": 144,
    "start_time": "2024-02-27T18:38:58.905Z"
   },
   {
    "duration": 81,
    "start_time": "2024-02-27T18:42:50.867Z"
   },
   {
    "duration": 41,
    "start_time": "2024-02-27T18:43:06.339Z"
   },
   {
    "duration": 127,
    "start_time": "2024-02-27T18:43:44.771Z"
   },
   {
    "duration": 69,
    "start_time": "2024-02-27T18:46:30.513Z"
   },
   {
    "duration": 57,
    "start_time": "2024-02-27T19:03:23.155Z"
   },
   {
    "duration": 71,
    "start_time": "2024-02-27T19:10:34.040Z"
   },
   {
    "duration": 48,
    "start_time": "2024-02-27T19:11:44.132Z"
   },
   {
    "duration": 56,
    "start_time": "2024-02-27T19:11:56.004Z"
   },
   {
    "duration": 56,
    "start_time": "2024-02-27T19:12:14.036Z"
   },
   {
    "duration": 55,
    "start_time": "2024-02-27T19:23:33.711Z"
   },
   {
    "duration": 8112,
    "start_time": "2024-02-27T19:30:19.512Z"
   },
   {
    "duration": 210,
    "start_time": "2024-02-27T19:30:27.626Z"
   },
   {
    "duration": 116,
    "start_time": "2024-02-27T19:30:27.838Z"
   },
   {
    "duration": 51,
    "start_time": "2024-02-27T19:30:27.955Z"
   },
   {
    "duration": 51,
    "start_time": "2024-02-27T19:30:28.008Z"
   },
   {
    "duration": 52,
    "start_time": "2024-02-27T19:30:28.061Z"
   },
   {
    "duration": 50,
    "start_time": "2024-02-27T19:30:28.115Z"
   },
   {
    "duration": 90,
    "start_time": "2024-02-27T19:30:28.167Z"
   },
   {
    "duration": 54,
    "start_time": "2024-02-27T19:30:28.259Z"
   },
   {
    "duration": 56,
    "start_time": "2024-02-27T19:30:28.315Z"
   },
   {
    "duration": 53,
    "start_time": "2024-02-27T19:30:28.373Z"
   },
   {
    "duration": 133,
    "start_time": "2024-02-27T19:36:44.334Z"
   },
   {
    "duration": 72,
    "start_time": "2024-02-27T19:37:41.540Z"
   },
   {
    "duration": 136,
    "start_time": "2024-02-27T19:38:03.724Z"
   },
   {
    "duration": 63,
    "start_time": "2024-02-27T19:46:55.088Z"
   },
   {
    "duration": 152,
    "start_time": "2024-02-27T19:48:15.186Z"
   },
   {
    "duration": 123,
    "start_time": "2024-02-27T19:49:07.412Z"
   },
   {
    "duration": 143,
    "start_time": "2024-02-27T19:49:46.329Z"
   },
   {
    "duration": 53,
    "start_time": "2024-02-27T19:50:16.137Z"
   },
   {
    "duration": 53,
    "start_time": "2024-02-27T19:50:45.867Z"
   },
   {
    "duration": 7894,
    "start_time": "2024-02-27T19:56:19.622Z"
   },
   {
    "duration": 214,
    "start_time": "2024-02-27T19:56:27.518Z"
   },
   {
    "duration": 121,
    "start_time": "2024-02-27T19:56:27.734Z"
   },
   {
    "duration": 51,
    "start_time": "2024-02-27T19:56:27.856Z"
   },
   {
    "duration": 53,
    "start_time": "2024-02-27T19:56:27.908Z"
   },
   {
    "duration": 53,
    "start_time": "2024-02-27T19:56:27.962Z"
   },
   {
    "duration": 50,
    "start_time": "2024-02-27T19:56:28.016Z"
   },
   {
    "duration": 90,
    "start_time": "2024-02-27T19:56:28.068Z"
   },
   {
    "duration": 53,
    "start_time": "2024-02-27T19:56:28.159Z"
   },
   {
    "duration": 56,
    "start_time": "2024-02-27T19:56:28.214Z"
   },
   {
    "duration": 53,
    "start_time": "2024-02-27T19:56:28.271Z"
   },
   {
    "duration": 8169,
    "start_time": "2024-02-27T19:57:17.915Z"
   },
   {
    "duration": 208,
    "start_time": "2024-02-27T19:57:26.085Z"
   },
   {
    "duration": 115,
    "start_time": "2024-02-27T19:57:26.295Z"
   },
   {
    "duration": 50,
    "start_time": "2024-02-27T19:57:26.412Z"
   },
   {
    "duration": 51,
    "start_time": "2024-02-27T19:57:26.463Z"
   },
   {
    "duration": 51,
    "start_time": "2024-02-27T19:57:26.515Z"
   },
   {
    "duration": 49,
    "start_time": "2024-02-27T19:57:26.567Z"
   },
   {
    "duration": 87,
    "start_time": "2024-02-27T19:57:26.617Z"
   },
   {
    "duration": 51,
    "start_time": "2024-02-27T19:57:26.706Z"
   },
   {
    "duration": 55,
    "start_time": "2024-02-27T19:57:26.759Z"
   },
   {
    "duration": 52,
    "start_time": "2024-02-27T19:57:26.816Z"
   },
   {
    "duration": 8283,
    "start_time": "2024-02-28T14:51:33.982Z"
   },
   {
    "duration": 222,
    "start_time": "2024-02-28T14:51:42.267Z"
   },
   {
    "duration": 125,
    "start_time": "2024-02-28T14:51:42.491Z"
   },
   {
    "duration": 49,
    "start_time": "2024-02-28T14:51:42.618Z"
   },
   {
    "duration": 51,
    "start_time": "2024-02-28T14:51:42.668Z"
   },
   {
    "duration": 51,
    "start_time": "2024-02-28T14:51:42.720Z"
   },
   {
    "duration": 49,
    "start_time": "2024-02-28T14:51:42.773Z"
   },
   {
    "duration": 89,
    "start_time": "2024-02-28T14:51:42.823Z"
   },
   {
    "duration": 50,
    "start_time": "2024-02-28T14:51:42.914Z"
   },
   {
    "duration": 55,
    "start_time": "2024-02-28T14:51:42.966Z"
   },
   {
    "duration": 51,
    "start_time": "2024-02-28T14:51:43.022Z"
   }
  ],
  "kernelspec": {
   "display_name": "Python 3 (ipykernel)",
   "language": "python",
   "name": "python3"
  },
  "language_info": {
   "codemirror_mode": {
    "name": "ipython",
    "version": 3
   },
   "file_extension": ".py",
   "mimetype": "text/x-python",
   "name": "python",
   "nbconvert_exporter": "python",
   "pygments_lexer": "ipython3",
   "version": "3.9.5"
  },
  "toc": {
   "base_numbering": 1,
   "nav_menu": {},
   "number_sections": true,
   "sideBar": true,
   "skip_h1_title": true,
   "title_cell": "Table of Contents",
   "title_sidebar": "Contents",
   "toc_cell": false,
   "toc_position": {},
   "toc_section_display": true,
   "toc_window_display": true
  }
 },
 "nbformat": 4,
 "nbformat_minor": 2
}
